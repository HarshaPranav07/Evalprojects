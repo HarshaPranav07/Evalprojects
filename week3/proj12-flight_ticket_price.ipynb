{
 "cells": [
  {
   "cell_type": "code",
   "execution_count": 6,
   "metadata": {},
   "outputs": [],
   "source": [
    "import pandas as pd\n",
    "import numpy as np\n",
    "import seaborn as sbn\n",
    "import matplotlib.pyplot as plt\n",
    "import joblib\n",
    "from sklearn.linear_model import LinearRegression,Lasso,Ridge,ElasticNet\n",
    "from sklearn.tree import DecisionTreeRegressor\n",
    "from sklearn.neighbors import KNeighborsRegressor\n",
    "from sklearn.ensemble import RandomForestRegressor,GradientBoostingRegressor\n",
    "\n",
    "from sklearn.preprocessing import StandardScaler\n",
    "from sklearn.model_selection import KFold,train_test_split,cross_val_score,GridSearchCV\n",
    "from sklearn.metrics import r2_score,mean_absolute_error,mean_squared_error\n",
    "from scipy.stats import zscore\n",
    "\n",
    "import warnings\n",
    "warnings.filterwarnings('ignore')"
   ]
  },
  {
   "cell_type": "code",
   "execution_count": 93,
   "metadata": {},
   "outputs": [],
   "source": [
    "fltr=pd.read_excel('Flightticket_train.xlsx',parse_dates=['Arrival_Time'])"
   ]
  },
  {
   "cell_type": "code",
   "execution_count": 8,
   "metadata": {},
   "outputs": [
    {
     "data": {
      "text/html": [
       "<div>\n",
       "<style scoped>\n",
       "    .dataframe tbody tr th:only-of-type {\n",
       "        vertical-align: middle;\n",
       "    }\n",
       "\n",
       "    .dataframe tbody tr th {\n",
       "        vertical-align: top;\n",
       "    }\n",
       "\n",
       "    .dataframe thead th {\n",
       "        text-align: right;\n",
       "    }\n",
       "</style>\n",
       "<table border=\"1\" class=\"dataframe\">\n",
       "  <thead>\n",
       "    <tr style=\"text-align: right;\">\n",
       "      <th></th>\n",
       "      <th>Airline</th>\n",
       "      <th>Date_of_Journey</th>\n",
       "      <th>Source</th>\n",
       "      <th>Destination</th>\n",
       "      <th>Route</th>\n",
       "      <th>Dep_Time</th>\n",
       "      <th>Arrival_Time</th>\n",
       "      <th>Duration</th>\n",
       "      <th>Total_Stops</th>\n",
       "      <th>Additional_Info</th>\n",
       "      <th>Price</th>\n",
       "    </tr>\n",
       "  </thead>\n",
       "  <tbody>\n",
       "    <tr>\n",
       "      <td>0</td>\n",
       "      <td>IndiGo</td>\n",
       "      <td>24/03/2019</td>\n",
       "      <td>Banglore</td>\n",
       "      <td>New Delhi</td>\n",
       "      <td>BLR → DEL</td>\n",
       "      <td>22:20</td>\n",
       "      <td>01:10 22 Mar</td>\n",
       "      <td>2h 50m</td>\n",
       "      <td>non-stop</td>\n",
       "      <td>No info</td>\n",
       "      <td>3897</td>\n",
       "    </tr>\n",
       "    <tr>\n",
       "      <td>1</td>\n",
       "      <td>Air India</td>\n",
       "      <td>1/05/2019</td>\n",
       "      <td>Kolkata</td>\n",
       "      <td>Banglore</td>\n",
       "      <td>CCU → IXR → BBI → BLR</td>\n",
       "      <td>05:50</td>\n",
       "      <td>13:15</td>\n",
       "      <td>7h 25m</td>\n",
       "      <td>2 stops</td>\n",
       "      <td>No info</td>\n",
       "      <td>7662</td>\n",
       "    </tr>\n",
       "    <tr>\n",
       "      <td>2</td>\n",
       "      <td>Jet Airways</td>\n",
       "      <td>9/06/2019</td>\n",
       "      <td>Delhi</td>\n",
       "      <td>Cochin</td>\n",
       "      <td>DEL → LKO → BOM → COK</td>\n",
       "      <td>09:25</td>\n",
       "      <td>04:25 10 Jun</td>\n",
       "      <td>19h</td>\n",
       "      <td>2 stops</td>\n",
       "      <td>No info</td>\n",
       "      <td>13882</td>\n",
       "    </tr>\n",
       "    <tr>\n",
       "      <td>3</td>\n",
       "      <td>IndiGo</td>\n",
       "      <td>12/05/2019</td>\n",
       "      <td>Kolkata</td>\n",
       "      <td>Banglore</td>\n",
       "      <td>CCU → NAG → BLR</td>\n",
       "      <td>18:05</td>\n",
       "      <td>23:30</td>\n",
       "      <td>5h 25m</td>\n",
       "      <td>1 stop</td>\n",
       "      <td>No info</td>\n",
       "      <td>6218</td>\n",
       "    </tr>\n",
       "    <tr>\n",
       "      <td>4</td>\n",
       "      <td>IndiGo</td>\n",
       "      <td>01/03/2019</td>\n",
       "      <td>Banglore</td>\n",
       "      <td>New Delhi</td>\n",
       "      <td>BLR → NAG → DEL</td>\n",
       "      <td>16:50</td>\n",
       "      <td>21:35</td>\n",
       "      <td>4h 45m</td>\n",
       "      <td>1 stop</td>\n",
       "      <td>No info</td>\n",
       "      <td>13302</td>\n",
       "    </tr>\n",
       "  </tbody>\n",
       "</table>\n",
       "</div>"
      ],
      "text/plain": [
       "       Airline Date_of_Journey    Source Destination                  Route  \\\n",
       "0       IndiGo      24/03/2019  Banglore   New Delhi              BLR → DEL   \n",
       "1    Air India       1/05/2019   Kolkata    Banglore  CCU → IXR → BBI → BLR   \n",
       "2  Jet Airways       9/06/2019     Delhi      Cochin  DEL → LKO → BOM → COK   \n",
       "3       IndiGo      12/05/2019   Kolkata    Banglore        CCU → NAG → BLR   \n",
       "4       IndiGo      01/03/2019  Banglore   New Delhi        BLR → NAG → DEL   \n",
       "\n",
       "  Dep_Time  Arrival_Time Duration Total_Stops Additional_Info  Price  \n",
       "0    22:20  01:10 22 Mar   2h 50m    non-stop         No info   3897  \n",
       "1    05:50         13:15   7h 25m     2 stops         No info   7662  \n",
       "2    09:25  04:25 10 Jun      19h     2 stops         No info  13882  \n",
       "3    18:05         23:30   5h 25m      1 stop         No info   6218  \n",
       "4    16:50         21:35   4h 45m      1 stop         No info  13302  "
      ]
     },
     "execution_count": 8,
     "metadata": {},
     "output_type": "execute_result"
    }
   ],
   "source": [
    "fltr.head()"
   ]
  },
  {
   "cell_type": "code",
   "execution_count": 10,
   "metadata": {},
   "outputs": [
    {
     "data": {
      "text/plain": [
       "Airline            object\n",
       "Date_of_Journey    object\n",
       "Source             object\n",
       "Destination        object\n",
       "Route              object\n",
       "Dep_Time           object\n",
       "Arrival_Time       object\n",
       "Duration           object\n",
       "Total_Stops        object\n",
       "Additional_Info    object\n",
       "Price               int64\n",
       "dtype: object"
      ]
     },
     "execution_count": 10,
     "metadata": {},
     "output_type": "execute_result"
    }
   ],
   "source": [
    "#Checking the datatypes \n",
    "\n",
    "fltr.dtypes"
   ]
  },
  {
   "cell_type": "code",
   "execution_count": 11,
   "metadata": {},
   "outputs": [
    {
     "data": {
      "text/plain": [
       "Index(['Airline', 'Date_of_Journey', 'Source', 'Destination', 'Route',\n",
       "       'Dep_Time', 'Arrival_Time', 'Duration', 'Total_Stops',\n",
       "       'Additional_Info', 'Price'],\n",
       "      dtype='object')"
      ]
     },
     "execution_count": 11,
     "metadata": {},
     "output_type": "execute_result"
    }
   ],
   "source": [
    "#checking the unique columns\n",
    "fltr.columns.unique()"
   ]
  },
  {
   "cell_type": "code",
   "execution_count": 12,
   "metadata": {},
   "outputs": [
    {
     "data": {
      "text/plain": [
       "Airline            0\n",
       "Date_of_Journey    0\n",
       "Source             0\n",
       "Destination        0\n",
       "Route              1\n",
       "Dep_Time           0\n",
       "Arrival_Time       0\n",
       "Duration           0\n",
       "Total_Stops        1\n",
       "Additional_Info    0\n",
       "Price              0\n",
       "dtype: int64"
      ]
     },
     "execution_count": 12,
     "metadata": {},
     "output_type": "execute_result"
    }
   ],
   "source": [
    "#Checking the nulll values\n",
    "fltr.isnull().sum()"
   ]
  },
  {
   "cell_type": "code",
   "execution_count": 15,
   "metadata": {},
   "outputs": [
    {
     "data": {
      "text/plain": [
       "(10683, 11)"
      ]
     },
     "execution_count": 15,
     "metadata": {},
     "output_type": "execute_result"
    }
   ],
   "source": [
    "#viewing the shape of dataset\n",
    "fltr.shape"
   ]
  },
  {
   "cell_type": "markdown",
   "metadata": {},
   "source": [
    "the feature set consisits of 10683 records with 11 featurs"
   ]
  },
  {
   "cell_type": "code",
   "execution_count": 18,
   "metadata": {},
   "outputs": [
    {
     "data": {
      "text/html": [
       "<div>\n",
       "<style scoped>\n",
       "    .dataframe tbody tr th:only-of-type {\n",
       "        vertical-align: middle;\n",
       "    }\n",
       "\n",
       "    .dataframe tbody tr th {\n",
       "        vertical-align: top;\n",
       "    }\n",
       "\n",
       "    .dataframe thead th {\n",
       "        text-align: right;\n",
       "    }\n",
       "</style>\n",
       "<table border=\"1\" class=\"dataframe\">\n",
       "  <thead>\n",
       "    <tr style=\"text-align: right;\">\n",
       "      <th></th>\n",
       "      <th>Airline</th>\n",
       "      <th>Date_of_Journey</th>\n",
       "      <th>Source</th>\n",
       "      <th>Destination</th>\n",
       "      <th>Route</th>\n",
       "      <th>Dep_Time</th>\n",
       "      <th>Arrival_Time</th>\n",
       "      <th>Duration</th>\n",
       "      <th>Total_Stops</th>\n",
       "      <th>Additional_Info</th>\n",
       "      <th>Price</th>\n",
       "    </tr>\n",
       "  </thead>\n",
       "  <tbody>\n",
       "    <tr>\n",
       "      <td>9039</td>\n",
       "      <td>Air India</td>\n",
       "      <td>6/05/2019</td>\n",
       "      <td>Delhi</td>\n",
       "      <td>Cochin</td>\n",
       "      <td>NaN</td>\n",
       "      <td>09:45</td>\n",
       "      <td>09:25 07 May</td>\n",
       "      <td>23h 40m</td>\n",
       "      <td>NaN</td>\n",
       "      <td>No info</td>\n",
       "      <td>7480</td>\n",
       "    </tr>\n",
       "  </tbody>\n",
       "</table>\n",
       "</div>"
      ],
      "text/plain": [
       "        Airline Date_of_Journey Source Destination Route Dep_Time  \\\n",
       "9039  Air India       6/05/2019  Delhi      Cochin   NaN    09:45   \n",
       "\n",
       "      Arrival_Time Duration Total_Stops Additional_Info  Price  \n",
       "9039  09:25 07 May  23h 40m         NaN         No info   7480  "
      ]
     },
     "execution_count": 18,
     "metadata": {},
     "output_type": "execute_result"
    }
   ],
   "source": [
    "#checking the null value present in total stops\n",
    "fltr[fltr['Total_Stops'].isnull()]"
   ]
  },
  {
   "cell_type": "markdown",
   "metadata": {},
   "source": [
    "It seems the null value in route is also corresponding to this record"
   ]
  },
  {
   "cell_type": "code",
   "execution_count": 19,
   "metadata": {},
   "outputs": [],
   "source": [
    "fltra=fltr.copy()"
   ]
  },
  {
   "cell_type": "code",
   "execution_count": 20,
   "metadata": {},
   "outputs": [
    {
     "name": "stdout",
     "output_type": "stream",
     "text": [
      "0    DEL → BOM → COK\n",
      "dtype: object\n",
      "0    1 stop\n",
      "dtype: object\n"
     ]
    }
   ],
   "source": [
    "#imputing the null values in both the columns\n",
    "\n",
    "#finding the mode of route and total stops\n",
    "\n",
    "print(fltr['Route'].mode())\n",
    "print(fltr['Total_Stops'].mode())"
   ]
  },
  {
   "cell_type": "code",
   "execution_count": 21,
   "metadata": {},
   "outputs": [],
   "source": [
    "#Either we can drop nan values or impute them with most repeated values\n",
    "\n",
    "#fltr=fltr.dropna()\n",
    "#Lets impute the nan values\n",
    "\n",
    "fltr.loc[9039,'Route']='DEL → BOM → COK'\n",
    "fltr.loc[9039,'Total_Stops']='1 stop'"
   ]
  },
  {
   "cell_type": "code",
   "execution_count": 22,
   "metadata": {},
   "outputs": [
    {
     "name": "stdout",
     "output_type": "stream",
     "text": [
      "<class 'pandas.core.frame.DataFrame'>\n",
      "RangeIndex: 10683 entries, 0 to 10682\n",
      "Data columns (total 11 columns):\n",
      "Airline            10683 non-null object\n",
      "Date_of_Journey    10683 non-null object\n",
      "Source             10683 non-null object\n",
      "Destination        10683 non-null object\n",
      "Route              10683 non-null object\n",
      "Dep_Time           10683 non-null object\n",
      "Arrival_Time       10683 non-null object\n",
      "Duration           10683 non-null object\n",
      "Total_Stops        10683 non-null object\n",
      "Additional_Info    10683 non-null object\n",
      "Price              10683 non-null int64\n",
      "dtypes: int64(1), object(10)\n",
      "memory usage: 918.2+ KB\n"
     ]
    }
   ],
   "source": [
    "fltr.info()"
   ]
  },
  {
   "cell_type": "markdown",
   "metadata": {},
   "source": [
    "There is only one int column in the entire dataset"
   ]
  },
  {
   "cell_type": "code",
   "execution_count": 23,
   "metadata": {},
   "outputs": [
    {
     "data": {
      "text/html": [
       "<div>\n",
       "<style scoped>\n",
       "    .dataframe tbody tr th:only-of-type {\n",
       "        vertical-align: middle;\n",
       "    }\n",
       "\n",
       "    .dataframe tbody tr th {\n",
       "        vertical-align: top;\n",
       "    }\n",
       "\n",
       "    .dataframe thead th {\n",
       "        text-align: right;\n",
       "    }\n",
       "</style>\n",
       "<table border=\"1\" class=\"dataframe\">\n",
       "  <thead>\n",
       "    <tr style=\"text-align: right;\">\n",
       "      <th></th>\n",
       "      <th>Price</th>\n",
       "    </tr>\n",
       "  </thead>\n",
       "  <tbody>\n",
       "    <tr>\n",
       "      <td>count</td>\n",
       "      <td>10683.000000</td>\n",
       "    </tr>\n",
       "    <tr>\n",
       "      <td>mean</td>\n",
       "      <td>9087.064121</td>\n",
       "    </tr>\n",
       "    <tr>\n",
       "      <td>std</td>\n",
       "      <td>4611.359167</td>\n",
       "    </tr>\n",
       "    <tr>\n",
       "      <td>min</td>\n",
       "      <td>1759.000000</td>\n",
       "    </tr>\n",
       "    <tr>\n",
       "      <td>25%</td>\n",
       "      <td>5277.000000</td>\n",
       "    </tr>\n",
       "    <tr>\n",
       "      <td>50%</td>\n",
       "      <td>8372.000000</td>\n",
       "    </tr>\n",
       "    <tr>\n",
       "      <td>75%</td>\n",
       "      <td>12373.000000</td>\n",
       "    </tr>\n",
       "    <tr>\n",
       "      <td>max</td>\n",
       "      <td>79512.000000</td>\n",
       "    </tr>\n",
       "  </tbody>\n",
       "</table>\n",
       "</div>"
      ],
      "text/plain": [
       "              Price\n",
       "count  10683.000000\n",
       "mean    9087.064121\n",
       "std     4611.359167\n",
       "min     1759.000000\n",
       "25%     5277.000000\n",
       "50%     8372.000000\n",
       "75%    12373.000000\n",
       "max    79512.000000"
      ]
     },
     "execution_count": 23,
     "metadata": {},
     "output_type": "execute_result"
    }
   ],
   "source": [
    "fltr.describe()"
   ]
  },
  {
   "cell_type": "code",
   "execution_count": 24,
   "metadata": {},
   "outputs": [
    {
     "data": {
      "text/plain": [
       "array(['IndiGo', 'Air India', 'Jet Airways', 'SpiceJet',\n",
       "       'Multiple carriers', 'GoAir', 'Vistara', 'Air Asia',\n",
       "       'Vistara Premium economy', 'Jet Airways Business',\n",
       "       'Multiple carriers Premium economy', 'Trujet'], dtype=object)"
      ]
     },
     "execution_count": 24,
     "metadata": {},
     "output_type": "execute_result"
    }
   ],
   "source": [
    "fltr['Airline'].unique()"
   ]
  },
  {
   "cell_type": "code",
   "execution_count": 25,
   "metadata": {},
   "outputs": [
    {
     "data": {
      "text/plain": [
       "Index(['Airline', 'Date_of_Journey', 'Source', 'Destination', 'Route',\n",
       "       'Dep_Time', 'Arrival_Time', 'Duration', 'Total_Stops',\n",
       "       'Additional_Info', 'Price'],\n",
       "      dtype='object')"
      ]
     },
     "execution_count": 25,
     "metadata": {},
     "output_type": "execute_result"
    }
   ],
   "source": [
    "fltr.columns"
   ]
  },
  {
   "cell_type": "code",
   "execution_count": 26,
   "metadata": {},
   "outputs": [
    {
     "data": {
      "text/plain": [
       "array(['No info', 'In-flight meal not included',\n",
       "       'No check-in baggage included', '1 Short layover', 'No Info',\n",
       "       '1 Long layover', 'Change airports', 'Business class',\n",
       "       'Red-eye flight', '2 Long layover'], dtype=object)"
      ]
     },
     "execution_count": 26,
     "metadata": {},
     "output_type": "execute_result"
    }
   ],
   "source": [
    "fltr['Additional_Info'].unique()"
   ]
  },
  {
   "cell_type": "code",
   "execution_count": 27,
   "metadata": {},
   "outputs": [
    {
     "data": {
      "text/plain": [
       "array(['24/03/2019', '1/05/2019', '9/06/2019', '12/05/2019', '01/03/2019',\n",
       "       '24/06/2019', '12/03/2019', '27/05/2019', '1/06/2019',\n",
       "       '18/04/2019', '9/05/2019', '24/04/2019', '3/03/2019', '15/04/2019',\n",
       "       '12/06/2019', '6/03/2019', '21/03/2019', '3/04/2019', '6/05/2019',\n",
       "       '15/05/2019', '18/06/2019', '15/06/2019', '6/04/2019',\n",
       "       '18/05/2019', '27/06/2019', '21/05/2019', '06/03/2019',\n",
       "       '3/06/2019', '15/03/2019', '3/05/2019', '9/03/2019', '6/06/2019',\n",
       "       '24/05/2019', '09/03/2019', '1/04/2019', '21/04/2019',\n",
       "       '21/06/2019', '27/03/2019', '18/03/2019', '12/04/2019',\n",
       "       '9/04/2019', '1/03/2019', '03/03/2019', '27/04/2019'], dtype=object)"
      ]
     },
     "execution_count": 27,
     "metadata": {},
     "output_type": "execute_result"
    }
   ],
   "source": [
    "fltr['Date_of_Journey'].unique()"
   ]
  },
  {
   "cell_type": "code",
   "execution_count": 30,
   "metadata": {},
   "outputs": [],
   "source": [
    "#converting the date_of_journey into day,month,year\n",
    "fltr.sort_values('Date_of_Journey',inplace=True)\n",
    "fltr['year']=pd.DatetimeIndex(fltr['Date_of_Journey']).year\n",
    "fltr['month']=pd.DatetimeIndex(fltr['Date_of_Journey']).month\n",
    "fltr['day']=pd.DatetimeIndex(fltr['Date_of_Journey']).day\n",
    "\n"
   ]
  },
  {
   "cell_type": "code",
   "execution_count": 31,
   "metadata": {},
   "outputs": [
    {
     "data": {
      "text/html": [
       "<div>\n",
       "<style scoped>\n",
       "    .dataframe tbody tr th:only-of-type {\n",
       "        vertical-align: middle;\n",
       "    }\n",
       "\n",
       "    .dataframe tbody tr th {\n",
       "        vertical-align: top;\n",
       "    }\n",
       "\n",
       "    .dataframe thead th {\n",
       "        text-align: right;\n",
       "    }\n",
       "</style>\n",
       "<table border=\"1\" class=\"dataframe\">\n",
       "  <thead>\n",
       "    <tr style=\"text-align: right;\">\n",
       "      <th></th>\n",
       "      <th>Airline</th>\n",
       "      <th>Date_of_Journey</th>\n",
       "      <th>Source</th>\n",
       "      <th>Destination</th>\n",
       "      <th>Route</th>\n",
       "      <th>Dep_Time</th>\n",
       "      <th>Arrival_Time</th>\n",
       "      <th>Duration</th>\n",
       "      <th>Total_Stops</th>\n",
       "      <th>Additional_Info</th>\n",
       "      <th>Price</th>\n",
       "      <th>year</th>\n",
       "      <th>month</th>\n",
       "      <th>day</th>\n",
       "    </tr>\n",
       "  </thead>\n",
       "  <tbody>\n",
       "    <tr>\n",
       "      <td>9848</td>\n",
       "      <td>Air India</td>\n",
       "      <td>01/03/2019</td>\n",
       "      <td>Banglore</td>\n",
       "      <td>New Delhi</td>\n",
       "      <td>BLR → BOM → AMD → DEL</td>\n",
       "      <td>08:50</td>\n",
       "      <td>23:55 02 Mar</td>\n",
       "      <td>39h 5m</td>\n",
       "      <td>2 stops</td>\n",
       "      <td>No info</td>\n",
       "      <td>17135</td>\n",
       "      <td>2019</td>\n",
       "      <td>1</td>\n",
       "      <td>3</td>\n",
       "    </tr>\n",
       "    <tr>\n",
       "      <td>6526</td>\n",
       "      <td>Vistara</td>\n",
       "      <td>01/03/2019</td>\n",
       "      <td>Banglore</td>\n",
       "      <td>New Delhi</td>\n",
       "      <td>BLR → DEL</td>\n",
       "      <td>07:00</td>\n",
       "      <td>09:40</td>\n",
       "      <td>2h 40m</td>\n",
       "      <td>non-stop</td>\n",
       "      <td>No info</td>\n",
       "      <td>21520</td>\n",
       "      <td>2019</td>\n",
       "      <td>1</td>\n",
       "      <td>3</td>\n",
       "    </tr>\n",
       "    <tr>\n",
       "      <td>1246</td>\n",
       "      <td>Jet Airways</td>\n",
       "      <td>01/03/2019</td>\n",
       "      <td>Banglore</td>\n",
       "      <td>New Delhi</td>\n",
       "      <td>BLR → BOM → DEL</td>\n",
       "      <td>08:55</td>\n",
       "      <td>16:10</td>\n",
       "      <td>7h 15m</td>\n",
       "      <td>1 stop</td>\n",
       "      <td>No info</td>\n",
       "      <td>26890</td>\n",
       "      <td>2019</td>\n",
       "      <td>1</td>\n",
       "      <td>3</td>\n",
       "    </tr>\n",
       "    <tr>\n",
       "      <td>10182</td>\n",
       "      <td>Air India</td>\n",
       "      <td>01/03/2019</td>\n",
       "      <td>Banglore</td>\n",
       "      <td>New Delhi</td>\n",
       "      <td>BLR → BOM → DEL</td>\n",
       "      <td>06:45</td>\n",
       "      <td>12:15</td>\n",
       "      <td>5h 30m</td>\n",
       "      <td>1 stop</td>\n",
       "      <td>No info</td>\n",
       "      <td>23677</td>\n",
       "      <td>2019</td>\n",
       "      <td>1</td>\n",
       "      <td>3</td>\n",
       "    </tr>\n",
       "    <tr>\n",
       "      <td>6558</td>\n",
       "      <td>IndiGo</td>\n",
       "      <td>01/03/2019</td>\n",
       "      <td>Banglore</td>\n",
       "      <td>New Delhi</td>\n",
       "      <td>BLR → DEL</td>\n",
       "      <td>22:20</td>\n",
       "      <td>01:10 02 Mar</td>\n",
       "      <td>2h 50m</td>\n",
       "      <td>non-stop</td>\n",
       "      <td>No info</td>\n",
       "      <td>11934</td>\n",
       "      <td>2019</td>\n",
       "      <td>1</td>\n",
       "      <td>3</td>\n",
       "    </tr>\n",
       "  </tbody>\n",
       "</table>\n",
       "</div>"
      ],
      "text/plain": [
       "           Airline Date_of_Journey    Source Destination  \\\n",
       "9848     Air India      01/03/2019  Banglore   New Delhi   \n",
       "6526       Vistara      01/03/2019  Banglore   New Delhi   \n",
       "1246   Jet Airways      01/03/2019  Banglore   New Delhi   \n",
       "10182    Air India      01/03/2019  Banglore   New Delhi   \n",
       "6558        IndiGo      01/03/2019  Banglore   New Delhi   \n",
       "\n",
       "                       Route Dep_Time  Arrival_Time Duration Total_Stops  \\\n",
       "9848   BLR → BOM → AMD → DEL    08:50  23:55 02 Mar   39h 5m     2 stops   \n",
       "6526               BLR → DEL    07:00         09:40   2h 40m    non-stop   \n",
       "1246         BLR → BOM → DEL    08:55         16:10   7h 15m      1 stop   \n",
       "10182        BLR → BOM → DEL    06:45         12:15   5h 30m      1 stop   \n",
       "6558               BLR → DEL    22:20  01:10 02 Mar   2h 50m    non-stop   \n",
       "\n",
       "      Additional_Info  Price  year  month  day  \n",
       "9848          No info  17135  2019      1    3  \n",
       "6526          No info  21520  2019      1    3  \n",
       "1246          No info  26890  2019      1    3  \n",
       "10182         No info  23677  2019      1    3  \n",
       "6558          No info  11934  2019      1    3  "
      ]
     },
     "execution_count": 31,
     "metadata": {},
     "output_type": "execute_result"
    }
   ],
   "source": [
    "fltr.head()"
   ]
  },
  {
   "cell_type": "code",
   "execution_count": 33,
   "metadata": {},
   "outputs": [
    {
     "data": {
      "image/png": "[encoded data removed]",
      "text/plain": [
       "<Figure size 432x288 with 1 Axes>"
      ]
     },
     "metadata": {
      "needs_background": "light"
     },
     "output_type": "display_data"
    }
   ],
   "source": [
    "#lets plot the frequency of flights monthly \n",
    "\n",
    "sbn.countplot('month',data=fltr)\n",
    "plt.xlabel('months')\n",
    "plt.ylabel('frequency of flights')\n",
    "plt.show()"
   ]
  },
  {
   "cell_type": "markdown",
   "metadata": {},
   "source": [
    "Most no. of flights are travelled in June month,so it can be considered as peak season.."
   ]
  },
  {
   "cell_type": "code",
   "execution_count": 41,
   "metadata": {},
   "outputs": [
    {
     "data": {
      "text/plain": [
       "<matplotlib.axes._subplots.AxesSubplot at 0x1db48c78488>"
      ]
     },
     "execution_count": 41,
     "metadata": {},
     "output_type": "execute_result"
    },
    {
     "data": {
      "image/png": "[encoded data removed]",
      "text/plain": [
       "<Figure size 432x288 with 1 Axes>"
      ]
     },
     "metadata": {
      "needs_background": "light"
     },
     "output_type": "display_data"
    }
   ],
   "source": [
    "sbn.countplot(x='Source',hue='month',data=fltr)\n"
   ]
  },
  {
   "cell_type": "markdown",
   "metadata": {},
   "source": [
    "the frequency of flights at Delhi in June is more when compared to others"
   ]
  },
  {
   "cell_type": "code",
   "execution_count": 45,
   "metadata": {},
   "outputs": [
    {
     "data": {
      "image/png": "[encoded data removed]",
      "text/plain": [
       "<Figure size 432x288 with 1 Axes>"
      ]
     },
     "metadata": {
      "needs_background": "light"
     },
     "output_type": "display_data"
    }
   ],
   "source": [
    "sbn.countplot(x='Airline',data=fltr)\n",
    "plt.xticks(rotation=90)\n",
    "plt.show()\n"
   ]
  },
  {
   "cell_type": "markdown",
   "metadata": {},
   "source": [
    "Most of the flights are of Jet Airways and trujet,vistara premium economy,multiple carriers premium economy are comparitively negligible"
   ]
  },
  {
   "cell_type": "code",
   "execution_count": 46,
   "metadata": {},
   "outputs": [
    {
     "data": {
      "text/plain": [
       "Jet Airways                          3849\n",
       "IndiGo                               2053\n",
       "Air India                            1752\n",
       "Multiple carriers                    1196\n",
       "SpiceJet                              818\n",
       "Vistara                               479\n",
       "Air Asia                              319\n",
       "GoAir                                 194\n",
       "Multiple carriers Premium economy      13\n",
       "Jet Airways Business                    6\n",
       "Vistara Premium economy                 3\n",
       "Trujet                                  1\n",
       "Name: Airline, dtype: int64"
      ]
     },
     "execution_count": 46,
     "metadata": {},
     "output_type": "execute_result"
    }
   ],
   "source": [
    "fltr['Airline'].value_counts()"
   ]
  },
  {
   "cell_type": "code",
   "execution_count": 47,
   "metadata": {},
   "outputs": [
    {
     "data": {
      "text/plain": [
       "Cochin       4537\n",
       "Banglore     2871\n",
       "Delhi        1265\n",
       "New Delhi     932\n",
       "Hyderabad     697\n",
       "Kolkata       381\n",
       "Name: Destination, dtype: int64"
      ]
     },
     "execution_count": 47,
     "metadata": {},
     "output_type": "execute_result"
    }
   ],
   "source": [
    "#Lets check the most busiest destination\n",
    "\n",
    "fltr['Destination'].value_counts()"
   ]
  },
  {
   "cell_type": "code",
   "execution_count": 48,
   "metadata": {},
   "outputs": [
    {
     "data": {
      "text/html": [
       "<div>\n",
       "<style scoped>\n",
       "    .dataframe tbody tr th:only-of-type {\n",
       "        vertical-align: middle;\n",
       "    }\n",
       "\n",
       "    .dataframe tbody tr th {\n",
       "        vertical-align: top;\n",
       "    }\n",
       "\n",
       "    .dataframe thead th {\n",
       "        text-align: right;\n",
       "    }\n",
       "</style>\n",
       "<table border=\"1\" class=\"dataframe\">\n",
       "  <thead>\n",
       "    <tr style=\"text-align: right;\">\n",
       "      <th>Destination</th>\n",
       "      <th>Banglore</th>\n",
       "      <th>Cochin</th>\n",
       "      <th>Delhi</th>\n",
       "      <th>Hyderabad</th>\n",
       "      <th>Kolkata</th>\n",
       "      <th>New Delhi</th>\n",
       "    </tr>\n",
       "    <tr>\n",
       "      <th>Source</th>\n",
       "      <th></th>\n",
       "      <th></th>\n",
       "      <th></th>\n",
       "      <th></th>\n",
       "      <th></th>\n",
       "      <th></th>\n",
       "    </tr>\n",
       "  </thead>\n",
       "  <tbody>\n",
       "    <tr>\n",
       "      <td>Banglore</td>\n",
       "      <td>0</td>\n",
       "      <td>0</td>\n",
       "      <td>1265</td>\n",
       "      <td>0</td>\n",
       "      <td>0</td>\n",
       "      <td>932</td>\n",
       "    </tr>\n",
       "    <tr>\n",
       "      <td>Chennai</td>\n",
       "      <td>0</td>\n",
       "      <td>0</td>\n",
       "      <td>0</td>\n",
       "      <td>0</td>\n",
       "      <td>381</td>\n",
       "      <td>0</td>\n",
       "    </tr>\n",
       "    <tr>\n",
       "      <td>Delhi</td>\n",
       "      <td>0</td>\n",
       "      <td>4537</td>\n",
       "      <td>0</td>\n",
       "      <td>0</td>\n",
       "      <td>0</td>\n",
       "      <td>0</td>\n",
       "    </tr>\n",
       "    <tr>\n",
       "      <td>Kolkata</td>\n",
       "      <td>2871</td>\n",
       "      <td>0</td>\n",
       "      <td>0</td>\n",
       "      <td>0</td>\n",
       "      <td>0</td>\n",
       "      <td>0</td>\n",
       "    </tr>\n",
       "    <tr>\n",
       "      <td>Mumbai</td>\n",
       "      <td>0</td>\n",
       "      <td>0</td>\n",
       "      <td>0</td>\n",
       "      <td>697</td>\n",
       "      <td>0</td>\n",
       "      <td>0</td>\n",
       "    </tr>\n",
       "  </tbody>\n",
       "</table>\n",
       "</div>"
      ],
      "text/plain": [
       "Destination  Banglore  Cochin  Delhi  Hyderabad  Kolkata  New Delhi\n",
       "Source                                                             \n",
       "Banglore            0       0   1265          0        0        932\n",
       "Chennai             0       0      0          0      381          0\n",
       "Delhi               0    4537      0          0        0          0\n",
       "Kolkata          2871       0      0          0        0          0\n",
       "Mumbai              0       0      0        697        0          0"
      ]
     },
     "execution_count": 48,
     "metadata": {},
     "output_type": "execute_result"
    }
   ],
   "source": [
    "#Lets check the most busiest route \n",
    "\n",
    "pd.crosstab(fltr['Source'],fltr['Destination'])"
   ]
  },
  {
   "cell_type": "markdown",
   "metadata": {},
   "source": [
    "The frequency of flights between delhi and cochin is high,so it can be considered as the most busiest route"
   ]
  },
  {
   "cell_type": "markdown",
   "metadata": {},
   "source": [
    "It is observed that delhi and New delhi are same and can be replaced by Delhi"
   ]
  },
  {
   "cell_type": "code",
   "execution_count": 49,
   "metadata": {},
   "outputs": [],
   "source": [
    "fltr['Destination'].replace('New Delhi','Delhi',inplace=True)"
   ]
  },
  {
   "cell_type": "code",
   "execution_count": 50,
   "metadata": {},
   "outputs": [
    {
     "data": {
      "text/plain": [
       "array(['No info', 'Change airports', '1 Long layover', 'No Info',\n",
       "       'Business class', 'Red-eye flight', '1 Short layover',\n",
       "       '2 Long layover', 'In-flight meal not included',\n",
       "       'No check-in baggage included'], dtype=object)"
      ]
     },
     "execution_count": 50,
     "metadata": {},
     "output_type": "execute_result"
    }
   ],
   "source": [
    "fltr['Additional_Info'].unique()"
   ]
  },
  {
   "cell_type": "markdown",
   "metadata": {},
   "source": [
    "It can be observed that no info is repeated and the  types of long layover can be combined."
   ]
  },
  {
   "cell_type": "code",
   "execution_count": 51,
   "metadata": {},
   "outputs": [],
   "source": [
    "#Lets replace 1long layover,2 long layover with long layover\n",
    "#No info with No Info\n",
    "\n",
    "fltr['Additional_Info'].replace('1 Long layover','Long layover',inplace=True)\n",
    "fltr['Additional_Info'].replace('2 Long layover','Long layover',inplace=True)\n",
    "fltr['Additional_Info'].replace('No info','No Info',inplace=True)\n",
    "\n"
   ]
  },
  {
   "cell_type": "code",
   "execution_count": 52,
   "metadata": {},
   "outputs": [
    {
     "data": {
      "text/html": [
       "<div>\n",
       "<style scoped>\n",
       "    .dataframe tbody tr th:only-of-type {\n",
       "        vertical-align: middle;\n",
       "    }\n",
       "\n",
       "    .dataframe tbody tr th {\n",
       "        vertical-align: top;\n",
       "    }\n",
       "\n",
       "    .dataframe thead th {\n",
       "        text-align: right;\n",
       "    }\n",
       "</style>\n",
       "<table border=\"1\" class=\"dataframe\">\n",
       "  <thead>\n",
       "    <tr style=\"text-align: right;\">\n",
       "      <th>Destination</th>\n",
       "      <th>Banglore</th>\n",
       "      <th>Cochin</th>\n",
       "      <th>Delhi</th>\n",
       "      <th>Hyderabad</th>\n",
       "      <th>Kolkata</th>\n",
       "    </tr>\n",
       "    <tr>\n",
       "      <th>Source</th>\n",
       "      <th></th>\n",
       "      <th></th>\n",
       "      <th></th>\n",
       "      <th></th>\n",
       "      <th></th>\n",
       "    </tr>\n",
       "  </thead>\n",
       "  <tbody>\n",
       "    <tr>\n",
       "      <td>Banglore</td>\n",
       "      <td>0</td>\n",
       "      <td>0</td>\n",
       "      <td>2197</td>\n",
       "      <td>0</td>\n",
       "      <td>0</td>\n",
       "    </tr>\n",
       "    <tr>\n",
       "      <td>Chennai</td>\n",
       "      <td>0</td>\n",
       "      <td>0</td>\n",
       "      <td>0</td>\n",
       "      <td>0</td>\n",
       "      <td>381</td>\n",
       "    </tr>\n",
       "    <tr>\n",
       "      <td>Delhi</td>\n",
       "      <td>0</td>\n",
       "      <td>4537</td>\n",
       "      <td>0</td>\n",
       "      <td>0</td>\n",
       "      <td>0</td>\n",
       "    </tr>\n",
       "    <tr>\n",
       "      <td>Kolkata</td>\n",
       "      <td>2871</td>\n",
       "      <td>0</td>\n",
       "      <td>0</td>\n",
       "      <td>0</td>\n",
       "      <td>0</td>\n",
       "    </tr>\n",
       "    <tr>\n",
       "      <td>Mumbai</td>\n",
       "      <td>0</td>\n",
       "      <td>0</td>\n",
       "      <td>0</td>\n",
       "      <td>697</td>\n",
       "      <td>0</td>\n",
       "    </tr>\n",
       "  </tbody>\n",
       "</table>\n",
       "</div>"
      ],
      "text/plain": [
       "Destination  Banglore  Cochin  Delhi  Hyderabad  Kolkata\n",
       "Source                                                  \n",
       "Banglore            0       0   2197          0        0\n",
       "Chennai             0       0      0          0      381\n",
       "Delhi               0    4537      0          0        0\n",
       "Kolkata          2871       0      0          0        0\n",
       "Mumbai              0       0      0        697        0"
      ]
     },
     "execution_count": 52,
     "metadata": {},
     "output_type": "execute_result"
    }
   ],
   "source": [
    "pd.crosstab(fltr['Source'],fltr['Destination'])"
   ]
  },
  {
   "cell_type": "code",
   "execution_count": 53,
   "metadata": {},
   "outputs": [
    {
     "data": {
      "text/plain": [
       "array(['Air India', 'Vistara', 'Jet Airways', 'IndiGo', 'SpiceJet',\n",
       "       'Jet Airways Business', 'GoAir', 'Air Asia',\n",
       "       'Vistara Premium economy', 'Multiple carriers',\n",
       "       'Multiple carriers Premium economy', 'Trujet'], dtype=object)"
      ]
     },
     "execution_count": 53,
     "metadata": {},
     "output_type": "execute_result"
    }
   ],
   "source": [
    "fltr['Airline'].unique()"
   ]
  },
  {
   "cell_type": "code",
   "execution_count": 54,
   "metadata": {},
   "outputs": [],
   "source": [
    "#Lets combine duplicates of the airlines\n",
    "fltr['Airline'].replace('Multiple carriers Premium economy','Multiple carriers',inplace=True)\n",
    "fltr['Airline'].replace('Vistara Premium economy','Vistara',inplace=True)\n",
    "\n"
   ]
  },
  {
   "cell_type": "code",
   "execution_count": 90,
   "metadata": {},
   "outputs": [],
   "source": [
    "#As the flight prices are also dependent on the departure time ,lets create the time of day\n",
    "\n",
    "def time_of_day(p):\n",
    "    p=p.split(':')\n",
    "    p=int(p[0])\n",
    "    if (p >=0 and p <= 2):\n",
    "        return 'Late Night'\n",
    "    elif (p >=3 and p <=6):\n",
    "        return 'Early Morning'\n",
    "    elif (p >=7 and p <=11):\n",
    "        return 'Morning'\n",
    "    elif (p >=12 and p <=16):\n",
    "        return 'Afternoon'\n",
    "    elif (p >=17 and p <=20):\n",
    "        return 'Evening'\n",
    "    else:\n",
    "        return 'Night'\n",
    "    "
   ]
  },
  {
   "cell_type": "code",
   "execution_count": 94,
   "metadata": {},
   "outputs": [],
   "source": [
    "fltr['dep_time_of_day']=fltr['Dep_Time'].map(time_of_day)"
   ]
  },
  {
   "cell_type": "code",
   "execution_count": 95,
   "metadata": {},
   "outputs": [
    {
     "data": {
      "text/html": [
       "<div>\n",
       "<style scoped>\n",
       "    .dataframe tbody tr th:only-of-type {\n",
       "        vertical-align: middle;\n",
       "    }\n",
       "\n",
       "    .dataframe tbody tr th {\n",
       "        vertical-align: top;\n",
       "    }\n",
       "\n",
       "    .dataframe thead th {\n",
       "        text-align: right;\n",
       "    }\n",
       "</style>\n",
       "<table border=\"1\" class=\"dataframe\">\n",
       "  <thead>\n",
       "    <tr style=\"text-align: right;\">\n",
       "      <th></th>\n",
       "      <th>Airline</th>\n",
       "      <th>Date_of_Journey</th>\n",
       "      <th>Source</th>\n",
       "      <th>Destination</th>\n",
       "      <th>Route</th>\n",
       "      <th>Dep_Time</th>\n",
       "      <th>Arrival_Time</th>\n",
       "      <th>Duration</th>\n",
       "      <th>Total_Stops</th>\n",
       "      <th>Additional_Info</th>\n",
       "      <th>Price</th>\n",
       "      <th>dep_time_of_day</th>\n",
       "    </tr>\n",
       "  </thead>\n",
       "  <tbody>\n",
       "    <tr>\n",
       "      <td>0</td>\n",
       "      <td>IndiGo</td>\n",
       "      <td>24/03/2019</td>\n",
       "      <td>Banglore</td>\n",
       "      <td>New Delhi</td>\n",
       "      <td>BLR → DEL</td>\n",
       "      <td>22:20</td>\n",
       "      <td>2020-03-22 01:10:00</td>\n",
       "      <td>2h 50m</td>\n",
       "      <td>non-stop</td>\n",
       "      <td>No info</td>\n",
       "      <td>3897</td>\n",
       "      <td>Night</td>\n",
       "    </tr>\n",
       "    <tr>\n",
       "      <td>1</td>\n",
       "      <td>Air India</td>\n",
       "      <td>1/05/2019</td>\n",
       "      <td>Kolkata</td>\n",
       "      <td>Banglore</td>\n",
       "      <td>CCU → IXR → BBI → BLR</td>\n",
       "      <td>05:50</td>\n",
       "      <td>2020-06-25 13:15:00</td>\n",
       "      <td>7h 25m</td>\n",
       "      <td>2 stops</td>\n",
       "      <td>No info</td>\n",
       "      <td>7662</td>\n",
       "      <td>Early Morning</td>\n",
       "    </tr>\n",
       "    <tr>\n",
       "      <td>2</td>\n",
       "      <td>Jet Airways</td>\n",
       "      <td>9/06/2019</td>\n",
       "      <td>Delhi</td>\n",
       "      <td>Cochin</td>\n",
       "      <td>DEL → LKO → BOM → COK</td>\n",
       "      <td>09:25</td>\n",
       "      <td>2020-06-10 04:25:00</td>\n",
       "      <td>19h</td>\n",
       "      <td>2 stops</td>\n",
       "      <td>No info</td>\n",
       "      <td>13882</td>\n",
       "      <td>Morning</td>\n",
       "    </tr>\n",
       "    <tr>\n",
       "      <td>3</td>\n",
       "      <td>IndiGo</td>\n",
       "      <td>12/05/2019</td>\n",
       "      <td>Kolkata</td>\n",
       "      <td>Banglore</td>\n",
       "      <td>CCU → NAG → BLR</td>\n",
       "      <td>18:05</td>\n",
       "      <td>2020-06-25 23:30:00</td>\n",
       "      <td>5h 25m</td>\n",
       "      <td>1 stop</td>\n",
       "      <td>No info</td>\n",
       "      <td>6218</td>\n",
       "      <td>Evening</td>\n",
       "    </tr>\n",
       "    <tr>\n",
       "      <td>4</td>\n",
       "      <td>IndiGo</td>\n",
       "      <td>01/03/2019</td>\n",
       "      <td>Banglore</td>\n",
       "      <td>New Delhi</td>\n",
       "      <td>BLR → NAG → DEL</td>\n",
       "      <td>16:50</td>\n",
       "      <td>2020-06-25 21:35:00</td>\n",
       "      <td>4h 45m</td>\n",
       "      <td>1 stop</td>\n",
       "      <td>No info</td>\n",
       "      <td>13302</td>\n",
       "      <td>Afternoon</td>\n",
       "    </tr>\n",
       "  </tbody>\n",
       "</table>\n",
       "</div>"
      ],
      "text/plain": [
       "       Airline Date_of_Journey    Source Destination                  Route  \\\n",
       "0       IndiGo      24/03/2019  Banglore   New Delhi              BLR → DEL   \n",
       "1    Air India       1/05/2019   Kolkata    Banglore  CCU → IXR → BBI → BLR   \n",
       "2  Jet Airways       9/06/2019     Delhi      Cochin  DEL → LKO → BOM → COK   \n",
       "3       IndiGo      12/05/2019   Kolkata    Banglore        CCU → NAG → BLR   \n",
       "4       IndiGo      01/03/2019  Banglore   New Delhi        BLR → NAG → DEL   \n",
       "\n",
       "  Dep_Time        Arrival_Time Duration Total_Stops Additional_Info  Price  \\\n",
       "0    22:20 2020-03-22 01:10:00   2h 50m    non-stop         No info   3897   \n",
       "1    05:50 2020-06-25 13:15:00   7h 25m     2 stops         No info   7662   \n",
       "2    09:25 2020-06-10 04:25:00      19h     2 stops         No info  13882   \n",
       "3    18:05 2020-06-25 23:30:00   5h 25m      1 stop         No info   6218   \n",
       "4    16:50 2020-06-25 21:35:00   4h 45m      1 stop         No info  13302   \n",
       "\n",
       "  dep_time_of_day  \n",
       "0           Night  \n",
       "1   Early Morning  \n",
       "2         Morning  \n",
       "3         Evening  \n",
       "4       Afternoon  "
      ]
     },
     "execution_count": 95,
     "metadata": {},
     "output_type": "execute_result"
    }
   ],
   "source": [
    "fltr.head()"
   ]
  },
  {
   "cell_type": "code",
   "execution_count": 59,
   "metadata": {},
   "outputs": [
    {
     "data": {
      "text/plain": [
       "<matplotlib.axes._subplots.AxesSubplot at 0x1db48460f88>"
      ]
     },
     "execution_count": 59,
     "metadata": {},
     "output_type": "execute_result"
    },
    {
     "data": {
      "image/png": "[encoded data removed]",
      "text/plain": [
       "<Figure size 432x288 with 1 Axes>"
      ]
     },
     "metadata": {
      "needs_background": "light"
     },
     "output_type": "display_data"
    }
   ],
   "source": [
    "sbn.countplot('dep_time_of_day',data=fltr)"
   ]
  },
  {
   "cell_type": "code",
   "execution_count": 97,
   "metadata": {},
   "outputs": [],
   "source": [
    "fl=fltr['dep_time_of_day']"
   ]
  },
  {
   "cell_type": "markdown",
   "metadata": {},
   "source": [
    "Morning flight frequency is comparitively more."
   ]
  },
  {
   "cell_type": "code",
   "execution_count": 60,
   "metadata": {},
   "outputs": [
    {
     "data": {
      "text/plain": [
       "<matplotlib.axes._subplots.AxesSubplot at 0x1db4853be48>"
      ]
     },
     "execution_count": 60,
     "metadata": {},
     "output_type": "execute_result"
    },
    {
     "data": {
      "image/png": "[encoded data removed]",
      "text/plain": [
       "<Figure size 1440x432 with 1 Axes>"
      ]
     },
     "metadata": {
      "needs_background": "light"
     },
     "output_type": "display_data"
    }
   ],
   "source": [
    "plt.figure(figsize=(20,6))\n",
    "sbn.countplot('Source',hue='dep_time_of_day',data=fltr)"
   ]
  },
  {
   "cell_type": "markdown",
   "metadata": {},
   "source": [
    "Delhi being the busiest source and morning flights are more at every source"
   ]
  },
  {
   "cell_type": "code",
   "execution_count": 61,
   "metadata": {},
   "outputs": [
    {
     "data": {
      "text/plain": [
       "<matplotlib.axes._subplots.AxesSubplot at 0x1db485448c8>"
      ]
     },
     "execution_count": 61,
     "metadata": {},
     "output_type": "execute_result"
    },
    {
     "data": {
      "image/png": "[encoded data removed]",
      "text/plain": [
       "<Figure size 1440x432 with 1 Axes>"
      ]
     },
     "metadata": {
      "needs_background": "light"
     },
     "output_type": "display_data"
    }
   ],
   "source": [
    "plt.figure(figsize=(20,6))\n",
    "sbn.countplot('Source',hue='Airline',data=fltr)"
   ]
  },
  {
   "cell_type": "code",
   "execution_count": 65,
   "metadata": {},
   "outputs": [],
   "source": [
    "#Lets convert the no of stops into integer \n",
    "\n",
    "def no_of_stops(x):\n",
    "    if x=='4 stops':\n",
    "        return 4\n",
    "    elif x=='3 stops':\n",
    "        return 3\n",
    "    elif x=='2 stops':\n",
    "        return 2\n",
    "    elif x=='1 stop':\n",
    "        return 1\n",
    "    else:\n",
    "        return 0     \n"
   ]
  },
  {
   "cell_type": "code",
   "execution_count": 83,
   "metadata": {},
   "outputs": [],
   "source": [
    "fltr['no_of_stops']=fltr['Total_Stops'].apply(no_of_stops)"
   ]
  },
  {
   "cell_type": "code",
   "execution_count": 84,
   "metadata": {},
   "outputs": [
    {
     "data": {
      "text/html": [
       "<div>\n",
       "<style scoped>\n",
       "    .dataframe tbody tr th:only-of-type {\n",
       "        vertical-align: middle;\n",
       "    }\n",
       "\n",
       "    .dataframe tbody tr th {\n",
       "        vertical-align: top;\n",
       "    }\n",
       "\n",
       "    .dataframe thead th {\n",
       "        text-align: right;\n",
       "    }\n",
       "</style>\n",
       "<table border=\"1\" class=\"dataframe\">\n",
       "  <thead>\n",
       "    <tr style=\"text-align: right;\">\n",
       "      <th></th>\n",
       "      <th>Airline</th>\n",
       "      <th>Date_of_Journey</th>\n",
       "      <th>Source</th>\n",
       "      <th>Destination</th>\n",
       "      <th>Route</th>\n",
       "      <th>Dep_Time</th>\n",
       "      <th>Arrival_Time</th>\n",
       "      <th>Duration</th>\n",
       "      <th>Total_Stops</th>\n",
       "      <th>Additional_Info</th>\n",
       "      <th>Price</th>\n",
       "      <th>Duration_hours</th>\n",
       "      <th>no_of_stops</th>\n",
       "    </tr>\n",
       "  </thead>\n",
       "  <tbody>\n",
       "    <tr>\n",
       "      <td>0</td>\n",
       "      <td>IndiGo</td>\n",
       "      <td>24/03/2019</td>\n",
       "      <td>Banglore</td>\n",
       "      <td>New Delhi</td>\n",
       "      <td>BLR → DEL</td>\n",
       "      <td>2020-06-25 22:20:00</td>\n",
       "      <td>2020-03-22 01:10:00</td>\n",
       "      <td>2h 50m</td>\n",
       "      <td>non-stop</td>\n",
       "      <td>No info</td>\n",
       "      <td>3897</td>\n",
       "      <td>2.833333</td>\n",
       "      <td>0</td>\n",
       "    </tr>\n",
       "    <tr>\n",
       "      <td>1</td>\n",
       "      <td>Air India</td>\n",
       "      <td>1/05/2019</td>\n",
       "      <td>Kolkata</td>\n",
       "      <td>Banglore</td>\n",
       "      <td>CCU → IXR → BBI → BLR</td>\n",
       "      <td>2020-06-25 05:50:00</td>\n",
       "      <td>2020-06-25 13:15:00</td>\n",
       "      <td>7h 25m</td>\n",
       "      <td>2 stops</td>\n",
       "      <td>No info</td>\n",
       "      <td>7662</td>\n",
       "      <td>7.416667</td>\n",
       "      <td>2</td>\n",
       "    </tr>\n",
       "    <tr>\n",
       "      <td>2</td>\n",
       "      <td>Jet Airways</td>\n",
       "      <td>9/06/2019</td>\n",
       "      <td>Delhi</td>\n",
       "      <td>Cochin</td>\n",
       "      <td>DEL → LKO → BOM → COK</td>\n",
       "      <td>2020-06-25 09:25:00</td>\n",
       "      <td>2020-06-10 04:25:00</td>\n",
       "      <td>19h</td>\n",
       "      <td>2 stops</td>\n",
       "      <td>No info</td>\n",
       "      <td>13882</td>\n",
       "      <td>19.000000</td>\n",
       "      <td>2</td>\n",
       "    </tr>\n",
       "    <tr>\n",
       "      <td>3</td>\n",
       "      <td>IndiGo</td>\n",
       "      <td>12/05/2019</td>\n",
       "      <td>Kolkata</td>\n",
       "      <td>Banglore</td>\n",
       "      <td>CCU → NAG → BLR</td>\n",
       "      <td>2020-06-25 18:05:00</td>\n",
       "      <td>2020-06-25 23:30:00</td>\n",
       "      <td>5h 25m</td>\n",
       "      <td>1 stop</td>\n",
       "      <td>No info</td>\n",
       "      <td>6218</td>\n",
       "      <td>5.416667</td>\n",
       "      <td>1</td>\n",
       "    </tr>\n",
       "    <tr>\n",
       "      <td>4</td>\n",
       "      <td>IndiGo</td>\n",
       "      <td>01/03/2019</td>\n",
       "      <td>Banglore</td>\n",
       "      <td>New Delhi</td>\n",
       "      <td>BLR → NAG → DEL</td>\n",
       "      <td>2020-06-25 16:50:00</td>\n",
       "      <td>2020-06-25 21:35:00</td>\n",
       "      <td>4h 45m</td>\n",
       "      <td>1 stop</td>\n",
       "      <td>No info</td>\n",
       "      <td>13302</td>\n",
       "      <td>4.750000</td>\n",
       "      <td>1</td>\n",
       "    </tr>\n",
       "  </tbody>\n",
       "</table>\n",
       "</div>"
      ],
      "text/plain": [
       "       Airline Date_of_Journey    Source Destination                  Route  \\\n",
       "0       IndiGo      24/03/2019  Banglore   New Delhi              BLR → DEL   \n",
       "1    Air India       1/05/2019   Kolkata    Banglore  CCU → IXR → BBI → BLR   \n",
       "2  Jet Airways       9/06/2019     Delhi      Cochin  DEL → LKO → BOM → COK   \n",
       "3       IndiGo      12/05/2019   Kolkata    Banglore        CCU → NAG → BLR   \n",
       "4       IndiGo      01/03/2019  Banglore   New Delhi        BLR → NAG → DEL   \n",
       "\n",
       "             Dep_Time        Arrival_Time Duration Total_Stops  \\\n",
       "0 2020-06-25 22:20:00 2020-03-22 01:10:00   2h 50m    non-stop   \n",
       "1 2020-06-25 05:50:00 2020-06-25 13:15:00   7h 25m     2 stops   \n",
       "2 2020-06-25 09:25:00 2020-06-10 04:25:00      19h     2 stops   \n",
       "3 2020-06-25 18:05:00 2020-06-25 23:30:00   5h 25m      1 stop   \n",
       "4 2020-06-25 16:50:00 2020-06-25 21:35:00   4h 45m      1 stop   \n",
       "\n",
       "  Additional_Info  Price  Duration_hours  no_of_stops  \n",
       "0         No info   3897        2.833333            0  \n",
       "1         No info   7662        7.416667            2  \n",
       "2         No info  13882       19.000000            2  \n",
       "3         No info   6218        5.416667            1  \n",
       "4         No info  13302        4.750000            1  "
      ]
     },
     "execution_count": 84,
     "metadata": {},
     "output_type": "execute_result"
    }
   ],
   "source": [
    "fltr.head()"
   ]
  },
  {
   "cell_type": "code",
   "execution_count": 85,
   "metadata": {},
   "outputs": [
    {
     "data": {
      "text/html": [
       "<div>\n",
       "<style scoped>\n",
       "    .dataframe tbody tr th:only-of-type {\n",
       "        vertical-align: middle;\n",
       "    }\n",
       "\n",
       "    .dataframe tbody tr th {\n",
       "        vertical-align: top;\n",
       "    }\n",
       "\n",
       "    .dataframe thead th {\n",
       "        text-align: right;\n",
       "    }\n",
       "</style>\n",
       "<table border=\"1\" class=\"dataframe\">\n",
       "  <thead>\n",
       "    <tr style=\"text-align: right;\">\n",
       "      <th></th>\n",
       "      <th>Price</th>\n",
       "      <th>Duration_hours</th>\n",
       "      <th>no_of_stops</th>\n",
       "    </tr>\n",
       "  </thead>\n",
       "  <tbody>\n",
       "    <tr>\n",
       "      <td>Price</td>\n",
       "      <td>1.000000</td>\n",
       "      <td>0.450205</td>\n",
       "      <td>0.603891</td>\n",
       "    </tr>\n",
       "    <tr>\n",
       "      <td>Duration_hours</td>\n",
       "      <td>0.450205</td>\n",
       "      <td>1.000000</td>\n",
       "      <td>0.591904</td>\n",
       "    </tr>\n",
       "    <tr>\n",
       "      <td>no_of_stops</td>\n",
       "      <td>0.603891</td>\n",
       "      <td>0.591904</td>\n",
       "      <td>1.000000</td>\n",
       "    </tr>\n",
       "  </tbody>\n",
       "</table>\n",
       "</div>"
      ],
      "text/plain": [
       "                   Price  Duration_hours  no_of_stops\n",
       "Price           1.000000        0.450205     0.603891\n",
       "Duration_hours  0.450205        1.000000     0.591904\n",
       "no_of_stops     0.603891        0.591904     1.000000"
      ]
     },
     "execution_count": 85,
     "metadata": {},
     "output_type": "execute_result"
    }
   ],
   "source": [
    "fltr.corr()"
   ]
  },
  {
   "cell_type": "code",
   "execution_count": 69,
   "metadata": {},
   "outputs": [
    {
     "data": {
      "text/plain": [
       "array([2019], dtype=int64)"
      ]
     },
     "execution_count": 69,
     "metadata": {},
     "output_type": "execute_result"
    }
   ],
   "source": [
    "fltr['year'].unique()"
   ]
  },
  {
   "cell_type": "markdown",
   "metadata": {},
   "source": [
    "As the year contains only one unique record ,correlation is nan"
   ]
  },
  {
   "cell_type": "code",
   "execution_count": 70,
   "metadata": {},
   "outputs": [
    {
     "data": {
      "text/plain": [
       "9848      39h 5m\n",
       "6526      2h 40m\n",
       "1246      7h 15m\n",
       "10182     5h 30m\n",
       "6558      2h 50m\n",
       "          ...   \n",
       "1504      2h 45m\n",
       "5909      2h 55m\n",
       "4921      2h 50m\n",
       "2047         11h\n",
       "7297     23h 40m\n",
       "Name: Duration, Length: 10683, dtype: object"
      ]
     },
     "execution_count": 70,
     "metadata": {},
     "output_type": "execute_result"
    }
   ],
   "source": [
    "#Generally, the flight price is also dependent on the duration of flight\n",
    "\n",
    "fltr['Duration']"
   ]
  },
  {
   "cell_type": "code",
   "execution_count": 73,
   "metadata": {},
   "outputs": [
    {
     "data": {
      "text/plain": [
       "Index(['Airline', 'Date_of_Journey', 'Source', 'Destination', 'Route',\n",
       "       'Dep_Time', 'Arrival_Time', 'Duration', 'Total_Stops',\n",
       "       'Additional_Info', 'Price', 'year', 'month', 'day', 'dep_time_of_day',\n",
       "       'no_of_stops'],\n",
       "      dtype='object')"
      ]
     },
     "execution_count": 73,
     "metadata": {},
     "output_type": "execute_result"
    }
   ],
   "source": [
    "fltr.columns"
   ]
  },
  {
   "cell_type": "code",
   "execution_count": 76,
   "metadata": {},
   "outputs": [],
   "source": [
    "#Lets convert duration into float ,in general the flight price is depedent on the duration time\n",
    "\n",
    "d=(fltr['Arrival_Time']-fltr['Dep_Time'])\n",
    "dlist=list()\n",
    "for i in range(len(d)):\n",
    "    t=d.iloc[i].seconds/3600\n",
    "    dlist.append(t)\n",
    "fltr['Duration_hours']=dlist"
   ]
  },
  {
   "cell_type": "code",
   "execution_count": 86,
   "metadata": {},
   "outputs": [
    {
     "data": {
      "text/html": [
       "<div>\n",
       "<style scoped>\n",
       "    .dataframe tbody tr th:only-of-type {\n",
       "        vertical-align: middle;\n",
       "    }\n",
       "\n",
       "    .dataframe tbody tr th {\n",
       "        vertical-align: top;\n",
       "    }\n",
       "\n",
       "    .dataframe thead th {\n",
       "        text-align: right;\n",
       "    }\n",
       "</style>\n",
       "<table border=\"1\" class=\"dataframe\">\n",
       "  <thead>\n",
       "    <tr style=\"text-align: right;\">\n",
       "      <th></th>\n",
       "      <th>Airline</th>\n",
       "      <th>Date_of_Journey</th>\n",
       "      <th>Source</th>\n",
       "      <th>Destination</th>\n",
       "      <th>Route</th>\n",
       "      <th>Dep_Time</th>\n",
       "      <th>Arrival_Time</th>\n",
       "      <th>Duration</th>\n",
       "      <th>Total_Stops</th>\n",
       "      <th>Additional_Info</th>\n",
       "      <th>Price</th>\n",
       "      <th>Duration_hours</th>\n",
       "      <th>no_of_stops</th>\n",
       "    </tr>\n",
       "  </thead>\n",
       "  <tbody>\n",
       "    <tr>\n",
       "      <td>0</td>\n",
       "      <td>IndiGo</td>\n",
       "      <td>24/03/2019</td>\n",
       "      <td>Banglore</td>\n",
       "      <td>New Delhi</td>\n",
       "      <td>BLR → DEL</td>\n",
       "      <td>2020-06-25 22:20:00</td>\n",
       "      <td>2020-03-22 01:10:00</td>\n",
       "      <td>2h 50m</td>\n",
       "      <td>non-stop</td>\n",
       "      <td>No info</td>\n",
       "      <td>3897</td>\n",
       "      <td>2.833333</td>\n",
       "      <td>0</td>\n",
       "    </tr>\n",
       "    <tr>\n",
       "      <td>1</td>\n",
       "      <td>Air India</td>\n",
       "      <td>1/05/2019</td>\n",
       "      <td>Kolkata</td>\n",
       "      <td>Banglore</td>\n",
       "      <td>CCU → IXR → BBI → BLR</td>\n",
       "      <td>2020-06-25 05:50:00</td>\n",
       "      <td>2020-06-25 13:15:00</td>\n",
       "      <td>7h 25m</td>\n",
       "      <td>2 stops</td>\n",
       "      <td>No info</td>\n",
       "      <td>7662</td>\n",
       "      <td>7.416667</td>\n",
       "      <td>2</td>\n",
       "    </tr>\n",
       "    <tr>\n",
       "      <td>2</td>\n",
       "      <td>Jet Airways</td>\n",
       "      <td>9/06/2019</td>\n",
       "      <td>Delhi</td>\n",
       "      <td>Cochin</td>\n",
       "      <td>DEL → LKO → BOM → COK</td>\n",
       "      <td>2020-06-25 09:25:00</td>\n",
       "      <td>2020-06-10 04:25:00</td>\n",
       "      <td>19h</td>\n",
       "      <td>2 stops</td>\n",
       "      <td>No info</td>\n",
       "      <td>13882</td>\n",
       "      <td>19.000000</td>\n",
       "      <td>2</td>\n",
       "    </tr>\n",
       "    <tr>\n",
       "      <td>3</td>\n",
       "      <td>IndiGo</td>\n",
       "      <td>12/05/2019</td>\n",
       "      <td>Kolkata</td>\n",
       "      <td>Banglore</td>\n",
       "      <td>CCU → NAG → BLR</td>\n",
       "      <td>2020-06-25 18:05:00</td>\n",
       "      <td>2020-06-25 23:30:00</td>\n",
       "      <td>5h 25m</td>\n",
       "      <td>1 stop</td>\n",
       "      <td>No info</td>\n",
       "      <td>6218</td>\n",
       "      <td>5.416667</td>\n",
       "      <td>1</td>\n",
       "    </tr>\n",
       "    <tr>\n",
       "      <td>4</td>\n",
       "      <td>IndiGo</td>\n",
       "      <td>01/03/2019</td>\n",
       "      <td>Banglore</td>\n",
       "      <td>New Delhi</td>\n",
       "      <td>BLR → NAG → DEL</td>\n",
       "      <td>2020-06-25 16:50:00</td>\n",
       "      <td>2020-06-25 21:35:00</td>\n",
       "      <td>4h 45m</td>\n",
       "      <td>1 stop</td>\n",
       "      <td>No info</td>\n",
       "      <td>13302</td>\n",
       "      <td>4.750000</td>\n",
       "      <td>1</td>\n",
       "    </tr>\n",
       "    <tr>\n",
       "      <td>...</td>\n",
       "      <td>...</td>\n",
       "      <td>...</td>\n",
       "      <td>...</td>\n",
       "      <td>...</td>\n",
       "      <td>...</td>\n",
       "      <td>...</td>\n",
       "      <td>...</td>\n",
       "      <td>...</td>\n",
       "      <td>...</td>\n",
       "      <td>...</td>\n",
       "      <td>...</td>\n",
       "      <td>...</td>\n",
       "      <td>...</td>\n",
       "    </tr>\n",
       "    <tr>\n",
       "      <td>10678</td>\n",
       "      <td>Air Asia</td>\n",
       "      <td>9/04/2019</td>\n",
       "      <td>Kolkata</td>\n",
       "      <td>Banglore</td>\n",
       "      <td>CCU → BLR</td>\n",
       "      <td>2020-06-25 19:55:00</td>\n",
       "      <td>2020-06-25 22:25:00</td>\n",
       "      <td>2h 30m</td>\n",
       "      <td>non-stop</td>\n",
       "      <td>No info</td>\n",
       "      <td>4107</td>\n",
       "      <td>2.500000</td>\n",
       "      <td>0</td>\n",
       "    </tr>\n",
       "    <tr>\n",
       "      <td>10679</td>\n",
       "      <td>Air India</td>\n",
       "      <td>27/04/2019</td>\n",
       "      <td>Kolkata</td>\n",
       "      <td>Banglore</td>\n",
       "      <td>CCU → BLR</td>\n",
       "      <td>2020-06-25 20:45:00</td>\n",
       "      <td>2020-06-25 23:20:00</td>\n",
       "      <td>2h 35m</td>\n",
       "      <td>non-stop</td>\n",
       "      <td>No info</td>\n",
       "      <td>4145</td>\n",
       "      <td>2.583333</td>\n",
       "      <td>0</td>\n",
       "    </tr>\n",
       "    <tr>\n",
       "      <td>10680</td>\n",
       "      <td>Jet Airways</td>\n",
       "      <td>27/04/2019</td>\n",
       "      <td>Banglore</td>\n",
       "      <td>Delhi</td>\n",
       "      <td>BLR → DEL</td>\n",
       "      <td>2020-06-25 08:20:00</td>\n",
       "      <td>2020-06-25 11:20:00</td>\n",
       "      <td>3h</td>\n",
       "      <td>non-stop</td>\n",
       "      <td>No info</td>\n",
       "      <td>7229</td>\n",
       "      <td>3.000000</td>\n",
       "      <td>0</td>\n",
       "    </tr>\n",
       "    <tr>\n",
       "      <td>10681</td>\n",
       "      <td>Vistara</td>\n",
       "      <td>01/03/2019</td>\n",
       "      <td>Banglore</td>\n",
       "      <td>New Delhi</td>\n",
       "      <td>BLR → DEL</td>\n",
       "      <td>2020-06-25 11:30:00</td>\n",
       "      <td>2020-06-25 14:10:00</td>\n",
       "      <td>2h 40m</td>\n",
       "      <td>non-stop</td>\n",
       "      <td>No info</td>\n",
       "      <td>12648</td>\n",
       "      <td>2.666667</td>\n",
       "      <td>0</td>\n",
       "    </tr>\n",
       "    <tr>\n",
       "      <td>10682</td>\n",
       "      <td>Air India</td>\n",
       "      <td>9/05/2019</td>\n",
       "      <td>Delhi</td>\n",
       "      <td>Cochin</td>\n",
       "      <td>DEL → GOI → BOM → COK</td>\n",
       "      <td>2020-06-25 10:55:00</td>\n",
       "      <td>2020-06-25 19:15:00</td>\n",
       "      <td>8h 20m</td>\n",
       "      <td>2 stops</td>\n",
       "      <td>No info</td>\n",
       "      <td>11753</td>\n",
       "      <td>8.333333</td>\n",
       "      <td>2</td>\n",
       "    </tr>\n",
       "  </tbody>\n",
       "</table>\n",
       "<p>10683 rows × 13 columns</p>\n",
       "</div>"
      ],
      "text/plain": [
       "           Airline Date_of_Journey    Source Destination  \\\n",
       "0           IndiGo      24/03/2019  Banglore   New Delhi   \n",
       "1        Air India       1/05/2019   Kolkata    Banglore   \n",
       "2      Jet Airways       9/06/2019     Delhi      Cochin   \n",
       "3           IndiGo      12/05/2019   Kolkata    Banglore   \n",
       "4           IndiGo      01/03/2019  Banglore   New Delhi   \n",
       "...            ...             ...       ...         ...   \n",
       "10678     Air Asia       9/04/2019   Kolkata    Banglore   \n",
       "10679    Air India      27/04/2019   Kolkata    Banglore   \n",
       "10680  Jet Airways      27/04/2019  Banglore       Delhi   \n",
       "10681      Vistara      01/03/2019  Banglore   New Delhi   \n",
       "10682    Air India       9/05/2019     Delhi      Cochin   \n",
       "\n",
       "                       Route            Dep_Time        Arrival_Time Duration  \\\n",
       "0                  BLR → DEL 2020-06-25 22:20:00 2020-03-22 01:10:00   2h 50m   \n",
       "1      CCU → IXR → BBI → BLR 2020-06-25 05:50:00 2020-06-25 13:15:00   7h 25m   \n",
       "2      DEL → LKO → BOM → COK 2020-06-25 09:25:00 2020-06-10 04:25:00      19h   \n",
       "3            CCU → NAG → BLR 2020-06-25 18:05:00 2020-06-25 23:30:00   5h 25m   \n",
       "4            BLR → NAG → DEL 2020-06-25 16:50:00 2020-06-25 21:35:00   4h 45m   \n",
       "...                      ...                 ...                 ...      ...   \n",
       "10678              CCU → BLR 2020-06-25 19:55:00 2020-06-25 22:25:00   2h 30m   \n",
       "10679              CCU → BLR 2020-06-25 20:45:00 2020-06-25 23:20:00   2h 35m   \n",
       "10680              BLR → DEL 2020-06-25 08:20:00 2020-06-25 11:20:00       3h   \n",
       "10681              BLR → DEL 2020-06-25 11:30:00 2020-06-25 14:10:00   2h 40m   \n",
       "10682  DEL → GOI → BOM → COK 2020-06-25 10:55:00 2020-06-25 19:15:00   8h 20m   \n",
       "\n",
       "      Total_Stops Additional_Info  Price  Duration_hours  no_of_stops  \n",
       "0        non-stop         No info   3897        2.833333            0  \n",
       "1         2 stops         No info   7662        7.416667            2  \n",
       "2         2 stops         No info  13882       19.000000            2  \n",
       "3          1 stop         No info   6218        5.416667            1  \n",
       "4          1 stop         No info  13302        4.750000            1  \n",
       "...           ...             ...    ...             ...          ...  \n",
       "10678    non-stop         No info   4107        2.500000            0  \n",
       "10679    non-stop         No info   4145        2.583333            0  \n",
       "10680    non-stop         No info   7229        3.000000            0  \n",
       "10681    non-stop         No info  12648        2.666667            0  \n",
       "10682     2 stops         No info  11753        8.333333            2  \n",
       "\n",
       "[10683 rows x 13 columns]"
      ]
     },
     "execution_count": 86,
     "metadata": {},
     "output_type": "execute_result"
    }
   ],
   "source": [
    "fltr"
   ]
  },
  {
   "cell_type": "code",
   "execution_count": null,
   "metadata": {},
   "outputs": [],
   "source": []
  },
  {
   "cell_type": "code",
   "execution_count": 88,
   "metadata": {},
   "outputs": [],
   "source": [
    "fltrn=fltr.copy()"
   ]
  },
  {
   "cell_type": "code",
   "execution_count": null,
   "metadata": {},
   "outputs": [],
   "source": []
  },
  {
   "cell_type": "code",
   "execution_count": 98,
   "metadata": {},
   "outputs": [
    {
     "data": {
      "text/plain": [
       "0                Night\n",
       "1        Early Morning\n",
       "2              Morning\n",
       "3              Evening\n",
       "4            Afternoon\n",
       "             ...      \n",
       "10678          Evening\n",
       "10679          Evening\n",
       "10680          Morning\n",
       "10681          Morning\n",
       "10682          Morning\n",
       "Name: dep_time_of_day, Length: 10683, dtype: object"
      ]
     },
     "execution_count": 98,
     "metadata": {},
     "output_type": "execute_result"
    }
   ],
   "source": [
    "fl"
   ]
  },
  {
   "cell_type": "code",
   "execution_count": 102,
   "metadata": {},
   "outputs": [],
   "source": [
    "fin=pd.concat([fltrn,fl],axis=1)"
   ]
  },
  {
   "cell_type": "code",
   "execution_count": 103,
   "metadata": {},
   "outputs": [
    {
     "data": {
      "text/html": [
       "<div>\n",
       "<style scoped>\n",
       "    .dataframe tbody tr th:only-of-type {\n",
       "        vertical-align: middle;\n",
       "    }\n",
       "\n",
       "    .dataframe tbody tr th {\n",
       "        vertical-align: top;\n",
       "    }\n",
       "\n",
       "    .dataframe thead th {\n",
       "        text-align: right;\n",
       "    }\n",
       "</style>\n",
       "<table border=\"1\" class=\"dataframe\">\n",
       "  <thead>\n",
       "    <tr style=\"text-align: right;\">\n",
       "      <th></th>\n",
       "      <th>Airline</th>\n",
       "      <th>Date_of_Journey</th>\n",
       "      <th>Source</th>\n",
       "      <th>Destination</th>\n",
       "      <th>Route</th>\n",
       "      <th>Dep_Time</th>\n",
       "      <th>Arrival_Time</th>\n",
       "      <th>Duration</th>\n",
       "      <th>Total_Stops</th>\n",
       "      <th>Additional_Info</th>\n",
       "      <th>Price</th>\n",
       "      <th>Duration_hours</th>\n",
       "      <th>no_of_stops</th>\n",
       "      <th>dep_time_of_day</th>\n",
       "    </tr>\n",
       "  </thead>\n",
       "  <tbody>\n",
       "    <tr>\n",
       "      <td>0</td>\n",
       "      <td>IndiGo</td>\n",
       "      <td>24/03/2019</td>\n",
       "      <td>Banglore</td>\n",
       "      <td>New Delhi</td>\n",
       "      <td>BLR → DEL</td>\n",
       "      <td>2020-06-25 22:20:00</td>\n",
       "      <td>2020-03-22 01:10:00</td>\n",
       "      <td>2h 50m</td>\n",
       "      <td>non-stop</td>\n",
       "      <td>No info</td>\n",
       "      <td>3897</td>\n",
       "      <td>2.833333</td>\n",
       "      <td>0</td>\n",
       "      <td>Night</td>\n",
       "    </tr>\n",
       "    <tr>\n",
       "      <td>1</td>\n",
       "      <td>Air India</td>\n",
       "      <td>1/05/2019</td>\n",
       "      <td>Kolkata</td>\n",
       "      <td>Banglore</td>\n",
       "      <td>CCU → IXR → BBI → BLR</td>\n",
       "      <td>2020-06-25 05:50:00</td>\n",
       "      <td>2020-06-25 13:15:00</td>\n",
       "      <td>7h 25m</td>\n",
       "      <td>2 stops</td>\n",
       "      <td>No info</td>\n",
       "      <td>7662</td>\n",
       "      <td>7.416667</td>\n",
       "      <td>2</td>\n",
       "      <td>Early Morning</td>\n",
       "    </tr>\n",
       "    <tr>\n",
       "      <td>2</td>\n",
       "      <td>Jet Airways</td>\n",
       "      <td>9/06/2019</td>\n",
       "      <td>Delhi</td>\n",
       "      <td>Cochin</td>\n",
       "      <td>DEL → LKO → BOM → COK</td>\n",
       "      <td>2020-06-25 09:25:00</td>\n",
       "      <td>2020-06-10 04:25:00</td>\n",
       "      <td>19h</td>\n",
       "      <td>2 stops</td>\n",
       "      <td>No info</td>\n",
       "      <td>13882</td>\n",
       "      <td>19.000000</td>\n",
       "      <td>2</td>\n",
       "      <td>Morning</td>\n",
       "    </tr>\n",
       "    <tr>\n",
       "      <td>3</td>\n",
       "      <td>IndiGo</td>\n",
       "      <td>12/05/2019</td>\n",
       "      <td>Kolkata</td>\n",
       "      <td>Banglore</td>\n",
       "      <td>CCU → NAG → BLR</td>\n",
       "      <td>2020-06-25 18:05:00</td>\n",
       "      <td>2020-06-25 23:30:00</td>\n",
       "      <td>5h 25m</td>\n",
       "      <td>1 stop</td>\n",
       "      <td>No info</td>\n",
       "      <td>6218</td>\n",
       "      <td>5.416667</td>\n",
       "      <td>1</td>\n",
       "      <td>Evening</td>\n",
       "    </tr>\n",
       "    <tr>\n",
       "      <td>4</td>\n",
       "      <td>IndiGo</td>\n",
       "      <td>01/03/2019</td>\n",
       "      <td>Banglore</td>\n",
       "      <td>New Delhi</td>\n",
       "      <td>BLR → NAG → DEL</td>\n",
       "      <td>2020-06-25 16:50:00</td>\n",
       "      <td>2020-06-25 21:35:00</td>\n",
       "      <td>4h 45m</td>\n",
       "      <td>1 stop</td>\n",
       "      <td>No info</td>\n",
       "      <td>13302</td>\n",
       "      <td>4.750000</td>\n",
       "      <td>1</td>\n",
       "      <td>Afternoon</td>\n",
       "    </tr>\n",
       "    <tr>\n",
       "      <td>...</td>\n",
       "      <td>...</td>\n",
       "      <td>...</td>\n",
       "      <td>...</td>\n",
       "      <td>...</td>\n",
       "      <td>...</td>\n",
       "      <td>...</td>\n",
       "      <td>...</td>\n",
       "      <td>...</td>\n",
       "      <td>...</td>\n",
       "      <td>...</td>\n",
       "      <td>...</td>\n",
       "      <td>...</td>\n",
       "      <td>...</td>\n",
       "      <td>...</td>\n",
       "    </tr>\n",
       "    <tr>\n",
       "      <td>10678</td>\n",
       "      <td>Air Asia</td>\n",
       "      <td>9/04/2019</td>\n",
       "      <td>Kolkata</td>\n",
       "      <td>Banglore</td>\n",
       "      <td>CCU → BLR</td>\n",
       "      <td>2020-06-25 19:55:00</td>\n",
       "      <td>2020-06-25 22:25:00</td>\n",
       "      <td>2h 30m</td>\n",
       "      <td>non-stop</td>\n",
       "      <td>No info</td>\n",
       "      <td>4107</td>\n",
       "      <td>2.500000</td>\n",
       "      <td>0</td>\n",
       "      <td>Evening</td>\n",
       "    </tr>\n",
       "    <tr>\n",
       "      <td>10679</td>\n",
       "      <td>Air India</td>\n",
       "      <td>27/04/2019</td>\n",
       "      <td>Kolkata</td>\n",
       "      <td>Banglore</td>\n",
       "      <td>CCU → BLR</td>\n",
       "      <td>2020-06-25 20:45:00</td>\n",
       "      <td>2020-06-25 23:20:00</td>\n",
       "      <td>2h 35m</td>\n",
       "      <td>non-stop</td>\n",
       "      <td>No info</td>\n",
       "      <td>4145</td>\n",
       "      <td>2.583333</td>\n",
       "      <td>0</td>\n",
       "      <td>Evening</td>\n",
       "    </tr>\n",
       "    <tr>\n",
       "      <td>10680</td>\n",
       "      <td>Jet Airways</td>\n",
       "      <td>27/04/2019</td>\n",
       "      <td>Banglore</td>\n",
       "      <td>Delhi</td>\n",
       "      <td>BLR → DEL</td>\n",
       "      <td>2020-06-25 08:20:00</td>\n",
       "      <td>2020-06-25 11:20:00</td>\n",
       "      <td>3h</td>\n",
       "      <td>non-stop</td>\n",
       "      <td>No info</td>\n",
       "      <td>7229</td>\n",
       "      <td>3.000000</td>\n",
       "      <td>0</td>\n",
       "      <td>Morning</td>\n",
       "    </tr>\n",
       "    <tr>\n",
       "      <td>10681</td>\n",
       "      <td>Vistara</td>\n",
       "      <td>01/03/2019</td>\n",
       "      <td>Banglore</td>\n",
       "      <td>New Delhi</td>\n",
       "      <td>BLR → DEL</td>\n",
       "      <td>2020-06-25 11:30:00</td>\n",
       "      <td>2020-06-25 14:10:00</td>\n",
       "      <td>2h 40m</td>\n",
       "      <td>non-stop</td>\n",
       "      <td>No info</td>\n",
       "      <td>12648</td>\n",
       "      <td>2.666667</td>\n",
       "      <td>0</td>\n",
       "      <td>Morning</td>\n",
       "    </tr>\n",
       "    <tr>\n",
       "      <td>10682</td>\n",
       "      <td>Air India</td>\n",
       "      <td>9/05/2019</td>\n",
       "      <td>Delhi</td>\n",
       "      <td>Cochin</td>\n",
       "      <td>DEL → GOI → BOM → COK</td>\n",
       "      <td>2020-06-25 10:55:00</td>\n",
       "      <td>2020-06-25 19:15:00</td>\n",
       "      <td>8h 20m</td>\n",
       "      <td>2 stops</td>\n",
       "      <td>No info</td>\n",
       "      <td>11753</td>\n",
       "      <td>8.333333</td>\n",
       "      <td>2</td>\n",
       "      <td>Morning</td>\n",
       "    </tr>\n",
       "  </tbody>\n",
       "</table>\n",
       "<p>10683 rows × 14 columns</p>\n",
       "</div>"
      ],
      "text/plain": [
       "           Airline Date_of_Journey    Source Destination  \\\n",
       "0           IndiGo      24/03/2019  Banglore   New Delhi   \n",
       "1        Air India       1/05/2019   Kolkata    Banglore   \n",
       "2      Jet Airways       9/06/2019     Delhi      Cochin   \n",
       "3           IndiGo      12/05/2019   Kolkata    Banglore   \n",
       "4           IndiGo      01/03/2019  Banglore   New Delhi   \n",
       "...            ...             ...       ...         ...   \n",
       "10678     Air Asia       9/04/2019   Kolkata    Banglore   \n",
       "10679    Air India      27/04/2019   Kolkata    Banglore   \n",
       "10680  Jet Airways      27/04/2019  Banglore       Delhi   \n",
       "10681      Vistara      01/03/2019  Banglore   New Delhi   \n",
       "10682    Air India       9/05/2019     Delhi      Cochin   \n",
       "\n",
       "                       Route            Dep_Time        Arrival_Time Duration  \\\n",
       "0                  BLR → DEL 2020-06-25 22:20:00 2020-03-22 01:10:00   2h 50m   \n",
       "1      CCU → IXR → BBI → BLR 2020-06-25 05:50:00 2020-06-25 13:15:00   7h 25m   \n",
       "2      DEL → LKO → BOM → COK 2020-06-25 09:25:00 2020-06-10 04:25:00      19h   \n",
       "3            CCU → NAG → BLR 2020-06-25 18:05:00 2020-06-25 23:30:00   5h 25m   \n",
       "4            BLR → NAG → DEL 2020-06-25 16:50:00 2020-06-25 21:35:00   4h 45m   \n",
       "...                      ...                 ...                 ...      ...   \n",
       "10678              CCU → BLR 2020-06-25 19:55:00 2020-06-25 22:25:00   2h 30m   \n",
       "10679              CCU → BLR 2020-06-25 20:45:00 2020-06-25 23:20:00   2h 35m   \n",
       "10680              BLR → DEL 2020-06-25 08:20:00 2020-06-25 11:20:00       3h   \n",
       "10681              BLR → DEL 2020-06-25 11:30:00 2020-06-25 14:10:00   2h 40m   \n",
       "10682  DEL → GOI → BOM → COK 2020-06-25 10:55:00 2020-06-25 19:15:00   8h 20m   \n",
       "\n",
       "      Total_Stops Additional_Info  Price  Duration_hours  no_of_stops  \\\n",
       "0        non-stop         No info   3897        2.833333            0   \n",
       "1         2 stops         No info   7662        7.416667            2   \n",
       "2         2 stops         No info  13882       19.000000            2   \n",
       "3          1 stop         No info   6218        5.416667            1   \n",
       "4          1 stop         No info  13302        4.750000            1   \n",
       "...           ...             ...    ...             ...          ...   \n",
       "10678    non-stop         No info   4107        2.500000            0   \n",
       "10679    non-stop         No info   4145        2.583333            0   \n",
       "10680    non-stop         No info   7229        3.000000            0   \n",
       "10681    non-stop         No info  12648        2.666667            0   \n",
       "10682     2 stops         No info  11753        8.333333            2   \n",
       "\n",
       "      dep_time_of_day  \n",
       "0               Night  \n",
       "1       Early Morning  \n",
       "2             Morning  \n",
       "3             Evening  \n",
       "4           Afternoon  \n",
       "...               ...  \n",
       "10678         Evening  \n",
       "10679         Evening  \n",
       "10680         Morning  \n",
       "10681         Morning  \n",
       "10682         Morning  \n",
       "\n",
       "[10683 rows x 14 columns]"
      ]
     },
     "execution_count": 103,
     "metadata": {},
     "output_type": "execute_result"
    }
   ],
   "source": [
    "fin"
   ]
  },
  {
   "cell_type": "code",
   "execution_count": null,
   "metadata": {},
   "outputs": [],
   "source": []
  },
  {
   "cell_type": "code",
   "execution_count": 105,
   "metadata": {},
   "outputs": [
    {
     "data": {
      "text/plain": [
       "Airline                    object\n",
       "Date_of_Journey            object\n",
       "Source                     object\n",
       "Destination                object\n",
       "Route                      object\n",
       "Dep_Time           datetime64[ns]\n",
       "Arrival_Time       datetime64[ns]\n",
       "Duration                   object\n",
       "Total_Stops                object\n",
       "Additional_Info            object\n",
       "Price                       int64\n",
       "Duration_hours            float64\n",
       "no_of_stops                 int64\n",
       "dep_time_of_day            object\n",
       "dtype: object"
      ]
     },
     "execution_count": 105,
     "metadata": {},
     "output_type": "execute_result"
    }
   ],
   "source": [
    "fin.dtypes"
   ]
  },
  {
   "cell_type": "code",
   "execution_count": 108,
   "metadata": {},
   "outputs": [],
   "source": [
    "fin=fin.dropna()"
   ]
  },
  {
   "cell_type": "code",
   "execution_count": 109,
   "metadata": {},
   "outputs": [
    {
     "data": {
      "text/plain": [
       "Airline            0\n",
       "Date_of_Journey    0\n",
       "Source             0\n",
       "Destination        0\n",
       "Route              0\n",
       "Dep_Time           0\n",
       "Arrival_Time       0\n",
       "Duration           0\n",
       "Total_Stops        0\n",
       "Additional_Info    0\n",
       "Price              0\n",
       "Duration_hours     0\n",
       "no_of_stops        0\n",
       "dep_time_of_day    0\n",
       "dtype: int64"
      ]
     },
     "execution_count": 109,
     "metadata": {},
     "output_type": "execute_result"
    }
   ],
   "source": [
    "fin.isnull().sum()"
   ]
  },
  {
   "cell_type": "code",
   "execution_count": 111,
   "metadata": {},
   "outputs": [],
   "source": [
    "finq=fin.copy()"
   ]
  },
  {
   "cell_type": "code",
   "execution_count": 112,
   "metadata": {},
   "outputs": [],
   "source": [
    "#Removing the features which are not helpful\n",
    "fin=fin.drop(['Duration','Total_Stops','Route'],axis=1)"
   ]
  },
  {
   "cell_type": "code",
   "execution_count": 113,
   "metadata": {},
   "outputs": [
    {
     "data": {
      "text/html": [
       "<div>\n",
       "<style scoped>\n",
       "    .dataframe tbody tr th:only-of-type {\n",
       "        vertical-align: middle;\n",
       "    }\n",
       "\n",
       "    .dataframe tbody tr th {\n",
       "        vertical-align: top;\n",
       "    }\n",
       "\n",
       "    .dataframe thead th {\n",
       "        text-align: right;\n",
       "    }\n",
       "</style>\n",
       "<table border=\"1\" class=\"dataframe\">\n",
       "  <thead>\n",
       "    <tr style=\"text-align: right;\">\n",
       "      <th></th>\n",
       "      <th>Airline</th>\n",
       "      <th>Date_of_Journey</th>\n",
       "      <th>Source</th>\n",
       "      <th>Destination</th>\n",
       "      <th>Dep_Time</th>\n",
       "      <th>Arrival_Time</th>\n",
       "      <th>Additional_Info</th>\n",
       "      <th>Price</th>\n",
       "      <th>Duration_hours</th>\n",
       "      <th>no_of_stops</th>\n",
       "      <th>dep_time_of_day</th>\n",
       "    </tr>\n",
       "  </thead>\n",
       "  <tbody>\n",
       "    <tr>\n",
       "      <td>0</td>\n",
       "      <td>IndiGo</td>\n",
       "      <td>24/03/2019</td>\n",
       "      <td>Banglore</td>\n",
       "      <td>New Delhi</td>\n",
       "      <td>2020-06-25 22:20:00</td>\n",
       "      <td>2020-03-22 01:10:00</td>\n",
       "      <td>No info</td>\n",
       "      <td>3897</td>\n",
       "      <td>2.833333</td>\n",
       "      <td>0</td>\n",
       "      <td>Night</td>\n",
       "    </tr>\n",
       "    <tr>\n",
       "      <td>1</td>\n",
       "      <td>Air India</td>\n",
       "      <td>1/05/2019</td>\n",
       "      <td>Kolkata</td>\n",
       "      <td>Banglore</td>\n",
       "      <td>2020-06-25 05:50:00</td>\n",
       "      <td>2020-06-25 13:15:00</td>\n",
       "      <td>No info</td>\n",
       "      <td>7662</td>\n",
       "      <td>7.416667</td>\n",
       "      <td>2</td>\n",
       "      <td>Early Morning</td>\n",
       "    </tr>\n",
       "    <tr>\n",
       "      <td>2</td>\n",
       "      <td>Jet Airways</td>\n",
       "      <td>9/06/2019</td>\n",
       "      <td>Delhi</td>\n",
       "      <td>Cochin</td>\n",
       "      <td>2020-06-25 09:25:00</td>\n",
       "      <td>2020-06-10 04:25:00</td>\n",
       "      <td>No info</td>\n",
       "      <td>13882</td>\n",
       "      <td>19.000000</td>\n",
       "      <td>2</td>\n",
       "      <td>Morning</td>\n",
       "    </tr>\n",
       "    <tr>\n",
       "      <td>3</td>\n",
       "      <td>IndiGo</td>\n",
       "      <td>12/05/2019</td>\n",
       "      <td>Kolkata</td>\n",
       "      <td>Banglore</td>\n",
       "      <td>2020-06-25 18:05:00</td>\n",
       "      <td>2020-06-25 23:30:00</td>\n",
       "      <td>No info</td>\n",
       "      <td>6218</td>\n",
       "      <td>5.416667</td>\n",
       "      <td>1</td>\n",
       "      <td>Evening</td>\n",
       "    </tr>\n",
       "    <tr>\n",
       "      <td>4</td>\n",
       "      <td>IndiGo</td>\n",
       "      <td>01/03/2019</td>\n",
       "      <td>Banglore</td>\n",
       "      <td>New Delhi</td>\n",
       "      <td>2020-06-25 16:50:00</td>\n",
       "      <td>2020-06-25 21:35:00</td>\n",
       "      <td>No info</td>\n",
       "      <td>13302</td>\n",
       "      <td>4.750000</td>\n",
       "      <td>1</td>\n",
       "      <td>Afternoon</td>\n",
       "    </tr>\n",
       "    <tr>\n",
       "      <td>...</td>\n",
       "      <td>...</td>\n",
       "      <td>...</td>\n",
       "      <td>...</td>\n",
       "      <td>...</td>\n",
       "      <td>...</td>\n",
       "      <td>...</td>\n",
       "      <td>...</td>\n",
       "      <td>...</td>\n",
       "      <td>...</td>\n",
       "      <td>...</td>\n",
       "      <td>...</td>\n",
       "    </tr>\n",
       "    <tr>\n",
       "      <td>10678</td>\n",
       "      <td>Air Asia</td>\n",
       "      <td>9/04/2019</td>\n",
       "      <td>Kolkata</td>\n",
       "      <td>Banglore</td>\n",
       "      <td>2020-06-25 19:55:00</td>\n",
       "      <td>2020-06-25 22:25:00</td>\n",
       "      <td>No info</td>\n",
       "      <td>4107</td>\n",
       "      <td>2.500000</td>\n",
       "      <td>0</td>\n",
       "      <td>Evening</td>\n",
       "    </tr>\n",
       "    <tr>\n",
       "      <td>10679</td>\n",
       "      <td>Air India</td>\n",
       "      <td>27/04/2019</td>\n",
       "      <td>Kolkata</td>\n",
       "      <td>Banglore</td>\n",
       "      <td>2020-06-25 20:45:00</td>\n",
       "      <td>2020-06-25 23:20:00</td>\n",
       "      <td>No info</td>\n",
       "      <td>4145</td>\n",
       "      <td>2.583333</td>\n",
       "      <td>0</td>\n",
       "      <td>Evening</td>\n",
       "    </tr>\n",
       "    <tr>\n",
       "      <td>10680</td>\n",
       "      <td>Jet Airways</td>\n",
       "      <td>27/04/2019</td>\n",
       "      <td>Banglore</td>\n",
       "      <td>Delhi</td>\n",
       "      <td>2020-06-25 08:20:00</td>\n",
       "      <td>2020-06-25 11:20:00</td>\n",
       "      <td>No info</td>\n",
       "      <td>7229</td>\n",
       "      <td>3.000000</td>\n",
       "      <td>0</td>\n",
       "      <td>Morning</td>\n",
       "    </tr>\n",
       "    <tr>\n",
       "      <td>10681</td>\n",
       "      <td>Vistara</td>\n",
       "      <td>01/03/2019</td>\n",
       "      <td>Banglore</td>\n",
       "      <td>New Delhi</td>\n",
       "      <td>2020-06-25 11:30:00</td>\n",
       "      <td>2020-06-25 14:10:00</td>\n",
       "      <td>No info</td>\n",
       "      <td>12648</td>\n",
       "      <td>2.666667</td>\n",
       "      <td>0</td>\n",
       "      <td>Morning</td>\n",
       "    </tr>\n",
       "    <tr>\n",
       "      <td>10682</td>\n",
       "      <td>Air India</td>\n",
       "      <td>9/05/2019</td>\n",
       "      <td>Delhi</td>\n",
       "      <td>Cochin</td>\n",
       "      <td>2020-06-25 10:55:00</td>\n",
       "      <td>2020-06-25 19:15:00</td>\n",
       "      <td>No info</td>\n",
       "      <td>11753</td>\n",
       "      <td>8.333333</td>\n",
       "      <td>2</td>\n",
       "      <td>Morning</td>\n",
       "    </tr>\n",
       "  </tbody>\n",
       "</table>\n",
       "<p>10682 rows × 11 columns</p>\n",
       "</div>"
      ],
      "text/plain": [
       "           Airline Date_of_Journey    Source Destination            Dep_Time  \\\n",
       "0           IndiGo      24/03/2019  Banglore   New Delhi 2020-06-25 22:20:00   \n",
       "1        Air India       1/05/2019   Kolkata    Banglore 2020-06-25 05:50:00   \n",
       "2      Jet Airways       9/06/2019     Delhi      Cochin 2020-06-25 09:25:00   \n",
       "3           IndiGo      12/05/2019   Kolkata    Banglore 2020-06-25 18:05:00   \n",
       "4           IndiGo      01/03/2019  Banglore   New Delhi 2020-06-25 16:50:00   \n",
       "...            ...             ...       ...         ...                 ...   \n",
       "10678     Air Asia       9/04/2019   Kolkata    Banglore 2020-06-25 19:55:00   \n",
       "10679    Air India      27/04/2019   Kolkata    Banglore 2020-06-25 20:45:00   \n",
       "10680  Jet Airways      27/04/2019  Banglore       Delhi 2020-06-25 08:20:00   \n",
       "10681      Vistara      01/03/2019  Banglore   New Delhi 2020-06-25 11:30:00   \n",
       "10682    Air India       9/05/2019     Delhi      Cochin 2020-06-25 10:55:00   \n",
       "\n",
       "             Arrival_Time Additional_Info  Price  Duration_hours  no_of_stops  \\\n",
       "0     2020-03-22 01:10:00         No info   3897        2.833333            0   \n",
       "1     2020-06-25 13:15:00         No info   7662        7.416667            2   \n",
       "2     2020-06-10 04:25:00         No info  13882       19.000000            2   \n",
       "3     2020-06-25 23:30:00         No info   6218        5.416667            1   \n",
       "4     2020-06-25 21:35:00         No info  13302        4.750000            1   \n",
       "...                   ...             ...    ...             ...          ...   \n",
       "10678 2020-06-25 22:25:00         No info   4107        2.500000            0   \n",
       "10679 2020-06-25 23:20:00         No info   4145        2.583333            0   \n",
       "10680 2020-06-25 11:20:00         No info   7229        3.000000            0   \n",
       "10681 2020-06-25 14:10:00         No info  12648        2.666667            0   \n",
       "10682 2020-06-25 19:15:00         No info  11753        8.333333            2   \n",
       "\n",
       "      dep_time_of_day  \n",
       "0               Night  \n",
       "1       Early Morning  \n",
       "2             Morning  \n",
       "3             Evening  \n",
       "4           Afternoon  \n",
       "...               ...  \n",
       "10678         Evening  \n",
       "10679         Evening  \n",
       "10680         Morning  \n",
       "10681         Morning  \n",
       "10682         Morning  \n",
       "\n",
       "[10682 rows x 11 columns]"
      ]
     },
     "execution_count": 113,
     "metadata": {},
     "output_type": "execute_result"
    }
   ],
   "source": [
    "fin"
   ]
  },
  {
   "cell_type": "code",
   "execution_count": 114,
   "metadata": {},
   "outputs": [],
   "source": [
    "x=fin.drop('Price',axis=1)"
   ]
  },
  {
   "cell_type": "code",
   "execution_count": 115,
   "metadata": {},
   "outputs": [
    {
     "data": {
      "text/html": [
       "<div>\n",
       "<style scoped>\n",
       "    .dataframe tbody tr th:only-of-type {\n",
       "        vertical-align: middle;\n",
       "    }\n",
       "\n",
       "    .dataframe tbody tr th {\n",
       "        vertical-align: top;\n",
       "    }\n",
       "\n",
       "    .dataframe thead th {\n",
       "        text-align: right;\n",
       "    }\n",
       "</style>\n",
       "<table border=\"1\" class=\"dataframe\">\n",
       "  <thead>\n",
       "    <tr style=\"text-align: right;\">\n",
       "      <th></th>\n",
       "      <th>Airline</th>\n",
       "      <th>Date_of_Journey</th>\n",
       "      <th>Source</th>\n",
       "      <th>Destination</th>\n",
       "      <th>Dep_Time</th>\n",
       "      <th>Arrival_Time</th>\n",
       "      <th>Additional_Info</th>\n",
       "      <th>Duration_hours</th>\n",
       "      <th>no_of_stops</th>\n",
       "      <th>dep_time_of_day</th>\n",
       "    </tr>\n",
       "  </thead>\n",
       "  <tbody>\n",
       "    <tr>\n",
       "      <td>0</td>\n",
       "      <td>IndiGo</td>\n",
       "      <td>24/03/2019</td>\n",
       "      <td>Banglore</td>\n",
       "      <td>New Delhi</td>\n",
       "      <td>2020-06-25 22:20:00</td>\n",
       "      <td>2020-03-22 01:10:00</td>\n",
       "      <td>No info</td>\n",
       "      <td>2.833333</td>\n",
       "      <td>0</td>\n",
       "      <td>Night</td>\n",
       "    </tr>\n",
       "    <tr>\n",
       "      <td>1</td>\n",
       "      <td>Air India</td>\n",
       "      <td>1/05/2019</td>\n",
       "      <td>Kolkata</td>\n",
       "      <td>Banglore</td>\n",
       "      <td>2020-06-25 05:50:00</td>\n",
       "      <td>2020-06-25 13:15:00</td>\n",
       "      <td>No info</td>\n",
       "      <td>7.416667</td>\n",
       "      <td>2</td>\n",
       "      <td>Early Morning</td>\n",
       "    </tr>\n",
       "    <tr>\n",
       "      <td>2</td>\n",
       "      <td>Jet Airways</td>\n",
       "      <td>9/06/2019</td>\n",
       "      <td>Delhi</td>\n",
       "      <td>Cochin</td>\n",
       "      <td>2020-06-25 09:25:00</td>\n",
       "      <td>2020-06-10 04:25:00</td>\n",
       "      <td>No info</td>\n",
       "      <td>19.000000</td>\n",
       "      <td>2</td>\n",
       "      <td>Morning</td>\n",
       "    </tr>\n",
       "    <tr>\n",
       "      <td>3</td>\n",
       "      <td>IndiGo</td>\n",
       "      <td>12/05/2019</td>\n",
       "      <td>Kolkata</td>\n",
       "      <td>Banglore</td>\n",
       "      <td>2020-06-25 18:05:00</td>\n",
       "      <td>2020-06-25 23:30:00</td>\n",
       "      <td>No info</td>\n",
       "      <td>5.416667</td>\n",
       "      <td>1</td>\n",
       "      <td>Evening</td>\n",
       "    </tr>\n",
       "    <tr>\n",
       "      <td>4</td>\n",
       "      <td>IndiGo</td>\n",
       "      <td>01/03/2019</td>\n",
       "      <td>Banglore</td>\n",
       "      <td>New Delhi</td>\n",
       "      <td>2020-06-25 16:50:00</td>\n",
       "      <td>2020-06-25 21:35:00</td>\n",
       "      <td>No info</td>\n",
       "      <td>4.750000</td>\n",
       "      <td>1</td>\n",
       "      <td>Afternoon</td>\n",
       "    </tr>\n",
       "  </tbody>\n",
       "</table>\n",
       "</div>"
      ],
      "text/plain": [
       "       Airline Date_of_Journey    Source Destination            Dep_Time  \\\n",
       "0       IndiGo      24/03/2019  Banglore   New Delhi 2020-06-25 22:20:00   \n",
       "1    Air India       1/05/2019   Kolkata    Banglore 2020-06-25 05:50:00   \n",
       "2  Jet Airways       9/06/2019     Delhi      Cochin 2020-06-25 09:25:00   \n",
       "3       IndiGo      12/05/2019   Kolkata    Banglore 2020-06-25 18:05:00   \n",
       "4       IndiGo      01/03/2019  Banglore   New Delhi 2020-06-25 16:50:00   \n",
       "\n",
       "         Arrival_Time Additional_Info  Duration_hours  no_of_stops  \\\n",
       "0 2020-03-22 01:10:00         No info        2.833333            0   \n",
       "1 2020-06-25 13:15:00         No info        7.416667            2   \n",
       "2 2020-06-10 04:25:00         No info       19.000000            2   \n",
       "3 2020-06-25 23:30:00         No info        5.416667            1   \n",
       "4 2020-06-25 21:35:00         No info        4.750000            1   \n",
       "\n",
       "  dep_time_of_day  \n",
       "0           Night  \n",
       "1   Early Morning  \n",
       "2         Morning  \n",
       "3         Evening  \n",
       "4       Afternoon  "
      ]
     },
     "execution_count": 115,
     "metadata": {},
     "output_type": "execute_result"
    }
   ],
   "source": [
    "x.head()"
   ]
  },
  {
   "cell_type": "code",
   "execution_count": 122,
   "metadata": {},
   "outputs": [],
   "source": [
    "y=pd.DataFrame(columns=['Price'],data=fin)"
   ]
  },
  {
   "cell_type": "code",
   "execution_count": 123,
   "metadata": {},
   "outputs": [
    {
     "data": {
      "text/html": [
       "<div>\n",
       "<style scoped>\n",
       "    .dataframe tbody tr th:only-of-type {\n",
       "        vertical-align: middle;\n",
       "    }\n",
       "\n",
       "    .dataframe tbody tr th {\n",
       "        vertical-align: top;\n",
       "    }\n",
       "\n",
       "    .dataframe thead th {\n",
       "        text-align: right;\n",
       "    }\n",
       "</style>\n",
       "<table border=\"1\" class=\"dataframe\">\n",
       "  <thead>\n",
       "    <tr style=\"text-align: right;\">\n",
       "      <th></th>\n",
       "      <th>Price</th>\n",
       "    </tr>\n",
       "  </thead>\n",
       "  <tbody>\n",
       "    <tr>\n",
       "      <td>0</td>\n",
       "      <td>3897</td>\n",
       "    </tr>\n",
       "    <tr>\n",
       "      <td>1</td>\n",
       "      <td>7662</td>\n",
       "    </tr>\n",
       "    <tr>\n",
       "      <td>2</td>\n",
       "      <td>13882</td>\n",
       "    </tr>\n",
       "    <tr>\n",
       "      <td>3</td>\n",
       "      <td>6218</td>\n",
       "    </tr>\n",
       "    <tr>\n",
       "      <td>4</td>\n",
       "      <td>13302</td>\n",
       "    </tr>\n",
       "  </tbody>\n",
       "</table>\n",
       "</div>"
      ],
      "text/plain": [
       "   Price\n",
       "0   3897\n",
       "1   7662\n",
       "2  13882\n",
       "3   6218\n",
       "4  13302"
      ]
     },
     "execution_count": 123,
     "metadata": {},
     "output_type": "execute_result"
    }
   ],
   "source": [
    "y.head()"
   ]
  },
  {
   "cell_type": "code",
   "execution_count": 124,
   "metadata": {},
   "outputs": [
    {
     "data": {
      "text/plain": [
       "<matplotlib.axes._subplots.AxesSubplot at 0x1db4a7b1688>"
      ]
     },
     "execution_count": 124,
     "metadata": {},
     "output_type": "execute_result"
    },
    {
     "data": {
      "image/png": "[encoded data removed]",
      "text/plain": [
       "<Figure size 432x288 with 1 Axes>"
      ]
     },
     "metadata": {
      "needs_background": "light"
     },
     "output_type": "display_data"
    }
   ],
   "source": [
    "#EDA..\n",
    "\n",
    "sbn.countplot('Source',hue='dep_time_of_day',data=fin)"
   ]
  },
  {
   "cell_type": "markdown",
   "metadata": {},
   "source": [
    "Morning flight frequency is more than any other time of day"
   ]
  },
  {
   "cell_type": "code",
   "execution_count": 154,
   "metadata": {},
   "outputs": [
    {
     "data": {
      "text/plain": [
       "<matplotlib.axes._subplots.AxesSubplot at 0x1db505e31c8>"
      ]
     },
     "execution_count": 154,
     "metadata": {},
     "output_type": "execute_result"
    },
    {
     "data": {
      "image/png": "[encoded data removed]",
      "text/plain": [
       "<Figure size 432x288 with 1 Axes>"
      ]
     },
     "metadata": {},
     "output_type": "display_data"
    }
   ],
   "source": [
    "fin['dep_time_of_day'].value_counts().plot(kind='pie',autopct='%1f%%')"
   ]
  },
  {
   "cell_type": "code",
   "execution_count": 155,
   "metadata": {},
   "outputs": [
    {
     "data": {
      "text/plain": [
       "<matplotlib.axes._subplots.AxesSubplot at 0x1db517d5c48>"
      ]
     },
     "execution_count": 155,
     "metadata": {},
     "output_type": "execute_result"
    },
    {
     "data": {
      "image/png": "[encoded data removed]",
      "text/plain": [
       "<Figure size 432x288 with 1 Axes>"
      ]
     },
     "metadata": {},
     "output_type": "display_data"
    }
   ],
   "source": [
    "fin['Source'].value_counts().plot(kind='pie',autopct='%1f%%')"
   ]
  },
  {
   "cell_type": "code",
   "execution_count": 157,
   "metadata": {},
   "outputs": [
    {
     "data": {
      "text/plain": [
       "<matplotlib.axes._subplots.AxesSubplot at 0x1db51e971c8>"
      ]
     },
     "execution_count": 157,
     "metadata": {},
     "output_type": "execute_result"
    },
    {
     "data": {
      "image/png": "[encoded data removed]",
      "text/plain": [
       "<Figure size 432x288 with 1 Axes>"
      ]
     },
     "metadata": {},
     "output_type": "display_data"
    }
   ],
   "source": [
    "fin['Destination'].value_counts().plot(kind='pie',autopct='%1f%%')"
   ]
  },
  {
   "cell_type": "code",
   "execution_count": 158,
   "metadata": {},
   "outputs": [
    {
     "data": {
      "text/plain": [
       "<matplotlib.axes._subplots.AxesSubplot at 0x1db51fa1788>"
      ]
     },
     "execution_count": 158,
     "metadata": {},
     "output_type": "execute_result"
    },
    {
     "data": {
      "image/png": "[encoded data removed]",
      "text/plain": [
       "<Figure size 432x288 with 1 Axes>"
      ]
     },
     "metadata": {},
     "output_type": "display_data"
    }
   ],
   "source": [
    "fin['Additional_Info'].value_counts().plot(kind='pie',autopct='%1f%%')"
   ]
  },
  {
   "cell_type": "code",
   "execution_count": 128,
   "metadata": {},
   "outputs": [
    {
     "data": {
      "text/plain": [
       "<matplotlib.axes._subplots.AxesSubplot at 0x1db4dd3e108>"
      ]
     },
     "execution_count": 128,
     "metadata": {},
     "output_type": "execute_result"
    },
    {
     "data": {
      "image/png": "[encoded data removed]",
      "text/plain": [
       "<Figure size 1440x432 with 1 Axes>"
      ]
     },
     "metadata": {
      "needs_background": "light"
     },
     "output_type": "display_data"
    }
   ],
   "source": [
    "plt.figure(figsize=(20,6))\n",
    "sbn.countplot('no_of_stops',hue='dep_time_of_day',data=fin)"
   ]
  },
  {
   "cell_type": "markdown",
   "metadata": {},
   "source": [
    "Flight frequency with single stop is high"
   ]
  },
  {
   "cell_type": "code",
   "execution_count": 129,
   "metadata": {},
   "outputs": [
    {
     "data": {
      "text/plain": [
       "<matplotlib.axes._subplots.AxesSubplot at 0x1db4deb4cc8>"
      ]
     },
     "execution_count": 129,
     "metadata": {},
     "output_type": "execute_result"
    },
    {
     "data": {
      "image/png": "[encoded data removed]",
      "text/plain": [
       "<Figure size 1440x432 with 1 Axes>"
      ]
     },
     "metadata": {
      "needs_background": "light"
     },
     "output_type": "display_data"
    }
   ],
   "source": [
    "plt.figure(figsize=(20,6))\n",
    "sbn.countplot('no_of_stops',hue='Airline',data=fin)"
   ]
  },
  {
   "cell_type": "code",
   "execution_count": 130,
   "metadata": {},
   "outputs": [
    {
     "data": {
      "text/plain": [
       "<matplotlib.axes._subplots.AxesSubplot at 0x1db4f759d08>"
      ]
     },
     "execution_count": 130,
     "metadata": {},
     "output_type": "execute_result"
    },
    {
     "data": {
      "image/png": "[encoded data removed]",
      "text/plain": [
       "<Figure size 1440x432 with 1 Axes>"
      ]
     },
     "metadata": {
      "needs_background": "light"
     },
     "output_type": "display_data"
    }
   ],
   "source": [
    "plt.figure(figsize=(20,6))\n",
    "sbn.countplot('Airline',hue='dep_time_of_day',data=fin)"
   ]
  },
  {
   "cell_type": "markdown",
   "metadata": {},
   "source": [
    "JetAirways flight frequency is high and most of them are morning departed flights"
   ]
  },
  {
   "cell_type": "code",
   "execution_count": 141,
   "metadata": {},
   "outputs": [
    {
     "data": {
      "text/plain": [
       "Airline                       SpiceJet\n",
       "Date_of_Journey             21/03/2019\n",
       "Source                          Mumbai\n",
       "Destination                  Hyderabad\n",
       "Dep_Time           2020-06-25 22:45:00\n",
       "Arrival_Time       2020-03-22 00:10:00\n",
       "Additional_Info                No info\n",
       "Price                             1759\n",
       "Duration_hours                 1.41667\n",
       "no_of_stops                          0\n",
       "dep_time_of_day                  Night\n",
       "Name: 4066, dtype: object"
      ]
     },
     "execution_count": 141,
     "metadata": {},
     "output_type": "execute_result"
    }
   ],
   "source": [
    "#Lets check the minimum price of the ticket,with whole record\n",
    "fin.loc[fin['Price'].idxmin()]"
   ]
  },
  {
   "cell_type": "code",
   "execution_count": 145,
   "metadata": {},
   "outputs": [
    {
     "data": {
      "text/plain": [
       "<seaborn.axisgrid.PairGrid at 0x1db5013f8c8>"
      ]
     },
     "execution_count": 145,
     "metadata": {},
     "output_type": "execute_result"
    },
    {
     "data": {
      "image/png": "[encoded data removed]",
      "text/plain": [
       "<Figure size 540x540 with 12 Axes>"
      ]
     },
     "metadata": {
      "needs_background": "light"
     },
     "output_type": "display_data"
    }
   ],
   "source": [
    "sbn.pairplot(fin)"
   ]
  },
  {
   "cell_type": "code",
   "execution_count": 146,
   "metadata": {},
   "outputs": [],
   "source": [
    "#Encoding the object columns in the features\n",
    "\n",
    "x=pd.get_dummies(x,drop_first=True)"
   ]
  },
  {
   "cell_type": "code",
   "execution_count": 148,
   "metadata": {},
   "outputs": [
    {
     "data": {
      "text/html": [
       "<div>\n",
       "<style scoped>\n",
       "    .dataframe tbody tr th:only-of-type {\n",
       "        vertical-align: middle;\n",
       "    }\n",
       "\n",
       "    .dataframe tbody tr th {\n",
       "        vertical-align: top;\n",
       "    }\n",
       "\n",
       "    .dataframe thead th {\n",
       "        text-align: right;\n",
       "    }\n",
       "</style>\n",
       "<table border=\"1\" class=\"dataframe\">\n",
       "  <thead>\n",
       "    <tr style=\"text-align: right;\">\n",
       "      <th></th>\n",
       "      <th>Price</th>\n",
       "    </tr>\n",
       "  </thead>\n",
       "  <tbody>\n",
       "    <tr>\n",
       "      <td>0</td>\n",
       "      <td>3897</td>\n",
       "    </tr>\n",
       "    <tr>\n",
       "      <td>1</td>\n",
       "      <td>7662</td>\n",
       "    </tr>\n",
       "    <tr>\n",
       "      <td>2</td>\n",
       "      <td>13882</td>\n",
       "    </tr>\n",
       "    <tr>\n",
       "      <td>3</td>\n",
       "      <td>6218</td>\n",
       "    </tr>\n",
       "    <tr>\n",
       "      <td>4</td>\n",
       "      <td>13302</td>\n",
       "    </tr>\n",
       "  </tbody>\n",
       "</table>\n",
       "</div>"
      ],
      "text/plain": [
       "   Price\n",
       "0   3897\n",
       "1   7662\n",
       "2  13882\n",
       "3   6218\n",
       "4  13302"
      ]
     },
     "execution_count": 148,
     "metadata": {},
     "output_type": "execute_result"
    }
   ],
   "source": [
    "y.head()"
   ]
  },
  {
   "cell_type": "code",
   "execution_count": null,
   "metadata": {},
   "outputs": [],
   "source": []
  },
  {
   "cell_type": "code",
   "execution_count": 152,
   "metadata": {},
   "outputs": [],
   "source": [
    "x=x.drop(['Arrival_Time','Dep_Time'],axis=1)"
   ]
  },
  {
   "cell_type": "code",
   "execution_count": 153,
   "metadata": {},
   "outputs": [],
   "source": [
    "#Bringing the features to common scale\n",
    "\n",
    "sc=StandardScaler()\n",
    "x=pd.DataFrame(sc.fit_transform(x))"
   ]
  },
  {
   "cell_type": "code",
   "execution_count": 159,
   "metadata": {},
   "outputs": [],
   "source": [
    "def r2score(model,x,y):\n",
    "    max_acc=0\n",
    "    for rst in range(40,100):\n",
    "        x_train,x_test,y_train,y_test=train_test_split(x,y,random_state=rst,test_size=.22)\n",
    "        model.fit(x_train,y_train)\n",
    "        predy=model.predict(x_test)\n",
    "        acc=r2_score(y_test,predy)\n",
    "        print('Accuracy is',acc,'for the random state',rst)\n",
    "        if acc>max_acc:\n",
    "            max_acc=acc\n",
    "            f_rst=rst\n",
    "    print('Maximum r2score is ',max_acc,'and acquired at',f_rst)\n",
    "    return f_rst"
   ]
  },
  {
   "cell_type": "code",
   "execution_count": 160,
   "metadata": {},
   "outputs": [],
   "source": [
    "dtr=DecisionTreeRegressor()\n",
    "params={'criterion': ['mse'],\n",
    " 'max_depth': [None],\n",
    " 'max_features': [None],\n",
    " 'max_leaf_nodes': [4,8,16],\n",
    " 'min_impurity_decrease': [0.0],\n",
    " 'min_impurity_split': [None],\n",
    " 'min_samples_leaf': [1,2,4],\n",
    " 'min_samples_split': [2,4],\n",
    " 'min_weight_fraction_leaf': [0.0],\n",
    " 'presort': [False],\n",
    " 'random_state': [None],\n",
    " 'splitter': ['best']}\n"
   ]
  },
  {
   "cell_type": "code",
   "execution_count": 161,
   "metadata": {},
   "outputs": [
    {
     "data": {
      "text/plain": [
       "{'criterion': 'mse',\n",
       " 'max_depth': None,\n",
       " 'max_features': None,\n",
       " 'max_leaf_nodes': 16,\n",
       " 'min_impurity_decrease': 0.0,\n",
       " 'min_impurity_split': None,\n",
       " 'min_samples_leaf': 1,\n",
       " 'min_samples_split': 2,\n",
       " 'min_weight_fraction_leaf': 0.0,\n",
       " 'presort': False,\n",
       " 'random_state': None,\n",
       " 'splitter': 'best'}"
      ]
     },
     "execution_count": 161,
     "metadata": {},
     "output_type": "execute_result"
    }
   ],
   "source": [
    "x_train,x_test,y_train,y_test=train_test_split(x,y,test_size=.22,random_state=45)\n",
    "from sklearn.model_selection import GridSearchCV\n",
    "gcv=GridSearchCV(estimator=dtr,param_grid=params)\n",
    "gcv.fit(x_train,y_train)\n",
    "gcv.best_params_"
   ]
  },
  {
   "cell_type": "code",
   "execution_count": 162,
   "metadata": {},
   "outputs": [
    {
     "name": "stdout",
     "output_type": "stream",
     "text": [
      "Mean Absolute Error: 1706.2363266988662\n",
      "Mean Squared Error: 7695400.63103058\n",
      "Root Mean Squared Error: 2774.058512546298\n",
      "R2 sCcore is: 0.6508665461254843\n"
     ]
    }
   ],
   "source": [
    "dtr=DecisionTreeRegressor(criterion='mse',\n",
    " max_leaf_nodes=16,\n",
    " min_impurity_decrease=0.0,\n",
    " min_samples_leaf= 1,\n",
    " min_samples_split=2,\n",
    " splitter='best')\n",
    "dtr.fit(x_train,y_train)\n",
    "dtrpr=dtr.predict(x_test)\n",
    "print('Mean Absolute Error:',mean_absolute_error(y_test,dtrpr))\n",
    "print('Mean Squared Error:',mean_squared_error(y_test,dtrpr))\n",
    "print('Root Mean Squared Error:',np.sqrt(mean_squared_error(y_test,dtrpr)))\n",
    "print('R2 sCcore is:',r2_score(y_test,dtrpr))"
   ]
  },
  {
   "cell_type": "code",
   "execution_count": 163,
   "metadata": {},
   "outputs": [
    {
     "name": "stdout",
     "output_type": "stream",
     "text": [
      "mean r2 score for gradient boosting regressor is 0.7924939263274011\n"
     ]
    }
   ],
   "source": [
    "model=GradientBoostingRegressor()\n",
    "model.fit(x_train,y_train)\n",
    "predm=model.predict(x_test)\n",
    "print('mean r2 score for gradient boosting regressor is',cross_val_score(model,x_train,y_train,cv=5,scoring='r2').mean())"
   ]
  },
  {
   "cell_type": "code",
   "execution_count": 164,
   "metadata": {},
   "outputs": [
    {
     "name": "stdout",
     "output_type": "stream",
     "text": [
      "Accuracy is 0.7434357902210107 for the random state 40\n",
      "Accuracy is 0.7383505000504929 for the random state 41\n",
      "Accuracy is 0.7880947520947654 for the random state 42\n",
      "Accuracy is 0.80696646728172 for the random state 43\n",
      "Accuracy is -4.93303410455725e+25 for the random state 44\n",
      "Accuracy is -2.8693167540486506e+21 for the random state 45\n",
      "Accuracy is -1.0347022599021506e+21 for the random state 46\n",
      "Accuracy is 0.7396097963610497 for the random state 47\n",
      "Accuracy is 0.7602613220737584 for the random state 48\n",
      "Accuracy is 0.7715530538548159 for the random state 49\n",
      "Accuracy is 0.752974094444254 for the random state 50\n",
      "Accuracy is 0.8040785381828133 for the random state 51\n",
      "Accuracy is 0.7558271611134164 for the random state 52\n",
      "Accuracy is -1.0205052362174279e+22 for the random state 53\n",
      "Accuracy is 0.7747006410774017 for the random state 54\n",
      "Accuracy is -1.620747803307889e+21 for the random state 55\n",
      "Accuracy is 0.7787732938708988 for the random state 56\n",
      "Accuracy is -1.2027691877331832e+20 for the random state 57\n",
      "Accuracy is 0.8163512204506715 for the random state 58\n",
      "Accuracy is 0.778939446743149 for the random state 59\n",
      "Accuracy is 0.7672651112385308 for the random state 60\n",
      "Accuracy is 0.7425381829888584 for the random state 61\n",
      "Accuracy is 0.7996622380191937 for the random state 62\n",
      "Accuracy is 0.7314648802069603 for the random state 63\n",
      "Accuracy is -3.348513216876473e+22 for the random state 64\n",
      "Accuracy is 0.7803159481497914 for the random state 65\n",
      "Accuracy is 0.7520090818373661 for the random state 66\n",
      "Accuracy is 0.7939470754618707 for the random state 67\n",
      "Accuracy is 0.7975727776262485 for the random state 68\n",
      "Accuracy is -3.72669055943919e+21 for the random state 69\n",
      "Accuracy is 0.7623565087808033 for the random state 70\n",
      "Accuracy is 0.7799657136521081 for the random state 71\n",
      "Accuracy is 0.7550355730623851 for the random state 72\n",
      "Accuracy is 0.7705074300553212 for the random state 73\n",
      "Accuracy is -7.115112365509021e+19 for the random state 74\n",
      "Accuracy is 0.8216146791684209 for the random state 75\n",
      "Accuracy is 0.811787484618715 for the random state 76\n",
      "Accuracy is 0.7864478958292498 for the random state 77\n",
      "Accuracy is 0.7830992626506823 for the random state 78\n",
      "Accuracy is 0.8142133366521942 for the random state 79\n",
      "Accuracy is 0.783126811953348 for the random state 80\n",
      "Accuracy is -2.7759713549476584e+20 for the random state 81\n",
      "Accuracy is -2.1802682152730123e+20 for the random state 82\n",
      "Accuracy is 0.7391537757742883 for the random state 83\n",
      "Accuracy is 0.7854561734534435 for the random state 84\n",
      "Accuracy is 0.7848589975641204 for the random state 85\n",
      "Accuracy is 0.769298445311317 for the random state 86\n",
      "Accuracy is 0.7705374631784443 for the random state 87\n",
      "Accuracy is 0.7711939405400542 for the random state 88\n",
      "Accuracy is 0.7774635052585551 for the random state 89\n",
      "Accuracy is 0.7535547806093411 for the random state 90\n",
      "Accuracy is 0.7873803564153203 for the random state 91\n",
      "Accuracy is -5.549016814098693e+20 for the random state 92\n",
      "Accuracy is -1.9331820151555387e+22 for the random state 93\n",
      "Accuracy is 0.8121306658632614 for the random state 94\n",
      "Accuracy is 0.7933396623123176 for the random state 95\n",
      "Accuracy is 0.8071987099419476 for the random state 96\n",
      "Accuracy is -9.566537627802332e+19 for the random state 97\n",
      "Accuracy is -3.8166657750752706e+21 for the random state 98\n",
      "Accuracy is 0.7949806672433349 for the random state 99\n",
      "Maximum r2score is  0.8216146791684209 and acquired at 75\n"
     ]
    },
    {
     "data": {
      "text/plain": [
       "75"
      ]
     },
     "execution_count": 164,
     "metadata": {},
     "output_type": "execute_result"
    }
   ],
   "source": [
    "Lr=LinearRegression()\n",
    "r2score(Lr,x,y)"
   ]
  },
  {
   "cell_type": "code",
   "execution_count": 165,
   "metadata": {},
   "outputs": [
    {
     "name": "stdout",
     "output_type": "stream",
     "text": [
      "Accuracy is 0.6793162619110246 for the random state 40\n",
      "Accuracy is 0.6359494917099878 for the random state 41\n",
      "Accuracy is 0.7358786064624648 for the random state 42\n",
      "Accuracy is 0.7549224650000732 for the random state 43\n",
      "Accuracy is 0.722804174022051 for the random state 44\n",
      "Accuracy is 0.6508665461254843 for the random state 45\n",
      "Accuracy is 0.6920852765639347 for the random state 46\n",
      "Accuracy is 0.6864336512348568 for the random state 47\n",
      "Accuracy is 0.6903213715410988 for the random state 48\n",
      "Accuracy is 0.691918909513764 for the random state 49\n",
      "Accuracy is 0.6745176131131766 for the random state 50\n",
      "Accuracy is 0.7322906780492882 for the random state 51\n",
      "Accuracy is 0.6833110246407226 for the random state 52\n",
      "Accuracy is 0.6749317020478867 for the random state 53\n",
      "Accuracy is 0.6688600159463557 for the random state 54\n",
      "Accuracy is 0.6637223776746128 for the random state 55\n",
      "Accuracy is 0.6958925766901248 for the random state 56\n",
      "Accuracy is 0.7434273085997685 for the random state 57\n",
      "Accuracy is 0.7644481169637127 for the random state 58\n",
      "Accuracy is 0.7138815416401934 for the random state 59\n",
      "Accuracy is 0.7097750352423056 for the random state 60\n",
      "Accuracy is 0.6684930421121196 for the random state 61\n",
      "Accuracy is 0.7244613902754644 for the random state 62\n",
      "Accuracy is 0.6596157720957876 for the random state 63\n",
      "Accuracy is 0.6771828127810957 for the random state 64\n",
      "Accuracy is 0.6774629369522587 for the random state 65\n",
      "Accuracy is 0.6794180020913128 for the random state 66\n",
      "Accuracy is 0.7203865662100903 for the random state 67\n",
      "Accuracy is 0.7248170279813714 for the random state 68\n",
      "Accuracy is 0.6708006998281112 for the random state 69\n",
      "Accuracy is 0.6943171560675463 for the random state 70\n",
      "Accuracy is 0.7384903893040804 for the random state 71\n",
      "Accuracy is 0.7024339866118732 for the random state 72\n",
      "Accuracy is 0.6515723835916509 for the random state 73\n",
      "Accuracy is 0.7177653398110393 for the random state 74\n",
      "Accuracy is 0.7537640907668921 for the random state 75\n",
      "Accuracy is 0.7371475647170408 for the random state 76\n",
      "Accuracy is 0.7207559146691387 for the random state 77\n",
      "Accuracy is 0.7160601126510955 for the random state 78\n",
      "Accuracy is 0.7663018896507292 for the random state 79\n",
      "Accuracy is 0.6891789498380375 for the random state 80\n",
      "Accuracy is 0.6824532218056812 for the random state 81\n",
      "Accuracy is 0.7006728940121398 for the random state 82\n",
      "Accuracy is 0.6743764241169294 for the random state 83\n",
      "Accuracy is 0.7107172983090582 for the random state 84\n",
      "Accuracy is 0.6969348233311454 for the random state 85\n",
      "Accuracy is 0.6544034548788462 for the random state 86\n",
      "Accuracy is 0.7156688987485832 for the random state 87\n",
      "Accuracy is 0.6914417626122366 for the random state 88\n",
      "Accuracy is 0.7067961730468613 for the random state 89\n",
      "Accuracy is 0.6876301266038795 for the random state 90\n",
      "Accuracy is 0.6552643618213261 for the random state 91\n",
      "Accuracy is 0.6608143232375857 for the random state 92\n",
      "Accuracy is 0.6867277438802499 for the random state 93\n",
      "Accuracy is 0.7246318597288492 for the random state 94\n",
      "Accuracy is 0.7051062885715211 for the random state 95\n",
      "Accuracy is 0.7386779335781773 for the random state 96\n",
      "Accuracy is 0.7176940550162302 for the random state 97\n",
      "Accuracy is 0.7183358689520873 for the random state 98\n",
      "Accuracy is 0.6663422560750039 for the random state 99\n",
      "Maximum r2score is  0.7663018896507292 and acquired at 79\n"
     ]
    },
    {
     "data": {
      "text/plain": [
       "79"
      ]
     },
     "execution_count": 165,
     "metadata": {},
     "output_type": "execute_result"
    }
   ],
   "source": [
    "r2score(dtr,x,y)"
   ]
  },
  {
   "cell_type": "code",
   "execution_count": 166,
   "metadata": {},
   "outputs": [
    {
     "name": "stdout",
     "output_type": "stream",
     "text": [
      "Accuracy is 0.8164059878241332 for the random state 40\n",
      "Accuracy is 0.8233116099958483 for the random state 41\n",
      "Accuracy is 0.8773247829078317 for the random state 42\n",
      "Accuracy is 0.8846279169428305 for the random state 43\n",
      "Accuracy is 0.8702542968565592 for the random state 44\n",
      "Accuracy is 0.7984219926212108 for the random state 45\n",
      "Accuracy is 0.8660591532290962 for the random state 46\n",
      "Accuracy is 0.8010575621846795 for the random state 47\n",
      "Accuracy is 0.8420720754440493 for the random state 48\n",
      "Accuracy is 0.8245283855673113 for the random state 49\n",
      "Accuracy is 0.8096176021200996 for the random state 50\n",
      "Accuracy is 0.8824075803939164 for the random state 51\n",
      "Accuracy is 0.8354091722061253 for the random state 52\n",
      "Accuracy is 0.847966150069895 for the random state 53\n",
      "Accuracy is 0.8488250554979093 for the random state 54\n",
      "Accuracy is 0.799951965252167 for the random state 55\n",
      "Accuracy is 0.8409263305214228 for the random state 56\n",
      "Accuracy is 0.8584464072248563 for the random state 57\n",
      "Accuracy is 0.8855718640241748 for the random state 58\n",
      "Accuracy is 0.8593682571930175 for the random state 59\n",
      "Accuracy is 0.838605708968088 for the random state 60\n",
      "Accuracy is 0.8317780299338907 for the random state 61\n",
      "Accuracy is 0.8777233259190388 for the random state 62\n",
      "Accuracy is 0.8153602923093878 for the random state 63\n",
      "Accuracy is 0.8534466326699532 for the random state 64\n",
      "Accuracy is 0.8557849667469257 for the random state 65\n",
      "Accuracy is 0.8087707378574391 for the random state 66\n",
      "Accuracy is 0.8651242564628222 for the random state 67\n",
      "Accuracy is 0.8598458616338096 for the random state 68\n",
      "Accuracy is 0.8710265655873688 for the random state 69\n",
      "Accuracy is 0.84021707737934 for the random state 70\n",
      "Accuracy is 0.8733932260931201 for the random state 71\n",
      "Accuracy is 0.850999343615912 for the random state 72\n",
      "Accuracy is 0.8224255098598371 for the random state 73\n",
      "Accuracy is 0.8419377518779382 for the random state 74\n",
      "Accuracy is 0.888638190039079 for the random state 75\n",
      "Accuracy is 0.8806544713678808 for the random state 76\n",
      "Accuracy is 0.8666281131794904 for the random state 77\n",
      "Accuracy is 0.8688098769302546 for the random state 78\n",
      "Accuracy is 0.8947782354200273 for the random state 79\n",
      "Accuracy is 0.8358924541678461 for the random state 80\n",
      "Accuracy is 0.8394047808609475 for the random state 81\n",
      "Accuracy is 0.8431136047405345 for the random state 82\n",
      "Accuracy is 0.8115339962397359 for the random state 83\n",
      "Accuracy is 0.8729757342942477 for the random state 84\n",
      "Accuracy is 0.8467242952603636 for the random state 85\n",
      "Accuracy is 0.8013851720290367 for the random state 86\n",
      "Accuracy is 0.8326898897067218 for the random state 87\n",
      "Accuracy is 0.8665151699204661 for the random state 88\n",
      "Accuracy is 0.8690484703453794 for the random state 89\n",
      "Accuracy is 0.8248434816534698 for the random state 90\n",
      "Accuracy is 0.8462479415365972 for the random state 91\n",
      "Accuracy is 0.8238859728859227 for the random state 92\n",
      "Accuracy is 0.8600286927636284 for the random state 93\n",
      "Accuracy is 0.8762854674769461 for the random state 94\n",
      "Accuracy is 0.8549067862470268 for the random state 95\n",
      "Accuracy is 0.8690106248146074 for the random state 96\n",
      "Accuracy is 0.8643103271790131 for the random state 97\n",
      "Accuracy is 0.8772596156864221 for the random state 98\n",
      "Accuracy is 0.8687766213116566 for the random state 99\n",
      "Maximum r2score is  0.8947782354200273 and acquired at 79\n"
     ]
    },
    {
     "data": {
      "text/plain": [
       "79"
      ]
     },
     "execution_count": 166,
     "metadata": {},
     "output_type": "execute_result"
    }
   ],
   "source": [
    "rfr=RandomForestRegressor()\n",
    "r2score(rfr,x,y)"
   ]
  },
  {
   "cell_type": "code",
   "execution_count": 167,
   "metadata": {},
   "outputs": [
    {
     "name": "stdout",
     "output_type": "stream",
     "text": [
      "{'n_neighbors': 10}\n",
      "0.7178117806283367\n"
     ]
    }
   ],
   "source": [
    "knr=KNeighborsRegressor()\n",
    "parameters={'n_neighbors':[10,100,300,500]}\n",
    "gcv=GridSearchCV(estimator=knr,param_grid=parameters)\n",
    "gcv.fit(x_train,y_train)\n",
    "print(gcv.best_params_)\n",
    "print(gcv.best_score_)"
   ]
  },
  {
   "cell_type": "code",
   "execution_count": 173,
   "metadata": {},
   "outputs": [
    {
     "name": "stdout",
     "output_type": "stream",
     "text": [
      "Mean Absolute Error: 791.0410618075388\n",
      "Mean Squared Error: 2453375.772867839\n",
      "Root Mean Squared Error: 1566.3255641366002\n",
      "R2 score is: 0.8888045759833665\n"
     ]
    }
   ],
   "source": [
    "#As Random forest is performing well than others ,fitting it as final model\n",
    "\n",
    "x_train,x_test,y_train,y_test=train_test_split(x,y,test_size=.22,random_state=79)\n",
    "rf=RandomForestRegressor()\n",
    "rf.fit(x_train,y_train)\n",
    "rfp=rf.predict(x_test)\n",
    "print('Mean Absolute Error:',mean_absolute_error(y_test,rfp))\n",
    "print('Mean Squared Error:',mean_squared_error(y_test,rfp))\n",
    "print('Root Mean Squared Error:',np.sqrt(mean_squared_error(y_test,rfp)))\n",
    "print('R2 score is:',r2_score(y_test,rfp))"
   ]
  },
  {
   "cell_type": "code",
   "execution_count": 172,
   "metadata": {},
   "outputs": [
    {
     "name": "stdout",
     "output_type": "stream",
     "text": [
      "mean accuracy of random forest regression is  0.8549778600203595\n",
      "Standard deviation of the model is  0.008596745618177089\n"
     ]
    }
   ],
   "source": [
    "#Cross validating the performance of the rfregressor..\n",
    "\n",
    "cvs=cross_val_score(rf,x,y,cv=5,scoring='r2')\n",
    "print('mean accuracy of random forest regression is ',cvs.mean())\n",
    "print('Standard deviation of the model is ',cvs.std())"
   ]
  },
  {
   "cell_type": "markdown",
   "metadata": {},
   "source": [
    "As the random forest regressor is performing well than other models,considering this model to be as a best fit"
   ]
  },
  {
   "cell_type": "code",
   "execution_count": 174,
   "metadata": {},
   "outputs": [],
   "source": [
    "#Saving predictions and the model\n",
    "prdct=pd.DataFrame(rfp,columns=['Price'])\n",
    "prdct=prdct.to_csv('flighttktpricepredictions.csv',index=False)"
   ]
  },
  {
   "cell_type": "code",
   "execution_count": 175,
   "metadata": {},
   "outputs": [
    {
     "data": {
      "text/plain": [
       "['flight_tkt_pred.pkl']"
      ]
     },
     "execution_count": 175,
     "metadata": {},
     "output_type": "execute_result"
    }
   ],
   "source": [
    "#Saving the model\n",
    "import joblib\n",
    "joblib.dump(rf,'flight_tkt_pred.pkl')"
   ]
  },
  {
   "cell_type": "code",
   "execution_count": null,
   "metadata": {},
   "outputs": [],
   "source": []
  }
 ],
 "metadata": {
  "kernelspec": {
   "display_name": "Python 3",
   "language": "python",
   "name": "python3"
  },
  "language_info": {
   "codemirror_mode": {
    "name": "ipython",
    "version": 3
   },
   "file_extension": ".py",
   "mimetype": "text/x-python",
   "name": "python",
   "nbconvert_exporter": "python",
   "pygments_lexer": "ipython3",
   "version": "3.7.4"
  }
 },
 "nbformat": 4,
 "nbformat_minor": 2
}
