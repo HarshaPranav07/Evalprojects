{
 "cells": [
  {
   "cell_type": "code",
   "execution_count": 54,
   "metadata": {},
   "outputs": [],
   "source": [
    "import numpy as np\n",
    "import pandas as pd\n",
    "import matplotlib.pyplot as plt\n",
    "import seaborn as sbn\n",
    "from sklearn.linear_model import LogisticRegression\n",
    "from sklearn.tree import DecisionTreeClassifier\n",
    "from sklearn.neighbors import KNeighborsClassifier\n",
    "from sklearn.ensemble import RandomForestClassifier\n",
    "from sklearn.svm import SVC\n",
    "\n",
    "from sklearn.metrics import classification_report,confusion_matrix,accuracy_score,f1_score,roc_auc_score,roc_curve\n",
    "from sklearn.model_selection import train_test_split,GridSearchCV,cross_val_score\n",
    "from sklearn.preprocessing import StandardScaler,LabelEncoder\n",
    "\n",
    "import joblib\n",
    "\n",
    "import warnings\n",
    "warnings.filterwarnings('ignore')"
   ]
  },
  {
   "cell_type": "code",
   "execution_count": 2,
   "metadata": {},
   "outputs": [
    {
     "data": {
      "text/html": [
       "<div>\n",
       "<style scoped>\n",
       "    .dataframe tbody tr th:only-of-type {\n",
       "        vertical-align: middle;\n",
       "    }\n",
       "\n",
       "    .dataframe tbody tr th {\n",
       "        vertical-align: top;\n",
       "    }\n",
       "\n",
       "    .dataframe thead th {\n",
       "        text-align: right;\n",
       "    }\n",
       "</style>\n",
       "<table border=\"1\" class=\"dataframe\">\n",
       "  <thead>\n",
       "    <tr style=\"text-align: right;\">\n",
       "      <th></th>\n",
       "      <th>Patient ID</th>\n",
       "      <th>Patient age quantile</th>\n",
       "      <th>SARS-Cov-2 exam result</th>\n",
       "      <th>Patient addmited to regular ward (1=yes, 0=no)</th>\n",
       "      <th>Patient addmited to semi-intensive unit (1=yes, 0=no)</th>\n",
       "      <th>Patient addmited to intensive care unit (1=yes, 0=no)</th>\n",
       "      <th>Hematocrit</th>\n",
       "      <th>Hemoglobin</th>\n",
       "      <th>Platelets</th>\n",
       "      <th>Mean platelet volume</th>\n",
       "      <th>...</th>\n",
       "      <th>Hb saturation (arterial blood gases)</th>\n",
       "      <th>pCO2 (arterial blood gas analysis)</th>\n",
       "      <th>Base excess (arterial blood gas analysis)</th>\n",
       "      <th>pH (arterial blood gas analysis)</th>\n",
       "      <th>Total CO2 (arterial blood gas analysis)</th>\n",
       "      <th>HCO3 (arterial blood gas analysis)</th>\n",
       "      <th>pO2 (arterial blood gas analysis)</th>\n",
       "      <th>Arteiral Fio2</th>\n",
       "      <th>Phosphor</th>\n",
       "      <th>ctO2 (arterial blood gas analysis)</th>\n",
       "    </tr>\n",
       "  </thead>\n",
       "  <tbody>\n",
       "    <tr>\n",
       "      <td>0</td>\n",
       "      <td>44477f75e8169d2</td>\n",
       "      <td>13</td>\n",
       "      <td>negative</td>\n",
       "      <td>0</td>\n",
       "      <td>0</td>\n",
       "      <td>0</td>\n",
       "      <td>NaN</td>\n",
       "      <td>NaN</td>\n",
       "      <td>NaN</td>\n",
       "      <td>NaN</td>\n",
       "      <td>...</td>\n",
       "      <td>NaN</td>\n",
       "      <td>NaN</td>\n",
       "      <td>NaN</td>\n",
       "      <td>NaN</td>\n",
       "      <td>NaN</td>\n",
       "      <td>NaN</td>\n",
       "      <td>NaN</td>\n",
       "      <td>NaN</td>\n",
       "      <td>NaN</td>\n",
       "      <td>NaN</td>\n",
       "    </tr>\n",
       "    <tr>\n",
       "      <td>1</td>\n",
       "      <td>126e9dd13932f68</td>\n",
       "      <td>17</td>\n",
       "      <td>negative</td>\n",
       "      <td>0</td>\n",
       "      <td>0</td>\n",
       "      <td>0</td>\n",
       "      <td>0.236515</td>\n",
       "      <td>-0.02234</td>\n",
       "      <td>-0.517413</td>\n",
       "      <td>0.010677</td>\n",
       "      <td>...</td>\n",
       "      <td>NaN</td>\n",
       "      <td>NaN</td>\n",
       "      <td>NaN</td>\n",
       "      <td>NaN</td>\n",
       "      <td>NaN</td>\n",
       "      <td>NaN</td>\n",
       "      <td>NaN</td>\n",
       "      <td>NaN</td>\n",
       "      <td>NaN</td>\n",
       "      <td>NaN</td>\n",
       "    </tr>\n",
       "    <tr>\n",
       "      <td>2</td>\n",
       "      <td>a46b4402a0e5696</td>\n",
       "      <td>8</td>\n",
       "      <td>negative</td>\n",
       "      <td>0</td>\n",
       "      <td>0</td>\n",
       "      <td>0</td>\n",
       "      <td>NaN</td>\n",
       "      <td>NaN</td>\n",
       "      <td>NaN</td>\n",
       "      <td>NaN</td>\n",
       "      <td>...</td>\n",
       "      <td>NaN</td>\n",
       "      <td>NaN</td>\n",
       "      <td>NaN</td>\n",
       "      <td>NaN</td>\n",
       "      <td>NaN</td>\n",
       "      <td>NaN</td>\n",
       "      <td>NaN</td>\n",
       "      <td>NaN</td>\n",
       "      <td>NaN</td>\n",
       "      <td>NaN</td>\n",
       "    </tr>\n",
       "    <tr>\n",
       "      <td>3</td>\n",
       "      <td>f7d619a94f97c45</td>\n",
       "      <td>5</td>\n",
       "      <td>negative</td>\n",
       "      <td>0</td>\n",
       "      <td>0</td>\n",
       "      <td>0</td>\n",
       "      <td>NaN</td>\n",
       "      <td>NaN</td>\n",
       "      <td>NaN</td>\n",
       "      <td>NaN</td>\n",
       "      <td>...</td>\n",
       "      <td>NaN</td>\n",
       "      <td>NaN</td>\n",
       "      <td>NaN</td>\n",
       "      <td>NaN</td>\n",
       "      <td>NaN</td>\n",
       "      <td>NaN</td>\n",
       "      <td>NaN</td>\n",
       "      <td>NaN</td>\n",
       "      <td>NaN</td>\n",
       "      <td>NaN</td>\n",
       "    </tr>\n",
       "    <tr>\n",
       "      <td>4</td>\n",
       "      <td>d9e41465789c2b5</td>\n",
       "      <td>15</td>\n",
       "      <td>negative</td>\n",
       "      <td>0</td>\n",
       "      <td>0</td>\n",
       "      <td>0</td>\n",
       "      <td>NaN</td>\n",
       "      <td>NaN</td>\n",
       "      <td>NaN</td>\n",
       "      <td>NaN</td>\n",
       "      <td>...</td>\n",
       "      <td>NaN</td>\n",
       "      <td>NaN</td>\n",
       "      <td>NaN</td>\n",
       "      <td>NaN</td>\n",
       "      <td>NaN</td>\n",
       "      <td>NaN</td>\n",
       "      <td>NaN</td>\n",
       "      <td>NaN</td>\n",
       "      <td>NaN</td>\n",
       "      <td>NaN</td>\n",
       "    </tr>\n",
       "  </tbody>\n",
       "</table>\n",
       "<p>5 rows × 111 columns</p>\n",
       "</div>"
      ],
      "text/plain": [
       "        Patient ID  Patient age quantile SARS-Cov-2 exam result  \\\n",
       "0  44477f75e8169d2                    13               negative   \n",
       "1  126e9dd13932f68                    17               negative   \n",
       "2  a46b4402a0e5696                     8               negative   \n",
       "3  f7d619a94f97c45                     5               negative   \n",
       "4  d9e41465789c2b5                    15               negative   \n",
       "\n",
       "   Patient addmited to regular ward (1=yes, 0=no)  \\\n",
       "0                                               0   \n",
       "1                                               0   \n",
       "2                                               0   \n",
       "3                                               0   \n",
       "4                                               0   \n",
       "\n",
       "   Patient addmited to semi-intensive unit (1=yes, 0=no)  \\\n",
       "0                                                  0       \n",
       "1                                                  0       \n",
       "2                                                  0       \n",
       "3                                                  0       \n",
       "4                                                  0       \n",
       "\n",
       "   Patient addmited to intensive care unit (1=yes, 0=no)  Hematocrit  \\\n",
       "0                                                  0             NaN   \n",
       "1                                                  0        0.236515   \n",
       "2                                                  0             NaN   \n",
       "3                                                  0             NaN   \n",
       "4                                                  0             NaN   \n",
       "\n",
       "   Hemoglobin  Platelets  Mean platelet volume   ...  \\\n",
       "0         NaN        NaN                    NaN  ...   \n",
       "1    -0.02234  -0.517413               0.010677  ...   \n",
       "2         NaN        NaN                    NaN  ...   \n",
       "3         NaN        NaN                    NaN  ...   \n",
       "4         NaN        NaN                    NaN  ...   \n",
       "\n",
       "   Hb saturation (arterial blood gases)  pCO2 (arterial blood gas analysis)  \\\n",
       "0                                   NaN                                 NaN   \n",
       "1                                   NaN                                 NaN   \n",
       "2                                   NaN                                 NaN   \n",
       "3                                   NaN                                 NaN   \n",
       "4                                   NaN                                 NaN   \n",
       "\n",
       "   Base excess (arterial blood gas analysis)  \\\n",
       "0                                        NaN   \n",
       "1                                        NaN   \n",
       "2                                        NaN   \n",
       "3                                        NaN   \n",
       "4                                        NaN   \n",
       "\n",
       "   pH (arterial blood gas analysis)  Total CO2 (arterial blood gas analysis)  \\\n",
       "0                               NaN                                      NaN   \n",
       "1                               NaN                                      NaN   \n",
       "2                               NaN                                      NaN   \n",
       "3                               NaN                                      NaN   \n",
       "4                               NaN                                      NaN   \n",
       "\n",
       "   HCO3 (arterial blood gas analysis)  pO2 (arterial blood gas analysis)  \\\n",
       "0                                 NaN                                NaN   \n",
       "1                                 NaN                                NaN   \n",
       "2                                 NaN                                NaN   \n",
       "3                                 NaN                                NaN   \n",
       "4                                 NaN                                NaN   \n",
       "\n",
       "   Arteiral Fio2  Phosphor  ctO2 (arterial blood gas analysis)  \n",
       "0            NaN       NaN                                 NaN  \n",
       "1            NaN       NaN                                 NaN  \n",
       "2            NaN       NaN                                 NaN  \n",
       "3            NaN       NaN                                 NaN  \n",
       "4            NaN       NaN                                 NaN  \n",
       "\n",
       "[5 rows x 111 columns]"
      ]
     },
     "execution_count": 2,
     "metadata": {},
     "output_type": "execute_result"
    }
   ],
   "source": [
    "#Importing the dataset\n",
    "\n",
    "cb=pd.read_excel('covid19_Brazil.xlsx')\n",
    "cb.head()"
   ]
  },
  {
   "cell_type": "code",
   "execution_count": 3,
   "metadata": {},
   "outputs": [
    {
     "data": {
      "text/plain": [
       "Patient ID                                                object\n",
       "Patient age quantile                                       int64\n",
       "SARS-Cov-2 exam result                                    object\n",
       "Patient addmited to regular ward (1=yes, 0=no)             int64\n",
       "Patient addmited to semi-intensive unit (1=yes, 0=no)      int64\n",
       "                                                          ...   \n",
       "HCO3 (arterial blood gas analysis)                       float64\n",
       "pO2 (arterial blood gas analysis)                        float64\n",
       "Arteiral Fio2                                            float64\n",
       "Phosphor                                                 float64\n",
       "ctO2 (arterial blood gas analysis)                       float64\n",
       "Length: 111, dtype: object"
      ]
     },
     "execution_count": 3,
     "metadata": {},
     "output_type": "execute_result"
    }
   ],
   "source": [
    "cb.dtypes"
   ]
  },
  {
   "cell_type": "code",
   "execution_count": 4,
   "metadata": {},
   "outputs": [
    {
     "data": {
      "text/plain": [
       "Patient ID                                                  0\n",
       "Patient age quantile                                        0\n",
       "SARS-Cov-2 exam result                                      0\n",
       "Patient addmited to regular ward (1=yes, 0=no)              0\n",
       "Patient addmited to semi-intensive unit (1=yes, 0=no)       0\n",
       "                                                         ... \n",
       "HCO3 (arterial blood gas analysis)                       5617\n",
       "pO2 (arterial blood gas analysis)                        5617\n",
       "Arteiral Fio2                                            5624\n",
       "Phosphor                                                 5624\n",
       "ctO2 (arterial blood gas analysis)                       5617\n",
       "Length: 111, dtype: int64"
      ]
     },
     "execution_count": 4,
     "metadata": {},
     "output_type": "execute_result"
    }
   ],
   "source": [
    "cb.isnull().sum()"
   ]
  },
  {
   "cell_type": "code",
   "execution_count": 5,
   "metadata": {},
   "outputs": [
    {
     "data": {
      "text/plain": [
       "(5644, 111)"
      ]
     },
     "execution_count": 5,
     "metadata": {},
     "output_type": "execute_result"
    }
   ],
   "source": [
    "cb.shape"
   ]
  },
  {
   "cell_type": "code",
   "execution_count": 6,
   "metadata": {},
   "outputs": [
    {
     "data": {
      "text/plain": [
       "Index(['Patient ID', 'Patient age quantile', 'SARS-Cov-2 exam result',\n",
       "       'Patient addmited to regular ward (1=yes, 0=no)',\n",
       "       'Patient addmited to semi-intensive unit (1=yes, 0=no)',\n",
       "       'Patient addmited to intensive care unit (1=yes, 0=no)', 'Hematocrit',\n",
       "       'Hemoglobin', 'Platelets', 'Mean platelet volume ',\n",
       "       ...\n",
       "       'Hb saturation (arterial blood gases)',\n",
       "       'pCO2 (arterial blood gas analysis)',\n",
       "       'Base excess (arterial blood gas analysis)',\n",
       "       'pH (arterial blood gas analysis)',\n",
       "       'Total CO2 (arterial blood gas analysis)',\n",
       "       'HCO3 (arterial blood gas analysis)',\n",
       "       'pO2 (arterial blood gas analysis)', 'Arteiral Fio2', 'Phosphor',\n",
       "       'ctO2 (arterial blood gas analysis)'],\n",
       "      dtype='object', length=111)"
      ]
     },
     "execution_count": 6,
     "metadata": {},
     "output_type": "execute_result"
    }
   ],
   "source": [
    "cb.columns.unique()"
   ]
  },
  {
   "cell_type": "code",
   "execution_count": 7,
   "metadata": {},
   "outputs": [
    {
     "data": {
      "text/plain": [
       "array(['negative', 'positive'], dtype=object)"
      ]
     },
     "execution_count": 7,
     "metadata": {},
     "output_type": "execute_result"
    }
   ],
   "source": [
    "cb['SARS-Cov-2 exam result'].unique()"
   ]
  },
  {
   "cell_type": "code",
   "execution_count": 8,
   "metadata": {},
   "outputs": [],
   "source": [
    "#Converting the exam-result into 0,1 (0=negative,1=positive)\n",
    "\n",
    "cb['SARS-Cov-2 exam result']=cb['SARS-Cov-2 exam result'].replace(['negative','positive'],[0,1])"
   ]
  },
  {
   "cell_type": "code",
   "execution_count": 9,
   "metadata": {},
   "outputs": [
    {
     "data": {
      "text/plain": [
       "array([0, 1], dtype=int64)"
      ]
     },
     "execution_count": 9,
     "metadata": {},
     "output_type": "execute_result"
    }
   ],
   "source": [
    "cb['SARS-Cov-2 exam result'].unique()"
   ]
  },
  {
   "cell_type": "code",
   "execution_count": 10,
   "metadata": {},
   "outputs": [
    {
     "data": {
      "text/plain": [
       "<matplotlib.axes._subplots.AxesSubplot at 0x1daf5083708>"
      ]
     },
     "execution_count": 10,
     "metadata": {},
     "output_type": "execute_result"
    },
    {
     "data": {
      "image/png": "[encoded data removed]",
      "text/plain": [
       "<Figure size 720x576 with 1 Axes>"
      ]
     },
     "metadata": {
      "needs_background": "light"
     },
     "output_type": "display_data"
    }
   ],
   "source": [
    "plt.figure(figsize=(10,8))\n",
    "sbn.countplot('SARS-Cov-2 exam result',data=cb)"
   ]
  },
  {
   "cell_type": "code",
   "execution_count": 11,
   "metadata": {},
   "outputs": [
    {
     "name": "stdout",
     "output_type": "stream",
     "text": [
      "no. of positive cases: 558\n",
      "no. of negative cases: 5086\n"
     ]
    }
   ],
   "source": [
    "#Lets check the no. of postitive and negative cases in the data\n",
    "\n",
    "print('no. of positive cases:',len(cb[cb['SARS-Cov-2 exam result']==1]))\n",
    "print('no. of negative cases:',len(cb[cb['SARS-Cov-2 exam result']==0]))"
   ]
  },
  {
   "cell_type": "code",
   "execution_count": 12,
   "metadata": {},
   "outputs": [
    {
     "data": {
      "text/plain": [
       "<matplotlib.axes._subplots.AxesSubplot at 0x1daf5498a88>"
      ]
     },
     "execution_count": 12,
     "metadata": {},
     "output_type": "execute_result"
    },
    {
     "data": {
      "image/png": "[encoded data removed]",
      "text/plain": [
       "<Figure size 432x288 with 1 Axes>"
      ]
     },
     "metadata": {
      "needs_background": "light"
     },
     "output_type": "display_data"
    }
   ],
   "source": [
    "#lets check the exam result wrt age\n",
    "\n",
    "sbn.countplot('Patient age quantile',hue='SARS-Cov-2 exam result',data=cb)"
   ]
  },
  {
   "cell_type": "code",
   "execution_count": 13,
   "metadata": {},
   "outputs": [
    {
     "data": {
      "text/plain": [
       "<matplotlib.axes._subplots.AxesSubplot at 0x1daf6ed4388>"
      ]
     },
     "execution_count": 13,
     "metadata": {},
     "output_type": "execute_result"
    },
    {
     "data": {
      "image/png": "[encoded data removed]",
      "text/plain": [
       "<Figure size 1440x720 with 1 Axes>"
      ]
     },
     "metadata": {
      "needs_background": "light"
     },
     "output_type": "display_data"
    }
   ],
   "source": [
    "#checking the exam result wrt ward\n",
    "plt.figure(figsize=(20,10))\n",
    "sbn.countplot('Patient addmited to regular ward (1=yes, 0=no)',hue='SARS-Cov-2 exam result',data=cb)"
   ]
  },
  {
   "cell_type": "markdown",
   "metadata": {},
   "source": [
    "from the above plot,it is observed that most of the patients are not admitted to regular ward "
   ]
  },
  {
   "cell_type": "code",
   "execution_count": 14,
   "metadata": {},
   "outputs": [
    {
     "data": {
      "text/plain": [
       "<matplotlib.axes._subplots.AxesSubplot at 0x1daf6ed4bc8>"
      ]
     },
     "execution_count": 14,
     "metadata": {},
     "output_type": "execute_result"
    },
    {
     "data": {
      "image/png": "[encoded data removed]",
      "text/plain": [
       "<Figure size 1440x720 with 1 Axes>"
      ]
     },
     "metadata": {
      "needs_background": "light"
     },
     "output_type": "display_data"
    }
   ],
   "source": [
    "plt.figure(figsize=(20,10))\n",
    "sbn.countplot('Patient addmited to semi-intensive unit (1=yes, 0=no)',hue='SARS-Cov-2 exam result',data=cb)"
   ]
  },
  {
   "cell_type": "code",
   "execution_count": null,
   "metadata": {},
   "outputs": [],
   "source": []
  },
  {
   "cell_type": "code",
   "execution_count": 15,
   "metadata": {},
   "outputs": [
    {
     "data": {
      "image/png": "[encoded data removed]",
      "text/plain": [
       "<Figure size 1296x648 with 1 Axes>"
      ]
     },
     "metadata": {
      "needs_background": "light"
     },
     "output_type": "display_data"
    }
   ],
   "source": [
    "#lets look at the number of total missing values in the features\n",
    "\n",
    "missing_vals=cb.isnull().sum()*100/len(cb)\n",
    "plt.figure(figsize=(18,9))\n",
    "plt.xticks(np.arange(len(missing_vals))+0.5,missing_vals.index,rotation=(90))\n",
    "plt.ylabel('percentage of missing values')\n",
    "plt.bar(np.arange(len(missing_vals)),missing_vals)\n",
    "plt.show()    "
   ]
  },
  {
   "cell_type": "markdown",
   "metadata": {},
   "source": [
    "By looking at the above plot, there are hardly 6 columns without null values and every other feature has more than 75% of null values.\n",
    "\n",
    "here,considering the features without null values"
   ]
  },
  {
   "cell_type": "code",
   "execution_count": null,
   "metadata": {},
   "outputs": [],
   "source": []
  },
  {
   "cell_type": "code",
   "execution_count": 16,
   "metadata": {},
   "outputs": [
    {
     "data": {
      "text/html": [
       "<div>\n",
       "<style scoped>\n",
       "    .dataframe tbody tr th:only-of-type {\n",
       "        vertical-align: middle;\n",
       "    }\n",
       "\n",
       "    .dataframe tbody tr th {\n",
       "        vertical-align: top;\n",
       "    }\n",
       "\n",
       "    .dataframe thead th {\n",
       "        text-align: right;\n",
       "    }\n",
       "</style>\n",
       "<table border=\"1\" class=\"dataframe\">\n",
       "  <thead>\n",
       "    <tr style=\"text-align: right;\">\n",
       "      <th></th>\n",
       "      <th>index</th>\n",
       "      <th>0</th>\n",
       "    </tr>\n",
       "  </thead>\n",
       "  <tbody>\n",
       "    <tr>\n",
       "      <td>0</td>\n",
       "      <td>Patient ID</td>\n",
       "      <td>0</td>\n",
       "    </tr>\n",
       "    <tr>\n",
       "      <td>1</td>\n",
       "      <td>Patient age quantile</td>\n",
       "      <td>0</td>\n",
       "    </tr>\n",
       "    <tr>\n",
       "      <td>2</td>\n",
       "      <td>SARS-Cov-2 exam result</td>\n",
       "      <td>0</td>\n",
       "    </tr>\n",
       "    <tr>\n",
       "      <td>3</td>\n",
       "      <td>Patient addmited to regular ward (1=yes, 0=no)</td>\n",
       "      <td>0</td>\n",
       "    </tr>\n",
       "    <tr>\n",
       "      <td>4</td>\n",
       "      <td>Patient addmited to semi-intensive unit (1=yes...</td>\n",
       "      <td>0</td>\n",
       "    </tr>\n",
       "    <tr>\n",
       "      <td>5</td>\n",
       "      <td>Patient addmited to intensive care unit (1=yes...</td>\n",
       "      <td>0</td>\n",
       "    </tr>\n",
       "  </tbody>\n",
       "</table>\n",
       "</div>"
      ],
      "text/plain": [
       "                                               index  0\n",
       "0                                         Patient ID  0\n",
       "1                               Patient age quantile  0\n",
       "2                             SARS-Cov-2 exam result  0\n",
       "3     Patient addmited to regular ward (1=yes, 0=no)  0\n",
       "4  Patient addmited to semi-intensive unit (1=yes...  0\n",
       "5  Patient addmited to intensive care unit (1=yes...  0"
      ]
     },
     "execution_count": 16,
     "metadata": {},
     "output_type": "execute_result"
    }
   ],
   "source": [
    "#lets check the features without null values\n",
    "\n",
    "cbn=cb.isnull().sum()\n",
    "cn=cbn[cbn==0].reset_index()\n",
    "cn"
   ]
  },
  {
   "cell_type": "code",
   "execution_count": 17,
   "metadata": {},
   "outputs": [
    {
     "data": {
      "text/html": [
       "<div>\n",
       "<style scoped>\n",
       "    .dataframe tbody tr th:only-of-type {\n",
       "        vertical-align: middle;\n",
       "    }\n",
       "\n",
       "    .dataframe tbody tr th {\n",
       "        vertical-align: top;\n",
       "    }\n",
       "\n",
       "    .dataframe thead th {\n",
       "        text-align: right;\n",
       "    }\n",
       "</style>\n",
       "<table border=\"1\" class=\"dataframe\">\n",
       "  <thead>\n",
       "    <tr style=\"text-align: right;\">\n",
       "      <th></th>\n",
       "      <th>Patient ID</th>\n",
       "      <th>Patient age quantile</th>\n",
       "      <th>SARS-Cov-2 exam result</th>\n",
       "      <th>Patient addmited to regular ward (1=yes, 0=no)</th>\n",
       "      <th>Patient addmited to semi-intensive unit (1=yes, 0=no)</th>\n",
       "      <th>Patient addmited to intensive care unit (1=yes, 0=no)</th>\n",
       "    </tr>\n",
       "  </thead>\n",
       "  <tbody>\n",
       "    <tr>\n",
       "      <td>0</td>\n",
       "      <td>44477f75e8169d2</td>\n",
       "      <td>13</td>\n",
       "      <td>0</td>\n",
       "      <td>0</td>\n",
       "      <td>0</td>\n",
       "      <td>0</td>\n",
       "    </tr>\n",
       "    <tr>\n",
       "      <td>1</td>\n",
       "      <td>126e9dd13932f68</td>\n",
       "      <td>17</td>\n",
       "      <td>0</td>\n",
       "      <td>0</td>\n",
       "      <td>0</td>\n",
       "      <td>0</td>\n",
       "    </tr>\n",
       "    <tr>\n",
       "      <td>2</td>\n",
       "      <td>a46b4402a0e5696</td>\n",
       "      <td>8</td>\n",
       "      <td>0</td>\n",
       "      <td>0</td>\n",
       "      <td>0</td>\n",
       "      <td>0</td>\n",
       "    </tr>\n",
       "    <tr>\n",
       "      <td>3</td>\n",
       "      <td>f7d619a94f97c45</td>\n",
       "      <td>5</td>\n",
       "      <td>0</td>\n",
       "      <td>0</td>\n",
       "      <td>0</td>\n",
       "      <td>0</td>\n",
       "    </tr>\n",
       "    <tr>\n",
       "      <td>4</td>\n",
       "      <td>d9e41465789c2b5</td>\n",
       "      <td>15</td>\n",
       "      <td>0</td>\n",
       "      <td>0</td>\n",
       "      <td>0</td>\n",
       "      <td>0</td>\n",
       "    </tr>\n",
       "  </tbody>\n",
       "</table>\n",
       "</div>"
      ],
      "text/plain": [
       "        Patient ID  Patient age quantile  SARS-Cov-2 exam result  \\\n",
       "0  44477f75e8169d2                    13                       0   \n",
       "1  126e9dd13932f68                    17                       0   \n",
       "2  a46b4402a0e5696                     8                       0   \n",
       "3  f7d619a94f97c45                     5                       0   \n",
       "4  d9e41465789c2b5                    15                       0   \n",
       "\n",
       "   Patient addmited to regular ward (1=yes, 0=no)  \\\n",
       "0                                               0   \n",
       "1                                               0   \n",
       "2                                               0   \n",
       "3                                               0   \n",
       "4                                               0   \n",
       "\n",
       "   Patient addmited to semi-intensive unit (1=yes, 0=no)  \\\n",
       "0                                                  0       \n",
       "1                                                  0       \n",
       "2                                                  0       \n",
       "3                                                  0       \n",
       "4                                                  0       \n",
       "\n",
       "   Patient addmited to intensive care unit (1=yes, 0=no)  \n",
       "0                                                  0      \n",
       "1                                                  0      \n",
       "2                                                  0      \n",
       "3                                                  0      \n",
       "4                                                  0      "
      ]
     },
     "execution_count": 17,
     "metadata": {},
     "output_type": "execute_result"
    }
   ],
   "source": [
    "#Creating new dataframe with features containing non-null values\n",
    "\n",
    "cbfin=cb[cn['index']]\n",
    "cbfin.head()"
   ]
  },
  {
   "cell_type": "code",
   "execution_count": 18,
   "metadata": {},
   "outputs": [
    {
     "data": {
      "text/plain": [
       "(5644, 6)"
      ]
     },
     "execution_count": 18,
     "metadata": {},
     "output_type": "execute_result"
    }
   ],
   "source": [
    "cbfin.shape"
   ]
  },
  {
   "cell_type": "code",
   "execution_count": 19,
   "metadata": {},
   "outputs": [],
   "source": [
    "cbf=cbfin.drop('Patient ID',axis=1)"
   ]
  },
  {
   "cell_type": "code",
   "execution_count": 20,
   "metadata": {},
   "outputs": [
    {
     "data": {
      "text/plain": [
       "<matplotlib.axes._subplots.AxesSubplot at 0x1daf700a408>"
      ]
     },
     "execution_count": 20,
     "metadata": {},
     "output_type": "execute_result"
    },
    {
     "data": {
      "image/png": "[encoded data removed]",
      "text/plain": [
       "<Figure size 360x504 with 1 Axes>"
      ]
     },
     "metadata": {
      "needs_background": "light"
     },
     "output_type": "display_data"
    }
   ],
   "source": [
    "cbf.groupby(['Patient age quantile','SARS-Cov-2 exam result']).size().unstack().plot(kind='bar',stacked=True,figsize=(5,7))"
   ]
  },
  {
   "cell_type": "code",
   "execution_count": 21,
   "metadata": {},
   "outputs": [
    {
     "data": {
      "text/plain": [
       "<matplotlib.axes._subplots.AxesSubplot at 0x1daf78bbd08>"
      ]
     },
     "execution_count": 21,
     "metadata": {},
     "output_type": "execute_result"
    },
    {
     "data": {
      "image/png": "[encoded data removed]",
      "text/plain": [
       "<Figure size 360x504 with 1 Axes>"
      ]
     },
     "metadata": {
      "needs_background": "light"
     },
     "output_type": "display_data"
    }
   ],
   "source": [
    "cbf.groupby(['Patient addmited to intensive care unit (1=yes, 0=no)','SARS-Cov-2 exam result']).size().unstack().plot(kind='bar',stacked=True,figsize=(5,7))"
   ]
  },
  {
   "cell_type": "code",
   "execution_count": 26,
   "metadata": {},
   "outputs": [
    {
     "data": {
      "text/plain": [
       "<matplotlib.axes._subplots.AxesSubplot at 0x1daf7937c48>"
      ]
     },
     "execution_count": 26,
     "metadata": {},
     "output_type": "execute_result"
    },
    {
     "data": {
      "image/png": "[encoded data removed]",
      "text/plain": [
       "<Figure size 360x504 with 1 Axes>"
      ]
     },
     "metadata": {
      "needs_background": "light"
     },
     "output_type": "display_data"
    }
   ],
   "source": [
    "cbf.groupby(['Patient addmited to intensive care unit (1=yes, 0=no)','SARS-Cov-2 exam result']).size().unstack().plot(kind='bar',stacked=True,figsize=(5,7))"
   ]
  },
  {
   "cell_type": "code",
   "execution_count": 27,
   "metadata": {},
   "outputs": [
    {
     "data": {
      "text/plain": [
       "<matplotlib.axes._subplots.AxesSubplot at 0x1daf7997088>"
      ]
     },
     "execution_count": 27,
     "metadata": {},
     "output_type": "execute_result"
    },
    {
     "data": {
      "image/png": "[encoded data removed]",
      "text/plain": [
       "<Figure size 360x504 with 1 Axes>"
      ]
     },
     "metadata": {
      "needs_background": "light"
     },
     "output_type": "display_data"
    }
   ],
   "source": [
    "cbf.groupby(['Patient addmited to semi-intensive unit (1=yes, 0=no)','SARS-Cov-2 exam result']).size().unstack().plot(kind='bar',stacked=True,figsize=(5,7))"
   ]
  },
  {
   "cell_type": "code",
   "execution_count": 29,
   "metadata": {},
   "outputs": [
    {
     "data": {
      "text/html": [
       "<div>\n",
       "<style scoped>\n",
       "    .dataframe tbody tr th:only-of-type {\n",
       "        vertical-align: middle;\n",
       "    }\n",
       "\n",
       "    .dataframe tbody tr th {\n",
       "        vertical-align: top;\n",
       "    }\n",
       "\n",
       "    .dataframe thead th {\n",
       "        text-align: right;\n",
       "    }\n",
       "</style>\n",
       "<table border=\"1\" class=\"dataframe\">\n",
       "  <thead>\n",
       "    <tr style=\"text-align: right;\">\n",
       "      <th></th>\n",
       "      <th>Patient age quantile</th>\n",
       "      <th>SARS-Cov-2 exam result</th>\n",
       "      <th>Patient addmited to regular ward (1=yes, 0=no)</th>\n",
       "      <th>Patient addmited to semi-intensive unit (1=yes, 0=no)</th>\n",
       "      <th>Patient addmited to intensive care unit (1=yes, 0=no)</th>\n",
       "    </tr>\n",
       "  </thead>\n",
       "  <tbody>\n",
       "    <tr>\n",
       "      <td>0</td>\n",
       "      <td>13</td>\n",
       "      <td>0</td>\n",
       "      <td>0</td>\n",
       "      <td>0</td>\n",
       "      <td>0</td>\n",
       "    </tr>\n",
       "    <tr>\n",
       "      <td>1</td>\n",
       "      <td>17</td>\n",
       "      <td>0</td>\n",
       "      <td>0</td>\n",
       "      <td>0</td>\n",
       "      <td>0</td>\n",
       "    </tr>\n",
       "    <tr>\n",
       "      <td>2</td>\n",
       "      <td>8</td>\n",
       "      <td>0</td>\n",
       "      <td>0</td>\n",
       "      <td>0</td>\n",
       "      <td>0</td>\n",
       "    </tr>\n",
       "    <tr>\n",
       "      <td>3</td>\n",
       "      <td>5</td>\n",
       "      <td>0</td>\n",
       "      <td>0</td>\n",
       "      <td>0</td>\n",
       "      <td>0</td>\n",
       "    </tr>\n",
       "    <tr>\n",
       "      <td>4</td>\n",
       "      <td>15</td>\n",
       "      <td>0</td>\n",
       "      <td>0</td>\n",
       "      <td>0</td>\n",
       "      <td>0</td>\n",
       "    </tr>\n",
       "    <tr>\n",
       "      <td>...</td>\n",
       "      <td>...</td>\n",
       "      <td>...</td>\n",
       "      <td>...</td>\n",
       "      <td>...</td>\n",
       "      <td>...</td>\n",
       "    </tr>\n",
       "    <tr>\n",
       "      <td>5639</td>\n",
       "      <td>3</td>\n",
       "      <td>1</td>\n",
       "      <td>0</td>\n",
       "      <td>0</td>\n",
       "      <td>0</td>\n",
       "    </tr>\n",
       "    <tr>\n",
       "      <td>5640</td>\n",
       "      <td>17</td>\n",
       "      <td>0</td>\n",
       "      <td>0</td>\n",
       "      <td>0</td>\n",
       "      <td>0</td>\n",
       "    </tr>\n",
       "    <tr>\n",
       "      <td>5641</td>\n",
       "      <td>4</td>\n",
       "      <td>0</td>\n",
       "      <td>0</td>\n",
       "      <td>0</td>\n",
       "      <td>0</td>\n",
       "    </tr>\n",
       "    <tr>\n",
       "      <td>5642</td>\n",
       "      <td>10</td>\n",
       "      <td>0</td>\n",
       "      <td>0</td>\n",
       "      <td>0</td>\n",
       "      <td>0</td>\n",
       "    </tr>\n",
       "    <tr>\n",
       "      <td>5643</td>\n",
       "      <td>19</td>\n",
       "      <td>1</td>\n",
       "      <td>0</td>\n",
       "      <td>0</td>\n",
       "      <td>0</td>\n",
       "    </tr>\n",
       "  </tbody>\n",
       "</table>\n",
       "<p>5644 rows × 5 columns</p>\n",
       "</div>"
      ],
      "text/plain": [
       "      Patient age quantile  SARS-Cov-2 exam result  \\\n",
       "0                       13                       0   \n",
       "1                       17                       0   \n",
       "2                        8                       0   \n",
       "3                        5                       0   \n",
       "4                       15                       0   \n",
       "...                    ...                     ...   \n",
       "5639                     3                       1   \n",
       "5640                    17                       0   \n",
       "5641                     4                       0   \n",
       "5642                    10                       0   \n",
       "5643                    19                       1   \n",
       "\n",
       "      Patient addmited to regular ward (1=yes, 0=no)  \\\n",
       "0                                                  0   \n",
       "1                                                  0   \n",
       "2                                                  0   \n",
       "3                                                  0   \n",
       "4                                                  0   \n",
       "...                                              ...   \n",
       "5639                                               0   \n",
       "5640                                               0   \n",
       "5641                                               0   \n",
       "5642                                               0   \n",
       "5643                                               0   \n",
       "\n",
       "      Patient addmited to semi-intensive unit (1=yes, 0=no)  \\\n",
       "0                                                     0       \n",
       "1                                                     0       \n",
       "2                                                     0       \n",
       "3                                                     0       \n",
       "4                                                     0       \n",
       "...                                                 ...       \n",
       "5639                                                  0       \n",
       "5640                                                  0       \n",
       "5641                                                  0       \n",
       "5642                                                  0       \n",
       "5643                                                  0       \n",
       "\n",
       "      Patient addmited to intensive care unit (1=yes, 0=no)  \n",
       "0                                                     0      \n",
       "1                                                     0      \n",
       "2                                                     0      \n",
       "3                                                     0      \n",
       "4                                                     0      \n",
       "...                                                 ...      \n",
       "5639                                                  0      \n",
       "5640                                                  0      \n",
       "5641                                                  0      \n",
       "5642                                                  0      \n",
       "5643                                                  0      \n",
       "\n",
       "[5644 rows x 5 columns]"
      ]
     },
     "execution_count": 29,
     "metadata": {},
     "output_type": "execute_result"
    }
   ],
   "source": [
    "cbf"
   ]
  },
  {
   "cell_type": "code",
   "execution_count": 35,
   "metadata": {},
   "outputs": [
    {
     "data": {
      "text/html": [
       "<div>\n",
       "<style scoped>\n",
       "    .dataframe tbody tr th:only-of-type {\n",
       "        vertical-align: middle;\n",
       "    }\n",
       "\n",
       "    .dataframe tbody tr th {\n",
       "        vertical-align: top;\n",
       "    }\n",
       "\n",
       "    .dataframe thead th {\n",
       "        text-align: right;\n",
       "    }\n",
       "</style>\n",
       "<table border=\"1\" class=\"dataframe\">\n",
       "  <thead>\n",
       "    <tr style=\"text-align: right;\">\n",
       "      <th></th>\n",
       "      <th>Patient age quantile</th>\n",
       "      <th>SARS-Cov-2 exam result</th>\n",
       "      <th>Patient addmited to regular ward (1=yes, 0=no)</th>\n",
       "      <th>Patient addmited to semi-intensive unit (1=yes, 0=no)</th>\n",
       "      <th>Patient addmited to intensive care unit (1=yes, 0=no)</th>\n",
       "    </tr>\n",
       "  </thead>\n",
       "  <tbody>\n",
       "    <tr>\n",
       "      <td>Patient age quantile</td>\n",
       "      <td>1.000000</td>\n",
       "      <td>0.075244</td>\n",
       "      <td>0.046166</td>\n",
       "      <td>0.015736</td>\n",
       "      <td>-0.035772</td>\n",
       "    </tr>\n",
       "    <tr>\n",
       "      <td>SARS-Cov-2 exam result</td>\n",
       "      <td>0.075244</td>\n",
       "      <td>1.000000</td>\n",
       "      <td>0.142437</td>\n",
       "      <td>0.019364</td>\n",
       "      <td>0.027586</td>\n",
       "    </tr>\n",
       "    <tr>\n",
       "      <td>Patient addmited to regular ward (1=yes, 0=no)</td>\n",
       "      <td>0.046166</td>\n",
       "      <td>0.142437</td>\n",
       "      <td>1.000000</td>\n",
       "      <td>-0.011264</td>\n",
       "      <td>-0.010192</td>\n",
       "    </tr>\n",
       "    <tr>\n",
       "      <td>Patient addmited to semi-intensive unit (1=yes, 0=no)</td>\n",
       "      <td>0.015736</td>\n",
       "      <td>0.019364</td>\n",
       "      <td>-0.011264</td>\n",
       "      <td>1.000000</td>\n",
       "      <td>-0.008087</td>\n",
       "    </tr>\n",
       "    <tr>\n",
       "      <td>Patient addmited to intensive care unit (1=yes, 0=no)</td>\n",
       "      <td>-0.035772</td>\n",
       "      <td>0.027586</td>\n",
       "      <td>-0.010192</td>\n",
       "      <td>-0.008087</td>\n",
       "      <td>1.000000</td>\n",
       "    </tr>\n",
       "  </tbody>\n",
       "</table>\n",
       "</div>"
      ],
      "text/plain": [
       "                                                    Patient age quantile  \\\n",
       "Patient age quantile                                            1.000000   \n",
       "SARS-Cov-2 exam result                                          0.075244   \n",
       "Patient addmited to regular ward (1=yes, 0=no)                  0.046166   \n",
       "Patient addmited to semi-intensive unit (1=yes,...              0.015736   \n",
       "Patient addmited to intensive care unit (1=yes,...             -0.035772   \n",
       "\n",
       "                                                    SARS-Cov-2 exam result  \\\n",
       "Patient age quantile                                              0.075244   \n",
       "SARS-Cov-2 exam result                                            1.000000   \n",
       "Patient addmited to regular ward (1=yes, 0=no)                    0.142437   \n",
       "Patient addmited to semi-intensive unit (1=yes,...                0.019364   \n",
       "Patient addmited to intensive care unit (1=yes,...                0.027586   \n",
       "\n",
       "                                                    Patient addmited to regular ward (1=yes, 0=no)  \\\n",
       "Patient age quantile                                                                      0.046166   \n",
       "SARS-Cov-2 exam result                                                                    0.142437   \n",
       "Patient addmited to regular ward (1=yes, 0=no)                                            1.000000   \n",
       "Patient addmited to semi-intensive unit (1=yes,...                                       -0.011264   \n",
       "Patient addmited to intensive care unit (1=yes,...                                       -0.010192   \n",
       "\n",
       "                                                    Patient addmited to semi-intensive unit (1=yes, 0=no)  \\\n",
       "Patient age quantile                                                                         0.015736       \n",
       "SARS-Cov-2 exam result                                                                       0.019364       \n",
       "Patient addmited to regular ward (1=yes, 0=no)                                              -0.011264       \n",
       "Patient addmited to semi-intensive unit (1=yes,...                                           1.000000       \n",
       "Patient addmited to intensive care unit (1=yes,...                                          -0.008087       \n",
       "\n",
       "                                                    Patient addmited to intensive care unit (1=yes, 0=no)  \n",
       "Patient age quantile                                                                        -0.035772      \n",
       "SARS-Cov-2 exam result                                                                       0.027586      \n",
       "Patient addmited to regular ward (1=yes, 0=no)                                              -0.010192      \n",
       "Patient addmited to semi-intensive unit (1=yes,...                                          -0.008087      \n",
       "Patient addmited to intensive care unit (1=yes,...                                           1.000000      "
      ]
     },
     "execution_count": 35,
     "metadata": {},
     "output_type": "execute_result"
    }
   ],
   "source": [
    "cbf.corr()"
   ]
  },
  {
   "cell_type": "markdown",
   "metadata": {},
   "source": [
    "although,the features are without null values, the columns are indepedent"
   ]
  },
  {
   "cell_type": "code",
   "execution_count": 36,
   "metadata": {},
   "outputs": [
    {
     "data": {
      "text/plain": [
       "<matplotlib.axes._subplots.AxesSubplot at 0x1daf7af06c8>"
      ]
     },
     "execution_count": 36,
     "metadata": {},
     "output_type": "execute_result"
    },
    {
     "data": {
      "image/png": "[encoded data removed]",
      "text/plain": [
       "<Figure size 432x288 with 2 Axes>"
      ]
     },
     "metadata": {
      "needs_background": "light"
     },
     "output_type": "display_data"
    }
   ],
   "source": [
    "sbn.heatmap(cbf.corr())"
   ]
  },
  {
   "cell_type": "markdown",
   "metadata": {},
   "source": [
    "The above heatmap shows, features are less correlated.."
   ]
  },
  {
   "cell_type": "code",
   "execution_count": 39,
   "metadata": {},
   "outputs": [
    {
     "data": {
      "text/plain": [
       "Patient age quantile  SARS-Cov-2 exam result\n",
       "0                     1                           1\n",
       "                      0                         333\n",
       "1                     1                           2\n",
       "                      0                         232\n",
       "2                     1                           5\n",
       "                      0                         310\n",
       "3                     1                          17\n",
       "                      0                         234\n",
       "4                     1                          47\n",
       "                      0                         319\n",
       "5                     1                          44\n",
       "                      0                         250\n",
       "6                     1                          33\n",
       "                      0                         248\n",
       "7                     1                          30\n",
       "                      0                         289\n",
       "8                     1                          27\n",
       "                      0                         140\n",
       "9                     1                          44\n",
       "                      0                         315\n",
       "10                    1                          27\n",
       "                      0                         163\n",
       "11                    1                          40\n",
       "                      0                         340\n",
       "12                    1                          26\n",
       "                      0                         171\n",
       "13                    1                          30\n",
       "                      0                         283\n",
       "14                    1                          39\n",
       "                      0                         260\n",
       "15                    1                          35\n",
       "                      0                         234\n",
       "16                    1                          29\n",
       "                      0                         250\n",
       "17                    1                          19\n",
       "                      0                         244\n",
       "18                    1                          26\n",
       "                      0                         233\n",
       "19                    1                          37\n",
       "                      0                         238\n",
       "Name: SARS-Cov-2 exam result, dtype: int64"
      ]
     },
     "execution_count": 39,
     "metadata": {},
     "output_type": "execute_result"
    }
   ],
   "source": [
    "cbf.groupby(['Patient age quantile'])['SARS-Cov-2 exam result'].value_counts(ascending=True)"
   ]
  },
  {
   "cell_type": "code",
   "execution_count": 40,
   "metadata": {},
   "outputs": [
    {
     "data": {
      "text/plain": [
       "Patient addmited to regular ward (1=yes, 0=no)  SARS-Cov-2 exam result\n",
       "0                                               1                          522\n",
       "                                                0                         5043\n",
       "1                                               1                           36\n",
       "                                                0                           43\n",
       "Name: SARS-Cov-2 exam result, dtype: int64"
      ]
     },
     "execution_count": 40,
     "metadata": {},
     "output_type": "execute_result"
    }
   ],
   "source": [
    "cbf.groupby(['Patient addmited to regular ward (1=yes, 0=no)'])['SARS-Cov-2 exam result'].value_counts(ascending=True)"
   ]
  },
  {
   "cell_type": "markdown",
   "metadata": {},
   "source": [
    "It is observed that most of the cases are negative and most patients are not admitted in regular ward."
   ]
  },
  {
   "cell_type": "code",
   "execution_count": 30,
   "metadata": {},
   "outputs": [],
   "source": [
    "#Seperating the feature and label..\n",
    "\n",
    "x=cbf.drop('SARS-Cov-2 exam result',axis=1)"
   ]
  },
  {
   "cell_type": "code",
   "execution_count": 31,
   "metadata": {},
   "outputs": [],
   "source": [
    "y=cbf['SARS-Cov-2 exam result']"
   ]
  },
  {
   "cell_type": "code",
   "execution_count": 32,
   "metadata": {},
   "outputs": [
    {
     "data": {
      "text/plain": [
       "(5644, 4)"
      ]
     },
     "execution_count": 32,
     "metadata": {},
     "output_type": "execute_result"
    }
   ],
   "source": [
    "x.shape"
   ]
  },
  {
   "cell_type": "code",
   "execution_count": 33,
   "metadata": {},
   "outputs": [
    {
     "data": {
      "text/plain": [
       "(5644,)"
      ]
     },
     "execution_count": 33,
     "metadata": {},
     "output_type": "execute_result"
    }
   ],
   "source": [
    "y.shape"
   ]
  },
  {
   "cell_type": "code",
   "execution_count": 41,
   "metadata": {},
   "outputs": [
    {
     "data": {
      "text/html": [
       "<div>\n",
       "<style scoped>\n",
       "    .dataframe tbody tr th:only-of-type {\n",
       "        vertical-align: middle;\n",
       "    }\n",
       "\n",
       "    .dataframe tbody tr th {\n",
       "        vertical-align: top;\n",
       "    }\n",
       "\n",
       "    .dataframe thead th {\n",
       "        text-align: right;\n",
       "    }\n",
       "</style>\n",
       "<table border=\"1\" class=\"dataframe\">\n",
       "  <thead>\n",
       "    <tr style=\"text-align: right;\">\n",
       "      <th></th>\n",
       "      <th>Patient age quantile</th>\n",
       "      <th>Patient addmited to regular ward (1=yes, 0=no)</th>\n",
       "      <th>Patient addmited to semi-intensive unit (1=yes, 0=no)</th>\n",
       "      <th>Patient addmited to intensive care unit (1=yes, 0=no)</th>\n",
       "    </tr>\n",
       "  </thead>\n",
       "  <tbody>\n",
       "    <tr>\n",
       "      <td>0</td>\n",
       "      <td>13</td>\n",
       "      <td>0</td>\n",
       "      <td>0</td>\n",
       "      <td>0</td>\n",
       "    </tr>\n",
       "    <tr>\n",
       "      <td>1</td>\n",
       "      <td>17</td>\n",
       "      <td>0</td>\n",
       "      <td>0</td>\n",
       "      <td>0</td>\n",
       "    </tr>\n",
       "    <tr>\n",
       "      <td>2</td>\n",
       "      <td>8</td>\n",
       "      <td>0</td>\n",
       "      <td>0</td>\n",
       "      <td>0</td>\n",
       "    </tr>\n",
       "    <tr>\n",
       "      <td>3</td>\n",
       "      <td>5</td>\n",
       "      <td>0</td>\n",
       "      <td>0</td>\n",
       "      <td>0</td>\n",
       "    </tr>\n",
       "    <tr>\n",
       "      <td>4</td>\n",
       "      <td>15</td>\n",
       "      <td>0</td>\n",
       "      <td>0</td>\n",
       "      <td>0</td>\n",
       "    </tr>\n",
       "  </tbody>\n",
       "</table>\n",
       "</div>"
      ],
      "text/plain": [
       "   Patient age quantile  Patient addmited to regular ward (1=yes, 0=no)  \\\n",
       "0                    13                                               0   \n",
       "1                    17                                               0   \n",
       "2                     8                                               0   \n",
       "3                     5                                               0   \n",
       "4                    15                                               0   \n",
       "\n",
       "   Patient addmited to semi-intensive unit (1=yes, 0=no)  \\\n",
       "0                                                  0       \n",
       "1                                                  0       \n",
       "2                                                  0       \n",
       "3                                                  0       \n",
       "4                                                  0       \n",
       "\n",
       "   Patient addmited to intensive care unit (1=yes, 0=no)  \n",
       "0                                                  0      \n",
       "1                                                  0      \n",
       "2                                                  0      \n",
       "3                                                  0      \n",
       "4                                                  0      "
      ]
     },
     "execution_count": 41,
     "metadata": {},
     "output_type": "execute_result"
    }
   ],
   "source": [
    "x.head()"
   ]
  },
  {
   "cell_type": "code",
   "execution_count": 42,
   "metadata": {},
   "outputs": [],
   "source": [
    "#Bringing down the features to common scale\n",
    "\n",
    "sc=StandardScaler()\n",
    "x=sc.fit_transform(x)"
   ]
  },
  {
   "cell_type": "code",
   "execution_count": 43,
   "metadata": {},
   "outputs": [],
   "source": [
    "from sklearn.model_selection import train_test_split\n",
    "\n",
    "x_train,x_test,y_train,y_test=train_test_split(x,y,test_size=.22,random_state=43)"
   ]
  },
  {
   "cell_type": "code",
   "execution_count": 44,
   "metadata": {},
   "outputs": [],
   "source": [
    "#Selecting the max accuracy,best random state\n",
    "\n",
    "def accuracy(model,x,y):\n",
    "    max_acc=0\n",
    "    for rst in range(40,100):\n",
    "        x_train,x_test,y_train,y_test=train_test_split(x,y,random_state=rst,test_size=.22)\n",
    "        model.fit(x_train,y_train)\n",
    "        predy=model.predict(x_test)\n",
    "        acc=accuracy_score(y_test,predy)\n",
    "        print('Accuracy is',acc,'for the random state',rst)\n",
    "        if acc>max_acc:\n",
    "            max_acc=acc\n",
    "            f_rst=rst\n",
    "    print('Maximum accuracy is ',max_acc,'and acquired at',f_rst)\n",
    "    return f_rst"
   ]
  },
  {
   "cell_type": "code",
   "execution_count": 45,
   "metadata": {},
   "outputs": [
    {
     "name": "stdout",
     "output_type": "stream",
     "text": [
      "Accuracy is 0.9114331723027376 for the random state 40\n",
      "Accuracy is 0.9025764895330113 for the random state 41\n",
      "Accuracy is 0.9074074074074074 for the random state 42\n",
      "Accuracy is 0.9017713365539453 for the random state 43\n",
      "Accuracy is 0.9106280193236715 for the random state 44\n",
      "Accuracy is 0.8913043478260869 for the random state 45\n",
      "Accuracy is 0.9025764895330113 for the random state 46\n",
      "Accuracy is 0.9106280193236715 for the random state 47\n",
      "Accuracy is 0.892914653784219 for the random state 48\n",
      "Accuracy is 0.9074074074074074 for the random state 49\n",
      "Accuracy is 0.8921095008051529 for the random state 50\n",
      "Accuracy is 0.9025764895330113 for the random state 51\n",
      "Accuracy is 0.8985507246376812 for the random state 52\n",
      "Accuracy is 0.9049919484702094 for the random state 53\n",
      "Accuracy is 0.9082125603864735 for the random state 54\n",
      "Accuracy is 0.9009661835748792 for the random state 55\n",
      "Accuracy is 0.892914653784219 for the random state 56\n",
      "Accuracy is 0.8969404186795491 for the random state 57\n",
      "Accuracy is 0.9170692431561996 for the random state 58\n",
      "Accuracy is 0.9090177133655395 for the random state 59\n",
      "Accuracy is 0.9025764895330113 for the random state 60\n",
      "Accuracy is 0.9057971014492754 for the random state 61\n",
      "Accuracy is 0.8961352657004831 for the random state 62\n",
      "Accuracy is 0.9098228663446055 for the random state 63\n",
      "Accuracy is 0.9025764895330113 for the random state 64\n",
      "Accuracy is 0.8961352657004831 for the random state 65\n",
      "Accuracy is 0.9074074074074074 for the random state 66\n",
      "Accuracy is 0.8913043478260869 for the random state 67\n",
      "Accuracy is 0.9041867954911433 for the random state 68\n",
      "Accuracy is 0.894524959742351 for the random state 69\n",
      "Accuracy is 0.9251207729468599 for the random state 70\n",
      "Accuracy is 0.9041867954911433 for the random state 71\n",
      "Accuracy is 0.9098228663446055 for the random state 72\n",
      "Accuracy is 0.9009661835748792 for the random state 73\n",
      "Accuracy is 0.8904991948470209 for the random state 74\n",
      "Accuracy is 0.892914653784219 for the random state 75\n",
      "Accuracy is 0.9001610305958132 for the random state 76\n",
      "Accuracy is 0.9074074074074074 for the random state 77\n",
      "Accuracy is 0.9033816425120773 for the random state 78\n",
      "Accuracy is 0.8961352657004831 for the random state 79\n",
      "Accuracy is 0.9009661835748792 for the random state 80\n",
      "Accuracy is 0.895330112721417 for the random state 81\n",
      "Accuracy is 0.8864734299516909 for the random state 82\n",
      "Accuracy is 0.9041867954911433 for the random state 83\n",
      "Accuracy is 0.8985507246376812 for the random state 84\n",
      "Accuracy is 0.9001610305958132 for the random state 85\n",
      "Accuracy is 0.9057971014492754 for the random state 86\n",
      "Accuracy is 0.9033816425120773 for the random state 87\n",
      "Accuracy is 0.8921095008051529 for the random state 88\n",
      "Accuracy is 0.895330112721417 for the random state 89\n",
      "Accuracy is 0.895330112721417 for the random state 90\n",
      "Accuracy is 0.9219001610305958 for the random state 91\n",
      "Accuracy is 0.8872785829307569 for the random state 92\n",
      "Accuracy is 0.9106280193236715 for the random state 93\n",
      "Accuracy is 0.8969404186795491 for the random state 94\n",
      "Accuracy is 0.894524959742351 for the random state 95\n",
      "Accuracy is 0.9114331723027376 for the random state 96\n",
      "Accuracy is 0.9090177133655395 for the random state 97\n",
      "Accuracy is 0.9041867954911433 for the random state 98\n",
      "Accuracy is 0.9049919484702094 for the random state 99\n",
      "Maximum accuracy is  0.9251207729468599 and acquired at 70\n"
     ]
    },
    {
     "data": {
      "text/plain": [
       "70"
      ]
     },
     "execution_count": 45,
     "metadata": {},
     "output_type": "execute_result"
    }
   ],
   "source": [
    "#Performing several models to find best score..\n",
    "lor=LogisticRegression()\n",
    "accuracy(lor,x,y)"
   ]
  },
  {
   "cell_type": "code",
   "execution_count": 46,
   "metadata": {},
   "outputs": [
    {
     "name": "stdout",
     "output_type": "stream",
     "text": [
      "Accuracy is 0.9146537842190016 for the random state 40\n",
      "Accuracy is 0.9049919484702094 for the random state 41\n",
      "Accuracy is 0.9057971014492754 for the random state 42\n",
      "Accuracy is 0.9009661835748792 for the random state 43\n",
      "Accuracy is 0.9090177133655395 for the random state 44\n",
      "Accuracy is 0.892914653784219 for the random state 45\n",
      "Accuracy is 0.9001610305958132 for the random state 46\n",
      "Accuracy is 0.9057971014492754 for the random state 47\n",
      "Accuracy is 0.8921095008051529 for the random state 48\n",
      "Accuracy is 0.9082125603864735 for the random state 49\n",
      "Accuracy is 0.895330112721417 for the random state 50\n",
      "Accuracy is 0.9057971014492754 for the random state 51\n",
      "Accuracy is 0.8969404186795491 for the random state 52\n",
      "Accuracy is 0.9057971014492754 for the random state 53\n",
      "Accuracy is 0.9114331723027376 for the random state 54\n",
      "Accuracy is 0.8977455716586151 for the random state 55\n",
      "Accuracy is 0.895330112721417 for the random state 56\n",
      "Accuracy is 0.8961352657004831 for the random state 57\n",
      "Accuracy is 0.9154589371980676 for the random state 58\n",
      "Accuracy is 0.9098228663446055 for the random state 59\n",
      "Accuracy is 0.9017713365539453 for the random state 60\n",
      "Accuracy is 0.9041867954911433 for the random state 61\n",
      "Accuracy is 0.892914653784219 for the random state 62\n",
      "Accuracy is 0.9106280193236715 for the random state 63\n",
      "Accuracy is 0.9025764895330113 for the random state 64\n",
      "Accuracy is 0.8977455716586151 for the random state 65\n",
      "Accuracy is 0.9057971014492754 for the random state 66\n",
      "Accuracy is 0.893719806763285 for the random state 67\n",
      "Accuracy is 0.9033816425120773 for the random state 68\n",
      "Accuracy is 0.8961352657004831 for the random state 69\n",
      "Accuracy is 0.9219001610305958 for the random state 70\n",
      "Accuracy is 0.8985507246376812 for the random state 71\n",
      "Accuracy is 0.9074074074074074 for the random state 72\n",
      "Accuracy is 0.9001610305958132 for the random state 73\n",
      "Accuracy is 0.8872785829307569 for the random state 74\n",
      "Accuracy is 0.8921095008051529 for the random state 75\n",
      "Accuracy is 0.8985507246376812 for the random state 76\n",
      "Accuracy is 0.9082125603864735 for the random state 77\n",
      "Accuracy is 0.9009661835748792 for the random state 78\n",
      "Accuracy is 0.8969404186795491 for the random state 79\n",
      "Accuracy is 0.8969404186795491 for the random state 80\n",
      "Accuracy is 0.8993558776167472 for the random state 81\n",
      "Accuracy is 0.8888888888888888 for the random state 82\n",
      "Accuracy is 0.9041867954911433 for the random state 83\n",
      "Accuracy is 0.8993558776167472 for the random state 84\n",
      "Accuracy is 0.8985507246376812 for the random state 85\n",
      "Accuracy is 0.9049919484702094 for the random state 86\n",
      "Accuracy is 0.9049919484702094 for the random state 87\n",
      "Accuracy is 0.895330112721417 for the random state 88\n",
      "Accuracy is 0.893719806763285 for the random state 89\n",
      "Accuracy is 0.8985507246376812 for the random state 90\n",
      "Accuracy is 0.9202898550724637 for the random state 91\n",
      "Accuracy is 0.8904991948470209 for the random state 92\n",
      "Accuracy is 0.9090177133655395 for the random state 93\n",
      "Accuracy is 0.894524959742351 for the random state 94\n",
      "Accuracy is 0.892914653784219 for the random state 95\n",
      "Accuracy is 0.9138486312399355 for the random state 96\n",
      "Accuracy is 0.9074074074074074 for the random state 97\n",
      "Accuracy is 0.9009661835748792 for the random state 98\n",
      "Accuracy is 0.9017713365539453 for the random state 99\n",
      "Maximum accuracy is  0.9219001610305958 and acquired at 70\n"
     ]
    },
    {
     "data": {
      "text/plain": [
       "70"
      ]
     },
     "execution_count": 46,
     "metadata": {},
     "output_type": "execute_result"
    }
   ],
   "source": [
    "dt=DecisionTreeClassifier()\n",
    "accuracy(dt,x,y)"
   ]
  },
  {
   "cell_type": "code",
   "execution_count": 47,
   "metadata": {},
   "outputs": [
    {
     "name": "stdout",
     "output_type": "stream",
     "text": [
      "Accuracy is 0.8276972624798712 for the random state 40\n",
      "Accuracy is 0.855877616747182 for the random state 41\n",
      "Accuracy is 0.9066022544283414 for the random state 42\n",
      "Accuracy is 0.9001610305958132 for the random state 43\n",
      "Accuracy is 0.8760064412238325 for the random state 44\n",
      "Accuracy is 0.8961352657004831 for the random state 45\n",
      "Accuracy is 0.9001610305958132 for the random state 46\n",
      "Accuracy is 0.9049919484702094 for the random state 47\n",
      "Accuracy is 0.8011272141706924 for the random state 48\n",
      "Accuracy is 0.8711755233494364 for the random state 49\n",
      "Accuracy is 0.894524959742351 for the random state 50\n",
      "Accuracy is 0.8494363929146538 for the random state 51\n",
      "Accuracy is 0.8977455716586151 for the random state 52\n",
      "Accuracy is 0.9090177133655395 for the random state 53\n",
      "Accuracy is 0.9114331723027376 for the random state 54\n",
      "Accuracy is 0.8615136876006442 for the random state 55\n",
      "Accuracy is 0.894524959742351 for the random state 56\n",
      "Accuracy is 0.8977455716586151 for the random state 57\n",
      "Accuracy is 0.9162640901771336 for the random state 58\n",
      "Accuracy is 0.8880837359098228 for the random state 59\n",
      "Accuracy is 0.9049919484702094 for the random state 60\n",
      "Accuracy is 0.8679549114331723 for the random state 61\n",
      "Accuracy is 0.8969404186795491 for the random state 62\n",
      "Accuracy is 0.9106280193236715 for the random state 63\n",
      "Accuracy is 0.8993558776167472 for the random state 64\n",
      "Accuracy is 0.895330112721417 for the random state 65\n",
      "Accuracy is 0.9049919484702094 for the random state 66\n",
      "Accuracy is 0.857487922705314 for the random state 67\n",
      "Accuracy is 0.9017713365539453 for the random state 68\n",
      "Accuracy is 0.8413848631239935 for the random state 69\n",
      "Accuracy is 0.9235104669887279 for the random state 70\n",
      "Accuracy is 0.9001610305958132 for the random state 71\n",
      "Accuracy is 0.8462157809983897 for the random state 72\n",
      "Accuracy is 0.9017713365539453 for the random state 73\n",
      "Accuracy is 0.8880837359098228 for the random state 74\n",
      "Accuracy is 0.9001610305958132 for the random state 75\n",
      "Accuracy is 0.8623188405797102 for the random state 76\n",
      "Accuracy is 0.8921095008051529 for the random state 77\n",
      "Accuracy is 0.9017713365539453 for the random state 78\n",
      "Accuracy is 0.8140096618357487 for the random state 79\n",
      "Accuracy is 0.8961352657004831 for the random state 80\n",
      "Accuracy is 0.855072463768116 for the random state 81\n",
      "Accuracy is 0.8872785829307569 for the random state 82\n",
      "Accuracy is 0.8888888888888888 for the random state 83\n",
      "Accuracy is 0.8107890499194848 for the random state 84\n",
      "Accuracy is 0.8792270531400966 for the random state 85\n",
      "Accuracy is 0.9033816425120773 for the random state 86\n",
      "Accuracy is 0.9066022544283414 for the random state 87\n",
      "Accuracy is 0.8985507246376812 for the random state 88\n",
      "Accuracy is 0.893719806763285 for the random state 89\n",
      "Accuracy is 0.8695652173913043 for the random state 90\n",
      "Accuracy is 0.9219001610305958 for the random state 91\n",
      "Accuracy is 0.855072463768116 for the random state 92\n",
      "Accuracy is 0.8896940418679549 for the random state 93\n",
      "Accuracy is 0.8961352657004831 for the random state 94\n",
      "Accuracy is 0.8921095008051529 for the random state 95\n",
      "Accuracy is 0.8639291465378421 for the random state 96\n",
      "Accuracy is 0.8639291465378421 for the random state 97\n",
      "Accuracy is 0.8599033816425121 for the random state 98\n",
      "Accuracy is 0.8687600644122383 for the random state 99\n",
      "Maximum accuracy is  0.9235104669887279 and acquired at 70\n"
     ]
    },
    {
     "data": {
      "text/plain": [
       "70"
      ]
     },
     "execution_count": 47,
     "metadata": {},
     "output_type": "execute_result"
    }
   ],
   "source": [
    "kn=KNeighborsClassifier(n_neighbors=3)\n",
    "accuracy(kn,x,y)"
   ]
  },
  {
   "cell_type": "code",
   "execution_count": 48,
   "metadata": {},
   "outputs": [
    {
     "name": "stdout",
     "output_type": "stream",
     "text": [
      "Accuracy is 0.9154589371980676 for the random state 40\n",
      "Accuracy is 0.9049919484702094 for the random state 41\n",
      "Accuracy is 0.9090177133655395 for the random state 42\n",
      "Accuracy is 0.9009661835748792 for the random state 43\n",
      "Accuracy is 0.9106280193236715 for the random state 44\n",
      "Accuracy is 0.894524959742351 for the random state 45\n",
      "Accuracy is 0.9025764895330113 for the random state 46\n",
      "Accuracy is 0.9090177133655395 for the random state 47\n",
      "Accuracy is 0.8969404186795491 for the random state 48\n",
      "Accuracy is 0.9082125603864735 for the random state 49\n",
      "Accuracy is 0.893719806763285 for the random state 50\n",
      "Accuracy is 0.9074074074074074 for the random state 51\n",
      "Accuracy is 0.8985507246376812 for the random state 52\n",
      "Accuracy is 0.9122383252818036 for the random state 53\n",
      "Accuracy is 0.9122383252818036 for the random state 54\n",
      "Accuracy is 0.9033816425120773 for the random state 55\n",
      "Accuracy is 0.8961352657004831 for the random state 56\n",
      "Accuracy is 0.8961352657004831 for the random state 57\n",
      "Accuracy is 0.9154589371980676 for the random state 58\n",
      "Accuracy is 0.9114331723027376 for the random state 59\n",
      "Accuracy is 0.9017713365539453 for the random state 60\n",
      "Accuracy is 0.9049919484702094 for the random state 61\n",
      "Accuracy is 0.9001610305958132 for the random state 62\n",
      "Accuracy is 0.9122383252818036 for the random state 63\n",
      "Accuracy is 0.9057971014492754 for the random state 64\n",
      "Accuracy is 0.8993558776167472 for the random state 65\n",
      "Accuracy is 0.9074074074074074 for the random state 66\n",
      "Accuracy is 0.8961352657004831 for the random state 67\n",
      "Accuracy is 0.9057971014492754 for the random state 68\n",
      "Accuracy is 0.8977455716586151 for the random state 69\n",
      "Accuracy is 0.9251207729468599 for the random state 70\n",
      "Accuracy is 0.9001610305958132 for the random state 71\n",
      "Accuracy is 0.9041867954911433 for the random state 72\n",
      "Accuracy is 0.9025764895330113 for the random state 73\n",
      "Accuracy is 0.8896940418679549 for the random state 74\n",
      "Accuracy is 0.892914653784219 for the random state 75\n",
      "Accuracy is 0.9009661835748792 for the random state 76\n",
      "Accuracy is 0.9098228663446055 for the random state 77\n",
      "Accuracy is 0.9033816425120773 for the random state 78\n",
      "Accuracy is 0.9001610305958132 for the random state 79\n",
      "Accuracy is 0.8977455716586151 for the random state 80\n",
      "Accuracy is 0.8977455716586151 for the random state 81\n",
      "Accuracy is 0.8880837359098228 for the random state 82\n",
      "Accuracy is 0.9057971014492754 for the random state 83\n",
      "Accuracy is 0.9017713365539453 for the random state 84\n",
      "Accuracy is 0.9009661835748792 for the random state 85\n",
      "Accuracy is 0.9082125603864735 for the random state 86\n",
      "Accuracy is 0.9082125603864735 for the random state 87\n",
      "Accuracy is 0.8969404186795491 for the random state 88\n",
      "Accuracy is 0.8977455716586151 for the random state 89\n",
      "Accuracy is 0.8969404186795491 for the random state 90\n",
      "Accuracy is 0.9227053140096618 for the random state 91\n",
      "Accuracy is 0.893719806763285 for the random state 92\n",
      "Accuracy is 0.9138486312399355 for the random state 93\n",
      "Accuracy is 0.8961352657004831 for the random state 94\n",
      "Accuracy is 0.895330112721417 for the random state 95\n",
      "Accuracy is 0.9178743961352657 for the random state 96\n",
      "Accuracy is 0.9114331723027376 for the random state 97\n",
      "Accuracy is 0.9041867954911433 for the random state 98\n",
      "Accuracy is 0.9033816425120773 for the random state 99\n",
      "Maximum accuracy is  0.9251207729468599 and acquired at 70\n"
     ]
    },
    {
     "data": {
      "text/plain": [
       "70"
      ]
     },
     "execution_count": 48,
     "metadata": {},
     "output_type": "execute_result"
    }
   ],
   "source": [
    "sv=SVC(kernel='rbf')\n",
    "accuracy(sv,x,y)"
   ]
  },
  {
   "cell_type": "code",
   "execution_count": 49,
   "metadata": {},
   "outputs": [
    {
     "name": "stdout",
     "output_type": "stream",
     "text": [
      "Accuracy is 0.9154589371980676 for the random state 40\n",
      "Accuracy is 0.9041867954911433 for the random state 41\n",
      "Accuracy is 0.9090177133655395 for the random state 42\n",
      "Accuracy is 0.9017713365539453 for the random state 43\n",
      "Accuracy is 0.9090177133655395 for the random state 44\n",
      "Accuracy is 0.895330112721417 for the random state 45\n",
      "Accuracy is 0.9001610305958132 for the random state 46\n",
      "Accuracy is 0.9049919484702094 for the random state 47\n",
      "Accuracy is 0.8921095008051529 for the random state 48\n",
      "Accuracy is 0.9074074074074074 for the random state 49\n",
      "Accuracy is 0.8921095008051529 for the random state 50\n",
      "Accuracy is 0.9066022544283414 for the random state 51\n",
      "Accuracy is 0.8961352657004831 for the random state 52\n",
      "Accuracy is 0.9057971014492754 for the random state 53\n",
      "Accuracy is 0.9114331723027376 for the random state 54\n",
      "Accuracy is 0.9001610305958132 for the random state 55\n",
      "Accuracy is 0.895330112721417 for the random state 56\n",
      "Accuracy is 0.8969404186795491 for the random state 57\n",
      "Accuracy is 0.9162640901771336 for the random state 58\n",
      "Accuracy is 0.9098228663446055 for the random state 59\n",
      "Accuracy is 0.9041867954911433 for the random state 60\n",
      "Accuracy is 0.9017713365539453 for the random state 61\n",
      "Accuracy is 0.8969404186795491 for the random state 62\n",
      "Accuracy is 0.9106280193236715 for the random state 63\n",
      "Accuracy is 0.9049919484702094 for the random state 64\n",
      "Accuracy is 0.8977455716586151 for the random state 65\n",
      "Accuracy is 0.9082125603864735 for the random state 66\n",
      "Accuracy is 0.8921095008051529 for the random state 67\n",
      "Accuracy is 0.9041867954911433 for the random state 68\n",
      "Accuracy is 0.8961352657004831 for the random state 69\n",
      "Accuracy is 0.9219001610305958 for the random state 70\n",
      "Accuracy is 0.9001610305958132 for the random state 71\n",
      "Accuracy is 0.9074074074074074 for the random state 72\n",
      "Accuracy is 0.9001610305958132 for the random state 73\n",
      "Accuracy is 0.8880837359098228 for the random state 74\n",
      "Accuracy is 0.892914653784219 for the random state 75\n",
      "Accuracy is 0.8993558776167472 for the random state 76\n",
      "Accuracy is 0.9090177133655395 for the random state 77\n",
      "Accuracy is 0.9017713365539453 for the random state 78\n",
      "Accuracy is 0.8969404186795491 for the random state 79\n",
      "Accuracy is 0.8969404186795491 for the random state 80\n",
      "Accuracy is 0.8985507246376812 for the random state 81\n",
      "Accuracy is 0.8856682769726248 for the random state 82\n",
      "Accuracy is 0.9041867954911433 for the random state 83\n",
      "Accuracy is 0.8993558776167472 for the random state 84\n",
      "Accuracy is 0.8993558776167472 for the random state 85\n",
      "Accuracy is 0.9041867954911433 for the random state 86\n",
      "Accuracy is 0.9074074074074074 for the random state 87\n",
      "Accuracy is 0.8961352657004831 for the random state 88\n",
      "Accuracy is 0.892914653784219 for the random state 89\n",
      "Accuracy is 0.8993558776167472 for the random state 90\n",
      "Accuracy is 0.9210950080515298 for the random state 91\n",
      "Accuracy is 0.8921095008051529 for the random state 92\n",
      "Accuracy is 0.9106280193236715 for the random state 93\n",
      "Accuracy is 0.8961352657004831 for the random state 94\n",
      "Accuracy is 0.893719806763285 for the random state 95\n",
      "Accuracy is 0.9162640901771336 for the random state 96\n",
      "Accuracy is 0.9049919484702094 for the random state 97\n",
      "Accuracy is 0.9049919484702094 for the random state 98\n",
      "Accuracy is 0.9033816425120773 for the random state 99\n",
      "Maximum accuracy is  0.9219001610305958 and acquired at 70\n"
     ]
    },
    {
     "data": {
      "text/plain": [
       "70"
      ]
     },
     "execution_count": 49,
     "metadata": {},
     "output_type": "execute_result"
    }
   ],
   "source": [
    "rf=RandomForestClassifier(n_estimators=5)\n",
    "accuracy(rf,x,y)"
   ]
  },
  {
   "cell_type": "code",
   "execution_count": 51,
   "metadata": {},
   "outputs": [
    {
     "name": "stdout",
     "output_type": "stream",
     "text": [
      "mean accuracy of logistic regression is  0.8981201279249683\n",
      "Standard deviation of the model is  0.00538103042901538\n"
     ]
    }
   ],
   "source": [
    "#Cross validating the logistic regression model.\n",
    "cvs=cross_val_score(lor,x,y,cv=5,scoring='accuracy')\n",
    "print('mean accuracy of logistic regression is ',cvs.mean())\n",
    "print('Standard deviation of the model is ',cvs.std())\n"
   ]
  },
  {
   "cell_type": "code",
   "execution_count": 56,
   "metadata": {},
   "outputs": [
    {
     "name": "stdout",
     "output_type": "stream",
     "text": [
      "Accuracy is  0.9251207729468599\n",
      "Confusion matrix for the model [[1145    3]\n",
      " [  90    4]]\n",
      "Classification report               precision    recall  f1-score   support\n",
      "\n",
      "           0       0.93      1.00      0.96      1148\n",
      "           1       0.57      0.04      0.08        94\n",
      "\n",
      "    accuracy                           0.93      1242\n",
      "   macro avg       0.75      0.52      0.52      1242\n",
      "weighted avg       0.90      0.93      0.89      1242\n",
      "\n",
      "ROC AUC =0.586\n"
     ]
    }
   ],
   "source": [
    "#Fitting the best model\n",
    "\n",
    "x_train,x_test,y_train,y_test=train_test_split(x,y,random_state=70,test_size=.22)\n",
    "lor.fit(x_train,y_train)\n",
    "predy=lor.predict(x_test)\n",
    "acc=accuracy_score(y_test,predy)\n",
    "print('Accuracy is ',accuracy_score(y_test,predy))\n",
    "print('Confusion matrix for the model',confusion_matrix(y_test,predy))\n",
    "print('Classification report',classification_report(y_test,predy))\n",
    "lorp=lor.predict_proba(x_train)\n",
    "lorp=lorp[:,1]\n",
    "auc=roc_auc_score(y_train,lorp)\n",
    "print('ROC AUC =%.3f'%(auc))"
   ]
  },
  {
   "cell_type": "code",
   "execution_count": 61,
   "metadata": {},
   "outputs": [
    {
     "data": {
      "image/png": "[encoded data removed]",
      "text/plain": [
       "<Figure size 864x576 with 1 Axes>"
      ]
     },
     "metadata": {
      "needs_background": "light"
     },
     "output_type": "display_data"
    }
   ],
   "source": [
    "plt.figure(figsize=(12,8))\n",
    "yprob=lor.predict_proba(x_train)[::,1]\n",
    "fpr,tpr,_ =roc_curve(y_train,yprob)\n",
    "auc=roc_auc_score(y_train,yprob)\n",
    "plt.plot(fpr,tpr,label='cbf auc='+str(auc))\n",
    "plt.legend(loc=4)\n",
    "plt.show()"
   ]
  },
  {
   "cell_type": "markdown",
   "metadata": {},
   "source": [
    "Above plot represents area under curve for the model which is 0.58 in this case."
   ]
  },
  {
   "cell_type": "code",
   "execution_count": 62,
   "metadata": {},
   "outputs": [],
   "source": [
    "#Saving predictions and the model\n",
    "pdict=pd.DataFrame(predy,columns=['SARS-Cov-2 exam result'])\n",
    "pdict=pdict.to_csv('covidbrazilpredictions.csv',index=False)"
   ]
  },
  {
   "cell_type": "code",
   "execution_count": 63,
   "metadata": {},
   "outputs": [
    {
     "data": {
      "text/plain": [
       "['covidbrazilpredictions.pkl']"
      ]
     },
     "execution_count": 63,
     "metadata": {},
     "output_type": "execute_result"
    }
   ],
   "source": [
    "#Saving the model\n",
    "import joblib\n",
    "joblib.dump(lor,'covidbrazilpredictions.pkl')"
   ]
  },
  {
   "cell_type": "code",
   "execution_count": null,
   "metadata": {},
   "outputs": [],
   "source": []
  }
 ],
 "metadata": {
  "kernelspec": {
   "display_name": "Python 3",
   "language": "python",
   "name": "python3"
  },
  "language_info": {
   "codemirror_mode": {
    "name": "ipython",
    "version": 3
   },
   "file_extension": ".py",
   "mimetype": "text/x-python",
   "name": "python",
   "nbconvert_exporter": "python",
   "pygments_lexer": "ipython3",
   "version": "3.7.4"
  }
 },
 "nbformat": 4,
 "nbformat_minor": 2
}
