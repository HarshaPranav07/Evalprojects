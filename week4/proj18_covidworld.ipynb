{
 "cells": [
  {
   "cell_type": "code",
   "execution_count": 53,
   "metadata": {},
   "outputs": [],
   "source": [
    "import numpy as np\n",
    "import pandas as pd\n",
    "import seaborn as sbn\n",
    "\n",
    "from sklearn.linear_model import LinearRegression,Lasso,Ridge,ElasticNet\n",
    "from sklearn.naive_bayes import MultinomialNB\n",
    "from sklearn.tree import DecisionTreeClassifier,DecisionTreeRegressor\n",
    "from sklearn.svm import SVC\n",
    "from sklearn.neighbors import KNeighborsClassifier\n",
    "from sklearn.metrics import classification_report,confusion_matrix,accuracy_score\n",
    "from sklearn.ensemble import RandomForestRegressor\n",
    "from sklearn.model_selection import train_test_split,cross_val_score\n",
    "from sklearn.metrics import r2_score,mean_absolute_error,mean_squared_error\n",
    "\n",
    "import warnings\n",
    "\n",
    "warnings.filterwarnings('ignore')"
   ]
  },
  {
   "cell_type": "code",
   "execution_count": 2,
   "metadata": {},
   "outputs": [],
   "source": [
    "cw=pd.read_csv('covidworld.csv', encoding = \"ISO-8859-1\")"
   ]
  },
  {
   "cell_type": "code",
   "execution_count": 3,
   "metadata": {},
   "outputs": [
    {
     "data": {
      "text/plain": [
       "Date                    object\n",
       "Country                 object\n",
       "Population               int64\n",
       "Total Tests            float64\n",
       "Total Cases            float64\n",
       "Total Deaths           float64\n",
       "Total Recovered        float64\n",
       "Serious or Critical    float64\n",
       "Active Cases           float64\n",
       "dtype: object"
      ]
     },
     "execution_count": 3,
     "metadata": {},
     "output_type": "execute_result"
    }
   ],
   "source": [
    "#checking dtypes\n",
    "\n",
    "cw.dtypes"
   ]
  },
  {
   "cell_type": "code",
   "execution_count": 4,
   "metadata": {},
   "outputs": [],
   "source": [
    "#Splitting date\n",
    "\n",
    "cw['Month']=pd.to_datetime(cw['Date']).dt.month\n",
    "cw['Day']=pd.to_datetime(cw['Date']).dt.day\n",
    "cw['Year']=pd.to_datetime(cw['Date']).dt.year\n",
    "cw['Week']=pd.to_datetime(cw['Date']).dt.week"
   ]
  },
  {
   "cell_type": "code",
   "execution_count": 5,
   "metadata": {},
   "outputs": [
    {
     "data": {
      "text/html": [
       "<div>\n",
       "<style scoped>\n",
       "    .dataframe tbody tr th:only-of-type {\n",
       "        vertical-align: middle;\n",
       "    }\n",
       "\n",
       "    .dataframe tbody tr th {\n",
       "        vertical-align: top;\n",
       "    }\n",
       "\n",
       "    .dataframe thead th {\n",
       "        text-align: right;\n",
       "    }\n",
       "</style>\n",
       "<table border=\"1\" class=\"dataframe\">\n",
       "  <thead>\n",
       "    <tr style=\"text-align: right;\">\n",
       "      <th></th>\n",
       "      <th>Date</th>\n",
       "      <th>Country</th>\n",
       "      <th>Population</th>\n",
       "      <th>Total Tests</th>\n",
       "      <th>Total Cases</th>\n",
       "      <th>Total Deaths</th>\n",
       "      <th>Total Recovered</th>\n",
       "      <th>Serious or Critical</th>\n",
       "      <th>Active Cases</th>\n",
       "      <th>Month</th>\n",
       "      <th>Day</th>\n",
       "      <th>Year</th>\n",
       "      <th>Week</th>\n",
       "    </tr>\n",
       "  </thead>\n",
       "  <tbody>\n",
       "    <tr>\n",
       "      <td>0</td>\n",
       "      <td>2020-04-18</td>\n",
       "      <td>USA</td>\n",
       "      <td>330774664</td>\n",
       "      <td>3722145.0</td>\n",
       "      <td>738792.0</td>\n",
       "      <td>39014.0</td>\n",
       "      <td>68269.0</td>\n",
       "      <td>13551.0</td>\n",
       "      <td>631509.0</td>\n",
       "      <td>4</td>\n",
       "      <td>18</td>\n",
       "      <td>2020</td>\n",
       "      <td>16</td>\n",
       "    </tr>\n",
       "    <tr>\n",
       "      <td>1</td>\n",
       "      <td>2020-04-18</td>\n",
       "      <td>Russia</td>\n",
       "      <td>145927292</td>\n",
       "      <td>1831892.0</td>\n",
       "      <td>36793.0</td>\n",
       "      <td>313.0</td>\n",
       "      <td>3057.0</td>\n",
       "      <td>8.0</td>\n",
       "      <td>33423.0</td>\n",
       "      <td>4</td>\n",
       "      <td>18</td>\n",
       "      <td>2020</td>\n",
       "      <td>16</td>\n",
       "    </tr>\n",
       "    <tr>\n",
       "      <td>2</td>\n",
       "      <td>2020-04-18</td>\n",
       "      <td>Spain</td>\n",
       "      <td>46752703</td>\n",
       "      <td>930230.0</td>\n",
       "      <td>194416.0</td>\n",
       "      <td>20043.0</td>\n",
       "      <td>74797.0</td>\n",
       "      <td>7371.0</td>\n",
       "      <td>99576.0</td>\n",
       "      <td>4</td>\n",
       "      <td>18</td>\n",
       "      <td>2020</td>\n",
       "      <td>16</td>\n",
       "    </tr>\n",
       "    <tr>\n",
       "      <td>3</td>\n",
       "      <td>2020-04-18</td>\n",
       "      <td>Brazil</td>\n",
       "      <td>212380932</td>\n",
       "      <td>62985.0</td>\n",
       "      <td>36722.0</td>\n",
       "      <td>2361.0</td>\n",
       "      <td>14026.0</td>\n",
       "      <td>6634.0</td>\n",
       "      <td>20335.0</td>\n",
       "      <td>4</td>\n",
       "      <td>18</td>\n",
       "      <td>2020</td>\n",
       "      <td>16</td>\n",
       "    </tr>\n",
       "    <tr>\n",
       "      <td>4</td>\n",
       "      <td>2020-04-18</td>\n",
       "      <td>UK</td>\n",
       "      <td>67844241</td>\n",
       "      <td>460437.0</td>\n",
       "      <td>114217.0</td>\n",
       "      <td>15464.0</td>\n",
       "      <td>NaN</td>\n",
       "      <td>1559.0</td>\n",
       "      <td>98409.0</td>\n",
       "      <td>4</td>\n",
       "      <td>18</td>\n",
       "      <td>2020</td>\n",
       "      <td>16</td>\n",
       "    </tr>\n",
       "  </tbody>\n",
       "</table>\n",
       "</div>"
      ],
      "text/plain": [
       "         Date Country  Population  Total Tests  Total Cases  Total Deaths  \\\n",
       "0  2020-04-18     USA   330774664    3722145.0     738792.0       39014.0   \n",
       "1  2020-04-18  Russia   145927292    1831892.0      36793.0         313.0   \n",
       "2  2020-04-18   Spain    46752703     930230.0     194416.0       20043.0   \n",
       "3  2020-04-18  Brazil   212380932      62985.0      36722.0        2361.0   \n",
       "4  2020-04-18      UK    67844241     460437.0     114217.0       15464.0   \n",
       "\n",
       "   Total Recovered  Serious or Critical  Active Cases  Month  Day  Year  Week  \n",
       "0          68269.0              13551.0      631509.0      4   18  2020    16  \n",
       "1           3057.0                  8.0       33423.0      4   18  2020    16  \n",
       "2          74797.0               7371.0       99576.0      4   18  2020    16  \n",
       "3          14026.0               6634.0       20335.0      4   18  2020    16  \n",
       "4              NaN               1559.0       98409.0      4   18  2020    16  "
      ]
     },
     "execution_count": 5,
     "metadata": {},
     "output_type": "execute_result"
    }
   ],
   "source": [
    "cw.head()"
   ]
  },
  {
   "cell_type": "code",
   "execution_count": 6,
   "metadata": {},
   "outputs": [
    {
     "data": {
      "text/html": [
       "<div>\n",
       "<style scoped>\n",
       "    .dataframe tbody tr th:only-of-type {\n",
       "        vertical-align: middle;\n",
       "    }\n",
       "\n",
       "    .dataframe tbody tr th {\n",
       "        vertical-align: top;\n",
       "    }\n",
       "\n",
       "    .dataframe thead th {\n",
       "        text-align: right;\n",
       "    }\n",
       "</style>\n",
       "<table border=\"1\" class=\"dataframe\">\n",
       "  <thead>\n",
       "    <tr style=\"text-align: right;\">\n",
       "      <th></th>\n",
       "      <th>Country</th>\n",
       "      <th>Population</th>\n",
       "      <th>Total Tests</th>\n",
       "      <th>Total Cases</th>\n",
       "      <th>Total Deaths</th>\n",
       "      <th>Total Recovered</th>\n",
       "      <th>Serious or Critical</th>\n",
       "      <th>Active Cases</th>\n",
       "      <th>Month</th>\n",
       "      <th>Day</th>\n",
       "      <th>Year</th>\n",
       "      <th>Week</th>\n",
       "    </tr>\n",
       "  </thead>\n",
       "  <tbody>\n",
       "    <tr>\n",
       "      <td>0</td>\n",
       "      <td>USA</td>\n",
       "      <td>330774664</td>\n",
       "      <td>3722145.0</td>\n",
       "      <td>738792.0</td>\n",
       "      <td>39014.0</td>\n",
       "      <td>68269.0</td>\n",
       "      <td>13551.0</td>\n",
       "      <td>631509.0</td>\n",
       "      <td>4</td>\n",
       "      <td>18</td>\n",
       "      <td>2020</td>\n",
       "      <td>16</td>\n",
       "    </tr>\n",
       "    <tr>\n",
       "      <td>1</td>\n",
       "      <td>Russia</td>\n",
       "      <td>145927292</td>\n",
       "      <td>1831892.0</td>\n",
       "      <td>36793.0</td>\n",
       "      <td>313.0</td>\n",
       "      <td>3057.0</td>\n",
       "      <td>8.0</td>\n",
       "      <td>33423.0</td>\n",
       "      <td>4</td>\n",
       "      <td>18</td>\n",
       "      <td>2020</td>\n",
       "      <td>16</td>\n",
       "    </tr>\n",
       "    <tr>\n",
       "      <td>2</td>\n",
       "      <td>Spain</td>\n",
       "      <td>46752703</td>\n",
       "      <td>930230.0</td>\n",
       "      <td>194416.0</td>\n",
       "      <td>20043.0</td>\n",
       "      <td>74797.0</td>\n",
       "      <td>7371.0</td>\n",
       "      <td>99576.0</td>\n",
       "      <td>4</td>\n",
       "      <td>18</td>\n",
       "      <td>2020</td>\n",
       "      <td>16</td>\n",
       "    </tr>\n",
       "    <tr>\n",
       "      <td>3</td>\n",
       "      <td>Brazil</td>\n",
       "      <td>212380932</td>\n",
       "      <td>62985.0</td>\n",
       "      <td>36722.0</td>\n",
       "      <td>2361.0</td>\n",
       "      <td>14026.0</td>\n",
       "      <td>6634.0</td>\n",
       "      <td>20335.0</td>\n",
       "      <td>4</td>\n",
       "      <td>18</td>\n",
       "      <td>2020</td>\n",
       "      <td>16</td>\n",
       "    </tr>\n",
       "    <tr>\n",
       "      <td>4</td>\n",
       "      <td>UK</td>\n",
       "      <td>67844241</td>\n",
       "      <td>460437.0</td>\n",
       "      <td>114217.0</td>\n",
       "      <td>15464.0</td>\n",
       "      <td>NaN</td>\n",
       "      <td>1559.0</td>\n",
       "      <td>98409.0</td>\n",
       "      <td>4</td>\n",
       "      <td>18</td>\n",
       "      <td>2020</td>\n",
       "      <td>16</td>\n",
       "    </tr>\n",
       "    <tr>\n",
       "      <td>...</td>\n",
       "      <td>...</td>\n",
       "      <td>...</td>\n",
       "      <td>...</td>\n",
       "      <td>...</td>\n",
       "      <td>...</td>\n",
       "      <td>...</td>\n",
       "      <td>...</td>\n",
       "      <td>...</td>\n",
       "      <td>...</td>\n",
       "      <td>...</td>\n",
       "      <td>...</td>\n",
       "      <td>...</td>\n",
       "    </tr>\n",
       "    <tr>\n",
       "      <td>6598</td>\n",
       "      <td>St. Barth</td>\n",
       "      <td>9874</td>\n",
       "      <td>NaN</td>\n",
       "      <td>6.0</td>\n",
       "      <td>NaN</td>\n",
       "      <td>6.0</td>\n",
       "      <td>NaN</td>\n",
       "      <td>0.0</td>\n",
       "      <td>5</td>\n",
       "      <td>18</td>\n",
       "      <td>2020</td>\n",
       "      <td>21</td>\n",
       "    </tr>\n",
       "    <tr>\n",
       "      <td>6599</td>\n",
       "      <td>Western Sahara</td>\n",
       "      <td>595462</td>\n",
       "      <td>NaN</td>\n",
       "      <td>6.0</td>\n",
       "      <td>NaN</td>\n",
       "      <td>6.0</td>\n",
       "      <td>NaN</td>\n",
       "      <td>0.0</td>\n",
       "      <td>5</td>\n",
       "      <td>18</td>\n",
       "      <td>2020</td>\n",
       "      <td>21</td>\n",
       "    </tr>\n",
       "    <tr>\n",
       "      <td>6600</td>\n",
       "      <td>Anguilla</td>\n",
       "      <td>14987</td>\n",
       "      <td>NaN</td>\n",
       "      <td>3.0</td>\n",
       "      <td>NaN</td>\n",
       "      <td>3.0</td>\n",
       "      <td>NaN</td>\n",
       "      <td>0.0</td>\n",
       "      <td>5</td>\n",
       "      <td>18</td>\n",
       "      <td>2020</td>\n",
       "      <td>21</td>\n",
       "    </tr>\n",
       "    <tr>\n",
       "      <td>6601</td>\n",
       "      <td>Lesotho</td>\n",
       "      <td>2140235</td>\n",
       "      <td>NaN</td>\n",
       "      <td>1.0</td>\n",
       "      <td>NaN</td>\n",
       "      <td>NaN</td>\n",
       "      <td>NaN</td>\n",
       "      <td>1.0</td>\n",
       "      <td>5</td>\n",
       "      <td>18</td>\n",
       "      <td>2020</td>\n",
       "      <td>21</td>\n",
       "    </tr>\n",
       "    <tr>\n",
       "      <td>6602</td>\n",
       "      <td>Saint Pierre Miquelon</td>\n",
       "      <td>5797</td>\n",
       "      <td>NaN</td>\n",
       "      <td>1.0</td>\n",
       "      <td>NaN</td>\n",
       "      <td>1.0</td>\n",
       "      <td>NaN</td>\n",
       "      <td>0.0</td>\n",
       "      <td>5</td>\n",
       "      <td>18</td>\n",
       "      <td>2020</td>\n",
       "      <td>21</td>\n",
       "    </tr>\n",
       "  </tbody>\n",
       "</table>\n",
       "<p>6603 rows × 12 columns</p>\n",
       "</div>"
      ],
      "text/plain": [
       "                    Country  Population  Total Tests  Total Cases  \\\n",
       "0                       USA   330774664    3722145.0     738792.0   \n",
       "1                    Russia   145927292    1831892.0      36793.0   \n",
       "2                     Spain    46752703     930230.0     194416.0   \n",
       "3                    Brazil   212380932      62985.0      36722.0   \n",
       "4                        UK    67844241     460437.0     114217.0   \n",
       "...                     ...         ...          ...          ...   \n",
       "6598              St. Barth        9874          NaN          6.0   \n",
       "6599         Western Sahara      595462          NaN          6.0   \n",
       "6600               Anguilla       14987          NaN          3.0   \n",
       "6601                Lesotho     2140235          NaN          1.0   \n",
       "6602  Saint Pierre Miquelon        5797          NaN          1.0   \n",
       "\n",
       "      Total Deaths  Total Recovered  Serious or Critical  Active Cases  Month  \\\n",
       "0          39014.0          68269.0              13551.0      631509.0      4   \n",
       "1            313.0           3057.0                  8.0       33423.0      4   \n",
       "2          20043.0          74797.0               7371.0       99576.0      4   \n",
       "3           2361.0          14026.0               6634.0       20335.0      4   \n",
       "4          15464.0              NaN               1559.0       98409.0      4   \n",
       "...            ...              ...                  ...           ...    ...   \n",
       "6598           NaN              6.0                  NaN           0.0      5   \n",
       "6599           NaN              6.0                  NaN           0.0      5   \n",
       "6600           NaN              3.0                  NaN           0.0      5   \n",
       "6601           NaN              NaN                  NaN           1.0      5   \n",
       "6602           NaN              1.0                  NaN           0.0      5   \n",
       "\n",
       "      Day  Year  Week  \n",
       "0      18  2020    16  \n",
       "1      18  2020    16  \n",
       "2      18  2020    16  \n",
       "3      18  2020    16  \n",
       "4      18  2020    16  \n",
       "...   ...   ...   ...  \n",
       "6598   18  2020    21  \n",
       "6599   18  2020    21  \n",
       "6600   18  2020    21  \n",
       "6601   18  2020    21  \n",
       "6602   18  2020    21  \n",
       "\n",
       "[6603 rows x 12 columns]"
      ]
     },
     "execution_count": 6,
     "metadata": {},
     "output_type": "execute_result"
    }
   ],
   "source": [
    "cw.drop('Date',axis=1)"
   ]
  },
  {
   "cell_type": "code",
   "execution_count": 7,
   "metadata": {},
   "outputs": [
    {
     "data": {
      "text/plain": [
       "Date                      0\n",
       "Country                   0\n",
       "Population                0\n",
       "Total Tests            1098\n",
       "Total Cases              49\n",
       "Total Deaths           1236\n",
       "Total Recovered         285\n",
       "Serious or Critical    2486\n",
       "Active Cases             59\n",
       "Month                     0\n",
       "Day                       0\n",
       "Year                      0\n",
       "Week                      0\n",
       "dtype: int64"
      ]
     },
     "execution_count": 7,
     "metadata": {},
     "output_type": "execute_result"
    }
   ],
   "source": [
    "#Checking for null values..\n",
    "cw.isnull().sum()"
   ]
  },
  {
   "cell_type": "code",
   "execution_count": 8,
   "metadata": {},
   "outputs": [
    {
     "data": {
      "text/html": [
       "<div>\n",
       "<style scoped>\n",
       "    .dataframe tbody tr th:only-of-type {\n",
       "        vertical-align: middle;\n",
       "    }\n",
       "\n",
       "    .dataframe tbody tr th {\n",
       "        vertical-align: top;\n",
       "    }\n",
       "\n",
       "    .dataframe thead th {\n",
       "        text-align: right;\n",
       "    }\n",
       "</style>\n",
       "<table border=\"1\" class=\"dataframe\">\n",
       "  <thead>\n",
       "    <tr style=\"text-align: right;\">\n",
       "      <th></th>\n",
       "      <th>Date</th>\n",
       "      <th>Country</th>\n",
       "      <th>Population</th>\n",
       "      <th>Total Tests</th>\n",
       "      <th>Total Cases</th>\n",
       "      <th>Total Deaths</th>\n",
       "      <th>Total Recovered</th>\n",
       "      <th>Serious or Critical</th>\n",
       "      <th>Active Cases</th>\n",
       "      <th>Month</th>\n",
       "      <th>Day</th>\n",
       "      <th>Year</th>\n",
       "      <th>Week</th>\n",
       "    </tr>\n",
       "  </thead>\n",
       "  <tbody>\n",
       "    <tr>\n",
       "      <td>0</td>\n",
       "      <td>2020-04-18</td>\n",
       "      <td>USA</td>\n",
       "      <td>330774664</td>\n",
       "      <td>3722145.0</td>\n",
       "      <td>738792.0</td>\n",
       "      <td>39014.0</td>\n",
       "      <td>68269.0</td>\n",
       "      <td>13551.0</td>\n",
       "      <td>631509.0</td>\n",
       "      <td>4</td>\n",
       "      <td>18</td>\n",
       "      <td>2020</td>\n",
       "      <td>16</td>\n",
       "    </tr>\n",
       "    <tr>\n",
       "      <td>1</td>\n",
       "      <td>2020-04-18</td>\n",
       "      <td>Russia</td>\n",
       "      <td>145927292</td>\n",
       "      <td>1831892.0</td>\n",
       "      <td>36793.0</td>\n",
       "      <td>313.0</td>\n",
       "      <td>3057.0</td>\n",
       "      <td>8.0</td>\n",
       "      <td>33423.0</td>\n",
       "      <td>4</td>\n",
       "      <td>18</td>\n",
       "      <td>2020</td>\n",
       "      <td>16</td>\n",
       "    </tr>\n",
       "    <tr>\n",
       "      <td>2</td>\n",
       "      <td>2020-04-18</td>\n",
       "      <td>Spain</td>\n",
       "      <td>46752703</td>\n",
       "      <td>930230.0</td>\n",
       "      <td>194416.0</td>\n",
       "      <td>20043.0</td>\n",
       "      <td>74797.0</td>\n",
       "      <td>7371.0</td>\n",
       "      <td>99576.0</td>\n",
       "      <td>4</td>\n",
       "      <td>18</td>\n",
       "      <td>2020</td>\n",
       "      <td>16</td>\n",
       "    </tr>\n",
       "    <tr>\n",
       "      <td>3</td>\n",
       "      <td>2020-04-18</td>\n",
       "      <td>Brazil</td>\n",
       "      <td>212380932</td>\n",
       "      <td>62985.0</td>\n",
       "      <td>36722.0</td>\n",
       "      <td>2361.0</td>\n",
       "      <td>14026.0</td>\n",
       "      <td>6634.0</td>\n",
       "      <td>20335.0</td>\n",
       "      <td>4</td>\n",
       "      <td>18</td>\n",
       "      <td>2020</td>\n",
       "      <td>16</td>\n",
       "    </tr>\n",
       "    <tr>\n",
       "      <td>5</td>\n",
       "      <td>2020-04-18</td>\n",
       "      <td>Italy</td>\n",
       "      <td>60471924</td>\n",
       "      <td>1305833.0</td>\n",
       "      <td>175925.0</td>\n",
       "      <td>23227.0</td>\n",
       "      <td>44927.0</td>\n",
       "      <td>2733.0</td>\n",
       "      <td>107771.0</td>\n",
       "      <td>4</td>\n",
       "      <td>18</td>\n",
       "      <td>2020</td>\n",
       "      <td>16</td>\n",
       "    </tr>\n",
       "    <tr>\n",
       "      <td>...</td>\n",
       "      <td>...</td>\n",
       "      <td>...</td>\n",
       "      <td>...</td>\n",
       "      <td>...</td>\n",
       "      <td>...</td>\n",
       "      <td>...</td>\n",
       "      <td>...</td>\n",
       "      <td>...</td>\n",
       "      <td>...</td>\n",
       "      <td>...</td>\n",
       "      <td>...</td>\n",
       "      <td>...</td>\n",
       "      <td>...</td>\n",
       "    </tr>\n",
       "    <tr>\n",
       "      <td>6554</td>\n",
       "      <td>2020-05-18</td>\n",
       "      <td>Bahamas</td>\n",
       "      <td>392795</td>\n",
       "      <td>1826.0</td>\n",
       "      <td>96.0</td>\n",
       "      <td>11.0</td>\n",
       "      <td>43.0</td>\n",
       "      <td>1.0</td>\n",
       "      <td>42.0</td>\n",
       "      <td>5</td>\n",
       "      <td>18</td>\n",
       "      <td>2020</td>\n",
       "      <td>21</td>\n",
       "    </tr>\n",
       "    <tr>\n",
       "      <td>6556</td>\n",
       "      <td>2020-05-18</td>\n",
       "      <td>Barbados</td>\n",
       "      <td>287335</td>\n",
       "      <td>4004.0</td>\n",
       "      <td>88.0</td>\n",
       "      <td>7.0</td>\n",
       "      <td>68.0</td>\n",
       "      <td>4.0</td>\n",
       "      <td>13.0</td>\n",
       "      <td>5</td>\n",
       "      <td>18</td>\n",
       "      <td>2020</td>\n",
       "      <td>21</td>\n",
       "    </tr>\n",
       "    <tr>\n",
       "      <td>6559</td>\n",
       "      <td>2020-05-18</td>\n",
       "      <td>Sint Maarten</td>\n",
       "      <td>42817</td>\n",
       "      <td>414.0</td>\n",
       "      <td>77.0</td>\n",
       "      <td>15.0</td>\n",
       "      <td>54.0</td>\n",
       "      <td>7.0</td>\n",
       "      <td>8.0</td>\n",
       "      <td>5</td>\n",
       "      <td>18</td>\n",
       "      <td>2020</td>\n",
       "      <td>21</td>\n",
       "    </tr>\n",
       "    <tr>\n",
       "      <td>6560</td>\n",
       "      <td>2020-05-18</td>\n",
       "      <td>Malawi</td>\n",
       "      <td>19066433</td>\n",
       "      <td>1803.0</td>\n",
       "      <td>70.0</td>\n",
       "      <td>3.0</td>\n",
       "      <td>27.0</td>\n",
       "      <td>1.0</td>\n",
       "      <td>40.0</td>\n",
       "      <td>5</td>\n",
       "      <td>18</td>\n",
       "      <td>2020</td>\n",
       "      <td>21</td>\n",
       "    </tr>\n",
       "    <tr>\n",
       "      <td>6571</td>\n",
       "      <td>2020-05-18</td>\n",
       "      <td>Antigua and Barbuda</td>\n",
       "      <td>97833</td>\n",
       "      <td>183.0</td>\n",
       "      <td>25.0</td>\n",
       "      <td>3.0</td>\n",
       "      <td>19.0</td>\n",
       "      <td>1.0</td>\n",
       "      <td>3.0</td>\n",
       "      <td>5</td>\n",
       "      <td>18</td>\n",
       "      <td>2020</td>\n",
       "      <td>21</td>\n",
       "    </tr>\n",
       "  </tbody>\n",
       "</table>\n",
       "<p>3514 rows × 13 columns</p>\n",
       "</div>"
      ],
      "text/plain": [
       "            Date              Country  Population  Total Tests  Total Cases  \\\n",
       "0     2020-04-18                  USA   330774664    3722145.0     738792.0   \n",
       "1     2020-04-18               Russia   145927292    1831892.0      36793.0   \n",
       "2     2020-04-18                Spain    46752703     930230.0     194416.0   \n",
       "3     2020-04-18               Brazil   212380932      62985.0      36722.0   \n",
       "5     2020-04-18                Italy    60471924    1305833.0     175925.0   \n",
       "...          ...                  ...         ...          ...          ...   \n",
       "6554  2020-05-18              Bahamas      392795       1826.0         96.0   \n",
       "6556  2020-05-18             Barbados      287335       4004.0         88.0   \n",
       "6559  2020-05-18         Sint Maarten       42817        414.0         77.0   \n",
       "6560  2020-05-18               Malawi    19066433       1803.0         70.0   \n",
       "6571  2020-05-18  Antigua and Barbuda       97833        183.0         25.0   \n",
       "\n",
       "      Total Deaths  Total Recovered  Serious or Critical  Active Cases  Month  \\\n",
       "0          39014.0          68269.0              13551.0      631509.0      4   \n",
       "1            313.0           3057.0                  8.0       33423.0      4   \n",
       "2          20043.0          74797.0               7371.0       99576.0      4   \n",
       "3           2361.0          14026.0               6634.0       20335.0      4   \n",
       "5          23227.0          44927.0               2733.0      107771.0      4   \n",
       "...            ...              ...                  ...           ...    ...   \n",
       "6554          11.0             43.0                  1.0          42.0      5   \n",
       "6556           7.0             68.0                  4.0          13.0      5   \n",
       "6559          15.0             54.0                  7.0           8.0      5   \n",
       "6560           3.0             27.0                  1.0          40.0      5   \n",
       "6571           3.0             19.0                  1.0           3.0      5   \n",
       "\n",
       "      Day  Year  Week  \n",
       "0      18  2020    16  \n",
       "1      18  2020    16  \n",
       "2      18  2020    16  \n",
       "3      18  2020    16  \n",
       "5      18  2020    16  \n",
       "...   ...   ...   ...  \n",
       "6554   18  2020    21  \n",
       "6556   18  2020    21  \n",
       "6559   18  2020    21  \n",
       "6560   18  2020    21  \n",
       "6571   18  2020    21  \n",
       "\n",
       "[3514 rows x 13 columns]"
      ]
     },
     "execution_count": 8,
     "metadata": {},
     "output_type": "execute_result"
    }
   ],
   "source": [
    "#Dropping null values..\n",
    "\n",
    "cw.dropna()"
   ]
  },
  {
   "cell_type": "code",
   "execution_count": 9,
   "metadata": {},
   "outputs": [],
   "source": [
    "cwn=cw.drop('Date',axis=1)"
   ]
  },
  {
   "cell_type": "code",
   "execution_count": 10,
   "metadata": {},
   "outputs": [
    {
     "data": {
      "text/html": [
       "<div>\n",
       "<style scoped>\n",
       "    .dataframe tbody tr th:only-of-type {\n",
       "        vertical-align: middle;\n",
       "    }\n",
       "\n",
       "    .dataframe tbody tr th {\n",
       "        vertical-align: top;\n",
       "    }\n",
       "\n",
       "    .dataframe thead th {\n",
       "        text-align: right;\n",
       "    }\n",
       "</style>\n",
       "<table border=\"1\" class=\"dataframe\">\n",
       "  <thead>\n",
       "    <tr style=\"text-align: right;\">\n",
       "      <th></th>\n",
       "      <th>Country</th>\n",
       "      <th>Population</th>\n",
       "      <th>Total Tests</th>\n",
       "      <th>Total Cases</th>\n",
       "      <th>Total Deaths</th>\n",
       "      <th>Total Recovered</th>\n",
       "      <th>Serious or Critical</th>\n",
       "      <th>Active Cases</th>\n",
       "      <th>Month</th>\n",
       "      <th>Day</th>\n",
       "      <th>Year</th>\n",
       "      <th>Week</th>\n",
       "    </tr>\n",
       "  </thead>\n",
       "  <tbody>\n",
       "    <tr>\n",
       "      <td>0</td>\n",
       "      <td>USA</td>\n",
       "      <td>330774664</td>\n",
       "      <td>3722145.0</td>\n",
       "      <td>738792.0</td>\n",
       "      <td>39014.0</td>\n",
       "      <td>68269.0</td>\n",
       "      <td>13551.0</td>\n",
       "      <td>631509.0</td>\n",
       "      <td>4</td>\n",
       "      <td>18</td>\n",
       "      <td>2020</td>\n",
       "      <td>16</td>\n",
       "    </tr>\n",
       "    <tr>\n",
       "      <td>1</td>\n",
       "      <td>Russia</td>\n",
       "      <td>145927292</td>\n",
       "      <td>1831892.0</td>\n",
       "      <td>36793.0</td>\n",
       "      <td>313.0</td>\n",
       "      <td>3057.0</td>\n",
       "      <td>8.0</td>\n",
       "      <td>33423.0</td>\n",
       "      <td>4</td>\n",
       "      <td>18</td>\n",
       "      <td>2020</td>\n",
       "      <td>16</td>\n",
       "    </tr>\n",
       "    <tr>\n",
       "      <td>2</td>\n",
       "      <td>Spain</td>\n",
       "      <td>46752703</td>\n",
       "      <td>930230.0</td>\n",
       "      <td>194416.0</td>\n",
       "      <td>20043.0</td>\n",
       "      <td>74797.0</td>\n",
       "      <td>7371.0</td>\n",
       "      <td>99576.0</td>\n",
       "      <td>4</td>\n",
       "      <td>18</td>\n",
       "      <td>2020</td>\n",
       "      <td>16</td>\n",
       "    </tr>\n",
       "    <tr>\n",
       "      <td>3</td>\n",
       "      <td>Brazil</td>\n",
       "      <td>212380932</td>\n",
       "      <td>62985.0</td>\n",
       "      <td>36722.0</td>\n",
       "      <td>2361.0</td>\n",
       "      <td>14026.0</td>\n",
       "      <td>6634.0</td>\n",
       "      <td>20335.0</td>\n",
       "      <td>4</td>\n",
       "      <td>18</td>\n",
       "      <td>2020</td>\n",
       "      <td>16</td>\n",
       "    </tr>\n",
       "    <tr>\n",
       "      <td>4</td>\n",
       "      <td>UK</td>\n",
       "      <td>67844241</td>\n",
       "      <td>460437.0</td>\n",
       "      <td>114217.0</td>\n",
       "      <td>15464.0</td>\n",
       "      <td>NaN</td>\n",
       "      <td>1559.0</td>\n",
       "      <td>98409.0</td>\n",
       "      <td>4</td>\n",
       "      <td>18</td>\n",
       "      <td>2020</td>\n",
       "      <td>16</td>\n",
       "    </tr>\n",
       "  </tbody>\n",
       "</table>\n",
       "</div>"
      ],
      "text/plain": [
       "  Country  Population  Total Tests  Total Cases  Total Deaths  \\\n",
       "0     USA   330774664    3722145.0     738792.0       39014.0   \n",
       "1  Russia   145927292    1831892.0      36793.0         313.0   \n",
       "2   Spain    46752703     930230.0     194416.0       20043.0   \n",
       "3  Brazil   212380932      62985.0      36722.0        2361.0   \n",
       "4      UK    67844241     460437.0     114217.0       15464.0   \n",
       "\n",
       "   Total Recovered  Serious or Critical  Active Cases  Month  Day  Year  Week  \n",
       "0          68269.0              13551.0      631509.0      4   18  2020    16  \n",
       "1           3057.0                  8.0       33423.0      4   18  2020    16  \n",
       "2          74797.0               7371.0       99576.0      4   18  2020    16  \n",
       "3          14026.0               6634.0       20335.0      4   18  2020    16  \n",
       "4              NaN               1559.0       98409.0      4   18  2020    16  "
      ]
     },
     "execution_count": 10,
     "metadata": {},
     "output_type": "execute_result"
    }
   ],
   "source": [
    "cwn.head()"
   ]
  },
  {
   "cell_type": "code",
   "execution_count": 12,
   "metadata": {},
   "outputs": [],
   "source": [
    "cwf=cwn.dropna()"
   ]
  },
  {
   "cell_type": "code",
   "execution_count": 13,
   "metadata": {},
   "outputs": [
    {
     "data": {
      "text/plain": [
       "Country                0\n",
       "Population             0\n",
       "Total Tests            0\n",
       "Total Cases            0\n",
       "Total Deaths           0\n",
       "Total Recovered        0\n",
       "Serious or Critical    0\n",
       "Active Cases           0\n",
       "Month                  0\n",
       "Day                    0\n",
       "Year                   0\n",
       "Week                   0\n",
       "dtype: int64"
      ]
     },
     "execution_count": 13,
     "metadata": {},
     "output_type": "execute_result"
    }
   ],
   "source": [
    "cwf.isnull().sum()"
   ]
  },
  {
   "cell_type": "code",
   "execution_count": 14,
   "metadata": {},
   "outputs": [
    {
     "data": {
      "text/plain": [
       "(3514, 12)"
      ]
     },
     "execution_count": 14,
     "metadata": {},
     "output_type": "execute_result"
    }
   ],
   "source": [
    "cwf.shape"
   ]
  },
  {
   "cell_type": "code",
   "execution_count": 18,
   "metadata": {},
   "outputs": [
    {
     "data": {
      "text/plain": [
       "['Population',\n",
       " 'Total Tests',\n",
       " 'Total Cases',\n",
       " 'Total Deaths',\n",
       " 'Total Recovered',\n",
       " 'Serious or Critical',\n",
       " 'Active Cases',\n",
       " 'Month',\n",
       " 'Day',\n",
       " 'Year',\n",
       " 'Week']"
      ]
     },
     "execution_count": 18,
     "metadata": {},
     "output_type": "execute_result"
    }
   ],
   "source": [
    "#EDA univariate analysis\n",
    "\n",
    "num_cols=[col for col in cwf.columns if cwf[col].dtypes!='O']\n",
    "num_cols"
   ]
  },
  {
   "cell_type": "code",
   "execution_count": 21,
   "metadata": {},
   "outputs": [
    {
     "data": {
      "text/plain": [
       "<matplotlib.axes._subplots.AxesSubplot at 0x26b437e38c8>"
      ]
     },
     "execution_count": 21,
     "metadata": {},
     "output_type": "execute_result"
    },
    {
     "data": {
      "image/png": "[encoded data removed]",
      "text/plain": [
       "<Figure size 432x288 with 1 Axes>"
      ]
     },
     "metadata": {
      "needs_background": "light"
     },
     "output_type": "display_data"
    }
   ],
   "source": [
    "sbn.distplot(cwf['Population'])"
   ]
  },
  {
   "cell_type": "code",
   "execution_count": 22,
   "metadata": {},
   "outputs": [
    {
     "data": {
      "text/plain": [
       "<matplotlib.axes._subplots.AxesSubplot at 0x26b43b8da88>"
      ]
     },
     "execution_count": 22,
     "metadata": {},
     "output_type": "execute_result"
    },
    {
     "data": {
      "image/png": "[encoded data removed]",
      "text/plain": [
       "<Figure size 432x288 with 1 Axes>"
      ]
     },
     "metadata": {
      "needs_background": "light"
     },
     "output_type": "display_data"
    }
   ],
   "source": [
    "sbn.distplot(cwf['Total Tests'])"
   ]
  },
  {
   "cell_type": "code",
   "execution_count": 23,
   "metadata": {},
   "outputs": [
    {
     "data": {
      "text/plain": [
       "<matplotlib.axes._subplots.AxesSubplot at 0x26b43cb4248>"
      ]
     },
     "execution_count": 23,
     "metadata": {},
     "output_type": "execute_result"
    },
    {
     "data": {
      "image/png": "[encoded data removed]",
      "text/plain": [
       "<Figure size 432x288 with 1 Axes>"
      ]
     },
     "metadata": {
      "needs_background": "light"
     },
     "output_type": "display_data"
    }
   ],
   "source": [
    "sbn.distplot(cwf['Total Cases'])"
   ]
  },
  {
   "cell_type": "code",
   "execution_count": 24,
   "metadata": {},
   "outputs": [
    {
     "data": {
      "text/plain": [
       "<matplotlib.axes._subplots.AxesSubplot at 0x26b43da2c08>"
      ]
     },
     "execution_count": 24,
     "metadata": {},
     "output_type": "execute_result"
    },
    {
     "data": {
      "image/png": "[encoded data removed]",
      "text/plain": [
       "<Figure size 432x288 with 1 Axes>"
      ]
     },
     "metadata": {
      "needs_background": "light"
     },
     "output_type": "display_data"
    }
   ],
   "source": [
    "sbn.distplot(cwf['Serious or Critical'])"
   ]
  },
  {
   "cell_type": "code",
   "execution_count": 25,
   "metadata": {},
   "outputs": [
    {
     "data": {
      "text/plain": [
       "<matplotlib.axes._subplots.AxesSubplot at 0x26b43d84c48>"
      ]
     },
     "execution_count": 25,
     "metadata": {},
     "output_type": "execute_result"
    },
    {
     "data": {
      "image/png": "[encoded data removed]",
      "text/plain": [
       "<Figure size 432x288 with 1 Axes>"
      ]
     },
     "metadata": {
      "needs_background": "light"
     },
     "output_type": "display_data"
    }
   ],
   "source": [
    "sbn.distplot(cwf['Active Cases'])"
   ]
  },
  {
   "cell_type": "code",
   "execution_count": 26,
   "metadata": {},
   "outputs": [
    {
     "data": {
      "text/plain": [
       "['Country']"
      ]
     },
     "execution_count": 26,
     "metadata": {},
     "output_type": "execute_result"
    }
   ],
   "source": [
    "catcols=[col for col in cwf.columns if cwf[col].dtypes=='O']\n",
    "catcols"
   ]
  },
  {
   "cell_type": "code",
   "execution_count": 28,
   "metadata": {},
   "outputs": [],
   "source": [
    "#Creating deathrate var\n",
    "\n",
    "death_rate=pd.Series(dtype=float)\n",
    "\n"
   ]
  },
  {
   "cell_type": "code",
   "execution_count": 30,
   "metadata": {},
   "outputs": [
    {
     "data": {
      "text/plain": [
       "array(['Country', 'Population', 'Total Tests', 'Total Cases',\n",
       "       'Total Deaths', 'Total Recovered', 'Serious or Critical',\n",
       "       'Active Cases', 'Month', 'Day', 'Year', 'Week'], dtype=object)"
      ]
     },
     "execution_count": 30,
     "metadata": {},
     "output_type": "execute_result"
    }
   ],
   "source": [
    "cwf.columns.values"
   ]
  },
  {
   "cell_type": "code",
   "execution_count": 38,
   "metadata": {},
   "outputs": [],
   "source": [
    "#Calculating death rate\n",
    "\n",
    "if(cwf['Total Deaths'].index==cwf['Total Cases'].index).all():\n",
    "    death_rate=cwf['Total Deaths'].values/(cwf['Total Cases'].values + cwf['Total Deaths'].values)"
   ]
  },
  {
   "cell_type": "code",
   "execution_count": null,
   "metadata": {},
   "outputs": [],
   "source": []
  },
  {
   "cell_type": "code",
   "execution_count": 35,
   "metadata": {},
   "outputs": [
    {
     "data": {
      "text/plain": [
       "array([3.9014e+04, 3.1300e+02, 2.0043e+04, ..., 1.5000e+01, 3.0000e+00,\n",
       "       3.0000e+00])"
      ]
     },
     "execution_count": 35,
     "metadata": {},
     "output_type": "execute_result"
    }
   ],
   "source": [
    "cwf['Total Deaths'].values"
   ]
  },
  {
   "cell_type": "code",
   "execution_count": 39,
   "metadata": {},
   "outputs": [
    {
     "data": {
      "text/plain": [
       "array([0.05015904, 0.00843529, 0.09345842, ..., 0.16304348, 0.04109589,\n",
       "       0.10714286])"
      ]
     },
     "execution_count": 39,
     "metadata": {},
     "output_type": "execute_result"
    }
   ],
   "source": [
    "death_rate"
   ]
  },
  {
   "cell_type": "code",
   "execution_count": 41,
   "metadata": {},
   "outputs": [],
   "source": [
    "cwf['drate']=pd.DataFrame(death_rate)"
   ]
  },
  {
   "cell_type": "code",
   "execution_count": 48,
   "metadata": {},
   "outputs": [],
   "source": [
    "#Encoding country in the dataset\n",
    "\n",
    "from sklearn.preprocessing import LabelEncoder\n",
    "\n",
    "le=LabelEncoder()\n",
    "cwf['encoded_country']=pd.DataFrame(le.fit_transform(cwf['Country']))\n"
   ]
  },
  {
   "cell_type": "code",
   "execution_count": 49,
   "metadata": {},
   "outputs": [
    {
     "data": {
      "text/html": [
       "<div>\n",
       "<style scoped>\n",
       "    .dataframe tbody tr th:only-of-type {\n",
       "        vertical-align: middle;\n",
       "    }\n",
       "\n",
       "    .dataframe tbody tr th {\n",
       "        vertical-align: top;\n",
       "    }\n",
       "\n",
       "    .dataframe thead th {\n",
       "        text-align: right;\n",
       "    }\n",
       "</style>\n",
       "<table border=\"1\" class=\"dataframe\">\n",
       "  <thead>\n",
       "    <tr style=\"text-align: right;\">\n",
       "      <th></th>\n",
       "      <th>Country</th>\n",
       "      <th>Population</th>\n",
       "      <th>Total Tests</th>\n",
       "      <th>Total Cases</th>\n",
       "      <th>Total Deaths</th>\n",
       "      <th>Total Recovered</th>\n",
       "      <th>Serious or Critical</th>\n",
       "      <th>Active Cases</th>\n",
       "      <th>Month</th>\n",
       "      <th>Day</th>\n",
       "      <th>Year</th>\n",
       "      <th>Week</th>\n",
       "      <th>drate</th>\n",
       "      <th>encoded_country</th>\n",
       "    </tr>\n",
       "  </thead>\n",
       "  <tbody>\n",
       "    <tr>\n",
       "      <td>0</td>\n",
       "      <td>USA</td>\n",
       "      <td>330774664</td>\n",
       "      <td>3722145.0</td>\n",
       "      <td>738792.0</td>\n",
       "      <td>39014.0</td>\n",
       "      <td>68269.0</td>\n",
       "      <td>13551.0</td>\n",
       "      <td>631509.0</td>\n",
       "      <td>4</td>\n",
       "      <td>18</td>\n",
       "      <td>2020</td>\n",
       "      <td>16</td>\n",
       "      <td>0.050159</td>\n",
       "      <td>121.0</td>\n",
       "    </tr>\n",
       "    <tr>\n",
       "      <td>1</td>\n",
       "      <td>Russia</td>\n",
       "      <td>145927292</td>\n",
       "      <td>1831892.0</td>\n",
       "      <td>36793.0</td>\n",
       "      <td>313.0</td>\n",
       "      <td>3057.0</td>\n",
       "      <td>8.0</td>\n",
       "      <td>33423.0</td>\n",
       "      <td>4</td>\n",
       "      <td>18</td>\n",
       "      <td>2020</td>\n",
       "      <td>16</td>\n",
       "      <td>0.008435</td>\n",
       "      <td>102.0</td>\n",
       "    </tr>\n",
       "    <tr>\n",
       "      <td>2</td>\n",
       "      <td>Spain</td>\n",
       "      <td>46752703</td>\n",
       "      <td>930230.0</td>\n",
       "      <td>194416.0</td>\n",
       "      <td>20043.0</td>\n",
       "      <td>74797.0</td>\n",
       "      <td>7371.0</td>\n",
       "      <td>99576.0</td>\n",
       "      <td>4</td>\n",
       "      <td>18</td>\n",
       "      <td>2020</td>\n",
       "      <td>16</td>\n",
       "      <td>0.093458</td>\n",
       "      <td>113.0</td>\n",
       "    </tr>\n",
       "    <tr>\n",
       "      <td>3</td>\n",
       "      <td>Brazil</td>\n",
       "      <td>212380932</td>\n",
       "      <td>62985.0</td>\n",
       "      <td>36722.0</td>\n",
       "      <td>2361.0</td>\n",
       "      <td>14026.0</td>\n",
       "      <td>6634.0</td>\n",
       "      <td>20335.0</td>\n",
       "      <td>4</td>\n",
       "      <td>18</td>\n",
       "      <td>2020</td>\n",
       "      <td>16</td>\n",
       "      <td>0.060410</td>\n",
       "      <td>21.0</td>\n",
       "    </tr>\n",
       "    <tr>\n",
       "      <td>5</td>\n",
       "      <td>Italy</td>\n",
       "      <td>60471924</td>\n",
       "      <td>1305833.0</td>\n",
       "      <td>175925.0</td>\n",
       "      <td>23227.0</td>\n",
       "      <td>44927.0</td>\n",
       "      <td>2733.0</td>\n",
       "      <td>107771.0</td>\n",
       "      <td>4</td>\n",
       "      <td>18</td>\n",
       "      <td>2020</td>\n",
       "      <td>16</td>\n",
       "      <td>0.112923</td>\n",
       "      <td>42.0</td>\n",
       "    </tr>\n",
       "  </tbody>\n",
       "</table>\n",
       "</div>"
      ],
      "text/plain": [
       "  Country  Population  Total Tests  Total Cases  Total Deaths  \\\n",
       "0     USA   330774664    3722145.0     738792.0       39014.0   \n",
       "1  Russia   145927292    1831892.0      36793.0         313.0   \n",
       "2   Spain    46752703     930230.0     194416.0       20043.0   \n",
       "3  Brazil   212380932      62985.0      36722.0        2361.0   \n",
       "5   Italy    60471924    1305833.0     175925.0       23227.0   \n",
       "\n",
       "   Total Recovered  Serious or Critical  Active Cases  Month  Day  Year  Week  \\\n",
       "0          68269.0              13551.0      631509.0      4   18  2020    16   \n",
       "1           3057.0                  8.0       33423.0      4   18  2020    16   \n",
       "2          74797.0               7371.0       99576.0      4   18  2020    16   \n",
       "3          14026.0               6634.0       20335.0      4   18  2020    16   \n",
       "5          44927.0               2733.0      107771.0      4   18  2020    16   \n",
       "\n",
       "      drate  encoded_country  \n",
       "0  0.050159            121.0  \n",
       "1  0.008435            102.0  \n",
       "2  0.093458            113.0  \n",
       "3  0.060410             21.0  \n",
       "5  0.112923             42.0  "
      ]
     },
     "execution_count": 49,
     "metadata": {},
     "output_type": "execute_result"
    }
   ],
   "source": [
    "cwf.head()"
   ]
  },
  {
   "cell_type": "code",
   "execution_count": 67,
   "metadata": {},
   "outputs": [],
   "source": [
    "cwo=cwf.drop('Country',axis=1)\n",
    "covid=cwo.dropna()"
   ]
  },
  {
   "cell_type": "code",
   "execution_count": 68,
   "metadata": {},
   "outputs": [],
   "source": [
    "#Seperating features and label\n",
    "\n",
    "x=covid.drop('drate',axis=1)"
   ]
  },
  {
   "cell_type": "code",
   "execution_count": 69,
   "metadata": {},
   "outputs": [],
   "source": [
    "y=covid['drate']"
   ]
  },
  {
   "cell_type": "code",
   "execution_count": 70,
   "metadata": {},
   "outputs": [
    {
     "data": {
      "text/plain": [
       "LinearRegression(copy_X=True, fit_intercept=True, n_jobs=None, normalize=True)"
      ]
     },
     "execution_count": 70,
     "metadata": {},
     "output_type": "execute_result"
    }
   ],
   "source": [
    "#Implementing the linear models \n",
    "x_train,x_test,y_train,y_test=train_test_split(x,y,test_size=.22,random_state=45)\n",
    "\n",
    "lr=LinearRegression(normalize=True)\n",
    "lr.fit(x_train,y_train)"
   ]
  },
  {
   "cell_type": "code",
   "execution_count": 73,
   "metadata": {},
   "outputs": [
    {
     "name": "stdout",
     "output_type": "stream",
     "text": [
      "Mean Absolute Error: 0.0233775976563597\n",
      "Mean Squared Error: 0.00089591002119275\n",
      "Root Mean Squared Error: 0.029931756065970302\n"
     ]
    }
   ],
   "source": [
    "predy=lr.predict(x_test)\n",
    "print('Mean Absolute Error:',mean_absolute_error(y_test,predy))\n",
    "print('Mean Squared Error:',mean_squared_error(y_test,predy))\n",
    "print('Root Mean Squared Error:',np.sqrt(mean_squared_error(y_test,predy)))\n"
   ]
  },
  {
   "cell_type": "code",
   "execution_count": 74,
   "metadata": {},
   "outputs": [
    {
     "name": "stdout",
     "output_type": "stream",
     "text": [
      "Mean Absolute Error: 0.01768443250132745\n",
      "Mean Squared Error: 0.0005590129238500957\n",
      "Root Mean Squared Error: 0.023643454143802586\n"
     ]
    }
   ],
   "source": [
    "dtr=DecisionTreeRegressor(criterion='mse',\n",
    " max_leaf_nodes=16,\n",
    " min_impurity_decrease=0.0,\n",
    " min_samples_leaf= 4,\n",
    " min_samples_split=4,\n",
    " splitter='best')\n",
    "dtr.fit(x_train,y_train)\n",
    "dtrpr=dtr.predict(x_test)\n",
    "print('Mean Absolute Error:',mean_absolute_error(y_test,dtrpr))\n",
    "print('Mean Squared Error:',mean_squared_error(y_test,dtrpr))\n",
    "print('Root Mean Squared Error:',np.sqrt(mean_squared_error(y_test,dtrpr)))"
   ]
  },
  {
   "cell_type": "code",
   "execution_count": 75,
   "metadata": {},
   "outputs": [
    {
     "name": "stdout",
     "output_type": "stream",
     "text": [
      "Mean Absolute Error: 0.005523610604068809\n",
      "Mean Squared Error: 7.517928037167448e-05\n",
      "Root Mean Squared Error: 0.008670598616685845\n"
     ]
    }
   ],
   "source": [
    "#Fitting the final model\n",
    "from sklearn.ensemble import RandomForestRegressor\n",
    "rf=RandomForestRegressor()\n",
    "rf.fit(x_train,y_train)\n",
    "rfp=rf.predict(x_test)\n",
    "print('Mean Absolute Error:',mean_absolute_error(y_test,rfp))\n",
    "print('Mean Squared Error:',mean_squared_error(y_test,rfp))\n",
    "print('Root Mean Squared Error:',np.sqrt(mean_squared_error(y_test,rfp)))"
   ]
  },
  {
   "cell_type": "code",
   "execution_count": 78,
   "metadata": {},
   "outputs": [
    {
     "data": {
      "image/png": "[encoded data removed]",
      "text/plain": [
       "<Figure size 432x288 with 1 Axes>"
      ]
     },
     "metadata": {
      "needs_background": "light"
     },
     "output_type": "display_data"
    }
   ],
   "source": [
    "#plotting the actual vs predicted..\n",
    "\n",
    "import matplotlib.pyplot as plt\n",
    "plt.scatter(y_test,rfp)\n",
    "plt.show()"
   ]
  },
  {
   "cell_type": "code",
   "execution_count": 79,
   "metadata": {},
   "outputs": [],
   "source": [
    "#Saving the predicted values to csv\n",
    "\n",
    "rfo=pd.DataFrame(rfp,columns=['deathrate'])\n"
   ]
  },
  {
   "cell_type": "code",
   "execution_count": 80,
   "metadata": {},
   "outputs": [
    {
     "data": {
      "text/html": [
       "<div>\n",
       "<style scoped>\n",
       "    .dataframe tbody tr th:only-of-type {\n",
       "        vertical-align: middle;\n",
       "    }\n",
       "\n",
       "    .dataframe tbody tr th {\n",
       "        vertical-align: top;\n",
       "    }\n",
       "\n",
       "    .dataframe thead th {\n",
       "        text-align: right;\n",
       "    }\n",
       "</style>\n",
       "<table border=\"1\" class=\"dataframe\">\n",
       "  <thead>\n",
       "    <tr style=\"text-align: right;\">\n",
       "      <th></th>\n",
       "      <th>deathrate</th>\n",
       "    </tr>\n",
       "  </thead>\n",
       "  <tbody>\n",
       "    <tr>\n",
       "      <td>0</td>\n",
       "      <td>0.054454</td>\n",
       "    </tr>\n",
       "    <tr>\n",
       "      <td>1</td>\n",
       "      <td>0.007589</td>\n",
       "    </tr>\n",
       "    <tr>\n",
       "      <td>2</td>\n",
       "      <td>0.080743</td>\n",
       "    </tr>\n",
       "    <tr>\n",
       "      <td>3</td>\n",
       "      <td>0.043483</td>\n",
       "    </tr>\n",
       "    <tr>\n",
       "      <td>4</td>\n",
       "      <td>0.034711</td>\n",
       "    </tr>\n",
       "  </tbody>\n",
       "</table>\n",
       "</div>"
      ],
      "text/plain": [
       "   deathrate\n",
       "0   0.054454\n",
       "1   0.007589\n",
       "2   0.080743\n",
       "3   0.043483\n",
       "4   0.034711"
      ]
     },
     "execution_count": 80,
     "metadata": {},
     "output_type": "execute_result"
    }
   ],
   "source": [
    "rfo.head()"
   ]
  },
  {
   "cell_type": "code",
   "execution_count": 81,
   "metadata": {},
   "outputs": [
    {
     "data": {
      "text/plain": [
       "945     0.050547\n",
       "2182    0.006656\n",
       "106     0.105263\n",
       "8       0.058569\n",
       "2577    0.041783\n",
       "Name: drate, dtype: float64"
      ]
     },
     "execution_count": 81,
     "metadata": {},
     "output_type": "execute_result"
    }
   ],
   "source": [
    "y_test.head()"
   ]
  },
  {
   "cell_type": "code",
   "execution_count": 82,
   "metadata": {},
   "outputs": [],
   "source": [
    "#Saving to csv\n",
    "rfo.to_csv('covid_drateprediction.csv',index=False)"
   ]
  },
  {
   "cell_type": "code",
   "execution_count": 83,
   "metadata": {},
   "outputs": [
    {
     "data": {
      "text/plain": [
       "['covidworld_drate.pkl']"
      ]
     },
     "execution_count": 83,
     "metadata": {},
     "output_type": "execute_result"
    }
   ],
   "source": [
    "#Saving model\n",
    "\n",
    "import joblib\n",
    "\n",
    "joblib.dump(rf,'covidworld_drate.pkl')"
   ]
  },
  {
   "cell_type": "code",
   "execution_count": null,
   "metadata": {},
   "outputs": [],
   "source": []
  }
 ],
 "metadata": {
  "kernelspec": {
   "display_name": "Python 3",
   "language": "python",
   "name": "python3"
  },
  "language_info": {
   "codemirror_mode": {
    "name": "ipython",
    "version": 3
   },
   "file_extension": ".py",
   "mimetype": "text/x-python",
   "name": "python",
   "nbconvert_exporter": "python",
   "pygments_lexer": "ipython3",
   "version": "3.7.4"
  }
 },
 "nbformat": 4,
 "nbformat_minor": 2
}
