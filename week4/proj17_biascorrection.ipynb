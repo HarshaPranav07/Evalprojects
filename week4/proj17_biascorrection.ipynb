{
 "cells": [
  {
   "cell_type": "code",
   "execution_count": 47,
   "metadata": {},
   "outputs": [],
   "source": [
    "import pandas as pd\n",
    "import numpy as np\n",
    "import seaborn as sbn\n",
    "\n",
    "import numpy as np\n",
    "import pandas as pd\n",
    "import matplotlib.pyplot as plt\n",
    "import seaborn as sbn\n",
    "from sklearn.linear_model import LinearRegression,Lasso,Ridge,ElasticNet\n",
    "from sklearn.naive_bayes import MultinomialNB\n",
    "from sklearn.tree import DecisionTreeClassifier,DecisionTreeRegressor\n",
    "from sklearn.svm import SVC\n",
    "from sklearn.neighbors import KNeighborsClassifier\n",
    "from sklearn.metrics import classification_report,confusion_matrix,accuracy_score\n",
    "from sklearn.ensemble import RandomForestRegressor\n",
    "from sklearn.model_selection import train_test_split,cross_val_score\n",
    "from sklearn.metrics import r2_score,mean_absolute_error,mean_squared_error\n",
    "\n",
    "import warnings\n",
    "\n",
    "warnings.filterwarnings('ignore')"
   ]
  },
  {
   "cell_type": "code",
   "execution_count": 2,
   "metadata": {},
   "outputs": [],
   "source": [
    "bs=pd.read_csv('Bias_correction_ucl.csv')"
   ]
  },
  {
   "cell_type": "code",
   "execution_count": 3,
   "metadata": {},
   "outputs": [
    {
     "data": {
      "text/html": [
       "<div>\n",
       "<style scoped>\n",
       "    .dataframe tbody tr th:only-of-type {\n",
       "        vertical-align: middle;\n",
       "    }\n",
       "\n",
       "    .dataframe tbody tr th {\n",
       "        vertical-align: top;\n",
       "    }\n",
       "\n",
       "    .dataframe thead th {\n",
       "        text-align: right;\n",
       "    }\n",
       "</style>\n",
       "<table border=\"1\" class=\"dataframe\">\n",
       "  <thead>\n",
       "    <tr style=\"text-align: right;\">\n",
       "      <th></th>\n",
       "      <th>station</th>\n",
       "      <th>Date</th>\n",
       "      <th>Present_Tmax</th>\n",
       "      <th>Present_Tmin</th>\n",
       "      <th>LDAPS_RHmin</th>\n",
       "      <th>LDAPS_RHmax</th>\n",
       "      <th>LDAPS_Tmax_lapse</th>\n",
       "      <th>LDAPS_Tmin_lapse</th>\n",
       "      <th>LDAPS_WS</th>\n",
       "      <th>LDAPS_LH</th>\n",
       "      <th>...</th>\n",
       "      <th>LDAPS_PPT2</th>\n",
       "      <th>LDAPS_PPT3</th>\n",
       "      <th>LDAPS_PPT4</th>\n",
       "      <th>lat</th>\n",
       "      <th>lon</th>\n",
       "      <th>DEM</th>\n",
       "      <th>Slope</th>\n",
       "      <th>Solar radiation</th>\n",
       "      <th>Next_Tmax</th>\n",
       "      <th>Next_Tmin</th>\n",
       "    </tr>\n",
       "  </thead>\n",
       "  <tbody>\n",
       "    <tr>\n",
       "      <td>0</td>\n",
       "      <td>1.0</td>\n",
       "      <td>2013-06-30</td>\n",
       "      <td>28.7</td>\n",
       "      <td>21.4</td>\n",
       "      <td>58.255688</td>\n",
       "      <td>91.116364</td>\n",
       "      <td>28.074101</td>\n",
       "      <td>23.006936</td>\n",
       "      <td>6.818887</td>\n",
       "      <td>69.451805</td>\n",
       "      <td>...</td>\n",
       "      <td>0.0</td>\n",
       "      <td>0.0</td>\n",
       "      <td>0.0</td>\n",
       "      <td>37.6046</td>\n",
       "      <td>126.991</td>\n",
       "      <td>212.3350</td>\n",
       "      <td>2.7850</td>\n",
       "      <td>5992.895996</td>\n",
       "      <td>29.1</td>\n",
       "      <td>21.2</td>\n",
       "    </tr>\n",
       "    <tr>\n",
       "      <td>1</td>\n",
       "      <td>2.0</td>\n",
       "      <td>2013-06-30</td>\n",
       "      <td>31.9</td>\n",
       "      <td>21.6</td>\n",
       "      <td>52.263397</td>\n",
       "      <td>90.604721</td>\n",
       "      <td>29.850689</td>\n",
       "      <td>24.035009</td>\n",
       "      <td>5.691890</td>\n",
       "      <td>51.937448</td>\n",
       "      <td>...</td>\n",
       "      <td>0.0</td>\n",
       "      <td>0.0</td>\n",
       "      <td>0.0</td>\n",
       "      <td>37.6046</td>\n",
       "      <td>127.032</td>\n",
       "      <td>44.7624</td>\n",
       "      <td>0.5141</td>\n",
       "      <td>5869.312500</td>\n",
       "      <td>30.5</td>\n",
       "      <td>22.5</td>\n",
       "    </tr>\n",
       "    <tr>\n",
       "      <td>2</td>\n",
       "      <td>3.0</td>\n",
       "      <td>2013-06-30</td>\n",
       "      <td>31.6</td>\n",
       "      <td>23.3</td>\n",
       "      <td>48.690479</td>\n",
       "      <td>83.973587</td>\n",
       "      <td>30.091292</td>\n",
       "      <td>24.565633</td>\n",
       "      <td>6.138224</td>\n",
       "      <td>20.573050</td>\n",
       "      <td>...</td>\n",
       "      <td>0.0</td>\n",
       "      <td>0.0</td>\n",
       "      <td>0.0</td>\n",
       "      <td>37.5776</td>\n",
       "      <td>127.058</td>\n",
       "      <td>33.3068</td>\n",
       "      <td>0.2661</td>\n",
       "      <td>5863.555664</td>\n",
       "      <td>31.1</td>\n",
       "      <td>23.9</td>\n",
       "    </tr>\n",
       "    <tr>\n",
       "      <td>3</td>\n",
       "      <td>4.0</td>\n",
       "      <td>2013-06-30</td>\n",
       "      <td>32.0</td>\n",
       "      <td>23.4</td>\n",
       "      <td>58.239788</td>\n",
       "      <td>96.483688</td>\n",
       "      <td>29.704629</td>\n",
       "      <td>23.326177</td>\n",
       "      <td>5.650050</td>\n",
       "      <td>65.727144</td>\n",
       "      <td>...</td>\n",
       "      <td>0.0</td>\n",
       "      <td>0.0</td>\n",
       "      <td>0.0</td>\n",
       "      <td>37.6450</td>\n",
       "      <td>127.022</td>\n",
       "      <td>45.7160</td>\n",
       "      <td>2.5348</td>\n",
       "      <td>5856.964844</td>\n",
       "      <td>31.7</td>\n",
       "      <td>24.3</td>\n",
       "    </tr>\n",
       "    <tr>\n",
       "      <td>4</td>\n",
       "      <td>5.0</td>\n",
       "      <td>2013-06-30</td>\n",
       "      <td>31.4</td>\n",
       "      <td>21.9</td>\n",
       "      <td>56.174095</td>\n",
       "      <td>90.155128</td>\n",
       "      <td>29.113934</td>\n",
       "      <td>23.486480</td>\n",
       "      <td>5.735004</td>\n",
       "      <td>107.965535</td>\n",
       "      <td>...</td>\n",
       "      <td>0.0</td>\n",
       "      <td>0.0</td>\n",
       "      <td>0.0</td>\n",
       "      <td>37.5507</td>\n",
       "      <td>127.135</td>\n",
       "      <td>35.0380</td>\n",
       "      <td>0.5055</td>\n",
       "      <td>5859.552246</td>\n",
       "      <td>31.2</td>\n",
       "      <td>22.5</td>\n",
       "    </tr>\n",
       "  </tbody>\n",
       "</table>\n",
       "<p>5 rows × 25 columns</p>\n",
       "</div>"
      ],
      "text/plain": [
       "   station        Date  Present_Tmax  Present_Tmin  LDAPS_RHmin  LDAPS_RHmax  \\\n",
       "0      1.0  2013-06-30          28.7          21.4    58.255688    91.116364   \n",
       "1      2.0  2013-06-30          31.9          21.6    52.263397    90.604721   \n",
       "2      3.0  2013-06-30          31.6          23.3    48.690479    83.973587   \n",
       "3      4.0  2013-06-30          32.0          23.4    58.239788    96.483688   \n",
       "4      5.0  2013-06-30          31.4          21.9    56.174095    90.155128   \n",
       "\n",
       "   LDAPS_Tmax_lapse  LDAPS_Tmin_lapse  LDAPS_WS    LDAPS_LH  ...  LDAPS_PPT2  \\\n",
       "0         28.074101         23.006936  6.818887   69.451805  ...         0.0   \n",
       "1         29.850689         24.035009  5.691890   51.937448  ...         0.0   \n",
       "2         30.091292         24.565633  6.138224   20.573050  ...         0.0   \n",
       "3         29.704629         23.326177  5.650050   65.727144  ...         0.0   \n",
       "4         29.113934         23.486480  5.735004  107.965535  ...         0.0   \n",
       "\n",
       "   LDAPS_PPT3  LDAPS_PPT4      lat      lon       DEM   Slope  \\\n",
       "0         0.0         0.0  37.6046  126.991  212.3350  2.7850   \n",
       "1         0.0         0.0  37.6046  127.032   44.7624  0.5141   \n",
       "2         0.0         0.0  37.5776  127.058   33.3068  0.2661   \n",
       "3         0.0         0.0  37.6450  127.022   45.7160  2.5348   \n",
       "4         0.0         0.0  37.5507  127.135   35.0380  0.5055   \n",
       "\n",
       "   Solar radiation  Next_Tmax  Next_Tmin  \n",
       "0      5992.895996       29.1       21.2  \n",
       "1      5869.312500       30.5       22.5  \n",
       "2      5863.555664       31.1       23.9  \n",
       "3      5856.964844       31.7       24.3  \n",
       "4      5859.552246       31.2       22.5  \n",
       "\n",
       "[5 rows x 25 columns]"
      ]
     },
     "execution_count": 3,
     "metadata": {},
     "output_type": "execute_result"
    }
   ],
   "source": [
    "bs.head()"
   ]
  },
  {
   "cell_type": "code",
   "execution_count": 4,
   "metadata": {},
   "outputs": [
    {
     "data": {
      "text/plain": [
       "station             float64\n",
       "Date                 object\n",
       "Present_Tmax        float64\n",
       "Present_Tmin        float64\n",
       "LDAPS_RHmin         float64\n",
       "LDAPS_RHmax         float64\n",
       "LDAPS_Tmax_lapse    float64\n",
       "LDAPS_Tmin_lapse    float64\n",
       "LDAPS_WS            float64\n",
       "LDAPS_LH            float64\n",
       "LDAPS_CC1           float64\n",
       "LDAPS_CC2           float64\n",
       "LDAPS_CC3           float64\n",
       "LDAPS_CC4           float64\n",
       "LDAPS_PPT1          float64\n",
       "LDAPS_PPT2          float64\n",
       "LDAPS_PPT3          float64\n",
       "LDAPS_PPT4          float64\n",
       "lat                 float64\n",
       "lon                 float64\n",
       "DEM                 float64\n",
       "Slope               float64\n",
       "Solar radiation     float64\n",
       "Next_Tmax           float64\n",
       "Next_Tmin           float64\n",
       "dtype: object"
      ]
     },
     "execution_count": 4,
     "metadata": {},
     "output_type": "execute_result"
    }
   ],
   "source": [
    "bs.dtypes"
   ]
  },
  {
   "cell_type": "code",
   "execution_count": 5,
   "metadata": {},
   "outputs": [
    {
     "name": "stdout",
     "output_type": "stream",
     "text": [
      "<class 'pandas.core.frame.DataFrame'>\n",
      "RangeIndex: 7752 entries, 0 to 7751\n",
      "Data columns (total 25 columns):\n",
      "station             7750 non-null float64\n",
      "Date                7750 non-null object\n",
      "Present_Tmax        7682 non-null float64\n",
      "Present_Tmin        7682 non-null float64\n",
      "LDAPS_RHmin         7677 non-null float64\n",
      "LDAPS_RHmax         7677 non-null float64\n",
      "LDAPS_Tmax_lapse    7677 non-null float64\n",
      "LDAPS_Tmin_lapse    7677 non-null float64\n",
      "LDAPS_WS            7677 non-null float64\n",
      "LDAPS_LH            7677 non-null float64\n",
      "LDAPS_CC1           7677 non-null float64\n",
      "LDAPS_CC2           7677 non-null float64\n",
      "LDAPS_CC3           7677 non-null float64\n",
      "LDAPS_CC4           7677 non-null float64\n",
      "LDAPS_PPT1          7677 non-null float64\n",
      "LDAPS_PPT2          7677 non-null float64\n",
      "LDAPS_PPT3          7677 non-null float64\n",
      "LDAPS_PPT4          7677 non-null float64\n",
      "lat                 7752 non-null float64\n",
      "lon                 7752 non-null float64\n",
      "DEM                 7752 non-null float64\n",
      "Slope               7752 non-null float64\n",
      "Solar radiation     7752 non-null float64\n",
      "Next_Tmax           7725 non-null float64\n",
      "Next_Tmin           7725 non-null float64\n",
      "dtypes: float64(24), object(1)\n",
      "memory usage: 1.5+ MB\n"
     ]
    }
   ],
   "source": [
    "bs.info()"
   ]
  },
  {
   "cell_type": "code",
   "execution_count": 6,
   "metadata": {},
   "outputs": [
    {
     "data": {
      "text/plain": [
       "station              2\n",
       "Date                 2\n",
       "Present_Tmax        70\n",
       "Present_Tmin        70\n",
       "LDAPS_RHmin         75\n",
       "LDAPS_RHmax         75\n",
       "LDAPS_Tmax_lapse    75\n",
       "LDAPS_Tmin_lapse    75\n",
       "LDAPS_WS            75\n",
       "LDAPS_LH            75\n",
       "LDAPS_CC1           75\n",
       "LDAPS_CC2           75\n",
       "LDAPS_CC3           75\n",
       "LDAPS_CC4           75\n",
       "LDAPS_PPT1          75\n",
       "LDAPS_PPT2          75\n",
       "LDAPS_PPT3          75\n",
       "LDAPS_PPT4          75\n",
       "lat                  0\n",
       "lon                  0\n",
       "DEM                  0\n",
       "Slope                0\n",
       "Solar radiation      0\n",
       "Next_Tmax           27\n",
       "Next_Tmin           27\n",
       "dtype: int64"
      ]
     },
     "execution_count": 6,
     "metadata": {},
     "output_type": "execute_result"
    }
   ],
   "source": [
    "bs.isnull().sum()"
   ]
  },
  {
   "cell_type": "code",
   "execution_count": 9,
   "metadata": {},
   "outputs": [
    {
     "data": {
      "text/plain": [
       "25.0    310\n",
       "12.0    310\n",
       "2.0     310\n",
       "3.0     310\n",
       "4.0     310\n",
       "5.0     310\n",
       "6.0     310\n",
       "7.0     310\n",
       "8.0     310\n",
       "9.0     310\n",
       "10.0    310\n",
       "11.0    310\n",
       "13.0    310\n",
       "23.0    310\n",
       "14.0    310\n",
       "15.0    310\n",
       "16.0    310\n",
       "18.0    310\n",
       "20.0    310\n",
       "22.0    310\n",
       "24.0    310\n",
       "17.0    310\n",
       "19.0    310\n",
       "21.0    310\n",
       "1.0     310\n",
       "Name: station, dtype: int64"
      ]
     },
     "execution_count": 9,
     "metadata": {},
     "output_type": "execute_result"
    }
   ],
   "source": [
    "bs['station'].value_counts()"
   ]
  },
  {
   "cell_type": "code",
   "execution_count": 11,
   "metadata": {},
   "outputs": [
    {
     "data": {
      "text/plain": [
       "0       False\n",
       "1       False\n",
       "2       False\n",
       "3       False\n",
       "4       False\n",
       "        ...  \n",
       "7747    False\n",
       "7748    False\n",
       "7749    False\n",
       "7750     True\n",
       "7751     True\n",
       "Name: Date, Length: 7752, dtype: bool"
      ]
     },
     "execution_count": 11,
     "metadata": {},
     "output_type": "execute_result"
    }
   ],
   "source": [
    "bs['Date'].isnull()"
   ]
  },
  {
   "cell_type": "code",
   "execution_count": 12,
   "metadata": {},
   "outputs": [],
   "source": [
    "#As the null values are comparitively less,dropping the null values..\n",
    "bsn=bs.dropna()"
   ]
  },
  {
   "cell_type": "code",
   "execution_count": 13,
   "metadata": {},
   "outputs": [
    {
     "data": {
      "text/plain": [
       "station             0\n",
       "Date                0\n",
       "Present_Tmax        0\n",
       "Present_Tmin        0\n",
       "LDAPS_RHmin         0\n",
       "LDAPS_RHmax         0\n",
       "LDAPS_Tmax_lapse    0\n",
       "LDAPS_Tmin_lapse    0\n",
       "LDAPS_WS            0\n",
       "LDAPS_LH            0\n",
       "LDAPS_CC1           0\n",
       "LDAPS_CC2           0\n",
       "LDAPS_CC3           0\n",
       "LDAPS_CC4           0\n",
       "LDAPS_PPT1          0\n",
       "LDAPS_PPT2          0\n",
       "LDAPS_PPT3          0\n",
       "LDAPS_PPT4          0\n",
       "lat                 0\n",
       "lon                 0\n",
       "DEM                 0\n",
       "Slope               0\n",
       "Solar radiation     0\n",
       "Next_Tmax           0\n",
       "Next_Tmin           0\n",
       "dtype: int64"
      ]
     },
     "execution_count": 13,
     "metadata": {},
     "output_type": "execute_result"
    }
   ],
   "source": [
    "\n",
    "bsn.isnull().sum()"
   ]
  },
  {
   "cell_type": "code",
   "execution_count": 14,
   "metadata": {},
   "outputs": [
    {
     "data": {
      "text/plain": [
       "['station',\n",
       " 'Present_Tmax',\n",
       " 'Present_Tmin',\n",
       " 'LDAPS_RHmin',\n",
       " 'LDAPS_RHmax',\n",
       " 'LDAPS_Tmax_lapse',\n",
       " 'LDAPS_Tmin_lapse',\n",
       " 'LDAPS_WS',\n",
       " 'LDAPS_LH',\n",
       " 'LDAPS_CC1',\n",
       " 'LDAPS_CC2',\n",
       " 'LDAPS_CC3',\n",
       " 'LDAPS_CC4',\n",
       " 'LDAPS_PPT1',\n",
       " 'LDAPS_PPT2',\n",
       " 'LDAPS_PPT3',\n",
       " 'LDAPS_PPT4',\n",
       " 'lat',\n",
       " 'lon',\n",
       " 'DEM',\n",
       " 'Slope',\n",
       " 'Solar radiation',\n",
       " 'Next_Tmax',\n",
       " 'Next_Tmin']"
      ]
     },
     "execution_count": 14,
     "metadata": {},
     "output_type": "execute_result"
    }
   ],
   "source": [
    "#EDA..\n",
    "#Univariate analysis\n",
    "\n",
    "num_cols=[col for col in bsn if bsn[col].dtype!='O']\n",
    "num_cols"
   ]
  },
  {
   "cell_type": "code",
   "execution_count": 16,
   "metadata": {},
   "outputs": [
    {
     "data": {
      "text/plain": [
       "<matplotlib.axes._subplots.AxesSubplot at 0x1a881022288>"
      ]
     },
     "execution_count": 16,
     "metadata": {},
     "output_type": "execute_result"
    },
    {
     "data": {
      "image/png": "[encoded data removed]",
      "text/plain": [
       "<Figure size 432x288 with 1 Axes>"
      ]
     },
     "metadata": {
      "needs_background": "light"
     },
     "output_type": "display_data"
    }
   ],
   "source": [
    "sbn.distplot(bsn['station'])"
   ]
  },
  {
   "cell_type": "code",
   "execution_count": 17,
   "metadata": {},
   "outputs": [
    {
     "data": {
      "text/plain": [
       "<matplotlib.axes._subplots.AxesSubplot at 0x1a882b853c8>"
      ]
     },
     "execution_count": 17,
     "metadata": {},
     "output_type": "execute_result"
    },
    {
     "data": {
      "image/png": "[encoded data removed]",
      "text/plain": [
       "<Figure size 432x288 with 1 Axes>"
      ]
     },
     "metadata": {
      "needs_background": "light"
     },
     "output_type": "display_data"
    }
   ],
   "source": [
    "sbn.distplot(bsn['Solar radiation'])"
   ]
  },
  {
   "cell_type": "markdown",
   "metadata": {},
   "source": [
    "the above plot shows radiation is right skewed"
   ]
  },
  {
   "cell_type": "code",
   "execution_count": 18,
   "metadata": {},
   "outputs": [
    {
     "data": {
      "text/plain": [
       "<matplotlib.axes._subplots.AxesSubplot at 0x1a882c90c48>"
      ]
     },
     "execution_count": 18,
     "metadata": {},
     "output_type": "execute_result"
    },
    {
     "data": {
      "image/png": "[encoded data removed]",
      "text/plain": [
       "<Figure size 432x288 with 1 Axes>"
      ]
     },
     "metadata": {
      "needs_background": "light"
     },
     "output_type": "display_data"
    }
   ],
   "source": [
    "sbn.distplot(bsn['LDAPS_Tmax_lapse'])"
   ]
  },
  {
   "cell_type": "code",
   "execution_count": 19,
   "metadata": {},
   "outputs": [
    {
     "data": {
      "text/plain": [
       "<matplotlib.axes._subplots.AxesSubplot at 0x1a882dc5c08>"
      ]
     },
     "execution_count": 19,
     "metadata": {},
     "output_type": "execute_result"
    },
    {
     "data": {
      "image/png": "[encoded data removed]",
      "text/plain": [
       "<Figure size 432x288 with 1 Axes>"
      ]
     },
     "metadata": {
      "needs_background": "light"
     },
     "output_type": "display_data"
    }
   ],
   "source": [
    "sbn.distplot(bsn['LDAPS_Tmin_lapse'])"
   ]
  },
  {
   "cell_type": "code",
   "execution_count": 32,
   "metadata": {},
   "outputs": [
    {
     "data": {
      "text/plain": [
       "<matplotlib.axes._subplots.AxesSubplot at 0x1a883232448>"
      ]
     },
     "execution_count": 32,
     "metadata": {},
     "output_type": "execute_result"
    },
    {
     "data": {
      "image/png": "[encoded data removed]",
      "text/plain": [
       "<Figure size 432x288 with 1 Axes>"
      ]
     },
     "metadata": {
      "needs_background": "light"
     },
     "output_type": "display_data"
    }
   ],
   "source": [
    "sbn.distplot(bsn['lat'])"
   ]
  },
  {
   "cell_type": "code",
   "execution_count": 33,
   "metadata": {},
   "outputs": [
    {
     "data": {
      "text/plain": [
       "<matplotlib.axes._subplots.AxesSubplot at 0x1a883168748>"
      ]
     },
     "execution_count": 33,
     "metadata": {},
     "output_type": "execute_result"
    },
    {
     "data": {
      "image/png": "[encoded data removed]",
      "text/plain": [
       "<Figure size 432x288 with 1 Axes>"
      ]
     },
     "metadata": {
      "needs_background": "light"
     },
     "output_type": "display_data"
    }
   ],
   "source": [
    "sbn.distplot(bsn['lon'])\n"
   ]
  },
  {
   "cell_type": "code",
   "execution_count": 34,
   "metadata": {},
   "outputs": [
    {
     "data": {
      "text/plain": [
       "<matplotlib.axes._subplots.AxesSubplot at 0x1a883574288>"
      ]
     },
     "execution_count": 34,
     "metadata": {},
     "output_type": "execute_result"
    },
    {
     "data": {
      "image/png": "[encoded data removed]",
      "text/plain": [
       "<Figure size 432x288 with 1 Axes>"
      ]
     },
     "metadata": {
      "needs_background": "light"
     },
     "output_type": "display_data"
    }
   ],
   "source": [
    " sbn.distplot(bsn['DEM'])\n",
    "                "
   ]
  },
  {
   "cell_type": "markdown",
   "metadata": {},
   "source": [
    "All the columns are normally distributed "
   ]
  },
  {
   "cell_type": "code",
   "execution_count": 35,
   "metadata": {},
   "outputs": [
    {
     "data": {
      "text/plain": [
       "array(['2013-06-30', '2013-07-01', '2013-07-02', '2013-07-03',\n",
       "       '2013-07-04', '2013-07-05', '2013-07-06', '2013-07-07',\n",
       "       '2013-07-08', '2013-07-09', '2013-07-10', '2013-07-11',\n",
       "       '2013-07-12', '2013-07-13', '2013-07-14', '2013-07-15',\n",
       "       '2013-07-16', '2013-07-17', '2013-07-18', '2013-07-19',\n",
       "       '2013-07-20', '2013-07-21', '2013-07-22', '2013-07-23',\n",
       "       '2013-07-24', '2013-07-25', '2013-07-26', '2013-07-27',\n",
       "       '2013-07-28', '2013-07-29', '2013-07-30', '2013-07-31',\n",
       "       '2013-08-01', '2013-08-02', '2013-08-03', '2013-08-04',\n",
       "       '2013-08-05', '2013-08-06', '2013-08-07', '2013-08-08',\n",
       "       '2013-08-09', '2013-08-11', '2013-08-12', '2013-08-13',\n",
       "       '2013-08-14', '2013-08-15', '2013-08-16', '2013-08-17',\n",
       "       '2013-08-18', '2013-08-19', '2013-08-20', '2013-08-21',\n",
       "       '2013-08-22', '2013-08-23', '2013-08-24', '2013-08-25',\n",
       "       '2013-08-26', '2013-08-27', '2013-08-28', '2013-08-29',\n",
       "       '2013-08-30', '2014-06-30', '2014-07-01', '2014-07-02',\n",
       "       '2014-07-03', '2014-07-04', '2014-07-05', '2014-07-06',\n",
       "       '2014-07-07', '2014-07-08', '2014-07-09', '2014-07-10',\n",
       "       '2014-07-11', '2014-07-12', '2014-07-13', '2014-07-14',\n",
       "       '2014-07-15', '2014-07-16', '2014-07-17', '2014-07-18',\n",
       "       '2014-07-19', '2014-07-20', '2014-07-21', '2014-07-22',\n",
       "       '2014-07-23', '2014-07-24', '2014-07-25', '2014-07-26',\n",
       "       '2014-07-27', '2014-07-28', '2014-07-29', '2014-07-30',\n",
       "       '2014-07-31', '2014-08-01', '2014-08-02', '2014-08-03',\n",
       "       '2014-08-04', '2014-08-05', '2014-08-06', '2014-08-07',\n",
       "       '2014-08-08', '2014-08-09', '2014-08-10', '2014-08-11',\n",
       "       '2014-08-12', '2014-08-13', '2014-08-14', '2014-08-15',\n",
       "       '2014-08-16', '2014-08-17', '2014-08-18', '2014-08-19',\n",
       "       '2014-08-20', '2014-08-21', '2014-08-22', '2014-08-23',\n",
       "       '2014-08-24', '2014-08-25', '2014-08-26', '2014-08-27',\n",
       "       '2014-08-28', '2014-08-29', '2014-08-30', '2015-06-30',\n",
       "       '2015-07-01', '2015-07-02', '2015-07-03', '2015-07-04',\n",
       "       '2015-07-05', '2015-07-06', '2015-07-07', '2015-07-08',\n",
       "       '2015-07-09', '2015-07-10', '2015-07-11', '2015-07-12',\n",
       "       '2015-07-13', '2015-07-14', '2015-07-15', '2015-07-16',\n",
       "       '2015-07-17', '2015-07-18', '2015-07-19', '2015-07-20',\n",
       "       '2015-07-21', '2015-07-22', '2015-07-23', '2015-07-24',\n",
       "       '2015-07-25', '2015-07-26', '2015-07-27', '2015-07-28',\n",
       "       '2015-07-29', '2015-07-30', '2015-07-31', '2015-08-01',\n",
       "       '2015-08-02', '2015-08-03', '2015-08-04', '2015-08-05',\n",
       "       '2015-08-06', '2015-08-07', '2015-08-08', '2015-08-09',\n",
       "       '2015-08-10', '2015-08-11', '2015-08-12', '2015-08-13',\n",
       "       '2015-08-14', '2015-08-15', '2015-08-16', '2015-08-17',\n",
       "       '2015-08-18', '2015-08-19', '2015-08-20', '2015-08-21',\n",
       "       '2015-08-22', '2015-08-23', '2015-08-24', '2015-08-25',\n",
       "       '2015-08-26', '2015-08-27', '2015-08-28', '2015-08-29',\n",
       "       '2015-08-30', '2016-06-30', '2016-07-01', '2016-07-02',\n",
       "       '2016-07-03', '2016-07-04', '2016-07-05', '2016-07-06',\n",
       "       '2016-07-07', '2016-07-08', '2016-07-09', '2016-07-10',\n",
       "       '2016-07-11', '2016-07-12', '2016-07-13', '2016-07-14',\n",
       "       '2016-07-15', '2016-07-16', '2016-07-17', '2016-07-18',\n",
       "       '2016-07-19', '2016-07-20', '2016-07-21', '2016-07-22',\n",
       "       '2016-07-23', '2016-07-24', '2016-07-25', '2016-07-26',\n",
       "       '2016-07-27', '2016-07-28', '2016-07-29', '2016-07-30',\n",
       "       '2016-08-01', '2016-08-02', '2016-08-03', '2016-08-04',\n",
       "       '2016-08-05', '2016-08-06', '2016-08-07', '2016-08-08',\n",
       "       '2016-08-09', '2016-08-10', '2016-08-11', '2016-08-12',\n",
       "       '2016-08-13', '2016-08-14', '2016-08-15', '2016-08-16',\n",
       "       '2016-08-17', '2016-08-18', '2016-08-19', '2016-08-21',\n",
       "       '2016-08-22', '2016-08-23', '2016-08-24', '2016-08-25',\n",
       "       '2016-08-26', '2016-08-27', '2016-08-28', '2016-08-29',\n",
       "       '2016-08-30', '2017-06-30', '2017-07-01', '2017-07-02',\n",
       "       '2017-07-03', '2017-07-04', '2017-07-05', '2017-07-06',\n",
       "       '2017-07-07', '2017-07-08', '2017-07-09', '2017-07-10',\n",
       "       '2017-07-11', '2017-07-12', '2017-07-13', '2017-07-14',\n",
       "       '2017-07-15', '2017-07-16', '2017-07-17', '2017-07-18',\n",
       "       '2017-07-19', '2017-07-20', '2017-07-21', '2017-07-22',\n",
       "       '2017-07-23', '2017-07-24', '2017-07-25', '2017-07-26',\n",
       "       '2017-07-27', '2017-07-28', '2017-07-29', '2017-07-30',\n",
       "       '2017-07-31', '2017-08-01', '2017-08-02', '2017-08-03',\n",
       "       '2017-08-04', '2017-08-05', '2017-08-06', '2017-08-07',\n",
       "       '2017-08-08', '2017-08-09', '2017-08-10', '2017-08-11',\n",
       "       '2017-08-12', '2017-08-13', '2017-08-14', '2017-08-15',\n",
       "       '2017-08-16', '2017-08-17', '2017-08-18', '2017-08-19',\n",
       "       '2017-08-20', '2017-08-21', '2017-08-22', '2017-08-23',\n",
       "       '2017-08-24', '2017-08-25', '2017-08-26', '2017-08-27',\n",
       "       '2017-08-28', '2017-08-29', '2017-08-30'], dtype=object)"
      ]
     },
     "execution_count": 35,
     "metadata": {},
     "output_type": "execute_result"
    }
   ],
   "source": [
    "bsn['Date'].unique()"
   ]
  },
  {
   "cell_type": "code",
   "execution_count": 40,
   "metadata": {},
   "outputs": [],
   "source": [
    "bsn['Month']=pd.to_datetime(bsn['Date']).dt.month\n",
    "bsn['Day']=pd.to_datetime(bsn['Date']).dt.day\n",
    "bsn['Year']=pd.to_datetime(bsn['Date']).dt.year\n"
   ]
  },
  {
   "cell_type": "code",
   "execution_count": 41,
   "metadata": {},
   "outputs": [],
   "source": [
    "bnew=bsn.drop('Date',axis=1)"
   ]
  },
  {
   "cell_type": "code",
   "execution_count": 42,
   "metadata": {},
   "outputs": [],
   "source": [
    "#Seperating the target and features\n",
    "\n",
    "x=bnew.drop(['Next_Tmax','Next_Tmin'],axis=1)"
   ]
  },
  {
   "cell_type": "code",
   "execution_count": 43,
   "metadata": {},
   "outputs": [
    {
     "data": {
      "text/html": [
       "<div>\n",
       "<style scoped>\n",
       "    .dataframe tbody tr th:only-of-type {\n",
       "        vertical-align: middle;\n",
       "    }\n",
       "\n",
       "    .dataframe tbody tr th {\n",
       "        vertical-align: top;\n",
       "    }\n",
       "\n",
       "    .dataframe thead th {\n",
       "        text-align: right;\n",
       "    }\n",
       "</style>\n",
       "<table border=\"1\" class=\"dataframe\">\n",
       "  <thead>\n",
       "    <tr style=\"text-align: right;\">\n",
       "      <th></th>\n",
       "      <th>station</th>\n",
       "      <th>Present_Tmax</th>\n",
       "      <th>Present_Tmin</th>\n",
       "      <th>LDAPS_RHmin</th>\n",
       "      <th>LDAPS_RHmax</th>\n",
       "      <th>LDAPS_Tmax_lapse</th>\n",
       "      <th>LDAPS_Tmin_lapse</th>\n",
       "      <th>LDAPS_WS</th>\n",
       "      <th>LDAPS_LH</th>\n",
       "      <th>LDAPS_CC1</th>\n",
       "      <th>...</th>\n",
       "      <th>LDAPS_PPT3</th>\n",
       "      <th>LDAPS_PPT4</th>\n",
       "      <th>lat</th>\n",
       "      <th>lon</th>\n",
       "      <th>DEM</th>\n",
       "      <th>Slope</th>\n",
       "      <th>Solar radiation</th>\n",
       "      <th>Month</th>\n",
       "      <th>Day</th>\n",
       "      <th>Year</th>\n",
       "    </tr>\n",
       "  </thead>\n",
       "  <tbody>\n",
       "    <tr>\n",
       "      <td>0</td>\n",
       "      <td>1.0</td>\n",
       "      <td>28.7</td>\n",
       "      <td>21.4</td>\n",
       "      <td>58.255688</td>\n",
       "      <td>91.116364</td>\n",
       "      <td>28.074101</td>\n",
       "      <td>23.006936</td>\n",
       "      <td>6.818887</td>\n",
       "      <td>69.451805</td>\n",
       "      <td>0.233947</td>\n",
       "      <td>...</td>\n",
       "      <td>0.0</td>\n",
       "      <td>0.0</td>\n",
       "      <td>37.6046</td>\n",
       "      <td>126.991</td>\n",
       "      <td>212.3350</td>\n",
       "      <td>2.7850</td>\n",
       "      <td>5992.895996</td>\n",
       "      <td>6</td>\n",
       "      <td>30</td>\n",
       "      <td>2013</td>\n",
       "    </tr>\n",
       "    <tr>\n",
       "      <td>1</td>\n",
       "      <td>2.0</td>\n",
       "      <td>31.9</td>\n",
       "      <td>21.6</td>\n",
       "      <td>52.263397</td>\n",
       "      <td>90.604721</td>\n",
       "      <td>29.850689</td>\n",
       "      <td>24.035009</td>\n",
       "      <td>5.691890</td>\n",
       "      <td>51.937448</td>\n",
       "      <td>0.225508</td>\n",
       "      <td>...</td>\n",
       "      <td>0.0</td>\n",
       "      <td>0.0</td>\n",
       "      <td>37.6046</td>\n",
       "      <td>127.032</td>\n",
       "      <td>44.7624</td>\n",
       "      <td>0.5141</td>\n",
       "      <td>5869.312500</td>\n",
       "      <td>6</td>\n",
       "      <td>30</td>\n",
       "      <td>2013</td>\n",
       "    </tr>\n",
       "    <tr>\n",
       "      <td>2</td>\n",
       "      <td>3.0</td>\n",
       "      <td>31.6</td>\n",
       "      <td>23.3</td>\n",
       "      <td>48.690479</td>\n",
       "      <td>83.973587</td>\n",
       "      <td>30.091292</td>\n",
       "      <td>24.565633</td>\n",
       "      <td>6.138224</td>\n",
       "      <td>20.573050</td>\n",
       "      <td>0.209344</td>\n",
       "      <td>...</td>\n",
       "      <td>0.0</td>\n",
       "      <td>0.0</td>\n",
       "      <td>37.5776</td>\n",
       "      <td>127.058</td>\n",
       "      <td>33.3068</td>\n",
       "      <td>0.2661</td>\n",
       "      <td>5863.555664</td>\n",
       "      <td>6</td>\n",
       "      <td>30</td>\n",
       "      <td>2013</td>\n",
       "    </tr>\n",
       "    <tr>\n",
       "      <td>3</td>\n",
       "      <td>4.0</td>\n",
       "      <td>32.0</td>\n",
       "      <td>23.4</td>\n",
       "      <td>58.239788</td>\n",
       "      <td>96.483688</td>\n",
       "      <td>29.704629</td>\n",
       "      <td>23.326177</td>\n",
       "      <td>5.650050</td>\n",
       "      <td>65.727144</td>\n",
       "      <td>0.216372</td>\n",
       "      <td>...</td>\n",
       "      <td>0.0</td>\n",
       "      <td>0.0</td>\n",
       "      <td>37.6450</td>\n",
       "      <td>127.022</td>\n",
       "      <td>45.7160</td>\n",
       "      <td>2.5348</td>\n",
       "      <td>5856.964844</td>\n",
       "      <td>6</td>\n",
       "      <td>30</td>\n",
       "      <td>2013</td>\n",
       "    </tr>\n",
       "    <tr>\n",
       "      <td>4</td>\n",
       "      <td>5.0</td>\n",
       "      <td>31.4</td>\n",
       "      <td>21.9</td>\n",
       "      <td>56.174095</td>\n",
       "      <td>90.155128</td>\n",
       "      <td>29.113934</td>\n",
       "      <td>23.486480</td>\n",
       "      <td>5.735004</td>\n",
       "      <td>107.965535</td>\n",
       "      <td>0.151407</td>\n",
       "      <td>...</td>\n",
       "      <td>0.0</td>\n",
       "      <td>0.0</td>\n",
       "      <td>37.5507</td>\n",
       "      <td>127.135</td>\n",
       "      <td>35.0380</td>\n",
       "      <td>0.5055</td>\n",
       "      <td>5859.552246</td>\n",
       "      <td>6</td>\n",
       "      <td>30</td>\n",
       "      <td>2013</td>\n",
       "    </tr>\n",
       "  </tbody>\n",
       "</table>\n",
       "<p>5 rows × 25 columns</p>\n",
       "</div>"
      ],
      "text/plain": [
       "   station  Present_Tmax  Present_Tmin  LDAPS_RHmin  LDAPS_RHmax  \\\n",
       "0      1.0          28.7          21.4    58.255688    91.116364   \n",
       "1      2.0          31.9          21.6    52.263397    90.604721   \n",
       "2      3.0          31.6          23.3    48.690479    83.973587   \n",
       "3      4.0          32.0          23.4    58.239788    96.483688   \n",
       "4      5.0          31.4          21.9    56.174095    90.155128   \n",
       "\n",
       "   LDAPS_Tmax_lapse  LDAPS_Tmin_lapse  LDAPS_WS    LDAPS_LH  LDAPS_CC1  ...  \\\n",
       "0         28.074101         23.006936  6.818887   69.451805   0.233947  ...   \n",
       "1         29.850689         24.035009  5.691890   51.937448   0.225508  ...   \n",
       "2         30.091292         24.565633  6.138224   20.573050   0.209344  ...   \n",
       "3         29.704629         23.326177  5.650050   65.727144   0.216372  ...   \n",
       "4         29.113934         23.486480  5.735004  107.965535   0.151407  ...   \n",
       "\n",
       "   LDAPS_PPT3  LDAPS_PPT4      lat      lon       DEM   Slope  \\\n",
       "0         0.0         0.0  37.6046  126.991  212.3350  2.7850   \n",
       "1         0.0         0.0  37.6046  127.032   44.7624  0.5141   \n",
       "2         0.0         0.0  37.5776  127.058   33.3068  0.2661   \n",
       "3         0.0         0.0  37.6450  127.022   45.7160  2.5348   \n",
       "4         0.0         0.0  37.5507  127.135   35.0380  0.5055   \n",
       "\n",
       "   Solar radiation  Month  Day  Year  \n",
       "0      5992.895996      6   30  2013  \n",
       "1      5869.312500      6   30  2013  \n",
       "2      5863.555664      6   30  2013  \n",
       "3      5856.964844      6   30  2013  \n",
       "4      5859.552246      6   30  2013  \n",
       "\n",
       "[5 rows x 25 columns]"
      ]
     },
     "execution_count": 43,
     "metadata": {},
     "output_type": "execute_result"
    }
   ],
   "source": [
    "x.head()"
   ]
  },
  {
   "cell_type": "code",
   "execution_count": 44,
   "metadata": {},
   "outputs": [],
   "source": [
    "#Bringing down alll the features to commonscale\n",
    "\n",
    "from sklearn.preprocessing import StandardScaler\n",
    "\n",
    "sc=StandardScaler()\n",
    "scx=sc.fit_transform(x)\n",
    "scx=pd.DataFrame(scx,columns=x.columns)"
   ]
  },
  {
   "cell_type": "code",
   "execution_count": 54,
   "metadata": {},
   "outputs": [],
   "source": [
    "Y=pd.DataFrame(bnew,columns=['Next_Tmax','Next_Tmin'])"
   ]
  },
  {
   "cell_type": "code",
   "execution_count": 55,
   "metadata": {},
   "outputs": [],
   "source": [
    "#train test\n",
    "x_train,x_test,y_train,y_test=train_test_split(x,Y,test_size=.22,random_state=45)"
   ]
  },
  {
   "cell_type": "code",
   "execution_count": 56,
   "metadata": {},
   "outputs": [
    {
     "data": {
      "text/plain": [
       "LinearRegression(copy_X=True, fit_intercept=True, n_jobs=None, normalize=True)"
      ]
     },
     "execution_count": 56,
     "metadata": {},
     "output_type": "execute_result"
    }
   ],
   "source": [
    "#Implementing the linear models \n",
    "\n",
    "\n",
    "lr=LinearRegression(normalize=True)\n",
    "lr.fit(x_train,y_train)"
   ]
  },
  {
   "cell_type": "code",
   "execution_count": 57,
   "metadata": {},
   "outputs": [
    {
     "name": "stdout",
     "output_type": "stream",
     "text": [
      "Mean Absolute Error: 0.9345054575664806\n",
      "Mean Squared Error: 1.5804739984142273\n",
      "Root Mean Squared Error: 1.2571690413044012\n",
      "R2 sCcore is: 0.806229494114303\n"
     ]
    }
   ],
   "source": [
    "predy=lr.predict(x_test)\n",
    "print('Mean Absolute Error:',mean_absolute_error(y_test,predy))\n",
    "print('Mean Squared Error:',mean_squared_error(y_test,predy))\n",
    "print('Root Mean Squared Error:',np.sqrt(mean_squared_error(y_test,predy)))\n",
    "print('R2 sCcore is:',r2_score(y_test,predy))"
   ]
  },
  {
   "cell_type": "code",
   "execution_count": 58,
   "metadata": {},
   "outputs": [
    {
     "name": "stdout",
     "output_type": "stream",
     "text": [
      "[0.80939189 0.81996697 0.8179574  0.81204756 0.79231911]\n",
      "0.8103365856064301\n",
      "0.009790509265913143\n"
     ]
    }
   ],
   "source": [
    "#Cross validation\n",
    "\n",
    "cvs=cross_val_score(lr,x_train,y_train,cv=5,scoring='r2')\n",
    "print(cvs)\n",
    "print(cvs.mean())\n",
    "print(cvs.std())"
   ]
  },
  {
   "cell_type": "code",
   "execution_count": 59,
   "metadata": {},
   "outputs": [],
   "source": [
    "#Selecting the random state\n",
    "\n",
    "def max_r2_score(model,x,y):\n",
    "    f_r2_score=0\n",
    "    for rst in range(42,100):\n",
    "        x_train,x_test,y_train,y_test=train_test_split(x,y,test_size=.22,random_state=rst)\n",
    "        model.fit(x_train,y_train)\n",
    "        predm=model.predict(x_test)\n",
    "        r2s=r2_score(y_test,predm)\n",
    "        print('r2 score is',r2s,'for the random state',rst)\n",
    "    \n",
    "        if r2s>f_r2_score:\n",
    "            f_r2_score=r2s\n",
    "    print('max r2 score for the corresponding random state is ',f_r2_score,rst)\n",
    "    return rst"
   ]
  },
  {
   "cell_type": "code",
   "execution_count": 61,
   "metadata": {},
   "outputs": [
    {
     "name": "stdout",
     "output_type": "stream",
     "text": [
      "r2 score is 0.81124601514909 for the random state 42\n",
      "r2 score is 0.8244060039081965 for the random state 43\n",
      "r2 score is 0.7940202910656662 for the random state 44\n",
      "r2 score is 0.806229494114303 for the random state 45\n",
      "r2 score is 0.807479501754454 for the random state 46\n",
      "r2 score is 0.8093909571612217 for the random state 47\n",
      "r2 score is 0.8190391628718388 for the random state 48\n",
      "r2 score is 0.8031663580446524 for the random state 49\n",
      "r2 score is 0.8113180107588169 for the random state 50\n",
      "r2 score is 0.8143675631592713 for the random state 51\n",
      "r2 score is 0.8090542475502689 for the random state 52\n",
      "r2 score is 0.8080820466623921 for the random state 53\n",
      "r2 score is 0.8151038385024227 for the random state 54\n",
      "r2 score is 0.8140560074126733 for the random state 55\n",
      "r2 score is 0.8149201603284624 for the random state 56\n",
      "r2 score is 0.8035346266271286 for the random state 57\n",
      "r2 score is 0.8112632467753668 for the random state 58\n",
      "r2 score is 0.8045529347172578 for the random state 59\n",
      "r2 score is 0.8260209393272104 for the random state 60\n",
      "r2 score is 0.8141588124298084 for the random state 61\n",
      "r2 score is 0.8150442567269753 for the random state 62\n",
      "r2 score is 0.8052785485382905 for the random state 63\n",
      "r2 score is 0.8013954886216443 for the random state 64\n",
      "r2 score is 0.8001213456133847 for the random state 65\n",
      "r2 score is 0.8075293942675706 for the random state 66\n",
      "r2 score is 0.803667706002583 for the random state 67\n",
      "r2 score is 0.8195198207646761 for the random state 68\n",
      "r2 score is 0.8088993977695296 for the random state 69\n",
      "r2 score is 0.8235742468439682 for the random state 70\n",
      "r2 score is 0.8252963626264893 for the random state 71\n",
      "r2 score is 0.8060512418598539 for the random state 72\n",
      "r2 score is 0.8071309679995586 for the random state 73\n",
      "r2 score is 0.8082112015035807 for the random state 74\n",
      "r2 score is 0.8087179413617569 for the random state 75\n",
      "r2 score is 0.7956785545491436 for the random state 76\n",
      "r2 score is 0.7988404865708103 for the random state 77\n",
      "r2 score is 0.806522672716377 for the random state 78\n",
      "r2 score is 0.8180098197450741 for the random state 79\n",
      "r2 score is 0.8157615937451428 for the random state 80\n",
      "r2 score is 0.8230789525348516 for the random state 81\n",
      "r2 score is 0.8114015339626445 for the random state 82\n",
      "r2 score is 0.8026042403479152 for the random state 83\n",
      "r2 score is 0.8219652599297091 for the random state 84\n",
      "r2 score is 0.8188735822744593 for the random state 85\n",
      "r2 score is 0.8134817650817141 for the random state 86\n",
      "r2 score is 0.8069973963883146 for the random state 87\n",
      "r2 score is 0.8092097872080346 for the random state 88\n",
      "r2 score is 0.8096096404418205 for the random state 89\n",
      "r2 score is 0.8155969184667147 for the random state 90\n",
      "r2 score is 0.8022542824086438 for the random state 91\n",
      "r2 score is 0.8196479053206128 for the random state 92\n",
      "r2 score is 0.8002831104447128 for the random state 93\n",
      "r2 score is 0.8026344763212927 for the random state 94\n",
      "r2 score is 0.8115768395705393 for the random state 95\n",
      "r2 score is 0.8073509894535449 for the random state 96\n",
      "r2 score is 0.8111032276279138 for the random state 97\n",
      "r2 score is 0.809214886688888 for the random state 98\n",
      "r2 score is 0.8135086765374762 for the random state 99\n",
      "max r2 score for the corresponding random state is  0.8260209393272104 99\n"
     ]
    },
    {
     "data": {
      "text/plain": [
       "99"
      ]
     },
     "execution_count": 61,
     "metadata": {},
     "output_type": "execute_result"
    }
   ],
   "source": [
    "max_r2_score(lr,x,Y)"
   ]
  },
  {
   "cell_type": "code",
   "execution_count": 62,
   "metadata": {},
   "outputs": [],
   "source": [
    "dtr=DecisionTreeRegressor(criterion='mse')\n",
    "\n",
    "params={'criterion': ['mse'],\n",
    " 'max_depth': [None],\n",
    " 'max_features': [None],\n",
    " 'max_leaf_nodes': [4,8,16],\n",
    " 'min_impurity_decrease': [0.0],\n",
    " 'min_impurity_split': [None],\n",
    " 'min_samples_leaf': [1,2,4],\n",
    " 'min_samples_split': [2,4],\n",
    " 'min_weight_fraction_leaf': [0.0],\n",
    " 'presort': [False],\n",
    " 'random_state': [None],\n",
    " 'splitter': ['best']}\n"
   ]
  },
  {
   "cell_type": "code",
   "execution_count": 63,
   "metadata": {},
   "outputs": [
    {
     "data": {
      "text/plain": [
       "{'criterion': 'mse',\n",
       " 'max_depth': None,\n",
       " 'max_features': None,\n",
       " 'max_leaf_nodes': 16,\n",
       " 'min_impurity_decrease': 0.0,\n",
       " 'min_impurity_split': None,\n",
       " 'min_samples_leaf': 4,\n",
       " 'min_samples_split': 2,\n",
       " 'min_weight_fraction_leaf': 0.0,\n",
       " 'presort': False,\n",
       " 'random_state': None,\n",
       " 'splitter': 'best'}"
      ]
     },
     "execution_count": 63,
     "metadata": {},
     "output_type": "execute_result"
    }
   ],
   "source": [
    "from sklearn.model_selection import GridSearchCV\n",
    "gcv=GridSearchCV(estimator=dtr,param_grid=params)\n",
    "gcv.fit(x_train,y_train)\n",
    "gcv.best_params_"
   ]
  },
  {
   "cell_type": "code",
   "execution_count": 64,
   "metadata": {},
   "outputs": [
    {
     "name": "stdout",
     "output_type": "stream",
     "text": [
      "Mean Absolute Error: 1.2034092949151205\n",
      "Mean Squared Error: 2.4137314861841848\n",
      "Root Mean Squared Error: 1.5536188355527185\n",
      "R2 sCcore is: 0.6981406719329792\n"
     ]
    }
   ],
   "source": [
    "#Decision Tree Regressor\n",
    "\n",
    "dtr=DecisionTreeRegressor(criterion='mse',\n",
    " max_leaf_nodes=16,\n",
    " min_impurity_decrease=0.0,\n",
    " min_samples_leaf= 4,\n",
    " min_samples_split=2,\n",
    " splitter='best')\n",
    "dtr.fit(x_train,y_train)\n",
    "dtrpr=dtr.predict(x_test)\n",
    "print('Mean Absolute Error:',mean_absolute_error(y_test,dtrpr))\n",
    "print('Mean Squared Error:',mean_squared_error(y_test,dtrpr))\n",
    "print('Root Mean Squared Error:',np.sqrt(mean_squared_error(y_test,dtrpr)))\n",
    "print('R2 sCcore is:',r2_score(y_test,dtrpr))"
   ]
  },
  {
   "cell_type": "code",
   "execution_count": 68,
   "metadata": {},
   "outputs": [
    {
     "name": "stdout",
     "output_type": "stream",
     "text": [
      "mean r2 score for kNeighbor regressor is 0.4873013569292617\n"
     ]
    }
   ],
   "source": [
    "#Lets check with KNN regressor\n",
    "\n",
    "from sklearn.neighbors import KNeighborsRegressor\n",
    "knr=KNeighborsRegressor(n_neighbors=3)\n",
    "knr.fit(x_train,y_train)\n",
    "knrp=knr.predict(x_test)\n",
    "print('mean r2 score for kNeighbor regressor is',cross_val_score(knr,x_train,y_train,cv=5,scoring='r2').mean())\n"
   ]
  },
  {
   "cell_type": "code",
   "execution_count": 69,
   "metadata": {},
   "outputs": [
    {
     "name": "stdout",
     "output_type": "stream",
     "text": [
      "mean r2 score for kNeighbor regressor is 0.8828459121918376\n"
     ]
    }
   ],
   "source": [
    "#Lets use RandomForest\n",
    "\n",
    "from sklearn.ensemble import RandomForestRegressor\n",
    "rf=RandomForestRegressor()\n",
    "rf.fit(x_train,y_train)\n",
    "rfp=rf.predict(x_test)\n",
    "print('mean r2 score for kNeighbor regressor is',cross_val_score(rf,x_train,y_train,cv=5,scoring='r2').mean())"
   ]
  },
  {
   "cell_type": "code",
   "execution_count": 70,
   "metadata": {},
   "outputs": [
    {
     "name": "stdout",
     "output_type": "stream",
     "text": [
      "Mean Absolute Error: 0.7103892215568859\n",
      "Mean Squared Error: 0.8973005389221562\n",
      "Root Mean Squared Error: 0.9472594886947062\n",
      "Mean R2 sCcore is: 0.8855255435431846\n"
     ]
    }
   ],
   "source": [
    "#Fitting the best model\n",
    "from sklearn.ensemble import RandomForestRegressor\n",
    "rf=RandomForestRegressor()\n",
    "rf.fit(x_train,y_train)\n",
    "rfp=rf.predict(x_test)\n",
    "print('Mean Absolute Error:',mean_absolute_error(y_test,rfp))\n",
    "print('Mean Squared Error:',mean_squared_error(y_test,rfp))\n",
    "print('Root Mean Squared Error:',np.sqrt(mean_squared_error(y_test,rfp)))\n",
    "print('Mean R2 sCcore is:',r2_score(y_test,rfp).mean())\n"
   ]
  },
  {
   "cell_type": "code",
   "execution_count": 71,
   "metadata": {},
   "outputs": [
    {
     "data": {
      "image/png": "[encoded data removed]",
      "text/plain": [
       "<Figure size 432x288 with 1 Axes>"
      ]
     },
     "metadata": {
      "needs_background": "light"
     },
     "output_type": "display_data"
    }
   ],
   "source": [
    "#plotting actual vs predicted\n",
    "\n",
    "plt.scatter(y_test,rfp)\n",
    "plt.show()"
   ]
  },
  {
   "cell_type": "code",
   "execution_count": 72,
   "metadata": {},
   "outputs": [
    {
     "data": {
      "text/plain": [
       "(1670, 2)"
      ]
     },
     "execution_count": 72,
     "metadata": {},
     "output_type": "execute_result"
    }
   ],
   "source": [
    "y_test.shape"
   ]
  },
  {
   "cell_type": "code",
   "execution_count": 73,
   "metadata": {},
   "outputs": [
    {
     "data": {
      "text/html": [
       "<div>\n",
       "<style scoped>\n",
       "    .dataframe tbody tr th:only-of-type {\n",
       "        vertical-align: middle;\n",
       "    }\n",
       "\n",
       "    .dataframe tbody tr th {\n",
       "        vertical-align: top;\n",
       "    }\n",
       "\n",
       "    .dataframe thead th {\n",
       "        text-align: right;\n",
       "    }\n",
       "</style>\n",
       "<table border=\"1\" class=\"dataframe\">\n",
       "  <thead>\n",
       "    <tr style=\"text-align: right;\">\n",
       "      <th></th>\n",
       "      <th>Next_Tmax</th>\n",
       "      <th>Next_Tmin</th>\n",
       "    </tr>\n",
       "  </thead>\n",
       "  <tbody>\n",
       "    <tr>\n",
       "      <td>7748</td>\n",
       "      <td>28.6</td>\n",
       "      <td>18.8</td>\n",
       "    </tr>\n",
       "    <tr>\n",
       "      <td>6951</td>\n",
       "      <td>25.9</td>\n",
       "      <td>23.4</td>\n",
       "    </tr>\n",
       "    <tr>\n",
       "      <td>7135</td>\n",
       "      <td>34.5</td>\n",
       "      <td>26.8</td>\n",
       "    </tr>\n",
       "    <tr>\n",
       "      <td>1488</td>\n",
       "      <td>27.0</td>\n",
       "      <td>23.9</td>\n",
       "    </tr>\n",
       "    <tr>\n",
       "      <td>6298</td>\n",
       "      <td>32.0</td>\n",
       "      <td>23.9</td>\n",
       "    </tr>\n",
       "  </tbody>\n",
       "</table>\n",
       "</div>"
      ],
      "text/plain": [
       "      Next_Tmax  Next_Tmin\n",
       "7748       28.6       18.8\n",
       "6951       25.9       23.4\n",
       "7135       34.5       26.8\n",
       "1488       27.0       23.9\n",
       "6298       32.0       23.9"
      ]
     },
     "execution_count": 73,
     "metadata": {},
     "output_type": "execute_result"
    }
   ],
   "source": [
    "y_test.head()"
   ]
  },
  {
   "cell_type": "code",
   "execution_count": 75,
   "metadata": {},
   "outputs": [],
   "source": [
    "#Saving the predicted values to csv\n",
    "\n",
    "rfp=pd.DataFrame(rfp,columns=['next_tmax','next_tmin'])"
   ]
  },
  {
   "cell_type": "code",
   "execution_count": 76,
   "metadata": {},
   "outputs": [
    {
     "data": {
      "text/html": [
       "<div>\n",
       "<style scoped>\n",
       "    .dataframe tbody tr th:only-of-type {\n",
       "        vertical-align: middle;\n",
       "    }\n",
       "\n",
       "    .dataframe tbody tr th {\n",
       "        vertical-align: top;\n",
       "    }\n",
       "\n",
       "    .dataframe thead th {\n",
       "        text-align: right;\n",
       "    }\n",
       "</style>\n",
       "<table border=\"1\" class=\"dataframe\">\n",
       "  <thead>\n",
       "    <tr style=\"text-align: right;\">\n",
       "      <th></th>\n",
       "      <th>next_tmax</th>\n",
       "      <th>next_tmin</th>\n",
       "    </tr>\n",
       "  </thead>\n",
       "  <tbody>\n",
       "    <tr>\n",
       "      <td>0</td>\n",
       "      <td>27.44</td>\n",
       "      <td>17.48</td>\n",
       "    </tr>\n",
       "    <tr>\n",
       "      <td>1</td>\n",
       "      <td>28.54</td>\n",
       "      <td>23.45</td>\n",
       "    </tr>\n",
       "    <tr>\n",
       "      <td>2</td>\n",
       "      <td>35.73</td>\n",
       "      <td>26.54</td>\n",
       "    </tr>\n",
       "    <tr>\n",
       "      <td>3</td>\n",
       "      <td>27.35</td>\n",
       "      <td>23.68</td>\n",
       "    </tr>\n",
       "    <tr>\n",
       "      <td>4</td>\n",
       "      <td>31.57</td>\n",
       "      <td>23.01</td>\n",
       "    </tr>\n",
       "  </tbody>\n",
       "</table>\n",
       "</div>"
      ],
      "text/plain": [
       "   next_tmax  next_tmin\n",
       "0      27.44      17.48\n",
       "1      28.54      23.45\n",
       "2      35.73      26.54\n",
       "3      27.35      23.68\n",
       "4      31.57      23.01"
      ]
     },
     "execution_count": 76,
     "metadata": {},
     "output_type": "execute_result"
    }
   ],
   "source": [
    "rfp.head()"
   ]
  },
  {
   "cell_type": "code",
   "execution_count": 77,
   "metadata": {},
   "outputs": [],
   "source": [
    "#Saving to csv\n",
    "rfp.to_csv('next_temp_prediction.csv',index=False)"
   ]
  },
  {
   "cell_type": "code",
   "execution_count": 78,
   "metadata": {},
   "outputs": [
    {
     "data": {
      "text/plain": [
       "['next_temp_predictions.pkl']"
      ]
     },
     "execution_count": 78,
     "metadata": {},
     "output_type": "execute_result"
    }
   ],
   "source": [
    "#Saving model\n",
    "\n",
    "import joblib\n",
    "\n",
    "joblib.dump(rf,'next_temp_predictions.pkl')"
   ]
  },
  {
   "cell_type": "code",
   "execution_count": null,
   "metadata": {},
   "outputs": [],
   "source": []
  }
 ],
 "metadata": {
  "kernelspec": {
   "display_name": "Python 3",
   "language": "python",
   "name": "python3"
  },
  "language_info": {
   "codemirror_mode": {
    "name": "ipython",
    "version": 3
   },
   "file_extension": ".py",
   "mimetype": "text/x-python",
   "name": "python",
   "nbconvert_exporter": "python",
   "pygments_lexer": "ipython3",
   "version": "3.7.4"
  }
 },
 "nbformat": 4,
 "nbformat_minor": 2
}
