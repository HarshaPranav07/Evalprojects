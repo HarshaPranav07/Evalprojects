{
 "cells": [
  {
   "cell_type": "code",
   "execution_count": 1,
   "metadata": {},
   "outputs": [],
   "source": [
    "import numpy as np\n",
    "import pandas as pd \n",
    "import seaborn as sbn\n",
    "import matplotlib.pyplot as plt\n",
    "from sklearn.tree import DecisionTreeClassifier\n",
    "from sklearn.neighbors import KNeighborsClassifier\n",
    "from sklearn.metrics import accuracy_score,classification_report,confusion_matrix\n",
    "from sklearn.model_selection import train_test_split,cross_val_score"
   ]
  },
  {
   "cell_type": "code",
   "execution_count": 2,
   "metadata": {},
   "outputs": [
    {
     "data": {
      "text/html": [
       "<div>\n",
       "<style scoped>\n",
       "    .dataframe tbody tr th:only-of-type {\n",
       "        vertical-align: middle;\n",
       "    }\n",
       "\n",
       "    .dataframe tbody tr th {\n",
       "        vertical-align: top;\n",
       "    }\n",
       "\n",
       "    .dataframe thead th {\n",
       "        text-align: right;\n",
       "    }\n",
       "</style>\n",
       "<table border=\"1\" class=\"dataframe\">\n",
       "  <thead>\n",
       "    <tr style=\"text-align: right;\">\n",
       "      <th></th>\n",
       "      <th>0</th>\n",
       "      <th>1</th>\n",
       "      <th>2</th>\n",
       "      <th>3</th>\n",
       "      <th>4</th>\n",
       "      <th>5</th>\n",
       "      <th>6</th>\n",
       "      <th>7</th>\n",
       "      <th>8</th>\n",
       "      <th>9</th>\n",
       "      <th>10</th>\n",
       "      <th>11</th>\n",
       "      <th>12</th>\n",
       "      <th>13</th>\n",
       "    </tr>\n",
       "  </thead>\n",
       "  <tbody>\n",
       "    <tr>\n",
       "      <td>0</td>\n",
       "      <td>63</td>\n",
       "      <td>1</td>\n",
       "      <td>4</td>\n",
       "      <td>140</td>\n",
       "      <td>260</td>\n",
       "      <td>0</td>\n",
       "      <td>1</td>\n",
       "      <td>112</td>\n",
       "      <td>1</td>\n",
       "      <td>3</td>\n",
       "      <td>2</td>\n",
       "      <td>?</td>\n",
       "      <td>?</td>\n",
       "      <td>2</td>\n",
       "    </tr>\n",
       "    <tr>\n",
       "      <td>1</td>\n",
       "      <td>44</td>\n",
       "      <td>1</td>\n",
       "      <td>4</td>\n",
       "      <td>130</td>\n",
       "      <td>209</td>\n",
       "      <td>0</td>\n",
       "      <td>1</td>\n",
       "      <td>127</td>\n",
       "      <td>0</td>\n",
       "      <td>0</td>\n",
       "      <td>?</td>\n",
       "      <td>?</td>\n",
       "      <td>?</td>\n",
       "      <td>0</td>\n",
       "    </tr>\n",
       "    <tr>\n",
       "      <td>2</td>\n",
       "      <td>60</td>\n",
       "      <td>1</td>\n",
       "      <td>4</td>\n",
       "      <td>132</td>\n",
       "      <td>218</td>\n",
       "      <td>0</td>\n",
       "      <td>1</td>\n",
       "      <td>140</td>\n",
       "      <td>1</td>\n",
       "      <td>1.5</td>\n",
       "      <td>3</td>\n",
       "      <td>?</td>\n",
       "      <td>?</td>\n",
       "      <td>2</td>\n",
       "    </tr>\n",
       "    <tr>\n",
       "      <td>3</td>\n",
       "      <td>55</td>\n",
       "      <td>1</td>\n",
       "      <td>4</td>\n",
       "      <td>142</td>\n",
       "      <td>228</td>\n",
       "      <td>0</td>\n",
       "      <td>1</td>\n",
       "      <td>149</td>\n",
       "      <td>1</td>\n",
       "      <td>2.5</td>\n",
       "      <td>1</td>\n",
       "      <td>?</td>\n",
       "      <td>?</td>\n",
       "      <td>1</td>\n",
       "    </tr>\n",
       "    <tr>\n",
       "      <td>4</td>\n",
       "      <td>66</td>\n",
       "      <td>1</td>\n",
       "      <td>3</td>\n",
       "      <td>110</td>\n",
       "      <td>213</td>\n",
       "      <td>1</td>\n",
       "      <td>2</td>\n",
       "      <td>99</td>\n",
       "      <td>1</td>\n",
       "      <td>1.3</td>\n",
       "      <td>2</td>\n",
       "      <td>?</td>\n",
       "      <td>?</td>\n",
       "      <td>0</td>\n",
       "    </tr>\n",
       "  </tbody>\n",
       "</table>\n",
       "</div>"
      ],
      "text/plain": [
       "   0   1   2    3    4  5   6    7  8    9  10 11 12  13\n",
       "0  63   1   4  140  260  0   1  112  1    3  2  ?  ?   2\n",
       "1  44   1   4  130  209  0   1  127  0    0  ?  ?  ?   0\n",
       "2  60   1   4  132  218  0   1  140  1  1.5  3  ?  ?   2\n",
       "3  55   1   4  142  228  0   1  149  1  2.5  1  ?  ?   1\n",
       "4  66   1   3  110  213  1   2   99  1  1.3  2  ?  ?   0"
      ]
     },
     "execution_count": 2,
     "metadata": {},
     "output_type": "execute_result"
    }
   ],
   "source": [
    "hdse=pd.read_csv('heartdisease.csv',header=None)\n",
    "hdse.head()"
   ]
  },
  {
   "cell_type": "code",
   "execution_count": 3,
   "metadata": {},
   "outputs": [],
   "source": [
    "hds=pd.DataFrame(hdse,columns=hdse.columns)"
   ]
  },
  {
   "cell_type": "code",
   "execution_count": 4,
   "metadata": {},
   "outputs": [
    {
     "data": {
      "text/html": [
       "<div>\n",
       "<style scoped>\n",
       "    .dataframe tbody tr th:only-of-type {\n",
       "        vertical-align: middle;\n",
       "    }\n",
       "\n",
       "    .dataframe tbody tr th {\n",
       "        vertical-align: top;\n",
       "    }\n",
       "\n",
       "    .dataframe thead th {\n",
       "        text-align: right;\n",
       "    }\n",
       "</style>\n",
       "<table border=\"1\" class=\"dataframe\">\n",
       "  <thead>\n",
       "    <tr style=\"text-align: right;\">\n",
       "      <th></th>\n",
       "      <th>0</th>\n",
       "      <th>1</th>\n",
       "      <th>2</th>\n",
       "      <th>3</th>\n",
       "      <th>4</th>\n",
       "      <th>5</th>\n",
       "      <th>6</th>\n",
       "      <th>7</th>\n",
       "      <th>8</th>\n",
       "      <th>9</th>\n",
       "      <th>10</th>\n",
       "      <th>11</th>\n",
       "      <th>12</th>\n",
       "      <th>13</th>\n",
       "    </tr>\n",
       "  </thead>\n",
       "  <tbody>\n",
       "    <tr>\n",
       "      <td>0</td>\n",
       "      <td>63</td>\n",
       "      <td>1</td>\n",
       "      <td>4</td>\n",
       "      <td>140</td>\n",
       "      <td>260</td>\n",
       "      <td>0</td>\n",
       "      <td>1</td>\n",
       "      <td>112</td>\n",
       "      <td>1</td>\n",
       "      <td>3</td>\n",
       "      <td>2</td>\n",
       "      <td>?</td>\n",
       "      <td>?</td>\n",
       "      <td>2</td>\n",
       "    </tr>\n",
       "    <tr>\n",
       "      <td>1</td>\n",
       "      <td>44</td>\n",
       "      <td>1</td>\n",
       "      <td>4</td>\n",
       "      <td>130</td>\n",
       "      <td>209</td>\n",
       "      <td>0</td>\n",
       "      <td>1</td>\n",
       "      <td>127</td>\n",
       "      <td>0</td>\n",
       "      <td>0</td>\n",
       "      <td>?</td>\n",
       "      <td>?</td>\n",
       "      <td>?</td>\n",
       "      <td>0</td>\n",
       "    </tr>\n",
       "    <tr>\n",
       "      <td>2</td>\n",
       "      <td>60</td>\n",
       "      <td>1</td>\n",
       "      <td>4</td>\n",
       "      <td>132</td>\n",
       "      <td>218</td>\n",
       "      <td>0</td>\n",
       "      <td>1</td>\n",
       "      <td>140</td>\n",
       "      <td>1</td>\n",
       "      <td>1.5</td>\n",
       "      <td>3</td>\n",
       "      <td>?</td>\n",
       "      <td>?</td>\n",
       "      <td>2</td>\n",
       "    </tr>\n",
       "    <tr>\n",
       "      <td>3</td>\n",
       "      <td>55</td>\n",
       "      <td>1</td>\n",
       "      <td>4</td>\n",
       "      <td>142</td>\n",
       "      <td>228</td>\n",
       "      <td>0</td>\n",
       "      <td>1</td>\n",
       "      <td>149</td>\n",
       "      <td>1</td>\n",
       "      <td>2.5</td>\n",
       "      <td>1</td>\n",
       "      <td>?</td>\n",
       "      <td>?</td>\n",
       "      <td>1</td>\n",
       "    </tr>\n",
       "    <tr>\n",
       "      <td>4</td>\n",
       "      <td>66</td>\n",
       "      <td>1</td>\n",
       "      <td>3</td>\n",
       "      <td>110</td>\n",
       "      <td>213</td>\n",
       "      <td>1</td>\n",
       "      <td>2</td>\n",
       "      <td>99</td>\n",
       "      <td>1</td>\n",
       "      <td>1.3</td>\n",
       "      <td>2</td>\n",
       "      <td>?</td>\n",
       "      <td>?</td>\n",
       "      <td>0</td>\n",
       "    </tr>\n",
       "  </tbody>\n",
       "</table>\n",
       "</div>"
      ],
      "text/plain": [
       "   0   1   2    3    4  5   6    7  8    9  10 11 12  13\n",
       "0  63   1   4  140  260  0   1  112  1    3  2  ?  ?   2\n",
       "1  44   1   4  130  209  0   1  127  0    0  ?  ?  ?   0\n",
       "2  60   1   4  132  218  0   1  140  1  1.5  3  ?  ?   2\n",
       "3  55   1   4  142  228  0   1  149  1  2.5  1  ?  ?   1\n",
       "4  66   1   3  110  213  1   2   99  1  1.3  2  ?  ?   0"
      ]
     },
     "execution_count": 4,
     "metadata": {},
     "output_type": "execute_result"
    }
   ],
   "source": [
    "hds.head()"
   ]
  },
  {
   "cell_type": "code",
   "execution_count": 5,
   "metadata": {},
   "outputs": [
    {
     "data": {
      "text/plain": [
       "(200, 14)"
      ]
     },
     "execution_count": 5,
     "metadata": {},
     "output_type": "execute_result"
    }
   ],
   "source": [
    "hdse.shape"
   ]
  },
  {
   "cell_type": "code",
   "execution_count": 6,
   "metadata": {},
   "outputs": [
    {
     "data": {
      "text/plain": [
       "(200, 14)"
      ]
     },
     "execution_count": 6,
     "metadata": {},
     "output_type": "execute_result"
    }
   ],
   "source": [
    "hds.shape"
   ]
  },
  {
   "cell_type": "code",
   "execution_count": 7,
   "metadata": {},
   "outputs": [],
   "source": [
    "hds.columns=(['age','sex','cp','trestbps','chol','fbs','restecg','thalach','exang','oldpeak','slope','ca','thal','num'])"
   ]
  },
  {
   "cell_type": "code",
   "execution_count": 8,
   "metadata": {},
   "outputs": [
    {
     "data": {
      "text/plain": [
       "age         0\n",
       "sex         0\n",
       "cp          0\n",
       "trestbps    0\n",
       "chol        0\n",
       "fbs         0\n",
       "restecg     0\n",
       "thalach     0\n",
       "exang       0\n",
       "oldpeak     0\n",
       "slope       0\n",
       "ca          0\n",
       "thal        0\n",
       "num         0\n",
       "dtype: int64"
      ]
     },
     "execution_count": 8,
     "metadata": {},
     "output_type": "execute_result"
    }
   ],
   "source": [
    "hds.isnull().sum()"
   ]
  },
  {
   "cell_type": "code",
   "execution_count": 9,
   "metadata": {},
   "outputs": [
    {
     "name": "stdout",
     "output_type": "stream",
     "text": [
      "<class 'pandas.core.frame.DataFrame'>\n",
      "RangeIndex: 200 entries, 0 to 199\n",
      "Data columns (total 14 columns):\n",
      "age         200 non-null int64\n",
      "sex         200 non-null int64\n",
      "cp          200 non-null int64\n",
      "trestbps    200 non-null object\n",
      "chol        200 non-null object\n",
      "fbs         200 non-null object\n",
      "restecg     200 non-null int64\n",
      "thalach     200 non-null object\n",
      "exang       200 non-null object\n",
      "oldpeak     200 non-null object\n",
      "slope       200 non-null object\n",
      "ca          200 non-null object\n",
      "thal        200 non-null object\n",
      "num         200 non-null int64\n",
      "dtypes: int64(5), object(9)\n",
      "memory usage: 22.0+ KB\n"
     ]
    }
   ],
   "source": [
    "hds.info()"
   ]
  },
  {
   "cell_type": "code",
   "execution_count": 11,
   "metadata": {},
   "outputs": [
    {
     "data": {
      "text/plain": [
       "array([2, 0, 1, 3, 4], dtype=int64)"
      ]
     },
     "execution_count": 11,
     "metadata": {},
     "output_type": "execute_result"
    }
   ],
   "source": [
    "hds['num'].unique()"
   ]
  },
  {
   "cell_type": "code",
   "execution_count": 12,
   "metadata": {},
   "outputs": [
    {
     "data": {
      "text/plain": [
       "array(['1', '0', '?'], dtype=object)"
      ]
     },
     "execution_count": 12,
     "metadata": {},
     "output_type": "execute_result"
    }
   ],
   "source": [
    "hds['exang'].unique()"
   ]
  },
  {
   "cell_type": "code",
   "execution_count": 14,
   "metadata": {},
   "outputs": [
    {
     "data": {
      "text/plain": [
       "array(['?', '3', '7', '6'], dtype=object)"
      ]
     },
     "execution_count": 14,
     "metadata": {},
     "output_type": "execute_result"
    }
   ],
   "source": [
    "hds['thal'].unique()"
   ]
  },
  {
   "cell_type": "code",
   "execution_count": 15,
   "metadata": {},
   "outputs": [
    {
     "data": {
      "text/plain": [
       "array(['?', '0'], dtype=object)"
      ]
     },
     "execution_count": 15,
     "metadata": {},
     "output_type": "execute_result"
    }
   ],
   "source": [
    "hds['ca'].unique()"
   ]
  },
  {
   "cell_type": "code",
   "execution_count": 16,
   "metadata": {},
   "outputs": [
    {
     "data": {
      "text/plain": [
       "age          int64\n",
       "sex          int64\n",
       "cp           int64\n",
       "trestbps    object\n",
       "chol        object\n",
       "fbs         object\n",
       "restecg      int64\n",
       "thalach     object\n",
       "exang       object\n",
       "oldpeak     object\n",
       "slope       object\n",
       "ca          object\n",
       "thal        object\n",
       "num          int64\n",
       "dtype: object"
      ]
     },
     "execution_count": 16,
     "metadata": {},
     "output_type": "execute_result"
    }
   ],
   "source": [
    "hds.dtypes"
   ]
  },
  {
   "cell_type": "code",
   "execution_count": 17,
   "metadata": {},
   "outputs": [
    {
     "data": {
      "text/plain": [
       "array(['140', '130', '132', '142', '110', '120', '150', '180', '160',\n",
       "       '126', '?', '128', '170', '152', '116', '124', '0', '122', '144',\n",
       "       '154', '125', '104', '136', '134', '138', '178', '146', '135',\n",
       "       '158', '106', '112', '102', '96', '172', '155', '156', '118',\n",
       "       '100', '190', '114', '127'], dtype=object)"
      ]
     },
     "execution_count": 17,
     "metadata": {},
     "output_type": "execute_result"
    }
   ],
   "source": [
    "hds['trestbps'].unique()"
   ]
  },
  {
   "cell_type": "code",
   "execution_count": 18,
   "metadata": {},
   "outputs": [
    {
     "data": {
      "text/plain": [
       "array(['0', '1', '?'], dtype=object)"
      ]
     },
     "execution_count": 18,
     "metadata": {},
     "output_type": "execute_result"
    }
   ],
   "source": [
    "hds['fbs'].unique()"
   ]
  },
  {
   "cell_type": "code",
   "execution_count": 19,
   "metadata": {},
   "outputs": [
    {
     "data": {
      "text/plain": [
       "fbs  age\n",
       "0    62     12\n",
       "     63     11\n",
       "     55      9\n",
       "     58      7\n",
       "     59      7\n",
       "            ..\n",
       "?    53      1\n",
       "     57      1\n",
       "     60      1\n",
       "     61      1\n",
       "     69      1\n",
       "Name: age, Length: 68, dtype: int64"
      ]
     },
     "execution_count": 19,
     "metadata": {},
     "output_type": "execute_result"
    }
   ],
   "source": [
    "hds.groupby('fbs')['age'].value_counts()"
   ]
  },
  {
   "cell_type": "code",
   "execution_count": 20,
   "metadata": {},
   "outputs": [
    {
     "data": {
      "text/plain": [
       "fbs  sex\n",
       "0    1      122\n",
       "     0        3\n",
       "1    1       65\n",
       "     0        3\n",
       "?    1        7\n",
       "Name: sex, dtype: int64"
      ]
     },
     "execution_count": 20,
     "metadata": {},
     "output_type": "execute_result"
    }
   ],
   "source": [
    "hds.groupby('fbs')['sex'].value_counts()"
   ]
  },
  {
   "cell_type": "code",
   "execution_count": 21,
   "metadata": {},
   "outputs": [
    {
     "data": {
      "text/plain": [
       "<matplotlib.axes._subplots.AxesSubplot at 0x133916d2288>"
      ]
     },
     "execution_count": 21,
     "metadata": {},
     "output_type": "execute_result"
    },
    {
     "data": {
      "image/png": "[encoded data removed]",
      "text/plain": [
       "<Figure size 432x288 with 1 Axes>"
      ]
     },
     "metadata": {
      "needs_background": "light"
     },
     "output_type": "display_data"
    }
   ],
   "source": [
    "sbn.countplot('fbs',hue='sex',data=hds)"
   ]
  },
  {
   "cell_type": "code",
   "execution_count": 22,
   "metadata": {},
   "outputs": [
    {
     "data": {
      "text/plain": [
       "chol  sex\n",
       "0     1      48\n",
       "      0       1\n",
       "100   1       1\n",
       "139   1       1\n",
       "142   1       1\n",
       "             ..\n",
       "369   1       1\n",
       "384   1       1\n",
       "385   1       1\n",
       "458   1       1\n",
       "?     1       7\n",
       "Name: sex, Length: 103, dtype: int64"
      ]
     },
     "execution_count": 22,
     "metadata": {},
     "output_type": "execute_result"
    }
   ],
   "source": [
    "hds.groupby('chol')['sex'].value_counts()"
   ]
  },
  {
   "cell_type": "code",
   "execution_count": 23,
   "metadata": {},
   "outputs": [
    {
     "data": {
      "image/png": "[encoded data removed]",
      "text/plain": [
       "<Figure size 432x288 with 1 Axes>"
      ]
     },
     "metadata": {
      "needs_background": "light"
     },
     "output_type": "display_data"
    }
   ],
   "source": [
    "sbn.countplot('num',hue='sex',data=hds)\n",
    "plt.show()"
   ]
  },
  {
   "cell_type": "code",
   "execution_count": 24,
   "metadata": {},
   "outputs": [
    {
     "data": {
      "text/plain": [
       "<matplotlib.axes._subplots.AxesSubplot at 0x133919eda48>"
      ]
     },
     "execution_count": 24,
     "metadata": {},
     "output_type": "execute_result"
    },
    {
     "data": {
      "image/png": "[encoded data removed]",
      "text/plain": [
       "<Figure size 432x288 with 1 Axes>"
      ]
     },
     "metadata": {
      "needs_background": "light"
     },
     "output_type": "display_data"
    }
   ],
   "source": [
    "sbn.scatterplot('num','age',data=hds)\n"
   ]
  },
  {
   "cell_type": "code",
   "execution_count": 25,
   "metadata": {},
   "outputs": [
    {
     "data": {
      "text/plain": [
       "Text(0, 0.5, 'Count')"
      ]
     },
     "execution_count": 25,
     "metadata": {},
     "output_type": "execute_result"
    },
    {
     "data": {
      "image/png": "[encoded data removed]",
      "text/plain": [
       "<Figure size 432x288 with 1 Axes>"
      ]
     },
     "metadata": {
      "needs_background": "light"
     },
     "output_type": "display_data"
    }
   ],
   "source": [
    "sbn.countplot('cp',hue='sex',data=hds)\n",
    "plt.xlabel('chest pain type')\n",
    "plt.ylabel('Count')\n"
   ]
  },
  {
   "cell_type": "code",
   "execution_count": 26,
   "metadata": {},
   "outputs": [
    {
     "data": {
      "text/plain": [
       "<matplotlib.axes._subplots.AxesSubplot at 0x13391ba9a08>"
      ]
     },
     "execution_count": 26,
     "metadata": {},
     "output_type": "execute_result"
    },
    {
     "data": {
      "image/png": "[encoded data removed]",
      "text/plain": [
       "<Figure size 432x288 with 1 Axes>"
      ]
     },
     "metadata": {
      "needs_background": "light"
     },
     "output_type": "display_data"
    }
   ],
   "source": [
    "sbn.countplot('thal',hue='sex',data=hds)"
   ]
  },
  {
   "cell_type": "code",
   "execution_count": 27,
   "metadata": {},
   "outputs": [
    {
     "data": {
      "text/plain": [
       "<matplotlib.axes._subplots.AxesSubplot at 0x13391a6c148>"
      ]
     },
     "execution_count": 27,
     "metadata": {},
     "output_type": "execute_result"
    },
    {
     "data": {
      "image/png": "[encoded data removed]",
      "text/plain": [
       "<Figure size 432x288 with 1 Axes>"
      ]
     },
     "metadata": {
      "needs_background": "light"
     },
     "output_type": "display_data"
    }
   ],
   "source": [
    "sbn.countplot('oldpeak',hue='sex',data=hds)\n"
   ]
  },
  {
   "cell_type": "code",
   "execution_count": 28,
   "metadata": {},
   "outputs": [
    {
     "name": "stdout",
     "output_type": "stream",
     "text": [
      "?      56\n",
      "120    16\n",
      "130    15\n",
      "140    10\n",
      "150     9\n",
      "Name: trestbps, dtype: int64\n"
     ]
    }
   ],
   "source": [
    "#replacing missing values\n",
    "\n",
    "print( hds['trestbps'].value_counts().head())"
   ]
  },
  {
   "cell_type": "code",
   "execution_count": 29,
   "metadata": {},
   "outputs": [],
   "source": [
    "#replacing the missing values with mode,considering this case\n",
    "#replaced within the string type as this column is object type\n",
    "#converting object into int\n",
    "\n",
    "hds['trestbps']=hds['trestbps'].replace(['?'],'120')\n",
    "hds['trestbps']=hds['trestbps'].astype('int64')"
   ]
  },
  {
   "cell_type": "code",
   "execution_count": 30,
   "metadata": {},
   "outputs": [
    {
     "name": "stdout",
     "output_type": "stream",
     "text": [
      "120    72\n",
      "130    15\n",
      "140    10\n",
      "110     9\n",
      "150     9\n",
      "Name: trestbps, dtype: int64\n"
     ]
    }
   ],
   "source": [
    "print( hds['trestbps'].value_counts().head())\n"
   ]
  },
  {
   "cell_type": "code",
   "execution_count": 31,
   "metadata": {},
   "outputs": [
    {
     "data": {
      "text/plain": [
       "array(['0', '1', '?'], dtype=object)"
      ]
     },
     "execution_count": 31,
     "metadata": {},
     "output_type": "execute_result"
    }
   ],
   "source": [
    "hds['fbs'].unique()"
   ]
  },
  {
   "cell_type": "code",
   "execution_count": 32,
   "metadata": {},
   "outputs": [
    {
     "data": {
      "text/plain": [
       "<matplotlib.axes._subplots.AxesSubplot at 0x13391c82048>"
      ]
     },
     "execution_count": 32,
     "metadata": {},
     "output_type": "execute_result"
    },
    {
     "data": {
      "image/png": "[encoded data removed]",
      "text/plain": [
       "<Figure size 432x288 with 1 Axes>"
      ]
     },
     "metadata": {
      "needs_background": "light"
     },
     "output_type": "display_data"
    }
   ],
   "source": [
    "sbn.countplot('fbs',hue='sex',data=hds)\n"
   ]
  },
  {
   "cell_type": "code",
   "execution_count": 36,
   "metadata": {},
   "outputs": [
    {
     "name": "stdout",
     "output_type": "stream",
     "text": [
      "0    130\n",
      "1     70\n",
      "Name: fbs, dtype: int64\n"
     ]
    }
   ],
   "source": [
    "\n",
    "missval=hds.fbs.values=='?'\n",
    "hds.loc[missval, 'fbs'] = np.random.choice(('0','1'), missval.sum(), p=(0.8,0.2))\n",
    "print (hds['fbs'].value_counts())\n",
    "hds['fbs']=hds['fbs'].astype('int64')"
   ]
  },
  {
   "cell_type": "code",
   "execution_count": 37,
   "metadata": {},
   "outputs": [
    {
     "data": {
      "text/plain": [
       "<matplotlib.axes._subplots.AxesSubplot at 0x13391cdb588>"
      ]
     },
     "execution_count": 37,
     "metadata": {},
     "output_type": "execute_result"
    },
    {
     "data": {
      "image/png": "[encoded data removed]",
      "text/plain": [
       "<Figure size 432x288 with 1 Axes>"
      ]
     },
     "metadata": {
      "needs_background": "light"
     },
     "output_type": "display_data"
    }
   ],
   "source": [
    "sbn.countplot('chol',hue='sex',data=hds)\n"
   ]
  },
  {
   "cell_type": "code",
   "execution_count": 42,
   "metadata": {},
   "outputs": [
    {
     "data": {
      "text/plain": [
       "<matplotlib.axes._subplots.AxesSubplot at 0x13393963e88>"
      ]
     },
     "execution_count": 42,
     "metadata": {},
     "output_type": "execute_result"
    },
    {
     "data": {
      "image/png": "[encoded data removed]",
      "text/plain": [
       "<Figure size 432x288 with 1 Axes>"
      ]
     },
     "metadata": {
      "needs_background": "light"
     },
     "output_type": "display_data"
    }
   ],
   "source": [
    "sbn.lineplot('chol','num',data=hds)\n"
   ]
  },
  {
   "cell_type": "code",
   "execution_count": 43,
   "metadata": {},
   "outputs": [
    {
     "data": {
      "text/plain": [
       "array(['260', '209', '218', '228', '213', '0', '236', '267', '166', '220',\n",
       "       '177', '186', '100', '171', '230', '281', '203', '277', '233',\n",
       "       '240', '153', '224', '316', '311', '270', '217', '214', '252',\n",
       "       '339', '216', '276', '458', '241', '384', '297', '248', '308',\n",
       "       '208', '227', '210', '245', '225', '198', '195', '161', '258',\n",
       "       '235', '305', '223', '282', '349', '?', '160', '312', '283', '142',\n",
       "       '211', '306', '222', '202', '197', '204', '274', '192', '298',\n",
       "       '272', '200', '261', '181', '221', '175', '219', '310', '232',\n",
       "       '273', '182', '292', '289', '193', '170', '369', '173', '271',\n",
       "       '244', '285', '243', '237', '165', '287', '256', '264', '226',\n",
       "       '207', '284', '337', '254', '300', '333', '139', '385'],\n",
       "      dtype=object)"
      ]
     },
     "execution_count": 43,
     "metadata": {},
     "output_type": "execute_result"
    }
   ],
   "source": [
    "hds['chol'].unique()"
   ]
  },
  {
   "cell_type": "code",
   "execution_count": 44,
   "metadata": {},
   "outputs": [
    {
     "data": {
      "text/plain": [
       "0      49\n",
       "?       7\n",
       "203     4\n",
       "220     4\n",
       "258     4\n",
       "       ..\n",
       "261     1\n",
       "458     1\n",
       "284     1\n",
       "192     1\n",
       "271     1\n",
       "Name: chol, Length: 100, dtype: int64"
      ]
     },
     "execution_count": 44,
     "metadata": {},
     "output_type": "execute_result"
    }
   ],
   "source": [
    "hds['chol'].value_counts()"
   ]
  },
  {
   "cell_type": "code",
   "execution_count": 51,
   "metadata": {},
   "outputs": [
    {
     "data": {
      "text/plain": [
       "<matplotlib.axes._subplots.AxesSubplot at 0x13393aaf088>"
      ]
     },
     "execution_count": 51,
     "metadata": {},
     "output_type": "execute_result"
    },
    {
     "data": {
      "image/png": "[encoded data removed]",
      "text/plain": [
       "<Figure size 432x288 with 2 Axes>"
      ]
     },
     "metadata": {
      "needs_background": "light"
     },
     "output_type": "display_data"
    }
   ],
   "source": [
    "sbn.heatmap(hds.corr())"
   ]
  },
  {
   "cell_type": "code",
   "execution_count": 52,
   "metadata": {},
   "outputs": [
    {
     "data": {
      "text/html": [
       "<div>\n",
       "<style scoped>\n",
       "    .dataframe tbody tr th:only-of-type {\n",
       "        vertical-align: middle;\n",
       "    }\n",
       "\n",
       "    .dataframe tbody tr th {\n",
       "        vertical-align: top;\n",
       "    }\n",
       "\n",
       "    .dataframe thead th {\n",
       "        text-align: right;\n",
       "    }\n",
       "</style>\n",
       "<table border=\"1\" class=\"dataframe\">\n",
       "  <thead>\n",
       "    <tr style=\"text-align: right;\">\n",
       "      <th></th>\n",
       "      <th>age</th>\n",
       "      <th>sex</th>\n",
       "      <th>cp</th>\n",
       "      <th>trestbps</th>\n",
       "      <th>chol</th>\n",
       "      <th>fbs</th>\n",
       "      <th>restecg</th>\n",
       "      <th>thalach</th>\n",
       "      <th>exang</th>\n",
       "      <th>oldpeak</th>\n",
       "      <th>slope</th>\n",
       "      <th>ca</th>\n",
       "      <th>thal</th>\n",
       "      <th>num</th>\n",
       "    </tr>\n",
       "  </thead>\n",
       "  <tbody>\n",
       "    <tr>\n",
       "      <td>0</td>\n",
       "      <td>63</td>\n",
       "      <td>1</td>\n",
       "      <td>4</td>\n",
       "      <td>140</td>\n",
       "      <td>260</td>\n",
       "      <td>0</td>\n",
       "      <td>1</td>\n",
       "      <td>112</td>\n",
       "      <td>1</td>\n",
       "      <td>3</td>\n",
       "      <td>2</td>\n",
       "      <td>?</td>\n",
       "      <td>?</td>\n",
       "      <td>2</td>\n",
       "    </tr>\n",
       "    <tr>\n",
       "      <td>1</td>\n",
       "      <td>44</td>\n",
       "      <td>1</td>\n",
       "      <td>4</td>\n",
       "      <td>130</td>\n",
       "      <td>209</td>\n",
       "      <td>0</td>\n",
       "      <td>1</td>\n",
       "      <td>127</td>\n",
       "      <td>0</td>\n",
       "      <td>0</td>\n",
       "      <td>?</td>\n",
       "      <td>?</td>\n",
       "      <td>?</td>\n",
       "      <td>0</td>\n",
       "    </tr>\n",
       "    <tr>\n",
       "      <td>2</td>\n",
       "      <td>60</td>\n",
       "      <td>1</td>\n",
       "      <td>4</td>\n",
       "      <td>132</td>\n",
       "      <td>218</td>\n",
       "      <td>0</td>\n",
       "      <td>1</td>\n",
       "      <td>140</td>\n",
       "      <td>1</td>\n",
       "      <td>1.5</td>\n",
       "      <td>3</td>\n",
       "      <td>?</td>\n",
       "      <td>?</td>\n",
       "      <td>2</td>\n",
       "    </tr>\n",
       "    <tr>\n",
       "      <td>3</td>\n",
       "      <td>55</td>\n",
       "      <td>1</td>\n",
       "      <td>4</td>\n",
       "      <td>142</td>\n",
       "      <td>228</td>\n",
       "      <td>0</td>\n",
       "      <td>1</td>\n",
       "      <td>149</td>\n",
       "      <td>1</td>\n",
       "      <td>2.5</td>\n",
       "      <td>1</td>\n",
       "      <td>?</td>\n",
       "      <td>?</td>\n",
       "      <td>1</td>\n",
       "    </tr>\n",
       "    <tr>\n",
       "      <td>4</td>\n",
       "      <td>66</td>\n",
       "      <td>1</td>\n",
       "      <td>3</td>\n",
       "      <td>110</td>\n",
       "      <td>213</td>\n",
       "      <td>1</td>\n",
       "      <td>2</td>\n",
       "      <td>99</td>\n",
       "      <td>1</td>\n",
       "      <td>1.3</td>\n",
       "      <td>2</td>\n",
       "      <td>?</td>\n",
       "      <td>?</td>\n",
       "      <td>0</td>\n",
       "    </tr>\n",
       "    <tr>\n",
       "      <td>...</td>\n",
       "      <td>...</td>\n",
       "      <td>...</td>\n",
       "      <td>...</td>\n",
       "      <td>...</td>\n",
       "      <td>...</td>\n",
       "      <td>...</td>\n",
       "      <td>...</td>\n",
       "      <td>...</td>\n",
       "      <td>...</td>\n",
       "      <td>...</td>\n",
       "      <td>...</td>\n",
       "      <td>...</td>\n",
       "      <td>...</td>\n",
       "      <td>...</td>\n",
       "    </tr>\n",
       "    <tr>\n",
       "      <td>195</td>\n",
       "      <td>54</td>\n",
       "      <td>0</td>\n",
       "      <td>4</td>\n",
       "      <td>127</td>\n",
       "      <td>333</td>\n",
       "      <td>1</td>\n",
       "      <td>1</td>\n",
       "      <td>154</td>\n",
       "      <td>0</td>\n",
       "      <td>0</td>\n",
       "      <td>?</td>\n",
       "      <td>?</td>\n",
       "      <td>?</td>\n",
       "      <td>1</td>\n",
       "    </tr>\n",
       "    <tr>\n",
       "      <td>196</td>\n",
       "      <td>62</td>\n",
       "      <td>1</td>\n",
       "      <td>1</td>\n",
       "      <td>120</td>\n",
       "      <td>139</td>\n",
       "      <td>0</td>\n",
       "      <td>1</td>\n",
       "      <td>?</td>\n",
       "      <td>?</td>\n",
       "      <td>?</td>\n",
       "      <td>?</td>\n",
       "      <td>?</td>\n",
       "      <td>?</td>\n",
       "      <td>0</td>\n",
       "    </tr>\n",
       "    <tr>\n",
       "      <td>197</td>\n",
       "      <td>55</td>\n",
       "      <td>1</td>\n",
       "      <td>4</td>\n",
       "      <td>122</td>\n",
       "      <td>223</td>\n",
       "      <td>1</td>\n",
       "      <td>1</td>\n",
       "      <td>100</td>\n",
       "      <td>0</td>\n",
       "      <td>0</td>\n",
       "      <td>?</td>\n",
       "      <td>?</td>\n",
       "      <td>6</td>\n",
       "      <td>2</td>\n",
       "    </tr>\n",
       "    <tr>\n",
       "      <td>198</td>\n",
       "      <td>58</td>\n",
       "      <td>1</td>\n",
       "      <td>4</td>\n",
       "      <td>120</td>\n",
       "      <td>385</td>\n",
       "      <td>1</td>\n",
       "      <td>2</td>\n",
       "      <td>?</td>\n",
       "      <td>?</td>\n",
       "      <td>?</td>\n",
       "      <td>?</td>\n",
       "      <td>?</td>\n",
       "      <td>?</td>\n",
       "      <td>0</td>\n",
       "    </tr>\n",
       "    <tr>\n",
       "      <td>199</td>\n",
       "      <td>62</td>\n",
       "      <td>1</td>\n",
       "      <td>2</td>\n",
       "      <td>120</td>\n",
       "      <td>254</td>\n",
       "      <td>0</td>\n",
       "      <td>2</td>\n",
       "      <td>93</td>\n",
       "      <td>1</td>\n",
       "      <td>0</td>\n",
       "      <td>?</td>\n",
       "      <td>?</td>\n",
       "      <td>?</td>\n",
       "      <td>1</td>\n",
       "    </tr>\n",
       "  </tbody>\n",
       "</table>\n",
       "<p>200 rows × 14 columns</p>\n",
       "</div>"
      ],
      "text/plain": [
       "     age  sex  cp  trestbps chol  fbs  restecg thalach exang oldpeak slope ca  \\\n",
       "0     63    1   4       140  260    0        1     112     1       3     2  ?   \n",
       "1     44    1   4       130  209    0        1     127     0       0     ?  ?   \n",
       "2     60    1   4       132  218    0        1     140     1     1.5     3  ?   \n",
       "3     55    1   4       142  228    0        1     149     1     2.5     1  ?   \n",
       "4     66    1   3       110  213    1        2      99     1     1.3     2  ?   \n",
       "..   ...  ...  ..       ...  ...  ...      ...     ...   ...     ...   ... ..   \n",
       "195   54    0   4       127  333    1        1     154     0       0     ?  ?   \n",
       "196   62    1   1       120  139    0        1       ?     ?       ?     ?  ?   \n",
       "197   55    1   4       122  223    1        1     100     0       0     ?  ?   \n",
       "198   58    1   4       120  385    1        2       ?     ?       ?     ?  ?   \n",
       "199   62    1   2       120  254    0        2      93     1       0     ?  ?   \n",
       "\n",
       "    thal  num  \n",
       "0      ?    2  \n",
       "1      ?    0  \n",
       "2      ?    2  \n",
       "3      ?    1  \n",
       "4      ?    0  \n",
       "..   ...  ...  \n",
       "195    ?    1  \n",
       "196    ?    0  \n",
       "197    6    2  \n",
       "198    ?    0  \n",
       "199    ?    1  \n",
       "\n",
       "[200 rows x 14 columns]"
      ]
     },
     "execution_count": 52,
     "metadata": {},
     "output_type": "execute_result"
    }
   ],
   "source": [
    "hds"
   ]
  },
  {
   "cell_type": "code",
   "execution_count": 53,
   "metadata": {},
   "outputs": [
    {
     "data": {
      "text/plain": [
       "?    198\n",
       "0      2\n",
       "Name: ca, dtype: int64"
      ]
     },
     "execution_count": 53,
     "metadata": {},
     "output_type": "execute_result"
    }
   ],
   "source": [
    "hds['ca'].value_counts()"
   ]
  },
  {
   "cell_type": "code",
   "execution_count": 54,
   "metadata": {},
   "outputs": [
    {
     "data": {
      "text/plain": [
       "?    102\n",
       "2     53\n",
       "3     29\n",
       "1     16\n",
       "Name: slope, dtype: int64"
      ]
     },
     "execution_count": 54,
     "metadata": {},
     "output_type": "execute_result"
    }
   ],
   "source": [
    "hds['slope'].value_counts()"
   ]
  },
  {
   "cell_type": "code",
   "execution_count": 57,
   "metadata": {},
   "outputs": [
    {
     "name": "stdout",
     "output_type": "stream",
     "text": [
      "2    115\n",
      "1     43\n",
      "3     42\n",
      "Name: slope, dtype: int64\n"
     ]
    }
   ],
   "source": [
    "#replacing slope randomly by giving more weightage in descending order\n",
    "\n",
    "slm=hds.slope.values=='?'\n",
    "hds.loc[slm,'slope'] = np.random.choice(('2','1','3'), slm.sum(), p=(0.6,0.30,0.10))\n",
    "print( hds['slope'].value_counts())\n",
    "hds['slope']=hds['slope'].astype('int64')\n"
   ]
  },
  {
   "cell_type": "code",
   "execution_count": 58,
   "metadata": {},
   "outputs": [
    {
     "data": {
      "text/plain": [
       "?    198\n",
       "0      2\n",
       "Name: ca, dtype: int64"
      ]
     },
     "execution_count": 58,
     "metadata": {},
     "output_type": "execute_result"
    }
   ],
   "source": [
    "hds['ca'].value_counts()"
   ]
  },
  {
   "cell_type": "code",
   "execution_count": 66,
   "metadata": {},
   "outputs": [
    {
     "name": "stdout",
     "output_type": "stream",
     "text": [
      "0    115\n",
      "1     45\n",
      "2     30\n",
      "3     10\n",
      "Name: ca, dtype: int64\n"
     ]
    }
   ],
   "source": [
    "#ca values taking in range from 0-3 as per attribute information\n",
    "misca=hds.ca.values=='?'\n",
    "hds.loc[misca,'ca'] = np.random.choice(('0','1','2','3'), misca.sum(), p=(0.60,0.20,0.13,0.07))\n",
    "hds['ca']=hds['ca'].astype('int64')\n",
    "print (hds['ca'].value_counts())"
   ]
  },
  {
   "cell_type": "code",
   "execution_count": 68,
   "metadata": {},
   "outputs": [
    {
     "data": {
      "text/plain": [
       "array([False, False, False, False, False, False, False, False, False,\n",
       "       False, False, False, False, False, False, False, False, False,\n",
       "       False, False, False, False, False, False, False, False, False,\n",
       "       False, False, False, False, False, False, False, False, False,\n",
       "       False, False, False, False, False, False, False, False, False,\n",
       "       False, False, False, False, False, False, False, False, False,\n",
       "       False, False, False, False, False, False, False, False, False,\n",
       "       False, False, False, False, False, False, False, False, False,\n",
       "       False, False, False, False, False, False, False, False, False,\n",
       "       False, False, False, False, False, False, False, False, False,\n",
       "       False, False, False, False, False, False, False, False, False,\n",
       "       False, False, False, False, False, False, False, False,  True,\n",
       "       False, False, False, False, False, False, False, False, False,\n",
       "       False, False, False, False, False, False, False, False,  True,\n",
       "       False, False, False, False, False, False, False, False, False,\n",
       "       False, False, False, False, False, False, False, False, False,\n",
       "       False, False, False, False, False, False, False, False, False,\n",
       "       False, False,  True, False,  True, False, False, False, False,\n",
       "       False, False,  True,  True, False, False, False, False, False,\n",
       "       False, False, False, False, False, False, False, False, False,\n",
       "       False,  True, False, False, False, False, False, False, False,\n",
       "       False, False, False, False, False, False, False, False, False,\n",
       "       False, False])"
      ]
     },
     "execution_count": 68,
     "metadata": {},
     "output_type": "execute_result"
    }
   ],
   "source": [
    "\n",
    "misv=hds.chol.values=='?'\n",
    "misv"
   ]
  },
  {
   "cell_type": "markdown",
   "metadata": {},
   "source": [
    "As there is only one missing value,leaving it aside."
   ]
  },
  {
   "cell_type": "code",
   "execution_count": 69,
   "metadata": {},
   "outputs": [
    {
     "data": {
      "text/plain": [
       "?      53\n",
       "120    12\n",
       "140    12\n",
       "110     8\n",
       "112     6\n",
       "130     6\n",
       "160     4\n",
       "150     4\n",
       "100     4\n",
       "128     4\n",
       "105     4\n",
       "118     4\n",
       "108     3\n",
       "102     3\n",
       "135     3\n",
       "125     3\n",
       "122     3\n",
       "117     3\n",
       "86      3\n",
       "148     3\n",
       "106     3\n",
       "84      3\n",
       "180     2\n",
       "138     2\n",
       "119     2\n",
       "96      2\n",
       "80      2\n",
       "154     2\n",
       "111     2\n",
       "98      2\n",
       "165     2\n",
       "127     2\n",
       "129     2\n",
       "133     1\n",
       "124     1\n",
       "115     1\n",
       "69      1\n",
       "162     1\n",
       "97      1\n",
       "93      1\n",
       "107     1\n",
       "159     1\n",
       "149     1\n",
       "151     1\n",
       "155     1\n",
       "141     1\n",
       "144     1\n",
       "145     1\n",
       "123     1\n",
       "121     1\n",
       "161     1\n",
       "157     1\n",
       "132     1\n",
       "99      1\n",
       "94      1\n",
       "126     1\n",
       "131     1\n",
       "88      1\n",
       "73      1\n",
       "113     1\n",
       "Name: thalach, dtype: int64"
      ]
     },
     "execution_count": 69,
     "metadata": {},
     "output_type": "execute_result"
    }
   ],
   "source": [
    "hds['thalach'].value_counts()"
   ]
  },
  {
   "cell_type": "code",
   "execution_count": null,
   "metadata": {},
   "outputs": [],
   "source": [
    "#Replacing unknown data with general rate\n",
    "hds['thalach']=hds['thalach'].replace(['?'],['120'])\n",
    "hds['thalach']=hds['thalach'].astype('int64')"
   ]
  },
  {
   "cell_type": "code",
   "execution_count": 77,
   "metadata": {},
   "outputs": [
    {
     "data": {
      "text/plain": [
       "array([112, 127, 140, 149,  99, 120, 105, 141, 157, 117, 148,  86,  84,\n",
       "       125, 118, 124, 106, 111, 180, 129, 110, 155, 122, 133, 131,  80,\n",
       "       165, 107, 128, 160,  97, 161, 130, 108, 123, 144, 102, 145,  69,\n",
       "       138, 150,  88, 132, 121, 135, 100, 162,  73, 154, 115, 119, 159,\n",
       "        94, 113,  98,  96, 151, 126,  93], dtype=int64)"
      ]
     },
     "execution_count": 77,
     "metadata": {},
     "output_type": "execute_result"
    }
   ],
   "source": [
    "hds['thalach'].unique()"
   ]
  },
  {
   "cell_type": "code",
   "execution_count": 78,
   "metadata": {},
   "outputs": [
    {
     "data": {
      "text/plain": [
       "1    93\n",
       "0    80\n",
       "2    27\n",
       "Name: restecg, dtype: int64"
      ]
     },
     "execution_count": 78,
     "metadata": {},
     "output_type": "execute_result"
    }
   ],
   "source": [
    "hds['restecg'].value_counts()"
   ]
  },
  {
   "cell_type": "code",
   "execution_count": 79,
   "metadata": {},
   "outputs": [
    {
     "data": {
      "text/plain": [
       "4    131\n",
       "3     47\n",
       "2     14\n",
       "1      8\n",
       "Name: cp, dtype: int64"
      ]
     },
     "execution_count": 79,
     "metadata": {},
     "output_type": "execute_result"
    }
   ],
   "source": [
    "hds['cp'].value_counts()"
   ]
  },
  {
   "cell_type": "code",
   "execution_count": 80,
   "metadata": {},
   "outputs": [
    {
     "data": {
      "text/plain": [
       "?    166\n",
       "7     22\n",
       "6      8\n",
       "3      4\n",
       "Name: thal, dtype: int64"
      ]
     },
     "execution_count": 80,
     "metadata": {},
     "output_type": "execute_result"
    }
   ],
   "source": [
    "hds['thal'].value_counts()"
   ]
  },
  {
   "cell_type": "code",
   "execution_count": 81,
   "metadata": {},
   "outputs": [
    {
     "data": {
      "text/plain": [
       "sex  thal\n",
       "0    ?         4\n",
       "     7         2\n",
       "1    ?       162\n",
       "     7        20\n",
       "     6         8\n",
       "     3         4\n",
       "Name: thal, dtype: int64"
      ]
     },
     "execution_count": 81,
     "metadata": {},
     "output_type": "execute_result"
    }
   ],
   "source": [
    "hds.groupby('sex')['thal'].value_counts()"
   ]
  },
  {
   "cell_type": "code",
   "execution_count": 85,
   "metadata": {},
   "outputs": [
    {
     "name": "stdout",
     "output_type": "stream",
     "text": [
      "1    20\n",
      "0     2\n",
      "Name: sex, dtype: int64\n",
      "1    4\n",
      "Name: sex, dtype: int64\n"
     ]
    }
   ],
   "source": [
    "print(hds[hds['thal']=='7']['sex'].value_counts())\n",
    "print(hds[hds['thal']=='3']['sex'].value_counts())"
   ]
  },
  {
   "cell_type": "code",
   "execution_count": 87,
   "metadata": {},
   "outputs": [
    {
     "name": "stdout",
     "output_type": "stream",
     "text": [
      "0    2\n",
      "2    1\n",
      "1    1\n",
      "Name: num, dtype: int64\n",
      "1    12\n",
      "0     5\n",
      "2     3\n",
      "3     2\n",
      "Name: num, dtype: int64\n",
      "2    4\n",
      "1    2\n",
      "3    1\n",
      "0    1\n",
      "Name: num, dtype: int64\n"
     ]
    }
   ],
   "source": [
    "#using random method doesnt work effectively here as the sample size with thal available is less\n",
    "\n",
    "#replacing missing values by combinations of gender & thal\n",
    "\n",
    "print(hds[hds['thal']=='3']['num'].value_counts())\n",
    "print(hds[hds['thal']=='7']['num'].value_counts())\n",
    "print(hds[hds['thal']=='6']['num'].value_counts())"
   ]
  },
  {
   "cell_type": "code",
   "execution_count": 89,
   "metadata": {},
   "outputs": [
    {
     "name": "stdout",
     "output_type": "stream",
     "text": [
      "7    145\n",
      "3     47\n",
      "6      8\n",
      "Name: thal, dtype: int64\n"
     ]
    }
   ],
   "source": [
    "hds['thal']=hds['thal'].replace('?',-1)\n",
    "hds.loc[(hds['thal']==-1)&(hds['num']!=0),'thal']='7'\n",
    "#print hds['thal'].value_counts()\n",
    "hds.loc[(hds['thal']==-1)&(hds['num']==0),'thal']='3'\n",
    "print (hds['thal'].value_counts())\n",
    "hds['thal']=hds['thal'].astype('int64')"
   ]
  },
  {
   "cell_type": "code",
   "execution_count": 90,
   "metadata": {},
   "outputs": [
    {
     "data": {
      "text/plain": [
       "<matplotlib.axes._subplots.AxesSubplot at 0x13393eb8688>"
      ]
     },
     "execution_count": 90,
     "metadata": {},
     "output_type": "execute_result"
    },
    {
     "data": {
      "image/png": "[encoded data removed]",
      "text/plain": [
       "<Figure size 432x288 with 1 Axes>"
      ]
     },
     "metadata": {
      "needs_background": "light"
     },
     "output_type": "display_data"
    }
   ],
   "source": [
    "sbn.countplot('thal',hue='sex',data=hds)"
   ]
  },
  {
   "cell_type": "code",
   "execution_count": 96,
   "metadata": {},
   "outputs": [
    {
     "data": {
      "text/plain": [
       "<matplotlib.axes._subplots.AxesSubplot at 0x133943edc48>"
      ]
     },
     "execution_count": 96,
     "metadata": {},
     "output_type": "execute_result"
    },
    {
     "data": {
      "image/png": "[encoded data removed]",
      "text/plain": [
       "<Figure size 432x288 with 1 Axes>"
      ]
     },
     "metadata": {
      "needs_background": "light"
     },
     "output_type": "display_data"
    }
   ],
   "source": [
    "sbn.swarmplot('thalach',data=hds)"
   ]
  },
  {
   "cell_type": "code",
   "execution_count": 98,
   "metadata": {},
   "outputs": [
    {
     "data": {
      "text/plain": [
       "<matplotlib.axes._subplots.AxesSubplot at 0x133944dcdc8>"
      ]
     },
     "execution_count": 98,
     "metadata": {},
     "output_type": "execute_result"
    },
    {
     "data": {
      "image/png": "[encoded data removed]",
      "text/plain": [
       "<Figure size 432x288 with 1 Axes>"
      ]
     },
     "metadata": {
      "needs_background": "light"
     },
     "output_type": "display_data"
    }
   ],
   "source": [
    "sbn.violinplot('num',data=hds)"
   ]
  },
  {
   "cell_type": "code",
   "execution_count": 100,
   "metadata": {},
   "outputs": [
    {
     "data": {
      "text/plain": [
       "<matplotlib.axes._subplots.AxesSubplot at 0x13394057748>"
      ]
     },
     "execution_count": 100,
     "metadata": {},
     "output_type": "execute_result"
    },
    {
     "data": {
      "image/png": "[encoded data removed]",
      "text/plain": [
       "<Figure size 432x288 with 1 Axes>"
      ]
     },
     "metadata": {
      "needs_background": "light"
     },
     "output_type": "display_data"
    }
   ],
   "source": [
    "sbn.barplot('thal','num',data=hds)"
   ]
  },
  {
   "cell_type": "code",
   "execution_count": 101,
   "metadata": {},
   "outputs": [],
   "source": [
    "from sklearn.linear_model import LogisticRegression\n",
    "from sklearn.tree import DecisionTreeClassifier\n",
    "from sklearn.neighbors import KNeighborsClassifier\n",
    "from sklearn.ensemble import RandomForestClassifier"
   ]
  },
  {
   "cell_type": "code",
   "execution_count": 102,
   "metadata": {},
   "outputs": [
    {
     "data": {
      "text/html": [
       "<div>\n",
       "<style scoped>\n",
       "    .dataframe tbody tr th:only-of-type {\n",
       "        vertical-align: middle;\n",
       "    }\n",
       "\n",
       "    .dataframe tbody tr th {\n",
       "        vertical-align: top;\n",
       "    }\n",
       "\n",
       "    .dataframe thead th {\n",
       "        text-align: right;\n",
       "    }\n",
       "</style>\n",
       "<table border=\"1\" class=\"dataframe\">\n",
       "  <thead>\n",
       "    <tr style=\"text-align: right;\">\n",
       "      <th></th>\n",
       "      <th>age</th>\n",
       "      <th>sex</th>\n",
       "      <th>cp</th>\n",
       "      <th>trestbps</th>\n",
       "      <th>chol</th>\n",
       "      <th>fbs</th>\n",
       "      <th>restecg</th>\n",
       "      <th>thalach</th>\n",
       "      <th>exang</th>\n",
       "      <th>oldpeak</th>\n",
       "      <th>slope</th>\n",
       "      <th>ca</th>\n",
       "      <th>thal</th>\n",
       "      <th>num</th>\n",
       "    </tr>\n",
       "  </thead>\n",
       "  <tbody>\n",
       "    <tr>\n",
       "      <td>0</td>\n",
       "      <td>63</td>\n",
       "      <td>1</td>\n",
       "      <td>4</td>\n",
       "      <td>140</td>\n",
       "      <td>260</td>\n",
       "      <td>0</td>\n",
       "      <td>1</td>\n",
       "      <td>112</td>\n",
       "      <td>1</td>\n",
       "      <td>3</td>\n",
       "      <td>2</td>\n",
       "      <td>1</td>\n",
       "      <td>7</td>\n",
       "      <td>2</td>\n",
       "    </tr>\n",
       "    <tr>\n",
       "      <td>1</td>\n",
       "      <td>44</td>\n",
       "      <td>1</td>\n",
       "      <td>4</td>\n",
       "      <td>130</td>\n",
       "      <td>209</td>\n",
       "      <td>0</td>\n",
       "      <td>1</td>\n",
       "      <td>127</td>\n",
       "      <td>0</td>\n",
       "      <td>0</td>\n",
       "      <td>2</td>\n",
       "      <td>0</td>\n",
       "      <td>3</td>\n",
       "      <td>0</td>\n",
       "    </tr>\n",
       "    <tr>\n",
       "      <td>2</td>\n",
       "      <td>60</td>\n",
       "      <td>1</td>\n",
       "      <td>4</td>\n",
       "      <td>132</td>\n",
       "      <td>218</td>\n",
       "      <td>0</td>\n",
       "      <td>1</td>\n",
       "      <td>140</td>\n",
       "      <td>1</td>\n",
       "      <td>1.5</td>\n",
       "      <td>3</td>\n",
       "      <td>2</td>\n",
       "      <td>7</td>\n",
       "      <td>2</td>\n",
       "    </tr>\n",
       "    <tr>\n",
       "      <td>3</td>\n",
       "      <td>55</td>\n",
       "      <td>1</td>\n",
       "      <td>4</td>\n",
       "      <td>142</td>\n",
       "      <td>228</td>\n",
       "      <td>0</td>\n",
       "      <td>1</td>\n",
       "      <td>149</td>\n",
       "      <td>1</td>\n",
       "      <td>2.5</td>\n",
       "      <td>1</td>\n",
       "      <td>0</td>\n",
       "      <td>7</td>\n",
       "      <td>1</td>\n",
       "    </tr>\n",
       "    <tr>\n",
       "      <td>4</td>\n",
       "      <td>66</td>\n",
       "      <td>1</td>\n",
       "      <td>3</td>\n",
       "      <td>110</td>\n",
       "      <td>213</td>\n",
       "      <td>1</td>\n",
       "      <td>2</td>\n",
       "      <td>99</td>\n",
       "      <td>1</td>\n",
       "      <td>1.3</td>\n",
       "      <td>2</td>\n",
       "      <td>0</td>\n",
       "      <td>3</td>\n",
       "      <td>0</td>\n",
       "    </tr>\n",
       "  </tbody>\n",
       "</table>\n",
       "</div>"
      ],
      "text/plain": [
       "   age  sex  cp  trestbps chol  fbs  restecg  thalach exang oldpeak  slope  \\\n",
       "0   63    1   4       140  260    0        1      112     1       3      2   \n",
       "1   44    1   4       130  209    0        1      127     0       0      2   \n",
       "2   60    1   4       132  218    0        1      140     1     1.5      3   \n",
       "3   55    1   4       142  228    0        1      149     1     2.5      1   \n",
       "4   66    1   3       110  213    1        2       99     1     1.3      2   \n",
       "\n",
       "   ca  thal  num  \n",
       "0   1     7    2  \n",
       "1   0     3    0  \n",
       "2   2     7    2  \n",
       "3   0     7    1  \n",
       "4   0     3    0  "
      ]
     },
     "execution_count": 102,
     "metadata": {},
     "output_type": "execute_result"
    }
   ],
   "source": [
    "hds.head()"
   ]
  },
  {
   "cell_type": "code",
   "execution_count": 110,
   "metadata": {},
   "outputs": [],
   "source": [
    "y=hds['num']"
   ]
  },
  {
   "cell_type": "code",
   "execution_count": 111,
   "metadata": {},
   "outputs": [
    {
     "data": {
      "text/plain": [
       "0    2\n",
       "1    0\n",
       "2    2\n",
       "3    1\n",
       "4    0\n",
       "Name: num, dtype: int64"
      ]
     },
     "execution_count": 111,
     "metadata": {},
     "output_type": "execute_result"
    }
   ],
   "source": [
    "y.head()"
   ]
  },
  {
   "cell_type": "code",
   "execution_count": 112,
   "metadata": {},
   "outputs": [
    {
     "data": {
      "text/plain": [
       "pandas.core.series.Series"
      ]
     },
     "execution_count": 112,
     "metadata": {},
     "output_type": "execute_result"
    }
   ],
   "source": [
    "type(y)"
   ]
  },
  {
   "cell_type": "code",
   "execution_count": 114,
   "metadata": {},
   "outputs": [],
   "source": [
    "y=pd.DataFrame(y)"
   ]
  },
  {
   "cell_type": "code",
   "execution_count": 115,
   "metadata": {},
   "outputs": [
    {
     "data": {
      "text/html": [
       "<div>\n",
       "<style scoped>\n",
       "    .dataframe tbody tr th:only-of-type {\n",
       "        vertical-align: middle;\n",
       "    }\n",
       "\n",
       "    .dataframe tbody tr th {\n",
       "        vertical-align: top;\n",
       "    }\n",
       "\n",
       "    .dataframe thead th {\n",
       "        text-align: right;\n",
       "    }\n",
       "</style>\n",
       "<table border=\"1\" class=\"dataframe\">\n",
       "  <thead>\n",
       "    <tr style=\"text-align: right;\">\n",
       "      <th></th>\n",
       "      <th>num</th>\n",
       "    </tr>\n",
       "  </thead>\n",
       "  <tbody>\n",
       "    <tr>\n",
       "      <td>0</td>\n",
       "      <td>2</td>\n",
       "    </tr>\n",
       "    <tr>\n",
       "      <td>1</td>\n",
       "      <td>0</td>\n",
       "    </tr>\n",
       "    <tr>\n",
       "      <td>2</td>\n",
       "      <td>2</td>\n",
       "    </tr>\n",
       "    <tr>\n",
       "      <td>3</td>\n",
       "      <td>1</td>\n",
       "    </tr>\n",
       "    <tr>\n",
       "      <td>4</td>\n",
       "      <td>0</td>\n",
       "    </tr>\n",
       "    <tr>\n",
       "      <td>...</td>\n",
       "      <td>...</td>\n",
       "    </tr>\n",
       "    <tr>\n",
       "      <td>195</td>\n",
       "      <td>1</td>\n",
       "    </tr>\n",
       "    <tr>\n",
       "      <td>196</td>\n",
       "      <td>0</td>\n",
       "    </tr>\n",
       "    <tr>\n",
       "      <td>197</td>\n",
       "      <td>2</td>\n",
       "    </tr>\n",
       "    <tr>\n",
       "      <td>198</td>\n",
       "      <td>0</td>\n",
       "    </tr>\n",
       "    <tr>\n",
       "      <td>199</td>\n",
       "      <td>1</td>\n",
       "    </tr>\n",
       "  </tbody>\n",
       "</table>\n",
       "<p>200 rows × 1 columns</p>\n",
       "</div>"
      ],
      "text/plain": [
       "     num\n",
       "0      2\n",
       "1      0\n",
       "2      2\n",
       "3      1\n",
       "4      0\n",
       "..   ...\n",
       "195    1\n",
       "196    0\n",
       "197    2\n",
       "198    0\n",
       "199    1\n",
       "\n",
       "[200 rows x 1 columns]"
      ]
     },
     "execution_count": 115,
     "metadata": {},
     "output_type": "execute_result"
    }
   ],
   "source": [
    "y"
   ]
  },
  {
   "cell_type": "code",
   "execution_count": 117,
   "metadata": {},
   "outputs": [],
   "source": [
    "x=hds.drop('num',axis=1)"
   ]
  },
  {
   "cell_type": "code",
   "execution_count": 118,
   "metadata": {},
   "outputs": [
    {
     "data": {
      "text/html": [
       "<div>\n",
       "<style scoped>\n",
       "    .dataframe tbody tr th:only-of-type {\n",
       "        vertical-align: middle;\n",
       "    }\n",
       "\n",
       "    .dataframe tbody tr th {\n",
       "        vertical-align: top;\n",
       "    }\n",
       "\n",
       "    .dataframe thead th {\n",
       "        text-align: right;\n",
       "    }\n",
       "</style>\n",
       "<table border=\"1\" class=\"dataframe\">\n",
       "  <thead>\n",
       "    <tr style=\"text-align: right;\">\n",
       "      <th></th>\n",
       "      <th>age</th>\n",
       "      <th>sex</th>\n",
       "      <th>cp</th>\n",
       "      <th>trestbps</th>\n",
       "      <th>chol</th>\n",
       "      <th>fbs</th>\n",
       "      <th>restecg</th>\n",
       "      <th>thalach</th>\n",
       "      <th>exang</th>\n",
       "      <th>oldpeak</th>\n",
       "      <th>slope</th>\n",
       "      <th>ca</th>\n",
       "      <th>thal</th>\n",
       "    </tr>\n",
       "  </thead>\n",
       "  <tbody>\n",
       "    <tr>\n",
       "      <td>0</td>\n",
       "      <td>63</td>\n",
       "      <td>1</td>\n",
       "      <td>4</td>\n",
       "      <td>140</td>\n",
       "      <td>260</td>\n",
       "      <td>0</td>\n",
       "      <td>1</td>\n",
       "      <td>112</td>\n",
       "      <td>1</td>\n",
       "      <td>3</td>\n",
       "      <td>2</td>\n",
       "      <td>1</td>\n",
       "      <td>7</td>\n",
       "    </tr>\n",
       "    <tr>\n",
       "      <td>1</td>\n",
       "      <td>44</td>\n",
       "      <td>1</td>\n",
       "      <td>4</td>\n",
       "      <td>130</td>\n",
       "      <td>209</td>\n",
       "      <td>0</td>\n",
       "      <td>1</td>\n",
       "      <td>127</td>\n",
       "      <td>0</td>\n",
       "      <td>0</td>\n",
       "      <td>2</td>\n",
       "      <td>0</td>\n",
       "      <td>3</td>\n",
       "    </tr>\n",
       "    <tr>\n",
       "      <td>2</td>\n",
       "      <td>60</td>\n",
       "      <td>1</td>\n",
       "      <td>4</td>\n",
       "      <td>132</td>\n",
       "      <td>218</td>\n",
       "      <td>0</td>\n",
       "      <td>1</td>\n",
       "      <td>140</td>\n",
       "      <td>1</td>\n",
       "      <td>1.5</td>\n",
       "      <td>3</td>\n",
       "      <td>2</td>\n",
       "      <td>7</td>\n",
       "    </tr>\n",
       "    <tr>\n",
       "      <td>3</td>\n",
       "      <td>55</td>\n",
       "      <td>1</td>\n",
       "      <td>4</td>\n",
       "      <td>142</td>\n",
       "      <td>228</td>\n",
       "      <td>0</td>\n",
       "      <td>1</td>\n",
       "      <td>149</td>\n",
       "      <td>1</td>\n",
       "      <td>2.5</td>\n",
       "      <td>1</td>\n",
       "      <td>0</td>\n",
       "      <td>7</td>\n",
       "    </tr>\n",
       "    <tr>\n",
       "      <td>4</td>\n",
       "      <td>66</td>\n",
       "      <td>1</td>\n",
       "      <td>3</td>\n",
       "      <td>110</td>\n",
       "      <td>213</td>\n",
       "      <td>1</td>\n",
       "      <td>2</td>\n",
       "      <td>99</td>\n",
       "      <td>1</td>\n",
       "      <td>1.3</td>\n",
       "      <td>2</td>\n",
       "      <td>0</td>\n",
       "      <td>3</td>\n",
       "    </tr>\n",
       "  </tbody>\n",
       "</table>\n",
       "</div>"
      ],
      "text/plain": [
       "   age  sex  cp  trestbps chol  fbs  restecg  thalach exang oldpeak  slope  \\\n",
       "0   63    1   4       140  260    0        1      112     1       3      2   \n",
       "1   44    1   4       130  209    0        1      127     0       0      2   \n",
       "2   60    1   4       132  218    0        1      140     1     1.5      3   \n",
       "3   55    1   4       142  228    0        1      149     1     2.5      1   \n",
       "4   66    1   3       110  213    1        2       99     1     1.3      2   \n",
       "\n",
       "   ca  thal  \n",
       "0   1     7  \n",
       "1   0     3  \n",
       "2   2     7  \n",
       "3   0     7  \n",
       "4   0     3  "
      ]
     },
     "execution_count": 118,
     "metadata": {},
     "output_type": "execute_result"
    }
   ],
   "source": [
    "x.head()"
   ]
  },
  {
   "cell_type": "code",
   "execution_count": null,
   "metadata": {},
   "outputs": [],
   "source": []
  },
  {
   "cell_type": "code",
   "execution_count": null,
   "metadata": {},
   "outputs": [],
   "source": []
  },
  {
   "cell_type": "code",
   "execution_count": 121,
   "metadata": {},
   "outputs": [],
   "source": [
    "#Seperating train test and finding maximum accuracy,random state\n",
    "from sklearn.model_selection import train_test_split\n",
    "from sklearn.metrics import accuracy_score\n",
    "def accuracy(model,x,y):\n",
    "    max_acc=0\n",
    "    for rst in range(40,100):\n",
    "        x_train,x_test,y_train,y_test=train_test_split(x,y,random_state=rst,test_size=.22)\n",
    "        model.fit(x_train,y_train)\n",
    "        predy=model.predict(x_test)\n",
    "        acc=accuracy_score(y_test,predy)\n",
    "        print('Accuracy is',acc,'for the random state',rst)\n",
    "        if acc>max_acc:\n",
    "            max_acc=acc\n",
    "            f_rst=rst\n",
    "    print('Maximum accuracy is ',max_acc,'and acquired at',f_rst)\n",
    "    return f_rst\n"
   ]
  },
  {
   "cell_type": "code",
   "execution_count": 132,
   "metadata": {},
   "outputs": [
    {
     "ename": "ValueError",
     "evalue": "could not convert string to float: '?'",
     "output_type": "error",
     "traceback": [
      "\u001b[1;31m---------------------------------------------------------------------------\u001b[0m",
      "\u001b[1;31mValueError\u001b[0m                                Traceback (most recent call last)",
      "\u001b[1;32m<ipython-input-132-52c3fb65041c>\u001b[0m in \u001b[0;36m<module>\u001b[1;34m\u001b[0m\n\u001b[0;32m      2\u001b[0m \u001b[0mwarnings\u001b[0m\u001b[1;33m.\u001b[0m\u001b[0mfilterwarnings\u001b[0m\u001b[1;33m(\u001b[0m\u001b[1;34m'ignore'\u001b[0m\u001b[1;33m)\u001b[0m\u001b[1;33m\u001b[0m\u001b[1;33m\u001b[0m\u001b[0m\n\u001b[0;32m      3\u001b[0m \u001b[0mlr\u001b[0m\u001b[1;33m=\u001b[0m\u001b[0mLogisticRegression\u001b[0m\u001b[1;33m(\u001b[0m\u001b[1;33m)\u001b[0m\u001b[1;33m\u001b[0m\u001b[1;33m\u001b[0m\u001b[0m\n\u001b[1;32m----> 4\u001b[1;33m \u001b[0maccuracy\u001b[0m\u001b[1;33m(\u001b[0m\u001b[0mlr\u001b[0m\u001b[1;33m,\u001b[0m\u001b[0mx\u001b[0m\u001b[1;33m,\u001b[0m\u001b[0my\u001b[0m\u001b[1;33m)\u001b[0m\u001b[1;33m\u001b[0m\u001b[1;33m\u001b[0m\u001b[0m\n\u001b[0m",
      "\u001b[1;32m<ipython-input-121-51d0726ff0bf>\u001b[0m in \u001b[0;36maccuracy\u001b[1;34m(model, x, y)\u001b[0m\n\u001b[0;32m      6\u001b[0m     \u001b[1;32mfor\u001b[0m \u001b[0mrst\u001b[0m \u001b[1;32min\u001b[0m \u001b[0mrange\u001b[0m\u001b[1;33m(\u001b[0m\u001b[1;36m40\u001b[0m\u001b[1;33m,\u001b[0m\u001b[1;36m100\u001b[0m\u001b[1;33m)\u001b[0m\u001b[1;33m:\u001b[0m\u001b[1;33m\u001b[0m\u001b[1;33m\u001b[0m\u001b[0m\n\u001b[0;32m      7\u001b[0m         \u001b[0mx_train\u001b[0m\u001b[1;33m,\u001b[0m\u001b[0mx_test\u001b[0m\u001b[1;33m,\u001b[0m\u001b[0my_train\u001b[0m\u001b[1;33m,\u001b[0m\u001b[0my_test\u001b[0m\u001b[1;33m=\u001b[0m\u001b[0mtrain_test_split\u001b[0m\u001b[1;33m(\u001b[0m\u001b[0mx\u001b[0m\u001b[1;33m,\u001b[0m\u001b[0my\u001b[0m\u001b[1;33m,\u001b[0m\u001b[0mrandom_state\u001b[0m\u001b[1;33m=\u001b[0m\u001b[0mrst\u001b[0m\u001b[1;33m,\u001b[0m\u001b[0mtest_size\u001b[0m\u001b[1;33m=\u001b[0m\u001b[1;36m.22\u001b[0m\u001b[1;33m)\u001b[0m\u001b[1;33m\u001b[0m\u001b[1;33m\u001b[0m\u001b[0m\n\u001b[1;32m----> 8\u001b[1;33m         \u001b[0mmodel\u001b[0m\u001b[1;33m.\u001b[0m\u001b[0mfit\u001b[0m\u001b[1;33m(\u001b[0m\u001b[0mx_train\u001b[0m\u001b[1;33m,\u001b[0m\u001b[0my_train\u001b[0m\u001b[1;33m)\u001b[0m\u001b[1;33m\u001b[0m\u001b[1;33m\u001b[0m\u001b[0m\n\u001b[0m\u001b[0;32m      9\u001b[0m         \u001b[0mpredy\u001b[0m\u001b[1;33m=\u001b[0m\u001b[0mmodel\u001b[0m\u001b[1;33m.\u001b[0m\u001b[0mpredict\u001b[0m\u001b[1;33m(\u001b[0m\u001b[0mx_test\u001b[0m\u001b[1;33m)\u001b[0m\u001b[1;33m\u001b[0m\u001b[1;33m\u001b[0m\u001b[0m\n\u001b[0;32m     10\u001b[0m         \u001b[0macc\u001b[0m\u001b[1;33m=\u001b[0m\u001b[0maccuracy_score\u001b[0m\u001b[1;33m(\u001b[0m\u001b[0my_test\u001b[0m\u001b[1;33m,\u001b[0m\u001b[0mpredy\u001b[0m\u001b[1;33m)\u001b[0m\u001b[1;33m\u001b[0m\u001b[1;33m\u001b[0m\u001b[0m\n",
      "\u001b[1;32m~\\Anaconda3\\lib\\site-packages\\sklearn\\linear_model\\logistic.py\u001b[0m in \u001b[0;36mfit\u001b[1;34m(self, X, y, sample_weight)\u001b[0m\n\u001b[0;32m   1530\u001b[0m \u001b[1;33m\u001b[0m\u001b[0m\n\u001b[0;32m   1531\u001b[0m         X, y = check_X_y(X, y, accept_sparse='csr', dtype=_dtype, order=\"C\",\n\u001b[1;32m-> 1532\u001b[1;33m                          accept_large_sparse=solver != 'liblinear')\n\u001b[0m\u001b[0;32m   1533\u001b[0m         \u001b[0mcheck_classification_targets\u001b[0m\u001b[1;33m(\u001b[0m\u001b[0my\u001b[0m\u001b[1;33m)\u001b[0m\u001b[1;33m\u001b[0m\u001b[1;33m\u001b[0m\u001b[0m\n\u001b[0;32m   1534\u001b[0m         \u001b[0mself\u001b[0m\u001b[1;33m.\u001b[0m\u001b[0mclasses_\u001b[0m \u001b[1;33m=\u001b[0m \u001b[0mnp\u001b[0m\u001b[1;33m.\u001b[0m\u001b[0munique\u001b[0m\u001b[1;33m(\u001b[0m\u001b[0my\u001b[0m\u001b[1;33m)\u001b[0m\u001b[1;33m\u001b[0m\u001b[1;33m\u001b[0m\u001b[0m\n",
      "\u001b[1;32m~\\Anaconda3\\lib\\site-packages\\sklearn\\utils\\validation.py\u001b[0m in \u001b[0;36mcheck_X_y\u001b[1;34m(X, y, accept_sparse, accept_large_sparse, dtype, order, copy, force_all_finite, ensure_2d, allow_nd, multi_output, ensure_min_samples, ensure_min_features, y_numeric, warn_on_dtype, estimator)\u001b[0m\n\u001b[0;32m    717\u001b[0m                     \u001b[0mensure_min_features\u001b[0m\u001b[1;33m=\u001b[0m\u001b[0mensure_min_features\u001b[0m\u001b[1;33m,\u001b[0m\u001b[1;33m\u001b[0m\u001b[1;33m\u001b[0m\u001b[0m\n\u001b[0;32m    718\u001b[0m                     \u001b[0mwarn_on_dtype\u001b[0m\u001b[1;33m=\u001b[0m\u001b[0mwarn_on_dtype\u001b[0m\u001b[1;33m,\u001b[0m\u001b[1;33m\u001b[0m\u001b[1;33m\u001b[0m\u001b[0m\n\u001b[1;32m--> 719\u001b[1;33m                     estimator=estimator)\n\u001b[0m\u001b[0;32m    720\u001b[0m     \u001b[1;32mif\u001b[0m \u001b[0mmulti_output\u001b[0m\u001b[1;33m:\u001b[0m\u001b[1;33m\u001b[0m\u001b[1;33m\u001b[0m\u001b[0m\n\u001b[0;32m    721\u001b[0m         y = check_array(y, 'csr', force_all_finite=True, ensure_2d=False,\n",
      "\u001b[1;32m~\\Anaconda3\\lib\\site-packages\\sklearn\\utils\\validation.py\u001b[0m in \u001b[0;36mcheck_array\u001b[1;34m(array, accept_sparse, accept_large_sparse, dtype, order, copy, force_all_finite, ensure_2d, allow_nd, ensure_min_samples, ensure_min_features, warn_on_dtype, estimator)\u001b[0m\n\u001b[0;32m    494\u001b[0m             \u001b[1;32mtry\u001b[0m\u001b[1;33m:\u001b[0m\u001b[1;33m\u001b[0m\u001b[1;33m\u001b[0m\u001b[0m\n\u001b[0;32m    495\u001b[0m                 \u001b[0mwarnings\u001b[0m\u001b[1;33m.\u001b[0m\u001b[0msimplefilter\u001b[0m\u001b[1;33m(\u001b[0m\u001b[1;34m'error'\u001b[0m\u001b[1;33m,\u001b[0m \u001b[0mComplexWarning\u001b[0m\u001b[1;33m)\u001b[0m\u001b[1;33m\u001b[0m\u001b[1;33m\u001b[0m\u001b[0m\n\u001b[1;32m--> 496\u001b[1;33m                 \u001b[0marray\u001b[0m \u001b[1;33m=\u001b[0m \u001b[0mnp\u001b[0m\u001b[1;33m.\u001b[0m\u001b[0masarray\u001b[0m\u001b[1;33m(\u001b[0m\u001b[0marray\u001b[0m\u001b[1;33m,\u001b[0m \u001b[0mdtype\u001b[0m\u001b[1;33m=\u001b[0m\u001b[0mdtype\u001b[0m\u001b[1;33m,\u001b[0m \u001b[0morder\u001b[0m\u001b[1;33m=\u001b[0m\u001b[0morder\u001b[0m\u001b[1;33m)\u001b[0m\u001b[1;33m\u001b[0m\u001b[1;33m\u001b[0m\u001b[0m\n\u001b[0m\u001b[0;32m    497\u001b[0m             \u001b[1;32mexcept\u001b[0m \u001b[0mComplexWarning\u001b[0m\u001b[1;33m:\u001b[0m\u001b[1;33m\u001b[0m\u001b[1;33m\u001b[0m\u001b[0m\n\u001b[0;32m    498\u001b[0m                 raise ValueError(\"Complex data not supported\\n\"\n",
      "\u001b[1;32m~\\Anaconda3\\lib\\site-packages\\numpy\\core\\numeric.py\u001b[0m in \u001b[0;36masarray\u001b[1;34m(a, dtype, order)\u001b[0m\n\u001b[0;32m    536\u001b[0m \u001b[1;33m\u001b[0m\u001b[0m\n\u001b[0;32m    537\u001b[0m     \"\"\"\n\u001b[1;32m--> 538\u001b[1;33m     \u001b[1;32mreturn\u001b[0m \u001b[0marray\u001b[0m\u001b[1;33m(\u001b[0m\u001b[0ma\u001b[0m\u001b[1;33m,\u001b[0m \u001b[0mdtype\u001b[0m\u001b[1;33m,\u001b[0m \u001b[0mcopy\u001b[0m\u001b[1;33m=\u001b[0m\u001b[1;32mFalse\u001b[0m\u001b[1;33m,\u001b[0m \u001b[0morder\u001b[0m\u001b[1;33m=\u001b[0m\u001b[0morder\u001b[0m\u001b[1;33m)\u001b[0m\u001b[1;33m\u001b[0m\u001b[1;33m\u001b[0m\u001b[0m\n\u001b[0m\u001b[0;32m    539\u001b[0m \u001b[1;33m\u001b[0m\u001b[0m\n\u001b[0;32m    540\u001b[0m \u001b[1;33m\u001b[0m\u001b[0m\n",
      "\u001b[1;31mValueError\u001b[0m: could not convert string to float: '?'"
     ]
    }
   ],
   "source": [
    "import warnings\n",
    "warnings.filterwarnings('ignore')\n",
    "lr=LogisticRegression()\n",
    "accuracy(lr,x,y)"
   ]
  },
  {
   "cell_type": "code",
   "execution_count": 123,
   "metadata": {},
   "outputs": [
    {
     "data": {
      "text/plain": [
       "age          int64\n",
       "sex          int64\n",
       "cp           int64\n",
       "trestbps     int64\n",
       "chol        object\n",
       "fbs          int64\n",
       "restecg      int64\n",
       "thalach      int64\n",
       "exang       object\n",
       "oldpeak     object\n",
       "slope        int64\n",
       "ca           int64\n",
       "thal         int64\n",
       "dtype: object"
      ]
     },
     "execution_count": 123,
     "metadata": {},
     "output_type": "execute_result"
    }
   ],
   "source": [
    "x.dtypes"
   ]
  },
  {
   "cell_type": "code",
   "execution_count": 124,
   "metadata": {},
   "outputs": [
    {
     "data": {
      "text/plain": [
       "(200, 13)"
      ]
     },
     "execution_count": 124,
     "metadata": {},
     "output_type": "execute_result"
    }
   ],
   "source": [
    "x.shape"
   ]
  },
  {
   "cell_type": "code",
   "execution_count": 125,
   "metadata": {},
   "outputs": [
    {
     "data": {
      "text/plain": [
       "(200, 1)"
      ]
     },
     "execution_count": 125,
     "metadata": {},
     "output_type": "execute_result"
    }
   ],
   "source": [
    "y.shape"
   ]
  },
  {
   "cell_type": "code",
   "execution_count": 126,
   "metadata": {},
   "outputs": [
    {
     "data": {
      "text/plain": [
       "2    115\n",
       "1     43\n",
       "3     42\n",
       "Name: slope, dtype: int64"
      ]
     },
     "execution_count": 126,
     "metadata": {},
     "output_type": "execute_result"
    }
   ],
   "source": [
    "hds['slope'].value_counts()"
   ]
  },
  {
   "cell_type": "code",
   "execution_count": 127,
   "metadata": {},
   "outputs": [
    {
     "data": {
      "text/plain": [
       "1    95\n",
       "?    53\n",
       "0    52\n",
       "Name: exang, dtype: int64"
      ]
     },
     "execution_count": 127,
     "metadata": {},
     "output_type": "execute_result"
    }
   ],
   "source": [
    "hds['exang'].value_counts()"
   ]
  },
  {
   "cell_type": "code",
   "execution_count": 130,
   "metadata": {},
   "outputs": [
    {
     "name": "stdout",
     "output_type": "stream",
     "text": [
      "1    116\n",
      "0     84\n",
      "Name: exang, dtype: int64\n"
     ]
    }
   ],
   "source": [
    "#placing random values in missing records\n",
    "mise=hds.exang.values=='?'\n",
    "hds.loc[mise,'exang'] = np.random.choice(('0','1'), mise.sum(), p=(0.61,0.39))\n",
    "print( hds['exang'].value_counts())\n",
    "hds['exang']=hds[\"exang\"].astype('int64')"
   ]
  },
  {
   "cell_type": "code",
   "execution_count": 137,
   "metadata": {},
   "outputs": [
    {
     "data": {
      "text/plain": [
       "120    72\n",
       "130    15\n",
       "140    10\n",
       "110     9\n",
       "150     9\n",
       "160     8\n",
       "122     6\n",
       "142     5\n",
       "136     4\n",
       "170     4\n",
       "124     4\n",
       "126     4\n",
       "128     4\n",
       "134     4\n",
       "144     4\n",
       "132     3\n",
       "158     3\n",
       "138     2\n",
       "104     2\n",
       "180     2\n",
       "152     2\n",
       "154     2\n",
       "155     2\n",
       "125     2\n",
       "112     2\n",
       "116     2\n",
       "114     1\n",
       "106     1\n",
       "102     1\n",
       "100     1\n",
       "96      1\n",
       "190     1\n",
       "118     1\n",
       "127     1\n",
       "135     1\n",
       "146     1\n",
       "156     1\n",
       "172     1\n",
       "178     1\n",
       "0       1\n",
       "Name: trestbps, dtype: int64"
      ]
     },
     "execution_count": 137,
     "metadata": {},
     "output_type": "execute_result"
    }
   ],
   "source": [
    "hds['trestbps'].value_counts()"
   ]
  },
  {
   "cell_type": "code",
   "execution_count": 138,
   "metadata": {},
   "outputs": [
    {
     "data": {
      "text/plain": [
       "Index(['age', 'sex', 'cp', 'trestbps', 'chol', 'fbs', 'restecg', 'thalach',\n",
       "       'exang', 'oldpeak', 'slope', 'ca', 'thal', 'num'],\n",
       "      dtype='object')"
      ]
     },
     "execution_count": 138,
     "metadata": {},
     "output_type": "execute_result"
    }
   ],
   "source": [
    "hds.columns"
   ]
  },
  {
   "cell_type": "code",
   "execution_count": 140,
   "metadata": {},
   "outputs": [
    {
     "data": {
      "text/plain": [
       "?       56\n",
       "0       40\n",
       "2       25\n",
       "1.5     21\n",
       "1       18\n",
       "3       13\n",
       "2.5      9\n",
       "0.5      7\n",
       "4        4\n",
       "1.3      2\n",
       "1.7      1\n",
       "1.6      1\n",
       "3.5      1\n",
       "-0.5     1\n",
       "0.8      1\n",
       "Name: oldpeak, dtype: int64"
      ]
     },
     "execution_count": 140,
     "metadata": {},
     "output_type": "execute_result"
    }
   ],
   "source": [
    "hds['oldpeak'].value_counts()"
   ]
  },
  {
   "cell_type": "code",
   "execution_count": 141,
   "metadata": {},
   "outputs": [
    {
     "data": {
      "text/plain": [
       "2    115\n",
       "1     43\n",
       "3     42\n",
       "Name: slope, dtype: int64"
      ]
     },
     "execution_count": 141,
     "metadata": {},
     "output_type": "execute_result"
    }
   ],
   "source": [
    "hds['slope'].value_counts()"
   ]
  },
  {
   "cell_type": "code",
   "execution_count": 145,
   "metadata": {},
   "outputs": [
    {
     "name": "stdout",
     "output_type": "stream",
     "text": [
      "1.3208333333333333\n"
     ]
    }
   ],
   "source": [
    "#replacing miising values in column with mean\n",
    "\n",
    "hds['oldpeak']=hds['oldpeak'].replace('?','-6')#temporarily replacing ? with -69\n",
    "hds['oldpeak']=hds['oldpeak'].astype('float64')\n",
    "pm=hds[hds['oldpeak']!=-6]['oldpeak'].mean()\n",
    "print (pm)\n",
    "hds['oldpeak']=hds['oldpeak'].replace(-6,np.round(pm,1))"
   ]
  },
  {
   "cell_type": "code",
   "execution_count": 146,
   "metadata": {},
   "outputs": [
    {
     "name": "stdout",
     "output_type": "stream",
     "text": [
      " 1.3    58\n",
      " 0.0    40\n",
      " 2.0    25\n",
      " 1.5    21\n",
      " 1.0    18\n",
      " 3.0    13\n",
      " 2.5     9\n",
      " 0.5     7\n",
      " 4.0     4\n",
      " 1.7     1\n",
      " 0.8     1\n",
      " 1.6     1\n",
      " 3.5     1\n",
      "-0.5     1\n",
      "Name: oldpeak, dtype: int64\n"
     ]
    }
   ],
   "source": [
    "print(hds['oldpeak'].value_counts())"
   ]
  },
  {
   "cell_type": "code",
   "execution_count": 153,
   "metadata": {},
   "outputs": [],
   "source": [
    "hdd=pd.get_dummies(hds['cp'],prefix='cp')\n",
    "hds=hds.join(hdd)\n",
    "hdd=pd.get_dummies(hds['restecg'],prefix='restecg')\n",
    "hds=hds.join(hdd)\n",
    "hdd=pd.get_dummies(hds['slope'],prefix='slope')\n",
    "hds=hds.join(hdd)\n",
    "hdd=pd.get_dummies(hds['thal'],prefix='thal')\n",
    "hds=hds.join(hdd)\n",
    "\n",
    "del hds['cp']\n",
    "del hds['restecg']\n",
    "del hds['slope']\n",
    "del hds['thal']"
   ]
  },
  {
   "cell_type": "code",
   "execution_count": 154,
   "metadata": {},
   "outputs": [
    {
     "data": {
      "text/plain": [
       "age            int64\n",
       "sex            int64\n",
       "trestbps       int64\n",
       "chol          object\n",
       "fbs            int64\n",
       "thalach        int64\n",
       "exang          int64\n",
       "oldpeak      float64\n",
       "ca             int64\n",
       "num            int64\n",
       "cp_1           uint8\n",
       "cp_2           uint8\n",
       "cp_3           uint8\n",
       "cp_4           uint8\n",
       "restecg_0      uint8\n",
       "restecg_1      uint8\n",
       "restecg_2      uint8\n",
       "slope_1        uint8\n",
       "slope_2        uint8\n",
       "slope_3        uint8\n",
       "thal_3         uint8\n",
       "thal_6         uint8\n",
       "thal_7         uint8\n",
       "dtype: object"
      ]
     },
     "execution_count": 154,
     "metadata": {},
     "output_type": "execute_result"
    }
   ],
   "source": [
    "hds.dtypes"
   ]
  },
  {
   "cell_type": "code",
   "execution_count": 155,
   "metadata": {},
   "outputs": [
    {
     "data": {
      "text/plain": [
       "0      49\n",
       "?       7\n",
       "203     4\n",
       "220     4\n",
       "258     4\n",
       "       ..\n",
       "261     1\n",
       "458     1\n",
       "284     1\n",
       "192     1\n",
       "271     1\n",
       "Name: chol, Length: 100, dtype: int64"
      ]
     },
     "execution_count": 155,
     "metadata": {},
     "output_type": "execute_result"
    }
   ],
   "source": [
    "hds['chol'].value_counts()"
   ]
  },
  {
   "cell_type": "code",
   "execution_count": 156,
   "metadata": {},
   "outputs": [],
   "source": [
    "hds['chol']=hds['chol'].replace('?','-9')\n",
    "hds['chol']=hds['chol'].astype('int64')\n",
    "k=int(hds[hds['chol']!=-9]['chol'].mean())\n",
    "hds['chol']=hds['chol'].replace(-9,k)\n"
   ]
  },
  {
   "cell_type": "code",
   "execution_count": 158,
   "metadata": {},
   "outputs": [
    {
     "data": {
      "text/plain": [
       "0      49\n",
       "178     7\n",
       "258     4\n",
       "203     4\n",
       "220     4\n",
       "       ..\n",
       "244     1\n",
       "181     1\n",
       "182     1\n",
       "243     1\n",
       "153     1\n",
       "Name: chol, Length: 100, dtype: int64"
      ]
     },
     "execution_count": 158,
     "metadata": {},
     "output_type": "execute_result"
    }
   ],
   "source": [
    "hds['chol'].value_counts()"
   ]
  },
  {
   "cell_type": "code",
   "execution_count": 161,
   "metadata": {},
   "outputs": [],
   "source": [
    "for col in hds.columns:\n",
    "    if hds[col].dtype=='uint8':\n",
    "        hds[col]=hds[col].astype('int64')"
   ]
  },
  {
   "cell_type": "code",
   "execution_count": 162,
   "metadata": {},
   "outputs": [],
   "source": [
    "hds.dtypes\n",
    "hds.loc[hds['num']>0,'num']=1"
   ]
  },
  {
   "cell_type": "code",
   "execution_count": 168,
   "metadata": {},
   "outputs": [
    {
     "name": "stdout",
     "output_type": "stream",
     "text": [
      "age 2.259432177100795 -3.1171203123175277\n",
      "trestbps 3.1166924305122823 -6.738051483572151\n",
      "chol 2.4933105903660087 -1.5955473671949767\n",
      "thalach 3.069727342667673 -2.8106719158725246\n",
      "oldpeak 2.863078080626375 -1.9353768031049827\n",
      "ca 1.0 0.0\n"
     ]
    }
   ],
   "source": [
    "stcl = [\"age\",\"trestbps\",\"chol\",\"thalach\",\"oldpeak\"]\n",
    "nmcl = [\"ca\"]\n",
    "sf   = hds.copy()\n",
    "sf[stcl] = sf[stcl].apply(lambda x: (x-x.mean())/x.std())\n",
    "sf[nmcl] = sf[nmcl].apply(lambda x: (x-x.min())/(x.max()-x.min()))\n",
    "\n",
    "\n",
    "for c in stcl:\n",
    "    print (c,max(sf[c]),min(sf[c]))\n",
    "    \n",
    "for c in nmcl:\n",
    "    print(c,max(sf[c]),min(sf[c]))"
   ]
  },
  {
   "cell_type": "code",
   "execution_count": 169,
   "metadata": {},
   "outputs": [],
   "source": [
    "hdsc=sf.copy()\n",
    "hdsc=hdsc.drop(['num'],axis=1)\n",
    "\n",
    "val=hdsc.values"
   ]
  },
  {
   "cell_type": "code",
   "execution_count": 170,
   "metadata": {},
   "outputs": [
    {
     "name": "stdout",
     "output_type": "stream",
     "text": [
      "[1 0 1 1 0] <class 'numpy.ndarray'>\n"
     ]
    }
   ],
   "source": [
    "target=hds['num'].values\n",
    "print(target[:5],type(target))"
   ]
  },
  {
   "cell_type": "code",
   "execution_count": 171,
   "metadata": {},
   "outputs": [
    {
     "data": {
      "text/plain": [
       "1    56\n",
       "0    51\n",
       "3    42\n",
       "2    41\n",
       "4    10\n",
       "Name: num, dtype: int64"
      ]
     },
     "execution_count": 171,
     "metadata": {},
     "output_type": "execute_result"
    }
   ],
   "source": [
    "y['num'].value_counts()"
   ]
  },
  {
   "cell_type": "code",
   "execution_count": 172,
   "metadata": {},
   "outputs": [],
   "source": [
    "from sklearn.model_selection import train_test_split\n",
    "from sklearn.metrics import accuracy_score\n",
    "def accuracy(model,x,y):\n",
    "    max_acc=0\n",
    "    for rst in range(40,100):\n",
    "        x_train,x_test,y_train,y_test=train_test_split(val,target,random_state=rst,test_size=.22)\n",
    "        model.fit(x_train,y_train)\n",
    "        predy=model.predict(x_test)\n",
    "        acc=accuracy_score(y_test,predy)\n",
    "        print('Accuracy is',acc,'for the random state',rst)\n",
    "        if acc>max_acc:\n",
    "            max_acc=acc\n",
    "            f_rst=rst\n",
    "    print('Maximum accuracy is ',max_acc,'and acquired at',f_rst)\n",
    "    return f_rst\n"
   ]
  },
  {
   "cell_type": "code",
   "execution_count": 173,
   "metadata": {},
   "outputs": [
    {
     "name": "stdout",
     "output_type": "stream",
     "text": [
      "Accuracy is 0.9318181818181818 for the random state 40\n",
      "Accuracy is 0.9318181818181818 for the random state 41\n",
      "Accuracy is 0.9772727272727273 for the random state 42\n",
      "Accuracy is 0.9090909090909091 for the random state 43\n",
      "Accuracy is 0.9545454545454546 for the random state 44\n",
      "Accuracy is 0.9545454545454546 for the random state 45\n",
      "Accuracy is 0.8863636363636364 for the random state 46\n",
      "Accuracy is 0.9545454545454546 for the random state 47\n",
      "Accuracy is 0.9545454545454546 for the random state 48\n",
      "Accuracy is 1.0 for the random state 49\n",
      "Accuracy is 0.9545454545454546 for the random state 50\n",
      "Accuracy is 0.9772727272727273 for the random state 51\n",
      "Accuracy is 0.9772727272727273 for the random state 52\n",
      "Accuracy is 0.9772727272727273 for the random state 53\n",
      "Accuracy is 0.9318181818181818 for the random state 54\n",
      "Accuracy is 1.0 for the random state 55\n",
      "Accuracy is 0.9318181818181818 for the random state 56\n",
      "Accuracy is 0.9772727272727273 for the random state 57\n",
      "Accuracy is 1.0 for the random state 58\n",
      "Accuracy is 0.9545454545454546 for the random state 59\n",
      "Accuracy is 0.9772727272727273 for the random state 60\n",
      "Accuracy is 0.9772727272727273 for the random state 61\n",
      "Accuracy is 0.9318181818181818 for the random state 62\n",
      "Accuracy is 0.9090909090909091 for the random state 63\n",
      "Accuracy is 1.0 for the random state 64\n",
      "Accuracy is 0.9545454545454546 for the random state 65\n",
      "Accuracy is 0.9318181818181818 for the random state 66\n",
      "Accuracy is 1.0 for the random state 67\n",
      "Accuracy is 0.9772727272727273 for the random state 68\n",
      "Accuracy is 0.9772727272727273 for the random state 69\n",
      "Accuracy is 0.9545454545454546 for the random state 70\n",
      "Accuracy is 1.0 for the random state 71\n",
      "Accuracy is 0.9772727272727273 for the random state 72\n",
      "Accuracy is 0.9318181818181818 for the random state 73\n",
      "Accuracy is 0.9318181818181818 for the random state 74\n",
      "Accuracy is 0.9090909090909091 for the random state 75\n",
      "Accuracy is 0.9772727272727273 for the random state 76\n",
      "Accuracy is 1.0 for the random state 77\n",
      "Accuracy is 0.9090909090909091 for the random state 78\n",
      "Accuracy is 0.9090909090909091 for the random state 79\n",
      "Accuracy is 0.9772727272727273 for the random state 80\n",
      "Accuracy is 0.9545454545454546 for the random state 81\n",
      "Accuracy is 0.9545454545454546 for the random state 82\n",
      "Accuracy is 0.9545454545454546 for the random state 83\n",
      "Accuracy is 0.9772727272727273 for the random state 84\n",
      "Accuracy is 1.0 for the random state 85\n",
      "Accuracy is 0.9090909090909091 for the random state 86\n",
      "Accuracy is 0.9545454545454546 for the random state 87\n",
      "Accuracy is 0.9545454545454546 for the random state 88\n",
      "Accuracy is 0.9318181818181818 for the random state 89\n",
      "Accuracy is 0.9772727272727273 for the random state 90\n",
      "Accuracy is 0.9772727272727273 for the random state 91\n",
      "Accuracy is 0.9545454545454546 for the random state 92\n",
      "Accuracy is 1.0 for the random state 93\n",
      "Accuracy is 0.9090909090909091 for the random state 94\n",
      "Accuracy is 0.9545454545454546 for the random state 95\n",
      "Accuracy is 0.9772727272727273 for the random state 96\n",
      "Accuracy is 0.8863636363636364 for the random state 97\n",
      "Accuracy is 0.9545454545454546 for the random state 98\n",
      "Accuracy is 0.9772727272727273 for the random state 99\n",
      "Maximum accuracy is  1.0 and acquired at 49\n"
     ]
    },
    {
     "data": {
      "text/plain": [
       "49"
      ]
     },
     "execution_count": 173,
     "metadata": {},
     "output_type": "execute_result"
    }
   ],
   "source": [
    "import warnings\n",
    "warnings.filterwarnings('ignore')\n",
    "lr=LogisticRegression()\n",
    "accuracy(lr,val,target)"
   ]
  },
  {
   "cell_type": "code",
   "execution_count": 174,
   "metadata": {},
   "outputs": [
    {
     "name": "stdout",
     "output_type": "stream",
     "text": [
      "Accuracy is 0.8636363636363636 for the random state 40\n",
      "Accuracy is 0.8181818181818182 for the random state 41\n",
      "Accuracy is 0.9772727272727273 for the random state 42\n",
      "Accuracy is 0.8181818181818182 for the random state 43\n",
      "Accuracy is 0.8181818181818182 for the random state 44\n",
      "Accuracy is 0.8863636363636364 for the random state 45\n",
      "Accuracy is 0.8409090909090909 for the random state 46\n",
      "Accuracy is 0.8863636363636364 for the random state 47\n",
      "Accuracy is 0.9318181818181818 for the random state 48\n",
      "Accuracy is 0.9090909090909091 for the random state 49\n",
      "Accuracy is 0.8636363636363636 for the random state 50\n",
      "Accuracy is 0.8181818181818182 for the random state 51\n",
      "Accuracy is 0.8636363636363636 for the random state 52\n",
      "Accuracy is 0.9318181818181818 for the random state 53\n",
      "Accuracy is 0.9090909090909091 for the random state 54\n",
      "Accuracy is 0.9318181818181818 for the random state 55\n",
      "Accuracy is 0.8409090909090909 for the random state 56\n",
      "Accuracy is 0.8409090909090909 for the random state 57\n",
      "Accuracy is 0.8863636363636364 for the random state 58\n",
      "Accuracy is 0.7954545454545454 for the random state 59\n",
      "Accuracy is 0.9545454545454546 for the random state 60\n",
      "Accuracy is 0.9090909090909091 for the random state 61\n",
      "Accuracy is 0.8636363636363636 for the random state 62\n",
      "Accuracy is 0.8409090909090909 for the random state 63\n",
      "Accuracy is 0.8863636363636364 for the random state 64\n",
      "Accuracy is 0.9318181818181818 for the random state 65\n",
      "Accuracy is 0.8181818181818182 for the random state 66\n",
      "Accuracy is 0.9318181818181818 for the random state 67\n",
      "Accuracy is 0.9318181818181818 for the random state 68\n",
      "Accuracy is 0.8863636363636364 for the random state 69\n",
      "Accuracy is 0.8863636363636364 for the random state 70\n",
      "Accuracy is 0.8181818181818182 for the random state 71\n",
      "Accuracy is 0.8636363636363636 for the random state 72\n",
      "Accuracy is 0.9090909090909091 for the random state 73\n",
      "Accuracy is 0.9090909090909091 for the random state 74\n",
      "Accuracy is 0.8181818181818182 for the random state 75\n",
      "Accuracy is 0.8409090909090909 for the random state 76\n",
      "Accuracy is 0.9318181818181818 for the random state 77\n",
      "Accuracy is 0.7727272727272727 for the random state 78\n",
      "Accuracy is 0.8409090909090909 for the random state 79\n",
      "Accuracy is 0.8863636363636364 for the random state 80\n",
      "Accuracy is 0.8181818181818182 for the random state 81\n",
      "Accuracy is 0.8181818181818182 for the random state 82\n",
      "Accuracy is 0.9318181818181818 for the random state 83\n",
      "Accuracy is 0.9318181818181818 for the random state 84\n",
      "Accuracy is 0.8863636363636364 for the random state 85\n",
      "Accuracy is 0.8181818181818182 for the random state 86\n",
      "Accuracy is 0.8636363636363636 for the random state 87\n",
      "Accuracy is 0.8409090909090909 for the random state 88\n",
      "Accuracy is 0.8636363636363636 for the random state 89\n",
      "Accuracy is 0.9318181818181818 for the random state 90\n",
      "Accuracy is 0.8636363636363636 for the random state 91\n",
      "Accuracy is 0.9090909090909091 for the random state 92\n",
      "Accuracy is 0.8863636363636364 for the random state 93\n",
      "Accuracy is 0.8863636363636364 for the random state 94\n",
      "Accuracy is 0.8409090909090909 for the random state 95\n",
      "Accuracy is 0.7272727272727273 for the random state 96\n",
      "Accuracy is 0.7727272727272727 for the random state 97\n",
      "Accuracy is 0.8181818181818182 for the random state 98\n",
      "Accuracy is 0.9090909090909091 for the random state 99\n",
      "Maximum accuracy is  0.9772727272727273 and acquired at 42\n"
     ]
    },
    {
     "data": {
      "text/plain": [
       "42"
      ]
     },
     "execution_count": 174,
     "metadata": {},
     "output_type": "execute_result"
    }
   ],
   "source": [
    "kn=KNeighborsClassifier(n_neighbors=3)\n",
    "accuracy(kn,val,target)"
   ]
  },
  {
   "cell_type": "code",
   "execution_count": 175,
   "metadata": {},
   "outputs": [
    {
     "name": "stdout",
     "output_type": "stream",
     "text": [
      "Accuracy is 0.9545454545454546 for the random state 40\n",
      "Accuracy is 0.8636363636363636 for the random state 41\n",
      "Accuracy is 0.9772727272727273 for the random state 42\n",
      "Accuracy is 0.9090909090909091 for the random state 43\n",
      "Accuracy is 0.9545454545454546 for the random state 44\n",
      "Accuracy is 0.9545454545454546 for the random state 45\n",
      "Accuracy is 0.8863636363636364 for the random state 46\n",
      "Accuracy is 0.9545454545454546 for the random state 47\n",
      "Accuracy is 0.9545454545454546 for the random state 48\n",
      "Accuracy is 1.0 for the random state 49\n",
      "Accuracy is 0.9545454545454546 for the random state 50\n",
      "Accuracy is 0.9545454545454546 for the random state 51\n",
      "Accuracy is 0.9545454545454546 for the random state 52\n",
      "Accuracy is 0.9318181818181818 for the random state 53\n",
      "Accuracy is 0.9318181818181818 for the random state 54\n",
      "Accuracy is 1.0 for the random state 55\n",
      "Accuracy is 0.9318181818181818 for the random state 56\n",
      "Accuracy is 0.9772727272727273 for the random state 57\n",
      "Accuracy is 0.9545454545454546 for the random state 58\n",
      "Accuracy is 0.9545454545454546 for the random state 59\n",
      "Accuracy is 0.9772727272727273 for the random state 60\n",
      "Accuracy is 0.9772727272727273 for the random state 61\n",
      "Accuracy is 0.9318181818181818 for the random state 62\n",
      "Accuracy is 0.9090909090909091 for the random state 63\n",
      "Accuracy is 1.0 for the random state 64\n",
      "Accuracy is 0.9545454545454546 for the random state 65\n",
      "Accuracy is 0.8863636363636364 for the random state 66\n",
      "Accuracy is 1.0 for the random state 67\n",
      "Accuracy is 0.9772727272727273 for the random state 68\n",
      "Accuracy is 0.9545454545454546 for the random state 69\n",
      "Accuracy is 0.9545454545454546 for the random state 70\n",
      "Accuracy is 0.9545454545454546 for the random state 71\n",
      "Accuracy is 0.9772727272727273 for the random state 72\n",
      "Accuracy is 0.9090909090909091 for the random state 73\n",
      "Accuracy is 0.9090909090909091 for the random state 74\n",
      "Accuracy is 0.9545454545454546 for the random state 75\n",
      "Accuracy is 0.9772727272727273 for the random state 76\n",
      "Accuracy is 1.0 for the random state 77\n",
      "Accuracy is 0.9090909090909091 for the random state 78\n",
      "Accuracy is 0.9090909090909091 for the random state 79\n",
      "Accuracy is 0.9545454545454546 for the random state 80\n",
      "Accuracy is 0.9545454545454546 for the random state 81\n",
      "Accuracy is 0.9090909090909091 for the random state 82\n",
      "Accuracy is 0.9545454545454546 for the random state 83\n",
      "Accuracy is 0.9772727272727273 for the random state 84\n",
      "Accuracy is 0.9772727272727273 for the random state 85\n",
      "Accuracy is 0.9090909090909091 for the random state 86\n",
      "Accuracy is 0.9318181818181818 for the random state 87\n",
      "Accuracy is 0.9318181818181818 for the random state 88\n",
      "Accuracy is 0.9318181818181818 for the random state 89\n",
      "Accuracy is 0.9318181818181818 for the random state 90\n",
      "Accuracy is 0.9545454545454546 for the random state 91\n",
      "Accuracy is 0.9545454545454546 for the random state 92\n",
      "Accuracy is 0.9090909090909091 for the random state 93\n",
      "Accuracy is 0.9090909090909091 for the random state 94\n",
      "Accuracy is 0.9545454545454546 for the random state 95\n",
      "Accuracy is 0.9545454545454546 for the random state 96\n",
      "Accuracy is 0.8863636363636364 for the random state 97\n",
      "Accuracy is 0.8863636363636364 for the random state 98\n",
      "Accuracy is 0.9772727272727273 for the random state 99\n",
      "Maximum accuracy is  1.0 and acquired at 49\n"
     ]
    },
    {
     "data": {
      "text/plain": [
       "49"
      ]
     },
     "execution_count": 175,
     "metadata": {},
     "output_type": "execute_result"
    }
   ],
   "source": [
    "rfc=RandomForestClassifier(n_estimators=10)\n",
    "accuracy(rfc,val,target)"
   ]
  },
  {
   "cell_type": "code",
   "execution_count": 176,
   "metadata": {},
   "outputs": [
    {
     "name": "stdout",
     "output_type": "stream",
     "text": [
      "Accuracy is 1.0\n",
      "confusion matrix [[14  0]\n",
      " [ 0 30]]\n",
      "Classification report               precision    recall  f1-score   support\n",
      "\n",
      "           0       1.00      1.00      1.00        14\n",
      "           1       1.00      1.00      1.00        30\n",
      "\n",
      "    accuracy                           1.00        44\n",
      "   macro avg       1.00      1.00      1.00        44\n",
      "weighted avg       1.00      1.00      1.00        44\n",
      "\n"
     ]
    }
   ],
   "source": [
    "#fitting the best model\n",
    "from sklearn.metrics import confusion_matrix,classification_report\n",
    "lor=LogisticRegression()\n",
    "x_train,x_test,y_train,y_test=train_test_split(val,target,random_state=49,test_size=.22)\n",
    "lor.fit(x_train,y_train)\n",
    "predy=lor.predict(x_test)\n",
    "acc=accuracy_score(y_test,predy)\n",
    "print('Accuracy is',acc)\n",
    "print('confusion matrix',confusion_matrix(y_test,predy))\n",
    "print('Classification report',classification_report(y_test,predy))"
   ]
  },
  {
   "cell_type": "code",
   "execution_count": 177,
   "metadata": {},
   "outputs": [
    {
     "name": "stdout",
     "output_type": "stream",
     "text": [
      "mean accuracy: 0.9483602150537636\n",
      "standard deviation 0.02634410659424258\n"
     ]
    }
   ],
   "source": [
    "#Crossvalidating\n",
    "\n",
    "from sklearn.model_selection import cross_val_score\n",
    "cv=cross_val_score(lor,x_train,y_train,cv=5,scoring='accuracy')\n",
    "print('mean accuracy:',cv.mean())\n",
    "print(\"standard deviation\",cv.std())"
   ]
  },
  {
   "cell_type": "code",
   "execution_count": 178,
   "metadata": {},
   "outputs": [
    {
     "data": {
      "text/html": [
       "<div>\n",
       "<style scoped>\n",
       "    .dataframe tbody tr th:only-of-type {\n",
       "        vertical-align: middle;\n",
       "    }\n",
       "\n",
       "    .dataframe tbody tr th {\n",
       "        vertical-align: top;\n",
       "    }\n",
       "\n",
       "    .dataframe thead th {\n",
       "        text-align: right;\n",
       "    }\n",
       "</style>\n",
       "<table border=\"1\" class=\"dataframe\">\n",
       "  <thead>\n",
       "    <tr style=\"text-align: right;\">\n",
       "      <th></th>\n",
       "      <th>target</th>\n",
       "    </tr>\n",
       "  </thead>\n",
       "  <tbody>\n",
       "    <tr>\n",
       "      <td>0</td>\n",
       "      <td>1</td>\n",
       "    </tr>\n",
       "    <tr>\n",
       "      <td>1</td>\n",
       "      <td>0</td>\n",
       "    </tr>\n",
       "    <tr>\n",
       "      <td>2</td>\n",
       "      <td>0</td>\n",
       "    </tr>\n",
       "    <tr>\n",
       "      <td>3</td>\n",
       "      <td>1</td>\n",
       "    </tr>\n",
       "    <tr>\n",
       "      <td>4</td>\n",
       "      <td>1</td>\n",
       "    </tr>\n",
       "  </tbody>\n",
       "</table>\n",
       "</div>"
      ],
      "text/plain": [
       "   target\n",
       "0       1\n",
       "1       0\n",
       "2       0\n",
       "3       1\n",
       "4       1"
      ]
     },
     "execution_count": 178,
     "metadata": {},
     "output_type": "execute_result"
    }
   ],
   "source": [
    "pred=pd.DataFrame(predy,columns=['target'])\n",
    "pred.head()"
   ]
  },
  {
   "cell_type": "code",
   "execution_count": 179,
   "metadata": {},
   "outputs": [
    {
     "data": {
      "text/html": [
       "<div>\n",
       "<style scoped>\n",
       "    .dataframe tbody tr th:only-of-type {\n",
       "        vertical-align: middle;\n",
       "    }\n",
       "\n",
       "    .dataframe tbody tr th {\n",
       "        vertical-align: top;\n",
       "    }\n",
       "\n",
       "    .dataframe thead th {\n",
       "        text-align: right;\n",
       "    }\n",
       "</style>\n",
       "<table border=\"1\" class=\"dataframe\">\n",
       "  <thead>\n",
       "    <tr style=\"text-align: right;\">\n",
       "      <th></th>\n",
       "      <th>target</th>\n",
       "    </tr>\n",
       "  </thead>\n",
       "  <tbody>\n",
       "    <tr>\n",
       "      <td>0</td>\n",
       "      <td>1</td>\n",
       "    </tr>\n",
       "    <tr>\n",
       "      <td>1</td>\n",
       "      <td>0</td>\n",
       "    </tr>\n",
       "    <tr>\n",
       "      <td>2</td>\n",
       "      <td>0</td>\n",
       "    </tr>\n",
       "    <tr>\n",
       "      <td>3</td>\n",
       "      <td>1</td>\n",
       "    </tr>\n",
       "    <tr>\n",
       "      <td>4</td>\n",
       "      <td>1</td>\n",
       "    </tr>\n",
       "  </tbody>\n",
       "</table>\n",
       "</div>"
      ],
      "text/plain": [
       "   target\n",
       "0       1\n",
       "1       0\n",
       "2       0\n",
       "3       1\n",
       "4       1"
      ]
     },
     "execution_count": 179,
     "metadata": {},
     "output_type": "execute_result"
    }
   ],
   "source": [
    "predy=pd.DataFrame(predy,columns=['target'])\n",
    "predy.head()"
   ]
  },
  {
   "cell_type": "code",
   "execution_count": 180,
   "metadata": {},
   "outputs": [],
   "source": [
    "#Saving to csv\n",
    "\n",
    "predy.to_csv('hdiseasepred.csv',index=False)"
   ]
  },
  {
   "cell_type": "code",
   "execution_count": 181,
   "metadata": {},
   "outputs": [],
   "source": [
    "#Saving the model\n",
    "\n",
    "import pickle\n",
    "\n",
    "pickle_file='hdisease.pkl'\n",
    "with open (pickle_file,'wb') as file:\n",
    "    pickle.dump(lor,file)"
   ]
  },
  {
   "cell_type": "code",
   "execution_count": null,
   "metadata": {},
   "outputs": [],
   "source": []
  }
 ],
 "metadata": {
  "kernelspec": {
   "display_name": "Python 3",
   "language": "python",
   "name": "python3"
  },
  "language_info": {
   "codemirror_mode": {
    "name": "ipython",
    "version": 3
   },
   "file_extension": ".py",
   "mimetype": "text/x-python",
   "name": "python",
   "nbconvert_exporter": "python",
   "pygments_lexer": "ipython3",
   "version": "3.7.4"
  }
 },
 "nbformat": 4,
 "nbformat_minor": 2
}
